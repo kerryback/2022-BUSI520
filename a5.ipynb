{
 "cells": [
  {
   "cell_type": "code",
   "execution_count": 13,
   "metadata": {},
   "outputs": [],
   "source": [
    "game = [\n",
    "    [(5, 0), (5, 5)],\n",
    "    [(5, 2), (0, 0)]\n",
    "]"
   ]
  },
  {
   "cell_type": "code",
   "execution_count": 6,
   "metadata": {},
   "outputs": [],
   "source": [
    "import numpy as np"
   ]
  },
  {
   "cell_type": "code",
   "execution_count": 8,
   "metadata": {},
   "outputs": [],
   "source": [
    "import pandas as pd\n",
    "\n"
   ]
  },
  {
   "cell_type": "code",
   "execution_count": 18,
   "metadata": {},
   "outputs": [],
   "source": [
    "def equilibria(game):\n",
    "\n",
    "    g = pd.DataFrame(\n",
    "        game, \n",
    "        index = [\"T\", \"B\"],\n",
    "        columns = [\"L\", \"R\"]\n",
    "    )\n",
    "    g = g.unstack()\n",
    "    g.index.names = [\"col\", \"row\"]\n",
    "    \n",
    "    g = pd.concat(\n",
    "        (\n",
    "            g.map(lambda x: x[0]), \n",
    "            g.map(lambda x: x[1])\n",
    "        ), \n",
    "        axis=1\n",
    "    )\n",
    "    g.columns = [\"u1\", \"u2\"]\n",
    "    g.index = g.index.swaplevel()\n",
    "\n",
    "    row_max = g.groupby(\"col\").apply(\n",
    "        lambda x: x[x.u1 == x.u1.max()].index.values\n",
    "    )\n",
    "    row_max = [x for arr in row_max for x in arr]\n",
    "\n",
    "    col_max = g.groupby(\"row\").apply(\n",
    "        lambda x: x[x.u2 == x.u2.max()].index.values\n",
    "    )\n",
    "    col_max = [x for arr in col_max for x in arr]\n",
    "\n",
    "    return list(set(col_max) & set(row_max))"
   ]
  },
  {
   "cell_type": "code",
   "execution_count": 19,
   "metadata": {},
   "outputs": [
    {
     "data": {
      "text/plain": [
       "[('B', 'L'), ('T', 'R')]"
      ]
     },
     "execution_count": 19,
     "metadata": {},
     "output_type": "execute_result"
    }
   ],
   "source": [
    "\n",
    "equilibria(game)"
   ]
  }
 ],
 "metadata": {
  "kernelspec": {
   "display_name": "Python 3",
   "language": "python",
   "name": "python3"
  },
  "language_info": {
   "codemirror_mode": {
    "name": "ipython",
    "version": 3
   },
   "file_extension": ".py",
   "mimetype": "text/x-python",
   "name": "python",
   "nbconvert_exporter": "python",
   "pygments_lexer": "ipython3",
   "version": "3.10.8"
  },
  "orig_nbformat": 4
 },
 "nbformat": 4,
 "nbformat_minor": 2
}
