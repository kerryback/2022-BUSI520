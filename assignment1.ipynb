{
  "cells": [
    {
      "cell_type": "markdown",
      "metadata": {},
      "source": [
        "## Assignment 1<br>BUSI 520: Python for Business Research<br>Jones Graduate School of Business<br>Rice University<br>\n",
        "\n",
        "1. Create a function that takes the lengths of two sides of a right triangle as inputs and returns the length of the hypotenuse.\n",
        "2.  \n",
        "    a. Create a list of names.  Using list enumeration, print the names in the form\n",
        "\n",
        "    ```{verbatim}\n",
        "        1. Adam\n",
        "        2. Bob\n",
        "        3. ...\n",
        "    ```\n",
        "\n",
        "    b.  Create a function that takes a list of strings as an input and prints the list as in part (a).\n",
        "    c. Create a function that takes a list of strings as its input and returns a dictionary with integers 1, 2, ... as keys and the strings as values.\n",
        "3. Create a list of numbers from 1 to 10.\n",
        "    a. Write a loop to print only even numbers from the list.\n",
        "    b. Write another loop to calculate and print the factorial of each number in the list.\n",
        "4.  Write a loop to halve a given number until the result is less than 1.0e-6.\n",
        "5. Create a function is_palindrome to check if a string is a palindrome (reads the same forwards as backwards -- e.g., 'radar' is a palindrome).  The function should return True if the input is a palindrome and False otherwise.\n",
        "6. Write a script (.py file) that prompts the user to input\n",
        "\n",
        "    a. title\n",
        "    b. author\n",
        "    c. journal\n",
        "    d. volume\n",
        "    e. pages\n",
        "    f. year\n",
        "    g. keyword\n",
        "    h. pathname of a .bib file\n",
        "\n",
        "    The function should then append a bibtex entry to the end of the .bib file formatted as follows, where the items within braces are the user's inputs.\n",
        "  \n",
        "\n",
        "```{verbatim}\n",
        "    @article{keyword,\n",
        "    title={title},\n",
        "    author={author names},\n",
        "    journal={journal name},\n",
        "    volume={volume number},\n",
        "    pages={pages},\n",
        "    year={year},\n",
        "    }\n",
        "```"
      ],
      "id": "dbeb9c9c"
    }
  ],
  "metadata": {
    "kernelspec": {
      "name": "python3",
      "language": "python",
      "display_name": "Python 3 (ipykernel)"
    }
  },
  "nbformat": 4,
  "nbformat_minor": 5
}