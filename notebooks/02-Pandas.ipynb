{
  "cells": [
    {
      "cell_type": "markdown",
      "id": "6c8174fd",
      "metadata": {
        "slideshow": {
          "slide_type": "slide"
        }
      },
      "source": [
        "# Day 2\n",
        "\n",
        "### BUSI 520: Python for Business Research\n",
        "### Kerry Back, JGSB, Rice University"
      ]
    },
    {
      "cell_type": "markdown",
      "id": "4c4a2f43",
      "metadata": {
        "slideshow": {
          "slide_type": "slide"
        }
      },
      "source": [
        "### Lambda functions\n",
        "\n",
        "Convenient way to write short function definitions"
      ]
    },
    {
      "cell_type": "code",
      "execution_count": 9,
      "id": "2090b14a",
      "metadata": {
        "slideshow": {
          "slide_type": "slide"
        }
      },
      "outputs": [
        {
          "name": "stdout",
          "output_type": "stream",
          "text": [
            "9\n",
            "9\n"
          ]
        }
      ],
      "source": [
        "def f(x):\n",
        "    return x**2\n",
        "print(f(3))   \n",
        "\n",
        "f = lambda x: x**2\n",
        "print(f(3))"
      ]
    },
    {
      "cell_type": "markdown",
      "id": "8e681396",
      "metadata": {
        "slideshow": {
          "slide_type": "slide"
        }
      },
      "source": [
        "### Line continuations\n",
        "\n",
        "- can use a backslash \\ at the end of a line to continue it on the next\n",
        "- or enclose in ()\n",
        "- lists can be continued without a backslash"
      ]
    },
    {
      "cell_type": "code",
      "execution_count": 18,
      "id": "d46fa185",
      "metadata": {
        "slideshow": {
          "slide_type": "slide"
        }
      },
      "outputs": [
        {
          "name": "stdout",
          "output_type": "stream",
          "text": [
            "7\n",
            "7\n",
            "['a', 'b', 'c']\n"
          ]
        }
      ],
      "source": [
        "def f(x):\n",
        "    return 2*x \\\n",
        "        + 3\n",
        "print(f(2))\n",
        "\n",
        "def f(x):\n",
        "    return (\n",
        "        2*x\n",
        "        + 3\n",
        "    )\n",
        "print(f(2))\n",
        "\n",
        "lst = [\n",
        "    \"a\", \n",
        "    \"b\", \n",
        "    \"c\"\n",
        "]\n",
        "print(lst)"
      ]
    },
    {
      "cell_type": "markdown",
      "id": "b63fd6d1",
      "metadata": {
        "slideshow": {
          "slide_type": "slide"
        }
      },
      "source": [
        "### Reading and writing dataframes with pandas\n",
        "\n",
        "- Can read csv, excel, sas, stata, sql, ...\n",
        "- Can write also"
      ]
    },
    {
      "cell_type": "markdown",
      "id": "d7982199",
      "metadata": {
        "slideshow": {
          "slide_type": "slide"
        }
      },
      "source": [
        "### Two ways to read stata dta files\n",
        "\n",
        "1.  pd.read_stata \n",
        "2.  StataReader"
      ]
    },
    {
      "cell_type": "code",
      "execution_count": 3,
      "id": "b0505483",
      "metadata": {
        "slideshow": {
          "slide_type": "slide"
        }
      },
      "outputs": [
        {
          "data": {
            "text/html": [
              "<div>\n",
              "<style scoped>\n",
              "    .dataframe tbody tr th:only-of-type {\n",
              "        vertical-align: middle;\n",
              "    }\n",
              "\n",
              "    .dataframe tbody tr th {\n",
              "        vertical-align: top;\n",
              "    }\n",
              "\n",
              "    .dataframe thead th {\n",
              "        text-align: right;\n",
              "    }\n",
              "</style>\n",
              "<table border=\"1\" class=\"dataframe\">\n",
              "  <thead>\n",
              "    <tr style=\"text-align: right;\">\n",
              "      <th></th>\n",
              "      <th>wage</th>\n",
              "      <th>educ</th>\n",
              "      <th>exper</th>\n",
              "      <th>tenure</th>\n",
              "      <th>nonwhite</th>\n",
              "      <th>female</th>\n",
              "      <th>married</th>\n",
              "      <th>numdep</th>\n",
              "      <th>smsa</th>\n",
              "      <th>northcen</th>\n",
              "      <th>...</th>\n",
              "      <th>trcommpu</th>\n",
              "      <th>trade</th>\n",
              "      <th>services</th>\n",
              "      <th>profserv</th>\n",
              "      <th>profocc</th>\n",
              "      <th>clerocc</th>\n",
              "      <th>servocc</th>\n",
              "      <th>lwage</th>\n",
              "      <th>expersq</th>\n",
              "      <th>tenursq</th>\n",
              "    </tr>\n",
              "  </thead>\n",
              "  <tbody>\n",
              "    <tr>\n",
              "      <th>0</th>\n",
              "      <td>3.10</td>\n",
              "      <td>11</td>\n",
              "      <td>2</td>\n",
              "      <td>0</td>\n",
              "      <td>0</td>\n",
              "      <td>1</td>\n",
              "      <td>0</td>\n",
              "      <td>2</td>\n",
              "      <td>1</td>\n",
              "      <td>0</td>\n",
              "      <td>...</td>\n",
              "      <td>0</td>\n",
              "      <td>0</td>\n",
              "      <td>0</td>\n",
              "      <td>0</td>\n",
              "      <td>0</td>\n",
              "      <td>0</td>\n",
              "      <td>0</td>\n",
              "      <td>1.131402</td>\n",
              "      <td>4</td>\n",
              "      <td>0</td>\n",
              "    </tr>\n",
              "    <tr>\n",
              "      <th>1</th>\n",
              "      <td>3.24</td>\n",
              "      <td>12</td>\n",
              "      <td>22</td>\n",
              "      <td>2</td>\n",
              "      <td>0</td>\n",
              "      <td>1</td>\n",
              "      <td>1</td>\n",
              "      <td>3</td>\n",
              "      <td>1</td>\n",
              "      <td>0</td>\n",
              "      <td>...</td>\n",
              "      <td>0</td>\n",
              "      <td>0</td>\n",
              "      <td>1</td>\n",
              "      <td>0</td>\n",
              "      <td>0</td>\n",
              "      <td>0</td>\n",
              "      <td>1</td>\n",
              "      <td>1.175573</td>\n",
              "      <td>484</td>\n",
              "      <td>4</td>\n",
              "    </tr>\n",
              "    <tr>\n",
              "      <th>2</th>\n",
              "      <td>3.00</td>\n",
              "      <td>11</td>\n",
              "      <td>2</td>\n",
              "      <td>0</td>\n",
              "      <td>0</td>\n",
              "      <td>0</td>\n",
              "      <td>0</td>\n",
              "      <td>2</td>\n",
              "      <td>0</td>\n",
              "      <td>0</td>\n",
              "      <td>...</td>\n",
              "      <td>0</td>\n",
              "      <td>1</td>\n",
              "      <td>0</td>\n",
              "      <td>0</td>\n",
              "      <td>0</td>\n",
              "      <td>0</td>\n",
              "      <td>0</td>\n",
              "      <td>1.098612</td>\n",
              "      <td>4</td>\n",
              "      <td>0</td>\n",
              "    </tr>\n",
              "    <tr>\n",
              "      <th>3</th>\n",
              "      <td>6.00</td>\n",
              "      <td>8</td>\n",
              "      <td>44</td>\n",
              "      <td>28</td>\n",
              "      <td>0</td>\n",
              "      <td>0</td>\n",
              "      <td>1</td>\n",
              "      <td>0</td>\n",
              "      <td>1</td>\n",
              "      <td>0</td>\n",
              "      <td>...</td>\n",
              "      <td>0</td>\n",
              "      <td>0</td>\n",
              "      <td>0</td>\n",
              "      <td>0</td>\n",
              "      <td>0</td>\n",
              "      <td>1</td>\n",
              "      <td>0</td>\n",
              "      <td>1.791759</td>\n",
              "      <td>1936</td>\n",
              "      <td>784</td>\n",
              "    </tr>\n",
              "    <tr>\n",
              "      <th>4</th>\n",
              "      <td>5.30</td>\n",
              "      <td>12</td>\n",
              "      <td>7</td>\n",
              "      <td>2</td>\n",
              "      <td>0</td>\n",
              "      <td>0</td>\n",
              "      <td>1</td>\n",
              "      <td>1</td>\n",
              "      <td>0</td>\n",
              "      <td>0</td>\n",
              "      <td>...</td>\n",
              "      <td>0</td>\n",
              "      <td>0</td>\n",
              "      <td>0</td>\n",
              "      <td>0</td>\n",
              "      <td>0</td>\n",
              "      <td>0</td>\n",
              "      <td>0</td>\n",
              "      <td>1.667707</td>\n",
              "      <td>49</td>\n",
              "      <td>4</td>\n",
              "    </tr>\n",
              "    <tr>\n",
              "      <th>...</th>\n",
              "      <td>...</td>\n",
              "      <td>...</td>\n",
              "      <td>...</td>\n",
              "      <td>...</td>\n",
              "      <td>...</td>\n",
              "      <td>...</td>\n",
              "      <td>...</td>\n",
              "      <td>...</td>\n",
              "      <td>...</td>\n",
              "      <td>...</td>\n",
              "      <td>...</td>\n",
              "      <td>...</td>\n",
              "      <td>...</td>\n",
              "      <td>...</td>\n",
              "      <td>...</td>\n",
              "      <td>...</td>\n",
              "      <td>...</td>\n",
              "      <td>...</td>\n",
              "      <td>...</td>\n",
              "      <td>...</td>\n",
              "      <td>...</td>\n",
              "    </tr>\n",
              "    <tr>\n",
              "      <th>521</th>\n",
              "      <td>15.00</td>\n",
              "      <td>16</td>\n",
              "      <td>14</td>\n",
              "      <td>2</td>\n",
              "      <td>0</td>\n",
              "      <td>1</td>\n",
              "      <td>1</td>\n",
              "      <td>2</td>\n",
              "      <td>0</td>\n",
              "      <td>0</td>\n",
              "      <td>...</td>\n",
              "      <td>0</td>\n",
              "      <td>0</td>\n",
              "      <td>0</td>\n",
              "      <td>1</td>\n",
              "      <td>1</td>\n",
              "      <td>0</td>\n",
              "      <td>0</td>\n",
              "      <td>2.708050</td>\n",
              "      <td>196</td>\n",
              "      <td>4</td>\n",
              "    </tr>\n",
              "    <tr>\n",
              "      <th>522</th>\n",
              "      <td>2.27</td>\n",
              "      <td>10</td>\n",
              "      <td>2</td>\n",
              "      <td>0</td>\n",
              "      <td>0</td>\n",
              "      <td>1</td>\n",
              "      <td>0</td>\n",
              "      <td>3</td>\n",
              "      <td>0</td>\n",
              "      <td>0</td>\n",
              "      <td>...</td>\n",
              "      <td>0</td>\n",
              "      <td>1</td>\n",
              "      <td>0</td>\n",
              "      <td>0</td>\n",
              "      <td>1</td>\n",
              "      <td>0</td>\n",
              "      <td>0</td>\n",
              "      <td>0.819780</td>\n",
              "      <td>4</td>\n",
              "      <td>0</td>\n",
              "    </tr>\n",
              "    <tr>\n",
              "      <th>523</th>\n",
              "      <td>4.67</td>\n",
              "      <td>15</td>\n",
              "      <td>13</td>\n",
              "      <td>18</td>\n",
              "      <td>0</td>\n",
              "      <td>0</td>\n",
              "      <td>1</td>\n",
              "      <td>3</td>\n",
              "      <td>0</td>\n",
              "      <td>0</td>\n",
              "      <td>...</td>\n",
              "      <td>0</td>\n",
              "      <td>0</td>\n",
              "      <td>0</td>\n",
              "      <td>0</td>\n",
              "      <td>1</td>\n",
              "      <td>0</td>\n",
              "      <td>0</td>\n",
              "      <td>1.541159</td>\n",
              "      <td>169</td>\n",
              "      <td>324</td>\n",
              "    </tr>\n",
              "    <tr>\n",
              "      <th>524</th>\n",
              "      <td>11.56</td>\n",
              "      <td>16</td>\n",
              "      <td>5</td>\n",
              "      <td>1</td>\n",
              "      <td>0</td>\n",
              "      <td>0</td>\n",
              "      <td>1</td>\n",
              "      <td>0</td>\n",
              "      <td>0</td>\n",
              "      <td>0</td>\n",
              "      <td>...</td>\n",
              "      <td>0</td>\n",
              "      <td>0</td>\n",
              "      <td>0</td>\n",
              "      <td>0</td>\n",
              "      <td>0</td>\n",
              "      <td>0</td>\n",
              "      <td>0</td>\n",
              "      <td>2.447551</td>\n",
              "      <td>25</td>\n",
              "      <td>1</td>\n",
              "    </tr>\n",
              "    <tr>\n",
              "      <th>525</th>\n",
              "      <td>3.50</td>\n",
              "      <td>14</td>\n",
              "      <td>5</td>\n",
              "      <td>4</td>\n",
              "      <td>1</td>\n",
              "      <td>1</td>\n",
              "      <td>0</td>\n",
              "      <td>2</td>\n",
              "      <td>0</td>\n",
              "      <td>0</td>\n",
              "      <td>...</td>\n",
              "      <td>0</td>\n",
              "      <td>0</td>\n",
              "      <td>0</td>\n",
              "      <td>1</td>\n",
              "      <td>0</td>\n",
              "      <td>1</td>\n",
              "      <td>0</td>\n",
              "      <td>1.252763</td>\n",
              "      <td>25</td>\n",
              "      <td>16</td>\n",
              "    </tr>\n",
              "  </tbody>\n",
              "</table>\n",
              "<p>526 rows × 24 columns</p>\n",
              "</div>"
            ],
            "text/plain": [
              "      wage  educ  exper  tenure  nonwhite  female  married  numdep  smsa  \\\n",
              "0     3.10    11      2       0         0       1        0       2     1   \n",
              "1     3.24    12     22       2         0       1        1       3     1   \n",
              "2     3.00    11      2       0         0       0        0       2     0   \n",
              "3     6.00     8     44      28         0       0        1       0     1   \n",
              "4     5.30    12      7       2         0       0        1       1     0   \n",
              "..     ...   ...    ...     ...       ...     ...      ...     ...   ...   \n",
              "521  15.00    16     14       2         0       1        1       2     0   \n",
              "522   2.27    10      2       0         0       1        0       3     0   \n",
              "523   4.67    15     13      18         0       0        1       3     0   \n",
              "524  11.56    16      5       1         0       0        1       0     0   \n",
              "525   3.50    14      5       4         1       1        0       2     0   \n",
              "\n",
              "     northcen  ...  trcommpu  trade  services  profserv  profocc  clerocc  \\\n",
              "0           0  ...         0      0         0         0        0        0   \n",
              "1           0  ...         0      0         1         0        0        0   \n",
              "2           0  ...         0      1         0         0        0        0   \n",
              "3           0  ...         0      0         0         0        0        1   \n",
              "4           0  ...         0      0         0         0        0        0   \n",
              "..        ...  ...       ...    ...       ...       ...      ...      ...   \n",
              "521         0  ...         0      0         0         1        1        0   \n",
              "522         0  ...         0      1         0         0        1        0   \n",
              "523         0  ...         0      0         0         0        1        0   \n",
              "524         0  ...         0      0         0         0        0        0   \n",
              "525         0  ...         0      0         0         1        0        1   \n",
              "\n",
              "     servocc     lwage  expersq  tenursq  \n",
              "0          0  1.131402        4        0  \n",
              "1          1  1.175573      484        4  \n",
              "2          0  1.098612        4        0  \n",
              "3          0  1.791759     1936      784  \n",
              "4          0  1.667707       49        4  \n",
              "..       ...       ...      ...      ...  \n",
              "521        0  2.708050      196        4  \n",
              "522        0  0.819780        4        0  \n",
              "523        0  1.541159      169      324  \n",
              "524        0  2.447551       25        1  \n",
              "525        0  1.252763       25       16  \n",
              "\n",
              "[526 rows x 24 columns]"
            ]
          },
          "execution_count": 3,
          "metadata": {
            "slideshow": {
              "slide_type": "slide"
            }
          },
          "output_type": "execute_result"
        }
      ],
      "source": [
        "import pandas as pd \n",
        "df = pd.read_stata(\"WAGE1.DTA\")\n",
        "df"
      ]
    },
    {
      "cell_type": "code",
      "execution_count": 5,
      "id": "e41be63f",
      "metadata": {
        "slideshow": {
          "slide_type": "slide"
        }
      },
      "outputs": [],
      "source": [
        "from pandas.io.stata import StataReader\n",
        "\n",
        "file = StataReader(\"WAGE1.dta\")\n",
        "variables = file.variable_labels()\n",
        "df = file.read()"
      ]
    },
    {
      "cell_type": "code",
      "execution_count": 6,
      "id": "73e14a90",
      "metadata": {
        "slideshow": {
          "slide_type": "slide"
        }
      },
      "outputs": [
        {
          "data": {
            "text/plain": [
              "{'wage': 'average hourly earnings',\n",
              " 'educ': 'years of education',\n",
              " 'exper': 'years potential experience',\n",
              " 'tenure': 'years with current employer',\n",
              " 'nonwhite': '=1 if nonwhite',\n",
              " 'female': '=1 if female',\n",
              " 'married': '=1 if married',\n",
              " 'numdep': 'number of dependents',\n",
              " 'smsa': '=1 if live in SMSA',\n",
              " 'northcen': '=1 if live in north central U.S',\n",
              " 'south': '=1 if live in southern region',\n",
              " 'west': '=1 if live in western region',\n",
              " 'construc': '=1 if work in construc. indus.',\n",
              " 'ndurman': '=1 if in nondur. manuf. indus.',\n",
              " 'trcommpu': '=1 if in trans, commun, pub ut',\n",
              " 'trade': '=1 if in wholesale or retail',\n",
              " 'services': '=1 if in services indus.',\n",
              " 'profserv': '=1 if in prof. serv. indus.',\n",
              " 'profocc': '=1 if in profess. occupation',\n",
              " 'clerocc': '=1 if in clerical occupation',\n",
              " 'servocc': '=1 if in service occupation',\n",
              " 'lwage': 'log(wage)',\n",
              " 'expersq': 'exper^2',\n",
              " 'tenursq': 'tenure^2'}"
            ]
          },
          "execution_count": 6,
          "metadata": {
            "slideshow": {
              "slide_type": "slide"
            }
          },
          "output_type": "execute_result"
        }
      ],
      "source": [
        "variables"
      ]
    },
    {
      "cell_type": "code",
      "execution_count": 7,
      "id": "5e3ed000",
      "metadata": {
        "slideshow": {
          "slide_type": "slide"
        }
      },
      "outputs": [
        {
          "data": {
            "text/html": [
              "<div>\n",
              "<style scoped>\n",
              "    .dataframe tbody tr th:only-of-type {\n",
              "        vertical-align: middle;\n",
              "    }\n",
              "\n",
              "    .dataframe tbody tr th {\n",
              "        vertical-align: top;\n",
              "    }\n",
              "\n",
              "    .dataframe thead th {\n",
              "        text-align: right;\n",
              "    }\n",
              "</style>\n",
              "<table border=\"1\" class=\"dataframe\">\n",
              "  <thead>\n",
              "    <tr style=\"text-align: right;\">\n",
              "      <th></th>\n",
              "      <th>wage</th>\n",
              "      <th>educ</th>\n",
              "      <th>exper</th>\n",
              "      <th>tenure</th>\n",
              "      <th>nonwhite</th>\n",
              "      <th>female</th>\n",
              "      <th>married</th>\n",
              "      <th>numdep</th>\n",
              "      <th>smsa</th>\n",
              "      <th>northcen</th>\n",
              "      <th>...</th>\n",
              "      <th>trcommpu</th>\n",
              "      <th>trade</th>\n",
              "      <th>services</th>\n",
              "      <th>profserv</th>\n",
              "      <th>profocc</th>\n",
              "      <th>clerocc</th>\n",
              "      <th>servocc</th>\n",
              "      <th>lwage</th>\n",
              "      <th>expersq</th>\n",
              "      <th>tenursq</th>\n",
              "    </tr>\n",
              "  </thead>\n",
              "  <tbody>\n",
              "    <tr>\n",
              "      <th>0</th>\n",
              "      <td>3.10</td>\n",
              "      <td>11</td>\n",
              "      <td>2</td>\n",
              "      <td>0</td>\n",
              "      <td>0</td>\n",
              "      <td>1</td>\n",
              "      <td>0</td>\n",
              "      <td>2</td>\n",
              "      <td>1</td>\n",
              "      <td>0</td>\n",
              "      <td>...</td>\n",
              "      <td>0</td>\n",
              "      <td>0</td>\n",
              "      <td>0</td>\n",
              "      <td>0</td>\n",
              "      <td>0</td>\n",
              "      <td>0</td>\n",
              "      <td>0</td>\n",
              "      <td>1.131402</td>\n",
              "      <td>4</td>\n",
              "      <td>0</td>\n",
              "    </tr>\n",
              "    <tr>\n",
              "      <th>1</th>\n",
              "      <td>3.24</td>\n",
              "      <td>12</td>\n",
              "      <td>22</td>\n",
              "      <td>2</td>\n",
              "      <td>0</td>\n",
              "      <td>1</td>\n",
              "      <td>1</td>\n",
              "      <td>3</td>\n",
              "      <td>1</td>\n",
              "      <td>0</td>\n",
              "      <td>...</td>\n",
              "      <td>0</td>\n",
              "      <td>0</td>\n",
              "      <td>1</td>\n",
              "      <td>0</td>\n",
              "      <td>0</td>\n",
              "      <td>0</td>\n",
              "      <td>1</td>\n",
              "      <td>1.175573</td>\n",
              "      <td>484</td>\n",
              "      <td>4</td>\n",
              "    </tr>\n",
              "    <tr>\n",
              "      <th>2</th>\n",
              "      <td>3.00</td>\n",
              "      <td>11</td>\n",
              "      <td>2</td>\n",
              "      <td>0</td>\n",
              "      <td>0</td>\n",
              "      <td>0</td>\n",
              "      <td>0</td>\n",
              "      <td>2</td>\n",
              "      <td>0</td>\n",
              "      <td>0</td>\n",
              "      <td>...</td>\n",
              "      <td>0</td>\n",
              "      <td>1</td>\n",
              "      <td>0</td>\n",
              "      <td>0</td>\n",
              "      <td>0</td>\n",
              "      <td>0</td>\n",
              "      <td>0</td>\n",
              "      <td>1.098612</td>\n",
              "      <td>4</td>\n",
              "      <td>0</td>\n",
              "    </tr>\n",
              "    <tr>\n",
              "      <th>3</th>\n",
              "      <td>6.00</td>\n",
              "      <td>8</td>\n",
              "      <td>44</td>\n",
              "      <td>28</td>\n",
              "      <td>0</td>\n",
              "      <td>0</td>\n",
              "      <td>1</td>\n",
              "      <td>0</td>\n",
              "      <td>1</td>\n",
              "      <td>0</td>\n",
              "      <td>...</td>\n",
              "      <td>0</td>\n",
              "      <td>0</td>\n",
              "      <td>0</td>\n",
              "      <td>0</td>\n",
              "      <td>0</td>\n",
              "      <td>1</td>\n",
              "      <td>0</td>\n",
              "      <td>1.791759</td>\n",
              "      <td>1936</td>\n",
              "      <td>784</td>\n",
              "    </tr>\n",
              "    <tr>\n",
              "      <th>4</th>\n",
              "      <td>5.30</td>\n",
              "      <td>12</td>\n",
              "      <td>7</td>\n",
              "      <td>2</td>\n",
              "      <td>0</td>\n",
              "      <td>0</td>\n",
              "      <td>1</td>\n",
              "      <td>1</td>\n",
              "      <td>0</td>\n",
              "      <td>0</td>\n",
              "      <td>...</td>\n",
              "      <td>0</td>\n",
              "      <td>0</td>\n",
              "      <td>0</td>\n",
              "      <td>0</td>\n",
              "      <td>0</td>\n",
              "      <td>0</td>\n",
              "      <td>0</td>\n",
              "      <td>1.667707</td>\n",
              "      <td>49</td>\n",
              "      <td>4</td>\n",
              "    </tr>\n",
              "    <tr>\n",
              "      <th>...</th>\n",
              "      <td>...</td>\n",
              "      <td>...</td>\n",
              "      <td>...</td>\n",
              "      <td>...</td>\n",
              "      <td>...</td>\n",
              "      <td>...</td>\n",
              "      <td>...</td>\n",
              "      <td>...</td>\n",
              "      <td>...</td>\n",
              "      <td>...</td>\n",
              "      <td>...</td>\n",
              "      <td>...</td>\n",
              "      <td>...</td>\n",
              "      <td>...</td>\n",
              "      <td>...</td>\n",
              "      <td>...</td>\n",
              "      <td>...</td>\n",
              "      <td>...</td>\n",
              "      <td>...</td>\n",
              "      <td>...</td>\n",
              "      <td>...</td>\n",
              "    </tr>\n",
              "    <tr>\n",
              "      <th>521</th>\n",
              "      <td>15.00</td>\n",
              "      <td>16</td>\n",
              "      <td>14</td>\n",
              "      <td>2</td>\n",
              "      <td>0</td>\n",
              "      <td>1</td>\n",
              "      <td>1</td>\n",
              "      <td>2</td>\n",
              "      <td>0</td>\n",
              "      <td>0</td>\n",
              "      <td>...</td>\n",
              "      <td>0</td>\n",
              "      <td>0</td>\n",
              "      <td>0</td>\n",
              "      <td>1</td>\n",
              "      <td>1</td>\n",
              "      <td>0</td>\n",
              "      <td>0</td>\n",
              "      <td>2.708050</td>\n",
              "      <td>196</td>\n",
              "      <td>4</td>\n",
              "    </tr>\n",
              "    <tr>\n",
              "      <th>522</th>\n",
              "      <td>2.27</td>\n",
              "      <td>10</td>\n",
              "      <td>2</td>\n",
              "      <td>0</td>\n",
              "      <td>0</td>\n",
              "      <td>1</td>\n",
              "      <td>0</td>\n",
              "      <td>3</td>\n",
              "      <td>0</td>\n",
              "      <td>0</td>\n",
              "      <td>...</td>\n",
              "      <td>0</td>\n",
              "      <td>1</td>\n",
              "      <td>0</td>\n",
              "      <td>0</td>\n",
              "      <td>1</td>\n",
              "      <td>0</td>\n",
              "      <td>0</td>\n",
              "      <td>0.819780</td>\n",
              "      <td>4</td>\n",
              "      <td>0</td>\n",
              "    </tr>\n",
              "    <tr>\n",
              "      <th>523</th>\n",
              "      <td>4.67</td>\n",
              "      <td>15</td>\n",
              "      <td>13</td>\n",
              "      <td>18</td>\n",
              "      <td>0</td>\n",
              "      <td>0</td>\n",
              "      <td>1</td>\n",
              "      <td>3</td>\n",
              "      <td>0</td>\n",
              "      <td>0</td>\n",
              "      <td>...</td>\n",
              "      <td>0</td>\n",
              "      <td>0</td>\n",
              "      <td>0</td>\n",
              "      <td>0</td>\n",
              "      <td>1</td>\n",
              "      <td>0</td>\n",
              "      <td>0</td>\n",
              "      <td>1.541159</td>\n",
              "      <td>169</td>\n",
              "      <td>324</td>\n",
              "    </tr>\n",
              "    <tr>\n",
              "      <th>524</th>\n",
              "      <td>11.56</td>\n",
              "      <td>16</td>\n",
              "      <td>5</td>\n",
              "      <td>1</td>\n",
              "      <td>0</td>\n",
              "      <td>0</td>\n",
              "      <td>1</td>\n",
              "      <td>0</td>\n",
              "      <td>0</td>\n",
              "      <td>0</td>\n",
              "      <td>...</td>\n",
              "      <td>0</td>\n",
              "      <td>0</td>\n",
              "      <td>0</td>\n",
              "      <td>0</td>\n",
              "      <td>0</td>\n",
              "      <td>0</td>\n",
              "      <td>0</td>\n",
              "      <td>2.447551</td>\n",
              "      <td>25</td>\n",
              "      <td>1</td>\n",
              "    </tr>\n",
              "    <tr>\n",
              "      <th>525</th>\n",
              "      <td>3.50</td>\n",
              "      <td>14</td>\n",
              "      <td>5</td>\n",
              "      <td>4</td>\n",
              "      <td>1</td>\n",
              "      <td>1</td>\n",
              "      <td>0</td>\n",
              "      <td>2</td>\n",
              "      <td>0</td>\n",
              "      <td>0</td>\n",
              "      <td>...</td>\n",
              "      <td>0</td>\n",
              "      <td>0</td>\n",
              "      <td>0</td>\n",
              "      <td>1</td>\n",
              "      <td>0</td>\n",
              "      <td>1</td>\n",
              "      <td>0</td>\n",
              "      <td>1.252763</td>\n",
              "      <td>25</td>\n",
              "      <td>16</td>\n",
              "    </tr>\n",
              "  </tbody>\n",
              "</table>\n",
              "<p>526 rows × 24 columns</p>\n",
              "</div>"
            ],
            "text/plain": [
              "      wage  educ  exper  tenure  nonwhite  female  married  numdep  smsa  \\\n",
              "0     3.10    11      2       0         0       1        0       2     1   \n",
              "1     3.24    12     22       2         0       1        1       3     1   \n",
              "2     3.00    11      2       0         0       0        0       2     0   \n",
              "3     6.00     8     44      28         0       0        1       0     1   \n",
              "4     5.30    12      7       2         0       0        1       1     0   \n",
              "..     ...   ...    ...     ...       ...     ...      ...     ...   ...   \n",
              "521  15.00    16     14       2         0       1        1       2     0   \n",
              "522   2.27    10      2       0         0       1        0       3     0   \n",
              "523   4.67    15     13      18         0       0        1       3     0   \n",
              "524  11.56    16      5       1         0       0        1       0     0   \n",
              "525   3.50    14      5       4         1       1        0       2     0   \n",
              "\n",
              "     northcen  ...  trcommpu  trade  services  profserv  profocc  clerocc  \\\n",
              "0           0  ...         0      0         0         0        0        0   \n",
              "1           0  ...         0      0         1         0        0        0   \n",
              "2           0  ...         0      1         0         0        0        0   \n",
              "3           0  ...         0      0         0         0        0        1   \n",
              "4           0  ...         0      0         0         0        0        0   \n",
              "..        ...  ...       ...    ...       ...       ...      ...      ...   \n",
              "521         0  ...         0      0         0         1        1        0   \n",
              "522         0  ...         0      1         0         0        1        0   \n",
              "523         0  ...         0      0         0         0        1        0   \n",
              "524         0  ...         0      0         0         0        0        0   \n",
              "525         0  ...         0      0         0         1        0        1   \n",
              "\n",
              "     servocc     lwage  expersq  tenursq  \n",
              "0          0  1.131402        4        0  \n",
              "1          1  1.175573      484        4  \n",
              "2          0  1.098612        4        0  \n",
              "3          0  1.791759     1936      784  \n",
              "4          0  1.667707       49        4  \n",
              "..       ...       ...      ...      ...  \n",
              "521        0  2.708050      196        4  \n",
              "522        0  0.819780        4        0  \n",
              "523        0  1.541159      169      324  \n",
              "524        0  2.447551       25        1  \n",
              "525        0  1.252763       25       16  \n",
              "\n",
              "[526 rows x 24 columns]"
            ]
          },
          "execution_count": 7,
          "metadata": {
            "slideshow": {
              "slide_type": "slide"
            }
          },
          "output_type": "execute_result"
        }
      ],
      "source": [
        "df"
      ]
    },
    {
      "cell_type": "markdown",
      "id": "b9ad15e7",
      "metadata": {
        "slideshow": {
          "slide_type": "slide"
        }
      },
      "source": [
        "### What can we do with pandas?\n",
        "\n",
        "- Explore\n",
        "- Select\n",
        "- Transform\n",
        "- Aggregate\n",
        "- Sort, rank, and cut\n",
        "- Filter\n",
        "- Aggregate by group\n",
        "- Merge\n",
        "- Plot"
      ]
    },
    {
      "cell_type": "markdown",
      "id": "34562eb7",
      "metadata": {
        "slideshow": {
          "slide_type": "slide"
        }
      },
      "source": [
        "### Explore\n",
        "\n",
        "- .info()\n",
        "- .describe()\n",
        "- .head()\n",
        "- .tail()\n",
        "- .columns \n",
        "- .index"
      ]
    },
    {
      "cell_type": "markdown",
      "id": "8a0ca407",
      "metadata": {
        "slideshow": {
          "slide_type": "slide"
        }
      },
      "source": [
        "### Select\n",
        "\n",
        "- [] for columns\n",
        "- or .column_name for columns\n",
        "- .loc[] to get rows using labels \n",
        "- .iloc[] to get rows using index 0, 1, ..."
      ]
    },
    {
      "cell_type": "markdown",
      "id": "1a628a65",
      "metadata": {
        "slideshow": {
          "slide_type": "slide"
        }
      },
      "source": [
        "### Transform\n",
        "\n",
        "- mathematical operations to individual columns or rows \n",
        "- combine columns or combine rows in mathematical operations (add, subtract, ...)\n",
        "- create new columns or rows\n",
        "- np.where(condition, if_true, if_false)\n",
        "- .map(f) or .map(lambda x: ...)\n",
        "- exercises:\n",
        "  1. change the female column to be \"F\" if 1 and \"M\" if 0\n",
        "  2. create a new column that is 1 if experience <=5, is 2 if 5 < experience <= 10, 3 if 10 < experience <= 20, 4 otherwise \n",
        "  3. create a new column that is \"northcen\" if northcen=1, is \"south\" if south=1, is \"west\" if west=1, and is \"east\" otherwise.\n"
      ]
    },
    {
      "cell_type": "markdown",
      "id": "e0da5d55",
      "metadata": {
        "slideshow": {
          "slide_type": "slide"
        }
      },
      "source": [
        "### Aggregate \n",
        "\n",
        "- .sum(), .mean(), .median(), .quantile(), .std(), .var(), .min(), .max()\n",
        "- .apply(lambda x: ...)"
      ]
    },
    {
      "cell_type": "markdown",
      "id": "ceadef02",
      "metadata": {
        "slideshow": {
          "slide_type": "slide"
        }
      },
      "source": [
        "### Sort, rank, and cut\n",
        "\n",
        "- sort_values() or sort_index() \n",
        "- .rank()\n",
        "- pd.cut(data, bin_edges, right=True or False, labels=...)\n",
        "- pd.qcut(data, number_of_groups, labels=...)"
      ]
    },
    {
      "cell_type": "markdown",
      "id": "804728ad",
      "metadata": {
        "slideshow": {
          "slide_type": "slide"
        }
      },
      "source": [
        "### Filter \n",
        "\n",
        "- df[df.wage<10]\n",
        "- df[(df.wage<10) & (df.female==1)]\n",
        "- df[(df.wage<10) | (df.female==1)]\n",
        "- df.dropna() or df.dropna(subset=[...])\n",
        "- not filtering, but .fillna is also useful"
      ]
    },
    {
      "cell_type": "markdown",
      "id": "da694755",
      "metadata": {
        "slideshow": {
          "slide_type": "slide"
        }
      },
      "source": [
        "### Aggregate by group\n",
        "\n",
        "- df.groupby(\"female\").wage.mean()\n",
        "- df.groupby([\"female\", \"married\"]).wage.mean().unstack()\n",
        "- can use any aggregation function including custom functions with .apply\n",
        "- df.groupby(\"female\").wage.apply(\n",
        "    lambda x: x.quantile([0.2, 0.4, 0.6, 0.8])\n",
        "  )\n",
        "- df.groupby(\"female\").wage.apply(\n",
        "    lambda x: pd.qcut(x, 5, labels=range(1, 6))\n",
        "  )"
      ]
    },
    {
      "cell_type": "code",
      "execution_count": 20,
      "id": "7752f95e",
      "metadata": {
        "slideshow": {
          "slide_type": "slide"
        }
      },
      "outputs": [],
      "source": [
        "df[\"group\"] = df.groupby([\"female\"], group_keys=False).wage.apply(\n",
        "    lambda x: pd.qcut(x, 5, labels=range(1, 6))\n",
        ")\n",
        "df[[\"female\", \"wage\", \"group\"]]"
      ]
    },
    {
      "cell_type": "markdown",
      "id": "e8bd337a",
      "metadata": {
        "slideshow": {
          "slide_type": "slide"
        }
      },
      "source": [
        "### ask Julius\n",
        "\n",
        "- to read WAGE1.DTA and describe it and then do some aggregation by groups with it\n",
        "- to get the seaborn tips dataset and do some aggregation by groups with it\n",
        "- to use pandas datareader to get the Fama-French factors from French's data library and merge them with MOM from French's data library\n",
        "- to create boxplots for the Fama-French factors and MOM\n"
      ]
    }
  ],
  "metadata": {
    "kernel_info": {
      "name": "python3"
    },
    "kernelspec": {
      "display_name": "Python 3.9",
      "language": "python",
      "name": "python3"
    },
    "language_info": {
      "codemirror_mode": {
        "name": "ipython",
        "version": 3
      },
      "file_extension": ".py",
      "mimetype": "text/x-python",
      "name": "python",
      "nbconvert_exporter": "python",
      "pygments_lexer": "ipython3",
      "version": "3.12.5"
    },
    "noteable": {
      "last_delta_id": "afcb4b71-85c4-414b-b971-257c5482279b",
      "last_transaction_id": "afcb4b71-85c4-414b-b971-257c5482279b"
    },
    "noteable-chatgpt": {
      "create_notebook": {
        "openai_conversation_id": "eaa54984-548e-53d1-8713-340a7a1c227b",
        "openai_ephemeral_user_id": "013f07ed-ae7a-587b-b1e6-8595c572200d",
        "openai_subdivision1_iso_code": "US-TX"
      }
    },
    "nteract": {
      "version": "noteable@2.9.0"
    },
    "selected_hardware_size": "small"
  },
  "nbformat": 4,
  "nbformat_minor": 5
}
