{
 "cells": [
  {
   "cell_type": "code",
   "execution_count": null,
   "metadata": {},
   "outputs": [],
   "source": [
    "# Passing by value\n",
    "\n",
    "x = 2\n",
    "y = x\n",
    "y = 10\n",
    "print(f\"x = {x}\")\n",
    "print(f\"y = {y}\")"
   ]
  },
  {
   "cell_type": "code",
   "execution_count": null,
   "metadata": {},
   "outputs": [],
   "source": [
    "# Passing by reference\n",
    "\n",
    "x = [2, 2]\n",
    "y = x\n",
    "y[0] = 10\n",
    "print(f\"x = {x}\")\n",
    "print(f\"y = {y}\")"
   ]
  },
  {
   "cell_type": "code",
   "execution_count": null,
   "metadata": {},
   "outputs": [],
   "source": [
    "# Make a copy to force passing by value\n",
    "\n",
    "x = [2, 2]\n",
    "y = x.copy()\n",
    "y[0] = 10\n",
    "print(f\"x = {x}\")\n",
    "print(f\"y = {y}\")"
   ]
  },
  {
   "cell_type": "code",
   "execution_count": null,
   "metadata": {},
   "outputs": [],
   "source": [
    "# Same issue when altering within a function\n",
    "\n",
    "def func(arg):\n",
    "    arg[0] = 10\n",
    "    return arg\n",
    "\n",
    "x = [2, 2]\n",
    "y = func(x)\n",
    "print(f\"x = {x}\")\n",
    "print(f\"y = {y}\")"
   ]
  },
  {
   "cell_type": "code",
   "execution_count": null,
   "metadata": {},
   "outputs": [],
   "source": [
    "# Again, make a copy\n",
    "\n",
    "def func(arg):\n",
    "    new_var = arg.copy()\n",
    "    new_var[0] = 10\n",
    "    return new_var\n",
    "\n",
    "x = [2, 2]\n",
    "y = func(x)\n",
    "print(f\"x = {x}\")\n",
    "print(f\"y = {y}\")"
   ]
  },
  {
   "cell_type": "code",
   "execution_count": null,
   "metadata": {},
   "outputs": [],
   "source": [
    "# Local variable\n",
    "\n",
    "def func(arg):\n",
    "    new_var = arg.copy()\n",
    "    new_var[0] = 10\n",
    "    return new_var\n",
    "\n",
    "x = [2, 2]\n",
    "y = func(x)\n",
    "print(f\"new_var = {new_var}\")"
   ]
  },
  {
   "cell_type": "code",
   "execution_count": null,
   "metadata": {},
   "outputs": [],
   "source": [
    "# Local variable again\n",
    "\n",
    "x = 2\n",
    "\n",
    "def func(arg):\n",
    "    x = 10\n",
    "    return x*arg\n",
    "\n",
    "y = func(3)\n",
    "\n",
    "print(f\"x = {x}\")\n",
    "print(f\"y = {y}\")"
   ]
  },
  {
   "cell_type": "code",
   "execution_count": null,
   "metadata": {},
   "outputs": [],
   "source": [
    "# Global variable\n",
    "\n",
    "x = 2\n",
    "\n",
    "def func(arg):\n",
    "    return x*arg\n",
    "\n",
    "y = func(3)\n",
    "\n",
    "print(f\"x = {x}\")\n",
    "print(f\"y = {y}\")"
   ]
  },
  {
   "cell_type": "code",
   "execution_count": null,
   "metadata": {},
   "outputs": [],
   "source": [
    "# Local variable one more time\n",
    "\n",
    "x = [2, 2]\n",
    "\n",
    "def func(arg):\n",
    "    x = 2*x\n",
    "    return x*arg\n",
    "\n",
    "y = func(3)\n",
    "\n",
    "print(f\"x = {x}\")\n",
    "print(f\"y = {y}\")"
   ]
  },
  {
   "cell_type": "markdown",
   "metadata": {},
   "source": [
    "### Summary\n",
    "\n",
    "Be careful of two things:\n",
    "\n",
    "1.  If you pass a list, dictionary, numpy array, pandas series, or pandas dataframe to a function and the function argument is modified within the function, then it will also be modified outside the function.  So, make a copy if you don't want the outside version to be modified - or just don't change the dictionary, array, ... inside the function in the first place.\n",
    "\n",
    "2.  If you intend to use a local variable inside a function but forget to define it, and a variable with the same name exists outside the function, then the outside variable will be used in the function."
   ]
  },
  {
   "cell_type": "code",
   "execution_count": null,
   "metadata": {},
   "outputs": [],
   "source": [
    "# example: aggregating within bins\n",
    "\n",
    "import numpy as np\n",
    "import pandas as pd\n",
    "df = pd.DataFrame(\n",
    "    {\n",
    "        'a': np.random.randint(0, 100, 100),\n",
    "        'b': np.random.randint(0, 100, 100)\n",
    "    }\n",
    ")\n",
    "df['grp'] = pd.qcut(df.b, 3, labels={\"Lo\", \" Med\", \"Hi\"})\n",
    "df.groupby('grp').a.mean()"
   ]
  },
  {
   "cell_type": "code",
   "execution_count": null,
   "metadata": {},
   "outputs": [],
   "source": [
    "# without adding a column to the dataframe\n",
    "\n",
    "grps = pd.qcut(df.b, 3, labels={\"Lo\", \" Med\", \"Hi\"})\n",
    "df.groupby(grps).a.mean()"
   ]
  },
  {
   "cell_type": "code",
   "execution_count": null,
   "metadata": {},
   "outputs": [],
   "source": [
    "# pandas cut and value_counts\n",
    "\n",
    "import numpy as np \n",
    "import pandas as pd\n",
    "\n",
    "np.random.seed(0)\n",
    "x = np.random.randint(1, 11, size=15)\n",
    "x"
   ]
  },
  {
   "cell_type": "code",
   "execution_count": null,
   "metadata": {},
   "outputs": [],
   "source": [
    "bins = pd.cut(x, bins=[0, 5, 11], labels=[\"Lo\", \"Hi\"])\n",
    "bins"
   ]
  },
  {
   "cell_type": "code",
   "execution_count": null,
   "metadata": {},
   "outputs": [],
   "source": [
    "bins.value_counts()"
   ]
  }
 ],
 "metadata": {
  "kernelspec": {
   "display_name": "Python 3",
   "language": "python",
   "name": "python3"
  },
  "language_info": {
   "codemirror_mode": {
    "name": "ipython",
    "version": 3
   },
   "file_extension": ".py",
   "mimetype": "text/x-python",
   "name": "python",
   "nbconvert_exporter": "python",
   "pygments_lexer": "ipython3",
   "version": "3.10.7"
  },
  "orig_nbformat": 4
 },
 "nbformat": 4,
 "nbformat_minor": 2
}
