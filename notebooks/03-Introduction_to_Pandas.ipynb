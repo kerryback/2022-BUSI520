{
  "cells": [
    {
      "cell_type": "markdown",
      "id": "6c8174fd",
      "metadata": {
        "slideshow": {
          "slide_type": "slide"
        }
      },
      "source": [
        "# Introduction to Pandas\n",
        "\n",
        "### BUSI 520: Python for Business Research\n",
        "### Kerry Back, JGSB, Rice University"
      ]
    },
    {
      "cell_type": "markdown",
      "id": "cb0eaf7a-2125-40ee-95ed-ae74923fb2af",
      "metadata": {
        "noteable": {
          "cell_type": "markdown"
        },
        "slideshow": {
          "slide_type": "slide"
        }
      },
      "source": [
        "## What is Pandas?\n",
        "\n",
        "Pandas is a powerful and flexible open-source data analysis and manipulation library. It provides two data structures (Series and DataFrame), each of which have many built-in methods.  It provides constructors for series and dataframes, functions for reading existing dataframes (in csv, stata, sas, sql, excel, html and other formats), and functions for operating on series and dataframes. \n",
        "\n",
        "Pandas was created by Wes McKinney, formerly of AQR and the author of the book Python for Data Analysis."
      ]
    },
    {
      "cell_type": "markdown",
      "id": "6665c60c-9665-4580-b6a9-d1f3515f010b",
      "metadata": {
        "noteable": {
          "cell_type": "markdown"
        },
        "slideshow": {
          "slide_type": "slide"
        }
      },
      "source": [
        "## Creating Series and DataFrame using dictionaries"
      ]
    },
    {
      "cell_type": "code",
      "execution_count": 1,
      "id": "b5aa51f0-1cda-49e4-bc34-348436a6c96a",
      "metadata": {
        "noteable": {
          "cell_type": "code"
        },
        "slideshow": {
          "slide_type": "slide"
        }
      },
      "outputs": [
        {
          "data": {
            "text/plain": [
              "a    1\n",
              "b    2\n",
              "c    3\n",
              "dtype: int64"
            ]
          },
          "execution_count": 1,
          "metadata": {},
          "output_type": "execute_result"
        }
      ],
      "source": [
        "import pandas as pd\n",
        "# Creating a Series using a dictionary\n",
        "data_series = pd.Series({'a': 1, 'b': 2, 'c': 3})\n",
        "data_series"
      ]
    },
    {
      "cell_type": "code",
      "execution_count": 2,
      "id": "59cf08eb-8060-4046-8302-e50d64083e3b",
      "metadata": {
        "noteable": {
          "cell_type": "code"
        },
        "slideshow": {
          "slide_type": "slide"
        }
      },
      "outputs": [
        {
          "data": {
            "text/html": [
              "<div>\n",
              "<style scoped>\n",
              "    .dataframe tbody tr th:only-of-type {\n",
              "        vertical-align: middle;\n",
              "    }\n",
              "\n",
              "    .dataframe tbody tr th {\n",
              "        vertical-align: top;\n",
              "    }\n",
              "\n",
              "    .dataframe thead th {\n",
              "        text-align: right;\n",
              "    }\n",
              "</style>\n",
              "<table border=\"1\" class=\"dataframe\">\n",
              "  <thead>\n",
              "    <tr style=\"text-align: right;\">\n",
              "      <th></th>\n",
              "      <th>Name</th>\n",
              "      <th>Age</th>\n",
              "      <th>Occupation</th>\n",
              "    </tr>\n",
              "  </thead>\n",
              "  <tbody>\n",
              "    <tr>\n",
              "      <th>0</th>\n",
              "      <td>Alice</td>\n",
              "      <td>25</td>\n",
              "      <td>Engineer</td>\n",
              "    </tr>\n",
              "    <tr>\n",
              "      <th>1</th>\n",
              "      <td>Bob</td>\n",
              "      <td>30</td>\n",
              "      <td>Doctor</td>\n",
              "    </tr>\n",
              "    <tr>\n",
              "      <th>2</th>\n",
              "      <td>Charlie</td>\n",
              "      <td>35</td>\n",
              "      <td>Teacher</td>\n",
              "    </tr>\n",
              "  </tbody>\n",
              "</table>\n",
              "</div>"
            ],
            "text/plain": [
              "      Name  Age Occupation\n",
              "0    Alice   25   Engineer\n",
              "1      Bob   30     Doctor\n",
              "2  Charlie   35    Teacher"
            ]
          },
          "execution_count": 2,
          "metadata": {},
          "output_type": "execute_result"
        }
      ],
      "source": [
        "# Creating a DataFrame using a dictionary\n",
        "data_frame = pd.DataFrame({\n",
        "    'Name': ['Alice', 'Bob', 'Charlie'],\n",
        "    'Age': [25, 30, 35],\n",
        "    'Occupation': ['Engineer', 'Doctor', 'Teacher']\n",
        "})\n",
        "data_frame"
      ]
    },
    {
      "cell_type": "markdown",
      "id": "600e1ce2-663e-4cfd-8276-cf7f199ea26d",
      "metadata": {
        "noteable": {
          "cell_type": "markdown"
        },
        "slideshow": {
          "slide_type": "slide"
        }
      },
      "source": [
        "## Creating a test dataframe with random numbers"
      ]
    },
    {
      "cell_type": "code",
      "execution_count": 3,
      "id": "22e8d9a2-efe7-49ad-9b4d-6c7eaf81122f",
      "metadata": {
        "noteable": {
          "cell_type": "code"
        },
        "slideshow": {
          "slide_type": "slide"
        }
      },
      "outputs": [
        {
          "data": {
            "text/html": [
              "<div>\n",
              "<style scoped>\n",
              "    .dataframe tbody tr th:only-of-type {\n",
              "        vertical-align: middle;\n",
              "    }\n",
              "\n",
              "    .dataframe tbody tr th {\n",
              "        vertical-align: top;\n",
              "    }\n",
              "\n",
              "    .dataframe thead th {\n",
              "        text-align: right;\n",
              "    }\n",
              "</style>\n",
              "<table border=\"1\" class=\"dataframe\">\n",
              "  <thead>\n",
              "    <tr style=\"text-align: right;\">\n",
              "      <th></th>\n",
              "      <th>Column1</th>\n",
              "      <th>Column2</th>\n",
              "      <th>Column3</th>\n",
              "    </tr>\n",
              "  </thead>\n",
              "  <tbody>\n",
              "    <tr>\n",
              "      <th>0</th>\n",
              "      <td>44</td>\n",
              "      <td>47</td>\n",
              "      <td>64</td>\n",
              "    </tr>\n",
              "    <tr>\n",
              "      <th>1</th>\n",
              "      <td>67</td>\n",
              "      <td>67</td>\n",
              "      <td>9</td>\n",
              "    </tr>\n",
              "    <tr>\n",
              "      <th>2</th>\n",
              "      <td>83</td>\n",
              "      <td>21</td>\n",
              "      <td>36</td>\n",
              "    </tr>\n",
              "    <tr>\n",
              "      <th>3</th>\n",
              "      <td>87</td>\n",
              "      <td>70</td>\n",
              "      <td>88</td>\n",
              "    </tr>\n",
              "    <tr>\n",
              "      <th>4</th>\n",
              "      <td>88</td>\n",
              "      <td>12</td>\n",
              "      <td>58</td>\n",
              "    </tr>\n",
              "  </tbody>\n",
              "</table>\n",
              "</div>"
            ],
            "text/plain": [
              "   Column1  Column2  Column3\n",
              "0       44       47       64\n",
              "1       67       67        9\n",
              "2       83       21       36\n",
              "3       87       70       88\n",
              "4       88       12       58"
            ]
          },
          "execution_count": 3,
          "metadata": {},
          "output_type": "execute_result"
        }
      ],
      "source": [
        "import numpy as np\n",
        "np.random.seed(0)\n",
        "# Generating a 5x3 array of random integers between 0 and 100\n",
        "random_data = np.random.randint(0, 100, size=(5, 3))\n",
        "# Creating a DataFrame from the random data\n",
        "random_df = pd.DataFrame(random_data, columns=['Column1', 'Column2', 'Column3'])\n",
        "random_df"
      ]
    },
    {
      "cell_type": "markdown",
      "id": "13628bc8-f755-41e2-9102-d537490d7a0d",
      "metadata": {
        "noteable": {
          "cell_type": "markdown"
        },
        "slideshow": {
          "slide_type": "slide"
        }
      },
      "source": [
        "## Exploring the seaborn tips dataset"
      ]
    },
    {
      "cell_type": "code",
      "execution_count": 4,
      "id": "d03b3e4b-5f0d-40d7-91ff-0ae43a91b5ea",
      "metadata": {
        "noteable": {
          "cell_type": "code"
        },
        "slideshow": {
          "slide_type": "slide"
        }
      },
      "outputs": [
        {
          "data": {
            "text/html": [
              "<div>\n",
              "<style scoped>\n",
              "    .dataframe tbody tr th:only-of-type {\n",
              "        vertical-align: middle;\n",
              "    }\n",
              "\n",
              "    .dataframe tbody tr th {\n",
              "        vertical-align: top;\n",
              "    }\n",
              "\n",
              "    .dataframe thead th {\n",
              "        text-align: right;\n",
              "    }\n",
              "</style>\n",
              "<table border=\"1\" class=\"dataframe\">\n",
              "  <thead>\n",
              "    <tr style=\"text-align: right;\">\n",
              "      <th></th>\n",
              "      <th>total_bill</th>\n",
              "      <th>tip</th>\n",
              "      <th>sex</th>\n",
              "      <th>smoker</th>\n",
              "      <th>day</th>\n",
              "      <th>time</th>\n",
              "      <th>size</th>\n",
              "    </tr>\n",
              "  </thead>\n",
              "  <tbody>\n",
              "    <tr>\n",
              "      <th>0</th>\n",
              "      <td>16.99</td>\n",
              "      <td>1.01</td>\n",
              "      <td>Female</td>\n",
              "      <td>No</td>\n",
              "      <td>Sun</td>\n",
              "      <td>Dinner</td>\n",
              "      <td>2</td>\n",
              "    </tr>\n",
              "    <tr>\n",
              "      <th>1</th>\n",
              "      <td>10.34</td>\n",
              "      <td>1.66</td>\n",
              "      <td>Male</td>\n",
              "      <td>No</td>\n",
              "      <td>Sun</td>\n",
              "      <td>Dinner</td>\n",
              "      <td>3</td>\n",
              "    </tr>\n",
              "    <tr>\n",
              "      <th>2</th>\n",
              "      <td>21.01</td>\n",
              "      <td>3.50</td>\n",
              "      <td>Male</td>\n",
              "      <td>No</td>\n",
              "      <td>Sun</td>\n",
              "      <td>Dinner</td>\n",
              "      <td>3</td>\n",
              "    </tr>\n",
              "    <tr>\n",
              "      <th>3</th>\n",
              "      <td>23.68</td>\n",
              "      <td>3.31</td>\n",
              "      <td>Male</td>\n",
              "      <td>No</td>\n",
              "      <td>Sun</td>\n",
              "      <td>Dinner</td>\n",
              "      <td>2</td>\n",
              "    </tr>\n",
              "    <tr>\n",
              "      <th>4</th>\n",
              "      <td>24.59</td>\n",
              "      <td>3.61</td>\n",
              "      <td>Female</td>\n",
              "      <td>No</td>\n",
              "      <td>Sun</td>\n",
              "      <td>Dinner</td>\n",
              "      <td>4</td>\n",
              "    </tr>\n",
              "  </tbody>\n",
              "</table>\n",
              "</div>"
            ],
            "text/plain": [
              "   total_bill   tip     sex smoker  day    time  size\n",
              "0       16.99  1.01  Female     No  Sun  Dinner     2\n",
              "1       10.34  1.66    Male     No  Sun  Dinner     3\n",
              "2       21.01  3.50    Male     No  Sun  Dinner     3\n",
              "3       23.68  3.31    Male     No  Sun  Dinner     2\n",
              "4       24.59  3.61  Female     No  Sun  Dinner     4"
            ]
          },
          "execution_count": 4,
          "metadata": {},
          "output_type": "execute_result"
        }
      ],
      "source": [
        "import seaborn as sns\n",
        "# Loading the tips dataset\n",
        "tips = sns.load_dataset('tips')\n",
        "tips.head()"
      ]
    },
    {
      "cell_type": "markdown",
      "id": "7641fdb1-c118-4e42-b03e-e265bfb88d62",
      "metadata": {
        "noteable": {
          "cell_type": "markdown"
        },
        "slideshow": {
          "slide_type": "slide"
        }
      },
      "source": [
        "## Extracting Columns and Rows from Series and DataFrames\n",
        "Pandas provides various methods to extract data from Series and DataFrames. In this section, we'll explore three primary ways to achieve this:\n",
        "1. Using `[]` (basic indexing)\n",
        "2. Using `.loc` (label-based indexing)\n",
        "3. Using `.iloc` (integer-location based indexing)"
      ]
    },
    {
      "cell_type": "code",
      "execution_count": 5,
      "id": "4842ffe7-e648-477e-898d-ea22b133c070",
      "metadata": {
        "noteable": {
          "cell_type": "code"
        },
        "slideshow": {
          "slide_type": "slide"
        }
      },
      "outputs": [
        {
          "data": {
            "text/plain": [
              "(0    44\n",
              " 1    67\n",
              " 2    83\n",
              " 3    87\n",
              " 4    88\n",
              " Name: Column1, dtype: int32,\n",
              "    Column1  Column3\n",
              " 0       44       64\n",
              " 1       67        9\n",
              " 2       83       36\n",
              " 3       87       88\n",
              " 4       88       58,\n",
              " 1)"
            ]
          },
          "execution_count": 5,
          "metadata": {},
          "output_type": "execute_result"
        }
      ],
      "source": [
        "# Using [] (basic indexing)\n",
        "single_column = random_df['Column1']\n",
        "multiple_columns = random_df[['Column1', 'Column3']]\n",
        "series_value = data_series['a']\n",
        "single_column, multiple_columns, series_value"
      ]
    },
    {
      "cell_type": "code",
      "execution_count": 6,
      "id": "9d821736-a76b-472e-9729-36ad9c8f7f7c",
      "metadata": {
        "noteable": {
          "cell_type": "code"
        },
        "slideshow": {
          "slide_type": "slide"
        }
      },
      "outputs": [
        {
          "data": {
            "text/plain": [
              "(44,\n",
              " Column1    67\n",
              " Column2    67\n",
              " Column3     9\n",
              " Name: 1, dtype: int32,\n",
              "    Column1  Column3\n",
              " 0       44       64\n",
              " 2       83       36,\n",
              " 2)"
            ]
          },
          "execution_count": 6,
          "metadata": {},
          "output_type": "execute_result"
        }
      ],
      "source": [
        "# Using .loc (label-based indexing)\n",
        "row_1_col_1 = random_df.loc[0, 'Column1']\n",
        "single_row = random_df.loc[1, :]\n",
        "multiple_rows_cols = random_df.loc[[0, 2], ['Column1', 'Column3']]\n",
        "series_value_loc = data_series.loc['b']\n",
        "\n",
        "row_1_col_1, single_row, multiple_rows_cols, series_value_loc"
      ]
    },
    {
      "cell_type": "code",
      "execution_count": 7,
      "id": "1bc314cd",
      "metadata": {
        "slideshow": {
          "slide_type": "slide"
        }
      },
      "outputs": [
        {
          "data": {
            "text/plain": [
              "(67,\n",
              " Column1    83\n",
              " Column2    21\n",
              " Column3    36\n",
              " Name: 2, dtype: int32,\n",
              "    Column1  Column3\n",
              " 1       67        9\n",
              " 3       87       88,\n",
              " 2)"
            ]
          },
          "execution_count": 7,
          "metadata": {},
          "output_type": "execute_result"
        }
      ],
      "source": [
        "# Using .iloc (integer-location based indexing)\n",
        "row_2_col_2 = random_df.iloc[1, 1]\n",
        "single_row_iloc = random_df.iloc[2, :]\n",
        "multiple_rows_cols_iloc = random_df.iloc[[1, 3], [0, 2]]\n",
        "series_value_iloc = data_series.iloc[1]\n",
        "\n",
        "row_2_col_2, single_row_iloc, multiple_rows_cols_iloc, series_value_iloc"
      ]
    },
    {
      "cell_type": "markdown",
      "id": "7ced0b64-01dd-480b-9064-327bd61b81ff",
      "metadata": {
        "noteable": {
          "cell_type": "markdown"
        },
        "slideshow": {
          "slide_type": "slide"
        }
      },
      "source": [
        "## Filtering Rows Based on Logical Conditions\n",
        "In pandas, you can filter rows of a DataFrame based on logical conditions. This is a common operation when you want to focus on a subset of your data that meets specific criteria. The process involves specifying conditions that return a Boolean Series, which can then be used to index the DataFrame and retrieve the desired rows.\n",
        "Let's explore how to perform this operation with examples."
      ]
    },
    {
      "cell_type": "code",
      "execution_count": 8,
      "id": "871b40a2-c73f-43bd-81b0-fc3d12ad3744",
      "metadata": {
        "noteable": {
          "cell_type": "code"
        },
        "slideshow": {
          "slide_type": "slide"
        }
      },
      "outputs": [
        {
          "data": {
            "text/html": [
              "<div>\n",
              "<style scoped>\n",
              "    .dataframe tbody tr th:only-of-type {\n",
              "        vertical-align: middle;\n",
              "    }\n",
              "\n",
              "    .dataframe tbody tr th {\n",
              "        vertical-align: top;\n",
              "    }\n",
              "\n",
              "    .dataframe thead th {\n",
              "        text-align: right;\n",
              "    }\n",
              "</style>\n",
              "<table border=\"1\" class=\"dataframe\">\n",
              "  <thead>\n",
              "    <tr style=\"text-align: right;\">\n",
              "      <th></th>\n",
              "      <th>Column1</th>\n",
              "      <th>Column2</th>\n",
              "      <th>Column3</th>\n",
              "    </tr>\n",
              "  </thead>\n",
              "  <tbody>\n",
              "    <tr>\n",
              "      <th>1</th>\n",
              "      <td>67</td>\n",
              "      <td>67</td>\n",
              "      <td>9</td>\n",
              "    </tr>\n",
              "    <tr>\n",
              "      <th>2</th>\n",
              "      <td>83</td>\n",
              "      <td>21</td>\n",
              "      <td>36</td>\n",
              "    </tr>\n",
              "    <tr>\n",
              "      <th>3</th>\n",
              "      <td>87</td>\n",
              "      <td>70</td>\n",
              "      <td>88</td>\n",
              "    </tr>\n",
              "    <tr>\n",
              "      <th>4</th>\n",
              "      <td>88</td>\n",
              "      <td>12</td>\n",
              "      <td>58</td>\n",
              "    </tr>\n",
              "  </tbody>\n",
              "</table>\n",
              "</div>"
            ],
            "text/plain": [
              "   Column1  Column2  Column3\n",
              "1       67       67        9\n",
              "2       83       21       36\n",
              "3       87       70       88\n",
              "4       88       12       58"
            ]
          },
          "execution_count": 8,
          "metadata": {},
          "output_type": "execute_result"
        }
      ],
      "source": [
        "# Filtering rows where Column1 values are greater than 50\n",
        "condition_1 = random_df['Column1'] > 50\n",
        "filtered_df_1 = random_df[condition_1]\n",
        "filtered_df_1"
      ]
    },
    {
      "cell_type": "code",
      "execution_count": 9,
      "id": "31a10df5-3278-4ebb-98bf-17360bca99da",
      "metadata": {
        "noteable": {
          "cell_type": "code"
        },
        "slideshow": {
          "slide_type": "slide"
        }
      },
      "outputs": [
        {
          "data": {
            "text/html": [
              "<div>\n",
              "<style scoped>\n",
              "    .dataframe tbody tr th:only-of-type {\n",
              "        vertical-align: middle;\n",
              "    }\n",
              "\n",
              "    .dataframe tbody tr th {\n",
              "        vertical-align: top;\n",
              "    }\n",
              "\n",
              "    .dataframe thead th {\n",
              "        text-align: right;\n",
              "    }\n",
              "</style>\n",
              "<table border=\"1\" class=\"dataframe\">\n",
              "  <thead>\n",
              "    <tr style=\"text-align: right;\">\n",
              "      <th></th>\n",
              "      <th>Column1</th>\n",
              "      <th>Column2</th>\n",
              "      <th>Column3</th>\n",
              "    </tr>\n",
              "  </thead>\n",
              "  <tbody>\n",
              "    <tr>\n",
              "      <th>2</th>\n",
              "      <td>83</td>\n",
              "      <td>21</td>\n",
              "      <td>36</td>\n",
              "    </tr>\n",
              "    <tr>\n",
              "      <th>3</th>\n",
              "      <td>87</td>\n",
              "      <td>70</td>\n",
              "      <td>88</td>\n",
              "    </tr>\n",
              "    <tr>\n",
              "      <th>4</th>\n",
              "      <td>88</td>\n",
              "      <td>12</td>\n",
              "      <td>58</td>\n",
              "    </tr>\n",
              "  </tbody>\n",
              "</table>\n",
              "</div>"
            ],
            "text/plain": [
              "   Column1  Column2  Column3\n",
              "2       83       21       36\n",
              "3       87       70       88\n",
              "4       88       12       58"
            ]
          },
          "execution_count": 9,
          "metadata": {},
          "output_type": "execute_result"
        }
      ],
      "source": [
        "# Filtering rows where Column2 values are less than 30 or Column3 values are greater than 70\n",
        "condition_2 = (random_df['Column2'] < 30) | (random_df['Column3'] > 70)\n",
        "filtered_df_2 = random_df[condition_2]\n",
        "filtered_df_2"
      ]
    },
    {
      "cell_type": "code",
      "execution_count": 10,
      "id": "d36891ad-f7ff-42e1-ae0b-d516280c99a9",
      "metadata": {
        "noteable": {
          "cell_type": "code"
        },
        "slideshow": {
          "slide_type": "slide"
        }
      },
      "outputs": [
        {
          "data": {
            "text/html": [
              "<div>\n",
              "<style scoped>\n",
              "    .dataframe tbody tr th:only-of-type {\n",
              "        vertical-align: middle;\n",
              "    }\n",
              "\n",
              "    .dataframe tbody tr th {\n",
              "        vertical-align: top;\n",
              "    }\n",
              "\n",
              "    .dataframe thead th {\n",
              "        text-align: right;\n",
              "    }\n",
              "</style>\n",
              "<table border=\"1\" class=\"dataframe\">\n",
              "  <thead>\n",
              "    <tr style=\"text-align: right;\">\n",
              "      <th></th>\n",
              "      <th>Column1</th>\n",
              "      <th>Column2</th>\n",
              "      <th>Column3</th>\n",
              "    </tr>\n",
              "  </thead>\n",
              "  <tbody>\n",
              "    <tr>\n",
              "      <th>0</th>\n",
              "      <td>44</td>\n",
              "      <td>47</td>\n",
              "      <td>64</td>\n",
              "    </tr>\n",
              "    <tr>\n",
              "      <th>1</th>\n",
              "      <td>67</td>\n",
              "      <td>67</td>\n",
              "      <td>9</td>\n",
              "    </tr>\n",
              "    <tr>\n",
              "      <th>2</th>\n",
              "      <td>83</td>\n",
              "      <td>21</td>\n",
              "      <td>36</td>\n",
              "    </tr>\n",
              "    <tr>\n",
              "      <th>3</th>\n",
              "      <td>87</td>\n",
              "      <td>70</td>\n",
              "      <td>88</td>\n",
              "    </tr>\n",
              "    <tr>\n",
              "      <th>4</th>\n",
              "      <td>88</td>\n",
              "      <td>12</td>\n",
              "      <td>58</td>\n",
              "    </tr>\n",
              "  </tbody>\n",
              "</table>\n",
              "</div>"
            ],
            "text/plain": [
              "   Column1  Column2  Column3\n",
              "0       44       47       64\n",
              "1       67       67        9\n",
              "2       83       21       36\n",
              "3       87       70       88\n",
              "4       88       12       58"
            ]
          },
          "execution_count": 10,
          "metadata": {},
          "output_type": "execute_result"
        }
      ],
      "source": [
        "# Filtering rows where Column1 values are not equal to 50\n",
        "condition_3 = ~(random_df['Column1'] == 50)\n",
        "filtered_df_3 = random_df[condition_3]\n",
        "filtered_df_3"
      ]
    },
    {
      "cell_type": "markdown",
      "id": "974e428d-1a48-45cd-b58c-d880dc9d742d",
      "metadata": {
        "noteable": {
          "cell_type": "markdown"
        },
        "slideshow": {
          "slide_type": "slide"
        }
      },
      "source": [
        "## Element-wise Unary and Binary Operations on Columns\n",
        "Pandas allows you to perform element-wise operations on columns, which means applying an operation to each individual element in a column or between columns. These operations can be broadly categorized into unary and binary operations.\n",
        "- **Unary Operations**: These operations are applied to a single column. Examples include taking the square root of each value or negating each value in a column.\n",
        "- **Binary Operations**: These operations are applied between two columns. Examples include adding, subtracting, multiplying, or dividing values between two columns.\n",
        "Additionally, we'll explore the `np.where` function, which is a versatile tool for creating new columns based on conditions."
      ]
    },
    {
      "cell_type": "code",
      "execution_count": 11,
      "id": "91869a83-5d36-4ee5-8503-8de5e89f3d5b",
      "metadata": {
        "noteable": {
          "cell_type": "code"
        },
        "slideshow": {
          "slide_type": "slide"
        }
      },
      "outputs": [
        {
          "data": {
            "text/html": [
              "<div>\n",
              "<style scoped>\n",
              "    .dataframe tbody tr th:only-of-type {\n",
              "        vertical-align: middle;\n",
              "    }\n",
              "\n",
              "    .dataframe tbody tr th {\n",
              "        vertical-align: top;\n",
              "    }\n",
              "\n",
              "    .dataframe thead th {\n",
              "        text-align: right;\n",
              "    }\n",
              "</style>\n",
              "<table border=\"1\" class=\"dataframe\">\n",
              "  <thead>\n",
              "    <tr style=\"text-align: right;\">\n",
              "      <th></th>\n",
              "      <th>Column1</th>\n",
              "      <th>Column2</th>\n",
              "      <th>Column3</th>\n",
              "      <th>Negated_Column1</th>\n",
              "      <th>Sum_Column1_Column2</th>\n",
              "      <th>Column1_Positive</th>\n",
              "    </tr>\n",
              "  </thead>\n",
              "  <tbody>\n",
              "    <tr>\n",
              "      <th>0</th>\n",
              "      <td>44</td>\n",
              "      <td>47</td>\n",
              "      <td>64</td>\n",
              "      <td>-44</td>\n",
              "      <td>91</td>\n",
              "      <td>No</td>\n",
              "    </tr>\n",
              "    <tr>\n",
              "      <th>1</th>\n",
              "      <td>67</td>\n",
              "      <td>67</td>\n",
              "      <td>9</td>\n",
              "      <td>-67</td>\n",
              "      <td>134</td>\n",
              "      <td>Yes</td>\n",
              "    </tr>\n",
              "    <tr>\n",
              "      <th>2</th>\n",
              "      <td>83</td>\n",
              "      <td>21</td>\n",
              "      <td>36</td>\n",
              "      <td>-83</td>\n",
              "      <td>104</td>\n",
              "      <td>Yes</td>\n",
              "    </tr>\n",
              "    <tr>\n",
              "      <th>3</th>\n",
              "      <td>87</td>\n",
              "      <td>70</td>\n",
              "      <td>88</td>\n",
              "      <td>-87</td>\n",
              "      <td>157</td>\n",
              "      <td>Yes</td>\n",
              "    </tr>\n",
              "    <tr>\n",
              "      <th>4</th>\n",
              "      <td>88</td>\n",
              "      <td>12</td>\n",
              "      <td>58</td>\n",
              "      <td>-88</td>\n",
              "      <td>100</td>\n",
              "      <td>Yes</td>\n",
              "    </tr>\n",
              "  </tbody>\n",
              "</table>\n",
              "</div>"
            ],
            "text/plain": [
              "   Column1  Column2  Column3  Negated_Column1  Sum_Column1_Column2  \\\n",
              "0       44       47       64              -44                   91   \n",
              "1       67       67        9              -67                  134   \n",
              "2       83       21       36              -83                  104   \n",
              "3       87       70       88              -87                  157   \n",
              "4       88       12       58              -88                  100   \n",
              "\n",
              "  Column1_Positive  \n",
              "0               No  \n",
              "1              Yes  \n",
              "2              Yes  \n",
              "3              Yes  \n",
              "4              Yes  "
            ]
          },
          "execution_count": 11,
          "metadata": {},
          "output_type": "execute_result"
        }
      ],
      "source": [
        "# Unary Operation: Negating the values in Column1\n",
        "random_df['Negated_Column1'] = -random_df['Column1']\n",
        "# Binary Operation: Adding the values of Column1 and Column2\n",
        "random_df['Sum_Column1_Column2'] = random_df['Column1'] + random_df['Column2']\n",
        "# Using np.where: Creating a new column based on a condition\n",
        "random_df['Column1_Positive'] = np.where(random_df['Column1'] > 50, 'Yes', 'No')\n",
        "random_df"
      ]
    },
    {
      "cell_type": "markdown",
      "id": "d2bd8e2a-d377-4313-9ece-4f7c25ad78c0",
      "metadata": {
        "noteable": {
          "cell_type": "markdown"
        },
        "slideshow": {
          "slide_type": "slide"
        }
      },
      "source": [
        "## Handling Missing Data: `dropna` and `fillna`\n",
        "In real-world datasets, it's common to encounter missing values. Pandas provides various methods to handle missing data. Two of the most commonly used methods are `dropna` and `fillna`.\n",
        "- **`dropna`**: This method removes missing values. You can specify whether to remove rows or columns that contain missing values.\n",
        "- **`fillna`**: This method fills in missing values with a specified value or method (e.g., forward fill, backward fill).\n",
        "Let's create a sample DataFrame with missing values and demonstrate the use of these methods."
      ]
    },
    {
      "cell_type": "code",
      "execution_count": 12,
      "id": "ab767b0a-4793-4f7c-8583-b062f8293000",
      "metadata": {
        "noteable": {
          "cell_type": "code"
        },
        "slideshow": {
          "slide_type": "slide"
        }
      },
      "outputs": [
        {
          "data": {
            "text/html": [
              "<div>\n",
              "<style scoped>\n",
              "    .dataframe tbody tr th:only-of-type {\n",
              "        vertical-align: middle;\n",
              "    }\n",
              "\n",
              "    .dataframe tbody tr th {\n",
              "        vertical-align: top;\n",
              "    }\n",
              "\n",
              "    .dataframe thead th {\n",
              "        text-align: right;\n",
              "    }\n",
              "</style>\n",
              "<table border=\"1\" class=\"dataframe\">\n",
              "  <thead>\n",
              "    <tr style=\"text-align: right;\">\n",
              "      <th></th>\n",
              "      <th>A</th>\n",
              "      <th>B</th>\n",
              "      <th>C</th>\n",
              "    </tr>\n",
              "  </thead>\n",
              "  <tbody>\n",
              "    <tr>\n",
              "      <th>0</th>\n",
              "      <td>1.0</td>\n",
              "      <td>5.0</td>\n",
              "      <td>9.0</td>\n",
              "    </tr>\n",
              "    <tr>\n",
              "      <th>1</th>\n",
              "      <td>2.0</td>\n",
              "      <td>NaN</td>\n",
              "      <td>10.0</td>\n",
              "    </tr>\n",
              "    <tr>\n",
              "      <th>2</th>\n",
              "      <td>NaN</td>\n",
              "      <td>7.0</td>\n",
              "      <td>11.0</td>\n",
              "    </tr>\n",
              "    <tr>\n",
              "      <th>3</th>\n",
              "      <td>4.0</td>\n",
              "      <td>8.0</td>\n",
              "      <td>NaN</td>\n",
              "    </tr>\n",
              "  </tbody>\n",
              "</table>\n",
              "</div>"
            ],
            "text/plain": [
              "     A    B     C\n",
              "0  1.0  5.0   9.0\n",
              "1  2.0  NaN  10.0\n",
              "2  NaN  7.0  11.0\n",
              "3  4.0  8.0   NaN"
            ]
          },
          "execution_count": 12,
          "metadata": {},
          "output_type": "execute_result"
        }
      ],
      "source": [
        "import numpy as np\n",
        "# Creating a sample DataFrame with missing values\n",
        "data = {\n",
        "    'A': [1, 2, np.nan, 4],\n",
        "    'B': [5, np.nan, 7, 8],\n",
        "    'C': [9, 10, 11, np.nan]\n",
        "}\n",
        "df_missing = pd.DataFrame(data)\n",
        "df_missing"
      ]
    },
    {
      "cell_type": "code",
      "execution_count": 13,
      "id": "2884b3eb-e2e8-4fed-ac54-257d50d19a8b",
      "metadata": {
        "noteable": {
          "cell_type": "code"
        },
        "slideshow": {
          "slide_type": "slide"
        }
      },
      "outputs": [
        {
          "data": {
            "text/plain": [
              "(     A    B    C\n",
              " 0  1.0  5.0  9.0,\n",
              "      A    B     C\n",
              " 0  1.0  5.0   9.0\n",
              " 1  2.0  0.0  10.0\n",
              " 2  0.0  7.0  11.0\n",
              " 3  4.0  8.0   0.0)"
            ]
          },
          "execution_count": 13,
          "metadata": {},
          "output_type": "execute_result"
        }
      ],
      "source": [
        "# Using dropna to drop rows with missing values\n",
        "df_dropped = df_missing.dropna()\n",
        "# Using fillna to fill missing values with 0\n",
        "df_filled = df_missing.fillna(0)\n",
        "df_dropped, df_filled"
      ]
    },
    {
      "cell_type": "markdown",
      "id": "bcbcbd64-73ab-4fea-89ac-e7393a8c50a3",
      "metadata": {
        "noteable": {
          "cell_type": "markdown"
        },
        "slideshow": {
          "slide_type": "slide"
        }
      },
      "source": [
        "## Aggregation on Columns and Rows\n",
        "Aggregation is the process of combining multiple values into a single value. In the context of a DataFrame, this often means computing summary statistics over columns or rows. Pandas provides a variety of methods to perform aggregation, allowing you to quickly compute statistics like the sum, average, maximum, minimum, and more.\n",
        "Let's explore how to perform aggregation on columns and rows using a sample DataFrame."
      ]
    },
    {
      "cell_type": "code",
      "execution_count": 14,
      "id": "a54b46f4-551d-4cd8-80ac-1de147d46868",
      "metadata": {
        "noteable": {
          "cell_type": "code"
        },
        "slideshow": {
          "slide_type": "slide"
        }
      },
      "outputs": [
        {
          "data": {
            "text/html": [
              "<div>\n",
              "<style scoped>\n",
              "    .dataframe tbody tr th:only-of-type {\n",
              "        vertical-align: middle;\n",
              "    }\n",
              "\n",
              "    .dataframe tbody tr th {\n",
              "        vertical-align: top;\n",
              "    }\n",
              "\n",
              "    .dataframe thead th {\n",
              "        text-align: right;\n",
              "    }\n",
              "</style>\n",
              "<table border=\"1\" class=\"dataframe\">\n",
              "  <thead>\n",
              "    <tr style=\"text-align: right;\">\n",
              "      <th></th>\n",
              "      <th>A</th>\n",
              "      <th>B</th>\n",
              "      <th>C</th>\n",
              "    </tr>\n",
              "  </thead>\n",
              "  <tbody>\n",
              "    <tr>\n",
              "      <th>0</th>\n",
              "      <td>10</td>\n",
              "      <td>5</td>\n",
              "      <td>1</td>\n",
              "    </tr>\n",
              "    <tr>\n",
              "      <th>1</th>\n",
              "      <td>20</td>\n",
              "      <td>15</td>\n",
              "      <td>2</td>\n",
              "    </tr>\n",
              "    <tr>\n",
              "      <th>2</th>\n",
              "      <td>30</td>\n",
              "      <td>25</td>\n",
              "      <td>3</td>\n",
              "    </tr>\n",
              "    <tr>\n",
              "      <th>3</th>\n",
              "      <td>40</td>\n",
              "      <td>35</td>\n",
              "      <td>4</td>\n",
              "    </tr>\n",
              "  </tbody>\n",
              "</table>\n",
              "</div>"
            ],
            "text/plain": [
              "    A   B  C\n",
              "0  10   5  1\n",
              "1  20  15  2\n",
              "2  30  25  3\n",
              "3  40  35  4"
            ]
          },
          "execution_count": 14,
          "metadata": {},
          "output_type": "execute_result"
        }
      ],
      "source": [
        "# Creating a sample DataFrame for demonstration\n",
        "data = {\n",
        "    'A': [10, 20, 30, 40],\n",
        "    'B': [5, 15, 25, 35],\n",
        "    'C': [1, 2, 3, 4]\n",
        "}\n",
        "df_agg = pd.DataFrame(data)\n",
        "df_agg"
      ]
    },
    {
      "cell_type": "code",
      "execution_count": 15,
      "id": "7a888e46-dc11-42b4-8178-31a20d926f97",
      "metadata": {
        "noteable": {
          "cell_type": "code"
        },
        "slideshow": {
          "slide_type": "slide"
        }
      },
      "outputs": [
        {
          "data": {
            "text/plain": [
              "(A    100\n",
              " B     80\n",
              " C     10\n",
              " dtype: int64,\n",
              " A    25.0\n",
              " B    20.0\n",
              " C     2.5\n",
              " dtype: float64)"
            ]
          },
          "execution_count": 15,
          "metadata": {},
          "output_type": "execute_result"
        }
      ],
      "source": [
        "# Column-wise Aggregation\n",
        "column_sum = df_agg.sum()\n",
        "column_mean = df_agg.mean()\n",
        "column_sum, column_mean\n"
      ]
    },
    {
      "cell_type": "code",
      "execution_count": 16,
      "id": "0e93c55b",
      "metadata": {
        "slideshow": {
          "slide_type": "slide"
        }
      },
      "outputs": [
        {
          "data": {
            "text/plain": [
              "(A    40\n",
              " B    35\n",
              " C     4\n",
              " dtype: int64,\n",
              " A    10\n",
              " B     5\n",
              " C     1\n",
              " dtype: int64)"
            ]
          },
          "execution_count": 16,
          "metadata": {},
          "output_type": "execute_result"
        }
      ],
      "source": [
        "# More column-wise aggregation\n",
        "column_max = df_agg.max()\n",
        "column_min = df_agg.min()\n",
        "column_max, column_min"
      ]
    },
    {
      "cell_type": "code",
      "execution_count": 17,
      "id": "b81c2988",
      "metadata": {
        "slideshow": {
          "slide_type": "slide"
        }
      },
      "outputs": [
        {
          "data": {
            "text/plain": [
              "0    16\n",
              "1    37\n",
              "2    58\n",
              "3    79\n",
              "dtype: int64"
            ]
          },
          "execution_count": 17,
          "metadata": {},
          "output_type": "execute_result"
        }
      ],
      "source": [
        "# Row-wise Aggregation\n",
        "row_sum = df_agg.sum(axis=1)\n",
        "row_sum"
      ]
    },
    {
      "cell_type": "markdown",
      "id": "6e060eb9-164c-4be1-93a0-2cbb651d8252",
      "metadata": {
        "noteable": {
          "cell_type": "markdown"
        },
        "slideshow": {
          "slide_type": "slide"
        }
      },
      "source": [
        "## Indexing in Pandas\n",
        "The index of a DataFrame is one of the most essential components in pandas. It provides a label for each row, allowing for fast lookups and powerful data alignment capabilities. In this section, we'll explore the following indexing-related functionalities:\n",
        "1. **`set_index`**: This method allows you to set one or more columns as the index of a DataFrame.\n",
        "2. **`reset_index`**: This method resets the index of a DataFrame and brings it back to the default integer index.\n",
        "3. **Multi-indexing**: Multi-indexing allows you to have multiple levels of indices in a DataFrame, providing a way to work with higher-dimensional data using a two-dimensional DataFrame structure."
      ]
    },
    {
      "cell_type": "code",
      "execution_count": 18,
      "id": "ad24dfdf-f02f-40f3-b1a0-92d72d9cb58c",
      "metadata": {
        "noteable": {
          "cell_type": "code"
        },
        "slideshow": {
          "slide_type": "slide"
        }
      },
      "outputs": [
        {
          "data": {
            "text/html": [
              "<div>\n",
              "<style scoped>\n",
              "    .dataframe tbody tr th:only-of-type {\n",
              "        vertical-align: middle;\n",
              "    }\n",
              "\n",
              "    .dataframe tbody tr th {\n",
              "        vertical-align: top;\n",
              "    }\n",
              "\n",
              "    .dataframe thead th {\n",
              "        text-align: right;\n",
              "    }\n",
              "</style>\n",
              "<table border=\"1\" class=\"dataframe\">\n",
              "  <thead>\n",
              "    <tr style=\"text-align: right;\">\n",
              "      <th></th>\n",
              "      <th>Year</th>\n",
              "      <th>Month</th>\n",
              "      <th>Value</th>\n",
              "    </tr>\n",
              "  </thead>\n",
              "  <tbody>\n",
              "    <tr>\n",
              "      <th>0</th>\n",
              "      <td>2020</td>\n",
              "      <td>Jan</td>\n",
              "      <td>100</td>\n",
              "    </tr>\n",
              "    <tr>\n",
              "      <th>1</th>\n",
              "      <td>2020</td>\n",
              "      <td>Feb</td>\n",
              "      <td>150</td>\n",
              "    </tr>\n",
              "    <tr>\n",
              "      <th>2</th>\n",
              "      <td>2021</td>\n",
              "      <td>Jan</td>\n",
              "      <td>110</td>\n",
              "    </tr>\n",
              "    <tr>\n",
              "      <th>3</th>\n",
              "      <td>2021</td>\n",
              "      <td>Feb</td>\n",
              "      <td>160</td>\n",
              "    </tr>\n",
              "  </tbody>\n",
              "</table>\n",
              "</div>"
            ],
            "text/plain": [
              "   Year Month  Value\n",
              "0  2020   Jan    100\n",
              "1  2020   Feb    150\n",
              "2  2021   Jan    110\n",
              "3  2021   Feb    160"
            ]
          },
          "execution_count": 18,
          "metadata": {},
          "output_type": "execute_result"
        }
      ],
      "source": [
        "# Creating a sample DataFrame for demonstration\n",
        "data = {\n",
        "    'Year': [2020, 2020, 2021, 2021],\n",
        "    'Month': ['Jan', 'Feb', 'Jan', 'Feb'],\n",
        "    'Value': [100, 150, 110, 160]\n",
        "}\n",
        "df_index = pd.DataFrame(data)\n",
        "df_index"
      ]
    },
    {
      "cell_type": "code",
      "execution_count": 19,
      "id": "87c57784-8eb2-4d65-b79e-f8f0cc561601",
      "metadata": {
        "noteable": {
          "cell_type": "code"
        },
        "slideshow": {
          "slide_type": "slide"
        }
      },
      "outputs": [
        {
          "data": {
            "text/plain": [
              "(     Month  Value\n",
              " Year             \n",
              " 2020   Jan    100\n",
              " 2020   Feb    150\n",
              " 2021   Jan    110\n",
              " 2021   Feb    160,\n",
              "    Year Month  Value\n",
              " 0  2020   Jan    100\n",
              " 1  2020   Feb    150\n",
              " 2  2021   Jan    110\n",
              " 3  2021   Feb    160)"
            ]
          },
          "execution_count": 19,
          "metadata": {},
          "output_type": "execute_result"
        }
      ],
      "source": [
        "# Setting the 'Year' column as the index\n",
        "df_year_index = df_index.set_index('Year')\n",
        "# Resetting the index\n",
        "df_reset = df_year_index.reset_index()\n",
        "\n",
        "df_year_index, df_reset"
      ]
    },
    {
      "cell_type": "code",
      "execution_count": 20,
      "id": "f05559eb",
      "metadata": {
        "slideshow": {
          "slide_type": "slide"
        }
      },
      "outputs": [
        {
          "data": {
            "text/html": [
              "<div>\n",
              "<style scoped>\n",
              "    .dataframe tbody tr th:only-of-type {\n",
              "        vertical-align: middle;\n",
              "    }\n",
              "\n",
              "    .dataframe tbody tr th {\n",
              "        vertical-align: top;\n",
              "    }\n",
              "\n",
              "    .dataframe thead th {\n",
              "        text-align: right;\n",
              "    }\n",
              "</style>\n",
              "<table border=\"1\" class=\"dataframe\">\n",
              "  <thead>\n",
              "    <tr style=\"text-align: right;\">\n",
              "      <th></th>\n",
              "      <th></th>\n",
              "      <th>Value</th>\n",
              "    </tr>\n",
              "    <tr>\n",
              "      <th>Year</th>\n",
              "      <th>Month</th>\n",
              "      <th></th>\n",
              "    </tr>\n",
              "  </thead>\n",
              "  <tbody>\n",
              "    <tr>\n",
              "      <th rowspan=\"2\" valign=\"top\">2020</th>\n",
              "      <th>Jan</th>\n",
              "      <td>100</td>\n",
              "    </tr>\n",
              "    <tr>\n",
              "      <th>Feb</th>\n",
              "      <td>150</td>\n",
              "    </tr>\n",
              "    <tr>\n",
              "      <th rowspan=\"2\" valign=\"top\">2021</th>\n",
              "      <th>Jan</th>\n",
              "      <td>110</td>\n",
              "    </tr>\n",
              "    <tr>\n",
              "      <th>Feb</th>\n",
              "      <td>160</td>\n",
              "    </tr>\n",
              "  </tbody>\n",
              "</table>\n",
              "</div>"
            ],
            "text/plain": [
              "            Value\n",
              "Year Month       \n",
              "2020 Jan      100\n",
              "     Feb      150\n",
              "2021 Jan      110\n",
              "     Feb      160"
            ]
          },
          "execution_count": 20,
          "metadata": {},
          "output_type": "execute_result"
        }
      ],
      "source": [
        "# Setting a multi-index using 'Year' and 'Month'\n",
        "df_multi_index = df_index.set_index(['Year', 'Month'])\n",
        "df_multi_index"
      ]
    },
    {
      "cell_type": "markdown",
      "id": "6b032083-243b-4f58-aea1-bb8a1401ff2b",
      "metadata": {
        "noteable": {
          "cell_type": "markdown"
        },
        "slideshow": {
          "slide_type": "slide"
        }
      },
      "source": [
        "## Aggregating by Groups\n",
        "Grouping and aggregating data is a powerful feature in pandas that allows you to segment your data into groups and then apply aggregate functions to each group. This is similar to the SQL's `GROUP BY` clause.\n",
        "The primary method for this in pandas is `groupby()`. Once data is grouped, you can apply various aggregation functions such as `sum()`, `mean()`, `max()`, and many others to compute statistics for each group.\n",
        "We'll use the `tips` dataset from seaborn to demonstrate this functionality. This dataset contains information about restaurant tips, with columns indicating the total bill, tip amount, gender of the tipper, day of the week, and other attributes."
      ]
    },
    {
      "cell_type": "code",
      "execution_count": 21,
      "id": "ea8da1f4-f472-429a-af9c-2a126f230901",
      "metadata": {
        "noteable": {
          "cell_type": "code"
        },
        "slideshow": {
          "slide_type": "slide"
        }
      },
      "outputs": [
        {
          "data": {
            "text/html": [
              "<div>\n",
              "<style scoped>\n",
              "    .dataframe tbody tr th:only-of-type {\n",
              "        vertical-align: middle;\n",
              "    }\n",
              "\n",
              "    .dataframe tbody tr th {\n",
              "        vertical-align: top;\n",
              "    }\n",
              "\n",
              "    .dataframe thead th {\n",
              "        text-align: right;\n",
              "    }\n",
              "</style>\n",
              "<table border=\"1\" class=\"dataframe\">\n",
              "  <thead>\n",
              "    <tr style=\"text-align: right;\">\n",
              "      <th></th>\n",
              "      <th>total_bill</th>\n",
              "      <th>tip</th>\n",
              "      <th>sex</th>\n",
              "      <th>smoker</th>\n",
              "      <th>day</th>\n",
              "      <th>time</th>\n",
              "      <th>size</th>\n",
              "    </tr>\n",
              "  </thead>\n",
              "  <tbody>\n",
              "    <tr>\n",
              "      <th>0</th>\n",
              "      <td>16.99</td>\n",
              "      <td>1.01</td>\n",
              "      <td>Female</td>\n",
              "      <td>No</td>\n",
              "      <td>Sun</td>\n",
              "      <td>Dinner</td>\n",
              "      <td>2</td>\n",
              "    </tr>\n",
              "    <tr>\n",
              "      <th>1</th>\n",
              "      <td>10.34</td>\n",
              "      <td>1.66</td>\n",
              "      <td>Male</td>\n",
              "      <td>No</td>\n",
              "      <td>Sun</td>\n",
              "      <td>Dinner</td>\n",
              "      <td>3</td>\n",
              "    </tr>\n",
              "    <tr>\n",
              "      <th>2</th>\n",
              "      <td>21.01</td>\n",
              "      <td>3.50</td>\n",
              "      <td>Male</td>\n",
              "      <td>No</td>\n",
              "      <td>Sun</td>\n",
              "      <td>Dinner</td>\n",
              "      <td>3</td>\n",
              "    </tr>\n",
              "    <tr>\n",
              "      <th>3</th>\n",
              "      <td>23.68</td>\n",
              "      <td>3.31</td>\n",
              "      <td>Male</td>\n",
              "      <td>No</td>\n",
              "      <td>Sun</td>\n",
              "      <td>Dinner</td>\n",
              "      <td>2</td>\n",
              "    </tr>\n",
              "    <tr>\n",
              "      <th>4</th>\n",
              "      <td>24.59</td>\n",
              "      <td>3.61</td>\n",
              "      <td>Female</td>\n",
              "      <td>No</td>\n",
              "      <td>Sun</td>\n",
              "      <td>Dinner</td>\n",
              "      <td>4</td>\n",
              "    </tr>\n",
              "  </tbody>\n",
              "</table>\n",
              "</div>"
            ],
            "text/plain": [
              "   total_bill   tip     sex smoker  day    time  size\n",
              "0       16.99  1.01  Female     No  Sun  Dinner     2\n",
              "1       10.34  1.66    Male     No  Sun  Dinner     3\n",
              "2       21.01  3.50    Male     No  Sun  Dinner     3\n",
              "3       23.68  3.31    Male     No  Sun  Dinner     2\n",
              "4       24.59  3.61  Female     No  Sun  Dinner     4"
            ]
          },
          "execution_count": 21,
          "metadata": {},
          "output_type": "execute_result"
        }
      ],
      "source": [
        "import seaborn as sns\n",
        "# Loading the tips dataset from seaborn\n",
        "tips = sns.load_dataset('tips')\n",
        "tips.head()"
      ]
    },
    {
      "cell_type": "code",
      "execution_count": 22,
      "id": "d9c118f8-9759-41a6-8c9f-efd12029d8a8",
      "metadata": {
        "noteable": {
          "cell_type": "code"
        },
        "slideshow": {
          "slide_type": "slide"
        }
      },
      "outputs": [
        {
          "data": {
            "text/plain": [
              "day\n",
              "Thur    17.682742\n",
              "Fri     17.151579\n",
              "Sat     20.441379\n",
              "Sun     21.410000\n",
              "Name: total_bill, dtype: float64"
            ]
          },
          "execution_count": 22,
          "metadata": {},
          "output_type": "execute_result"
        }
      ],
      "source": [
        "# Grouping by a Single Column: Average total bill by day\n",
        "avg_bill_by_day = tips.groupby('day')['total_bill'].mean()\n",
        "\n",
        "avg_bill_by_day"
      ]
    },
    {
      "cell_type": "code",
      "execution_count": 23,
      "id": "ebf7a3e2",
      "metadata": {
        "slideshow": {
          "slide_type": "slide"
        }
      },
      "outputs": [
        {
          "data": {
            "text/plain": [
              "day   time  \n",
              "Thur  Lunch     168.83\n",
              "      Dinner      3.00\n",
              "Fri   Lunch      16.68\n",
              "      Dinner     35.28\n",
              "Sat   Lunch       0.00\n",
              "      Dinner    260.40\n",
              "Sun   Lunch       0.00\n",
              "      Dinner    247.39\n",
              "Name: tip, dtype: float64"
            ]
          },
          "execution_count": 23,
          "metadata": {},
          "output_type": "execute_result"
        }
      ],
      "source": [
        "# Grouping by Multiple Columns: Total tip amount by day and time\n",
        "total_tip_by_day_time = tips.groupby(['day', 'time'])['tip'].sum()\n",
        "\n",
        "total_tip_by_day_time"
      ]
    },
    {
      "cell_type": "code",
      "execution_count": 24,
      "id": "d2c8faac",
      "metadata": {
        "slideshow": {
          "slide_type": "slide"
        }
      },
      "outputs": [
        {
          "data": {
            "text/html": [
              "<div>\n",
              "<style scoped>\n",
              "    .dataframe tbody tr th:only-of-type {\n",
              "        vertical-align: middle;\n",
              "    }\n",
              "\n",
              "    .dataframe tbody tr th {\n",
              "        vertical-align: top;\n",
              "    }\n",
              "\n",
              "    .dataframe thead th {\n",
              "        text-align: right;\n",
              "    }\n",
              "</style>\n",
              "<table border=\"1\" class=\"dataframe\">\n",
              "  <thead>\n",
              "    <tr style=\"text-align: right;\">\n",
              "      <th></th>\n",
              "      <th>mean</th>\n",
              "      <th>sum</th>\n",
              "      <th>max</th>\n",
              "    </tr>\n",
              "    <tr>\n",
              "      <th>day</th>\n",
              "      <th></th>\n",
              "      <th></th>\n",
              "      <th></th>\n",
              "    </tr>\n",
              "  </thead>\n",
              "  <tbody>\n",
              "    <tr>\n",
              "      <th>Thur</th>\n",
              "      <td>17.682742</td>\n",
              "      <td>1096.33</td>\n",
              "      <td>43.11</td>\n",
              "    </tr>\n",
              "    <tr>\n",
              "      <th>Fri</th>\n",
              "      <td>17.151579</td>\n",
              "      <td>325.88</td>\n",
              "      <td>40.17</td>\n",
              "    </tr>\n",
              "    <tr>\n",
              "      <th>Sat</th>\n",
              "      <td>20.441379</td>\n",
              "      <td>1778.40</td>\n",
              "      <td>50.81</td>\n",
              "    </tr>\n",
              "    <tr>\n",
              "      <th>Sun</th>\n",
              "      <td>21.410000</td>\n",
              "      <td>1627.16</td>\n",
              "      <td>48.17</td>\n",
              "    </tr>\n",
              "  </tbody>\n",
              "</table>\n",
              "</div>"
            ],
            "text/plain": [
              "           mean      sum    max\n",
              "day                            \n",
              "Thur  17.682742  1096.33  43.11\n",
              "Fri   17.151579   325.88  40.17\n",
              "Sat   20.441379  1778.40  50.81\n",
              "Sun   21.410000  1627.16  48.17"
            ]
          },
          "execution_count": 24,
          "metadata": {},
          "output_type": "execute_result"
        }
      ],
      "source": [
        "# Applying Multiple Aggregation Functions: Mean, sum, and max of total_bill by day\n",
        "multiple_aggregations = tips.groupby('day')['total_bill'].agg(['mean', 'sum', 'max'])\n",
        "multiple_aggregations"
      ]
    },
    {
      "cell_type": "markdown",
      "id": "69022155-bffe-401c-8d7e-a0174217b04d",
      "metadata": {
        "noteable": {
          "cell_type": "markdown"
        },
        "slideshow": {
          "slide_type": "slide"
        }
      },
      "source": [
        "## Stack and Unstack Methods in Pandas\n",
        "When working with multi-index DataFrames or Series in pandas, the `stack` and `unstack` methods are useful tools for reshaping the data.\n",
        "- **`stack()`**: This method \"compresses\" a level in the DataFrame's columns to produce either:\n",
        "  - A Series (if there are multiple column levels) or\n",
        "  - A DataFrame with a new inner-most level of row labels (if there's only one column level).\n",
        "- **`unstack()`**: This method \"expands\" a level in the DataFrame's rows to produce:\n",
        "  - A DataFrame with a new inner-most level of column labels.\n",
        "To better understand these methods, let's use the aggregated data from the `tips` dataset and demonstrate the use of `stack` and `unstack`."
      ]
    },
    {
      "cell_type": "code",
      "execution_count": 25,
      "id": "e793cf9f-2d09-4495-844e-bdb69cab9d78",
      "metadata": {
        "noteable": {
          "cell_type": "code"
        },
        "slideshow": {
          "slide_type": "slide"
        }
      },
      "outputs": [
        {
          "data": {
            "text/html": [
              "<div>\n",
              "<style scoped>\n",
              "    .dataframe tbody tr th:only-of-type {\n",
              "        vertical-align: middle;\n",
              "    }\n",
              "\n",
              "    .dataframe tbody tr th {\n",
              "        vertical-align: top;\n",
              "    }\n",
              "\n",
              "    .dataframe thead th {\n",
              "        text-align: right;\n",
              "    }\n",
              "</style>\n",
              "<table border=\"1\" class=\"dataframe\">\n",
              "  <thead>\n",
              "    <tr style=\"text-align: right;\">\n",
              "      <th>time</th>\n",
              "      <th>Lunch</th>\n",
              "      <th>Dinner</th>\n",
              "    </tr>\n",
              "    <tr>\n",
              "      <th>day</th>\n",
              "      <th></th>\n",
              "      <th></th>\n",
              "    </tr>\n",
              "  </thead>\n",
              "  <tbody>\n",
              "    <tr>\n",
              "      <th>Thur</th>\n",
              "      <td>168.83</td>\n",
              "      <td>3.00</td>\n",
              "    </tr>\n",
              "    <tr>\n",
              "      <th>Fri</th>\n",
              "      <td>16.68</td>\n",
              "      <td>35.28</td>\n",
              "    </tr>\n",
              "    <tr>\n",
              "      <th>Sat</th>\n",
              "      <td>0.00</td>\n",
              "      <td>260.40</td>\n",
              "    </tr>\n",
              "    <tr>\n",
              "      <th>Sun</th>\n",
              "      <td>0.00</td>\n",
              "      <td>247.39</td>\n",
              "    </tr>\n",
              "  </tbody>\n",
              "</table>\n",
              "</div>"
            ],
            "text/plain": [
              "time   Lunch  Dinner\n",
              "day                 \n",
              "Thur  168.83    3.00\n",
              "Fri    16.68   35.28\n",
              "Sat     0.00  260.40\n",
              "Sun     0.00  247.39"
            ]
          },
          "execution_count": 25,
          "metadata": {},
          "output_type": "execute_result"
        }
      ],
      "source": [
        "# using unstack to convert to `wide form'\n",
        "\n",
        "wide1 = total_tip_by_day_time.unstack()\n",
        "wide1"
      ]
    },
    {
      "cell_type": "code",
      "execution_count": 26,
      "id": "1ad303b3",
      "metadata": {
        "slideshow": {
          "slide_type": "slide"
        }
      },
      "outputs": [
        {
          "data": {
            "text/html": [
              "<div>\n",
              "<style scoped>\n",
              "    .dataframe tbody tr th:only-of-type {\n",
              "        vertical-align: middle;\n",
              "    }\n",
              "\n",
              "    .dataframe tbody tr th {\n",
              "        vertical-align: top;\n",
              "    }\n",
              "\n",
              "    .dataframe thead th {\n",
              "        text-align: right;\n",
              "    }\n",
              "</style>\n",
              "<table border=\"1\" class=\"dataframe\">\n",
              "  <thead>\n",
              "    <tr style=\"text-align: right;\">\n",
              "      <th>day</th>\n",
              "      <th>Thur</th>\n",
              "      <th>Fri</th>\n",
              "      <th>Sat</th>\n",
              "      <th>Sun</th>\n",
              "    </tr>\n",
              "    <tr>\n",
              "      <th>time</th>\n",
              "      <th></th>\n",
              "      <th></th>\n",
              "      <th></th>\n",
              "      <th></th>\n",
              "    </tr>\n",
              "  </thead>\n",
              "  <tbody>\n",
              "    <tr>\n",
              "      <th>Lunch</th>\n",
              "      <td>168.83</td>\n",
              "      <td>16.68</td>\n",
              "      <td>0.0</td>\n",
              "      <td>0.00</td>\n",
              "    </tr>\n",
              "    <tr>\n",
              "      <th>Dinner</th>\n",
              "      <td>3.00</td>\n",
              "      <td>35.28</td>\n",
              "      <td>260.4</td>\n",
              "      <td>247.39</td>\n",
              "    </tr>\n",
              "  </tbody>\n",
              "</table>\n",
              "</div>"
            ],
            "text/plain": [
              "day       Thur    Fri    Sat     Sun\n",
              "time                                \n",
              "Lunch   168.83  16.68    0.0    0.00\n",
              "Dinner    3.00  35.28  260.4  247.39"
            ]
          },
          "execution_count": 26,
          "metadata": {},
          "output_type": "execute_result"
        }
      ],
      "source": [
        "wide2 = total_tip_by_day_time.unstack('day')\n",
        "wide2"
      ]
    },
    {
      "cell_type": "code",
      "execution_count": 30,
      "id": "ddcb1f1a-7c18-402f-935a-9b234037b9c4",
      "metadata": {
        "noteable": {
          "cell_type": "code"
        },
        "slideshow": {
          "slide_type": "slide"
        }
      },
      "outputs": [
        {
          "data": {
            "text/plain": [
              "day   time  \n",
              "Thur  Lunch     168.83\n",
              "      Dinner      3.00\n",
              "Fri   Lunch      16.68\n",
              "      Dinner     35.28\n",
              "Sat   Lunch       0.00\n",
              "      Dinner    260.40\n",
              "Sun   Lunch       0.00\n",
              "      Dinner    247.39\n",
              "dtype: float64"
            ]
          },
          "execution_count": 30,
          "metadata": {},
          "output_type": "execute_result"
        }
      ],
      "source": [
        "# using stack to convert to 'long form'\n",
        "\n",
        "long = wide1.stack()\n",
        "long"
      ]
    },
    {
      "cell_type": "code",
      "execution_count": 31,
      "id": "c89973b8",
      "metadata": {
        "slideshow": {
          "slide_type": "slide"
        }
      },
      "outputs": [
        {
          "data": {
            "text/plain": [
              "35.28"
            ]
          },
          "execution_count": 31,
          "metadata": {},
          "output_type": "execute_result"
        }
      ],
      "source": [
        "# extracting a row of a multi-indexed dataframe\n",
        "\n",
        "long.loc[('Fri', 'Dinner')]"
      ]
    },
    {
      "cell_type": "markdown",
      "id": "54e73d33-9d60-4d2b-bcc3-abc486f4f876",
      "metadata": {
        "noteable": {
          "cell_type": "markdown"
        },
        "slideshow": {
          "slide_type": "slide"
        }
      },
      "source": [
        "## Combining DataFrames: Concatenate, Join, and Merge\n",
        "Pandas provides several methods to combine multiple DataFrames or Series. These methods are essential when working with data from multiple sources or when preparing data for analysis. In this section, we'll explore the following methods:\n",
        "1. **`concatenate` (or `concat`)**: This method is used to concatenate two or more DataFrames or Series along a particular axis (either rows or columns).\n",
        "2. **`join`**: This method is used to join two or more DataFrames based on their indices.\n",
        "3. **`merge`**: This method is similar to SQL joins. It allows you to merge DataFrames based on common columns.\n",
        "Let's delve into each of these methods with examples."
      ]
    },
    {
      "cell_type": "code",
      "execution_count": 32,
      "id": "625532cb-19d3-41a4-995a-ed34ea42fb72",
      "metadata": {
        "noteable": {
          "cell_type": "code"
        },
        "slideshow": {
          "slide_type": "slide"
        }
      },
      "outputs": [],
      "source": [
        "# Sample DataFrames for demonstration\n",
        "# DataFrames for concatenate\n",
        "df1 = pd.DataFrame({'A': ['A0', 'A1'], 'B': ['B0', 'B1']})\n",
        "df2 = pd.DataFrame({'A': ['A2', 'A3'], 'B': ['B2', 'B3']})\n",
        "# DataFrames for join\n",
        "df3 = pd.DataFrame({'C': ['C0', 'C1', 'C2'], 'D': ['D0', 'D1', 'D2']}, index=['X', 'Y', 'Z'])\n",
        "df4 = pd.DataFrame({'E': ['E0', 'E1', 'E2'], 'F': ['F0', 'F1', 'F2']}, index=['X', 'Y', 'Z'])\n",
        "# DataFrames for merge\n",
        "df5 = pd.DataFrame({'key': ['K0', 'K1', 'K2'], 'G': ['G0', 'G1', 'G2']})\n",
        "df6 = pd.DataFrame({'key': ['K0', 'K1', 'K2'], 'H': ['H0', 'H1', 'H2']})"
      ]
    },
    {
      "cell_type": "code",
      "execution_count": 33,
      "id": "cc118500-c9bd-44e1-b9cd-1dac36df997d",
      "metadata": {
        "noteable": {
          "cell_type": "code"
        },
        "slideshow": {
          "slide_type": "slide"
        }
      },
      "outputs": [
        {
          "data": {
            "text/plain": [
              "(    A   B\n",
              " 0  A0  B0\n",
              " 1  A1  B1,\n",
              "     A   B\n",
              " 0  A2  B2\n",
              " 1  A3  B3,\n",
              "     A   B\n",
              " 0  A0  B0\n",
              " 1  A1  B1\n",
              " 0  A2  B2\n",
              " 1  A3  B3)"
            ]
          },
          "execution_count": 33,
          "metadata": {},
          "output_type": "execute_result"
        }
      ],
      "source": [
        "# concatenating vertically\n",
        "concatenated_df_v = pd.concat([df1, df2])\n",
        "df1, df2, concatenated_df_v"
      ]
    },
    {
      "cell_type": "code",
      "execution_count": 34,
      "id": "4f272656",
      "metadata": {
        "slideshow": {
          "slide_type": "slide"
        }
      },
      "outputs": [
        {
          "data": {
            "text/plain": [
              "(    C   D\n",
              " X  C0  D0\n",
              " Y  C1  D1\n",
              " Z  C2  D2,\n",
              "     E   F\n",
              " X  E0  F0\n",
              " Y  E1  F1\n",
              " Z  E2  F2,\n",
              "     C   D   E   F\n",
              " X  C0  D0  E0  F0\n",
              " Y  C1  D1  E1  F1\n",
              " Z  C2  D2  E2  F2)"
            ]
          },
          "execution_count": 34,
          "metadata": {},
          "output_type": "execute_result"
        }
      ],
      "source": [
        "# concatenating horizontally\n",
        "concatenated_df_h = pd.concat([df3, df4], axis=1)\n",
        "df3, df4, concatenated_df_h"
      ]
    },
    {
      "cell_type": "code",
      "execution_count": 35,
      "id": "2724429a-3916-4f6c-99e2-d48c51401a38",
      "metadata": {
        "noteable": {
          "cell_type": "code"
        },
        "slideshow": {
          "slide_type": "slide"
        }
      },
      "outputs": [
        {
          "data": {
            "text/html": [
              "<div>\n",
              "<style scoped>\n",
              "    .dataframe tbody tr th:only-of-type {\n",
              "        vertical-align: middle;\n",
              "    }\n",
              "\n",
              "    .dataframe tbody tr th {\n",
              "        vertical-align: top;\n",
              "    }\n",
              "\n",
              "    .dataframe thead th {\n",
              "        text-align: right;\n",
              "    }\n",
              "</style>\n",
              "<table border=\"1\" class=\"dataframe\">\n",
              "  <thead>\n",
              "    <tr style=\"text-align: right;\">\n",
              "      <th></th>\n",
              "      <th>C</th>\n",
              "      <th>D</th>\n",
              "      <th>E</th>\n",
              "      <th>F</th>\n",
              "    </tr>\n",
              "  </thead>\n",
              "  <tbody>\n",
              "    <tr>\n",
              "      <th>X</th>\n",
              "      <td>C0</td>\n",
              "      <td>D0</td>\n",
              "      <td>E0</td>\n",
              "      <td>F0</td>\n",
              "    </tr>\n",
              "    <tr>\n",
              "      <th>Y</th>\n",
              "      <td>C1</td>\n",
              "      <td>D1</td>\n",
              "      <td>E1</td>\n",
              "      <td>F1</td>\n",
              "    </tr>\n",
              "    <tr>\n",
              "      <th>Z</th>\n",
              "      <td>C2</td>\n",
              "      <td>D2</td>\n",
              "      <td>E2</td>\n",
              "      <td>F2</td>\n",
              "    </tr>\n",
              "  </tbody>\n",
              "</table>\n",
              "</div>"
            ],
            "text/plain": [
              "    C   D   E   F\n",
              "X  C0  D0  E0  F0\n",
              "Y  C1  D1  E1  F1\n",
              "Z  C2  D2  E2  F2"
            ]
          },
          "execution_count": 35,
          "metadata": {},
          "output_type": "execute_result"
        }
      ],
      "source": [
        "# Using join to join df3 and df4 based on their indices\n",
        "joined_df = df3.join(df4)\n",
        "joined_df"
      ]
    },
    {
      "cell_type": "code",
      "execution_count": 36,
      "id": "cc678fc0-be07-47ef-965b-0d6cd2acb3df",
      "metadata": {
        "noteable": {
          "cell_type": "code"
        },
        "slideshow": {
          "slide_type": "slide"
        }
      },
      "outputs": [
        {
          "data": {
            "text/html": [
              "<div>\n",
              "<style scoped>\n",
              "    .dataframe tbody tr th:only-of-type {\n",
              "        vertical-align: middle;\n",
              "    }\n",
              "\n",
              "    .dataframe tbody tr th {\n",
              "        vertical-align: top;\n",
              "    }\n",
              "\n",
              "    .dataframe thead th {\n",
              "        text-align: right;\n",
              "    }\n",
              "</style>\n",
              "<table border=\"1\" class=\"dataframe\">\n",
              "  <thead>\n",
              "    <tr style=\"text-align: right;\">\n",
              "      <th></th>\n",
              "      <th>key</th>\n",
              "      <th>G</th>\n",
              "      <th>H</th>\n",
              "    </tr>\n",
              "  </thead>\n",
              "  <tbody>\n",
              "    <tr>\n",
              "      <th>0</th>\n",
              "      <td>K0</td>\n",
              "      <td>G0</td>\n",
              "      <td>H0</td>\n",
              "    </tr>\n",
              "    <tr>\n",
              "      <th>1</th>\n",
              "      <td>K1</td>\n",
              "      <td>G1</td>\n",
              "      <td>H1</td>\n",
              "    </tr>\n",
              "    <tr>\n",
              "      <th>2</th>\n",
              "      <td>K2</td>\n",
              "      <td>G2</td>\n",
              "      <td>H2</td>\n",
              "    </tr>\n",
              "  </tbody>\n",
              "</table>\n",
              "</div>"
            ],
            "text/plain": [
              "  key   G   H\n",
              "0  K0  G0  H0\n",
              "1  K1  G1  H1\n",
              "2  K2  G2  H2"
            ]
          },
          "execution_count": 36,
          "metadata": {},
          "output_type": "execute_result"
        }
      ],
      "source": [
        "# Using merge to merge df5 and df6 based on the 'key' column\n",
        "merged_df = pd.merge(df5, df6, on='key')\n",
        "merged_df"
      ]
    },
    {
      "cell_type": "markdown",
      "id": "1cf604e3-b241-44d5-888e-d824de25af8c",
      "metadata": {
        "noteable": {
          "cell_type": "markdown"
        },
        "slideshow": {
          "slide_type": "slide"
        }
      },
      "source": [
        "## Inner and Outer Joins/Merges\n",
        "When merging or joining DataFrames in pandas, you can specify how you want to handle the combination of rows based on the keys. The two most common types of joins/merges are:\n",
        "1. **Inner Join/Merge**: This type returns only the rows with matching keys in both DataFrames.\n",
        "2. **Outer Join/Merge**: This type returns all rows from both DataFrames, filling in NaN for missing values in columns.\n",
        "Let's delve deeper into each of these types with examples."
      ]
    },
    {
      "cell_type": "code",
      "execution_count": 37,
      "id": "4aa6d258-b574-412e-b181-a59b5214164c",
      "metadata": {
        "noteable": {
          "cell_type": "code"
        },
        "slideshow": {
          "slide_type": "slide"
        }
      },
      "outputs": [
        {
          "data": {
            "text/plain": [
              "(  key value_A\n",
              " 0  K0      A0\n",
              " 1  K1      A1\n",
              " 2  K2      A2,\n",
              "   key value_B\n",
              " 0  K1      B1\n",
              " 1  K2      B2\n",
              " 2  K3      B3)"
            ]
          },
          "execution_count": 37,
          "metadata": {},
          "output_type": "execute_result"
        }
      ],
      "source": [
        "# Sample DataFrames for demonstration\n",
        "df_A = pd.DataFrame({'key': ['K0', 'K1', 'K2'], 'value_A': ['A0', 'A1', 'A2']})\n",
        "df_B = pd.DataFrame({'key': ['K1', 'K2', 'K3'], 'value_B': ['B1', 'B2', 'B3']})\n",
        "df_A, df_B"
      ]
    },
    {
      "cell_type": "code",
      "execution_count": 38,
      "id": "7ed482bf-f42c-4d04-9c0e-283a22d8dee7",
      "metadata": {
        "noteable": {
          "cell_type": "code"
        },
        "slideshow": {
          "slide_type": "slide"
        }
      },
      "outputs": [
        {
          "data": {
            "text/html": [
              "<div>\n",
              "<style scoped>\n",
              "    .dataframe tbody tr th:only-of-type {\n",
              "        vertical-align: middle;\n",
              "    }\n",
              "\n",
              "    .dataframe tbody tr th {\n",
              "        vertical-align: top;\n",
              "    }\n",
              "\n",
              "    .dataframe thead th {\n",
              "        text-align: right;\n",
              "    }\n",
              "</style>\n",
              "<table border=\"1\" class=\"dataframe\">\n",
              "  <thead>\n",
              "    <tr style=\"text-align: right;\">\n",
              "      <th></th>\n",
              "      <th>key</th>\n",
              "      <th>value_A</th>\n",
              "      <th>value_B</th>\n",
              "    </tr>\n",
              "  </thead>\n",
              "  <tbody>\n",
              "    <tr>\n",
              "      <th>0</th>\n",
              "      <td>K1</td>\n",
              "      <td>A1</td>\n",
              "      <td>B1</td>\n",
              "    </tr>\n",
              "    <tr>\n",
              "      <th>1</th>\n",
              "      <td>K2</td>\n",
              "      <td>A2</td>\n",
              "      <td>B2</td>\n",
              "    </tr>\n",
              "  </tbody>\n",
              "</table>\n",
              "</div>"
            ],
            "text/plain": [
              "  key value_A value_B\n",
              "0  K1      A1      B1\n",
              "1  K2      A2      B2"
            ]
          },
          "execution_count": 38,
          "metadata": {},
          "output_type": "execute_result"
        }
      ],
      "source": [
        "# Performing an inner merge on df_A and df_B based on the 'key' column\n",
        "inner_merged = pd.merge(df_A, df_B, on='key', how='inner')\n",
        "inner_merged"
      ]
    },
    {
      "cell_type": "code",
      "execution_count": 39,
      "id": "7ad5d1a0-d40c-4ba3-bf7f-e34921c46faa",
      "metadata": {
        "noteable": {
          "cell_type": "code"
        },
        "slideshow": {
          "slide_type": "slide"
        }
      },
      "outputs": [
        {
          "data": {
            "text/html": [
              "<div>\n",
              "<style scoped>\n",
              "    .dataframe tbody tr th:only-of-type {\n",
              "        vertical-align: middle;\n",
              "    }\n",
              "\n",
              "    .dataframe tbody tr th {\n",
              "        vertical-align: top;\n",
              "    }\n",
              "\n",
              "    .dataframe thead th {\n",
              "        text-align: right;\n",
              "    }\n",
              "</style>\n",
              "<table border=\"1\" class=\"dataframe\">\n",
              "  <thead>\n",
              "    <tr style=\"text-align: right;\">\n",
              "      <th></th>\n",
              "      <th>key</th>\n",
              "      <th>value_A</th>\n",
              "      <th>value_B</th>\n",
              "    </tr>\n",
              "  </thead>\n",
              "  <tbody>\n",
              "    <tr>\n",
              "      <th>0</th>\n",
              "      <td>K0</td>\n",
              "      <td>A0</td>\n",
              "      <td>NaN</td>\n",
              "    </tr>\n",
              "    <tr>\n",
              "      <th>1</th>\n",
              "      <td>K1</td>\n",
              "      <td>A1</td>\n",
              "      <td>B1</td>\n",
              "    </tr>\n",
              "    <tr>\n",
              "      <th>2</th>\n",
              "      <td>K2</td>\n",
              "      <td>A2</td>\n",
              "      <td>B2</td>\n",
              "    </tr>\n",
              "    <tr>\n",
              "      <th>3</th>\n",
              "      <td>K3</td>\n",
              "      <td>NaN</td>\n",
              "      <td>B3</td>\n",
              "    </tr>\n",
              "  </tbody>\n",
              "</table>\n",
              "</div>"
            ],
            "text/plain": [
              "  key value_A value_B\n",
              "0  K0      A0     NaN\n",
              "1  K1      A1      B1\n",
              "2  K2      A2      B2\n",
              "3  K3     NaN      B3"
            ]
          },
          "execution_count": 39,
          "metadata": {},
          "output_type": "execute_result"
        }
      ],
      "source": [
        "# Performing an outer merge on df_A and df_B based on the 'key' column\n",
        "outer_merged = pd.merge(df_A, df_B, on='key', how='outer')\n",
        "outer_merged"
      ]
    },
    {
      "cell_type": "markdown",
      "id": "f4777ce8-b275-4cd6-b592-9ba1b64c7db4",
      "metadata": {
        "noteable": {
          "cell_type": "markdown"
        },
        "slideshow": {
          "slide_type": "slide"
        }
      },
      "source": [
        "## Map, Apply, and Transform Methods in Pandas\n",
        "Pandas provides several methods to apply functions to Series and DataFrames, allowing for powerful and flexible data manipulation. In this section, we'll explore the following methods:\n",
        "1. **`map`**: Used with a Series to substitute each value with another value.\n",
        "2. **`apply`**: Used with both Series and DataFrames to apply a function along the input axis.\n",
        "3. **`transform`**: Used with groupby objects to produce a like-indexed DataFrame that is broadcastable back to the original object.\n",
        "Let's delve into each of these methods with explanations and examples."
      ]
    },
    {
      "cell_type": "code",
      "execution_count": 40,
      "id": "454ae2cc-a0a3-46ec-87b3-f68e708977af",
      "metadata": {
        "noteable": {
          "cell_type": "code"
        },
        "slideshow": {
          "slide_type": "slide"
        }
      },
      "outputs": [
        {
          "data": {
            "text/plain": [
              "0      Hello, Alice\n",
              "1        Hello, Bob\n",
              "2    Hello, Charlie\n",
              "dtype: object"
            ]
          },
          "execution_count": 40,
          "metadata": {},
          "output_type": "execute_result"
        }
      ],
      "source": [
        "# Sample Series for demonstration\n",
        "names = pd.Series(['Alice', 'Bob', 'Charlie'])\n",
        "# Using map to prefix each name with 'Hello, '\n",
        "greetings = names.map(lambda x: 'Hello, ' + x)\n",
        "greetings"
      ]
    },
    {
      "cell_type": "code",
      "execution_count": 41,
      "id": "88233f10-6783-49be-a2d0-1ad2c7cb1ccb",
      "metadata": {
        "noteable": {
          "cell_type": "code"
        },
        "slideshow": {
          "slide_type": "slide"
        }
      },
      "outputs": [
        {
          "data": {
            "text/plain": [
              "(0     1\n",
              " 1     4\n",
              " 2     9\n",
              " 3    16\n",
              " dtype: int64,\n",
              " A     6\n",
              " B    15\n",
              " dtype: int64)"
            ]
          },
          "execution_count": 41,
          "metadata": {},
          "output_type": "execute_result"
        }
      ],
      "source": [
        "# Sample Series and DataFrame for demonstration\n",
        "numbers = pd.Series([1, 2, 3, 4])\n",
        "df_numbers = pd.DataFrame({'A': [1, 2, 3], 'B': [4, 5, 6]})\n",
        "# Using apply with a Series to square each number\n",
        "squared_numbers = numbers.apply(lambda x: x**2)\n",
        "# Using apply with a DataFrame to sum values along the columns\n",
        "column_sums = df_numbers.apply(sum, axis=0)\n",
        "squared_numbers, column_sums"
      ]
    },
    {
      "cell_type": "code",
      "execution_count": 42,
      "id": "56e9aa66-71db-47cb-97ef-570f58cb2e6e",
      "metadata": {
        "noteable": {
          "cell_type": "code"
        },
        "slideshow": {
          "slide_type": "slide"
        }
      },
      "outputs": [
        {
          "data": {
            "text/html": [
              "<div>\n",
              "<style scoped>\n",
              "    .dataframe tbody tr th:only-of-type {\n",
              "        vertical-align: middle;\n",
              "    }\n",
              "\n",
              "    .dataframe tbody tr th {\n",
              "        vertical-align: top;\n",
              "    }\n",
              "\n",
              "    .dataframe thead th {\n",
              "        text-align: right;\n",
              "    }\n",
              "</style>\n",
              "<table border=\"1\" class=\"dataframe\">\n",
              "  <thead>\n",
              "    <tr style=\"text-align: right;\">\n",
              "      <th></th>\n",
              "      <th>total_bill</th>\n",
              "      <th>tip</th>\n",
              "      <th>sex</th>\n",
              "      <th>smoker</th>\n",
              "      <th>day</th>\n",
              "      <th>time</th>\n",
              "      <th>size</th>\n",
              "      <th>mean_tip_by_day</th>\n",
              "    </tr>\n",
              "  </thead>\n",
              "  <tbody>\n",
              "    <tr>\n",
              "      <th>0</th>\n",
              "      <td>16.99</td>\n",
              "      <td>1.01</td>\n",
              "      <td>Female</td>\n",
              "      <td>No</td>\n",
              "      <td>Sun</td>\n",
              "      <td>Dinner</td>\n",
              "      <td>2</td>\n",
              "      <td>3.255132</td>\n",
              "    </tr>\n",
              "    <tr>\n",
              "      <th>1</th>\n",
              "      <td>10.34</td>\n",
              "      <td>1.66</td>\n",
              "      <td>Male</td>\n",
              "      <td>No</td>\n",
              "      <td>Sun</td>\n",
              "      <td>Dinner</td>\n",
              "      <td>3</td>\n",
              "      <td>3.255132</td>\n",
              "    </tr>\n",
              "    <tr>\n",
              "      <th>2</th>\n",
              "      <td>21.01</td>\n",
              "      <td>3.50</td>\n",
              "      <td>Male</td>\n",
              "      <td>No</td>\n",
              "      <td>Sun</td>\n",
              "      <td>Dinner</td>\n",
              "      <td>3</td>\n",
              "      <td>3.255132</td>\n",
              "    </tr>\n",
              "    <tr>\n",
              "      <th>3</th>\n",
              "      <td>23.68</td>\n",
              "      <td>3.31</td>\n",
              "      <td>Male</td>\n",
              "      <td>No</td>\n",
              "      <td>Sun</td>\n",
              "      <td>Dinner</td>\n",
              "      <td>2</td>\n",
              "      <td>3.255132</td>\n",
              "    </tr>\n",
              "    <tr>\n",
              "      <th>4</th>\n",
              "      <td>24.59</td>\n",
              "      <td>3.61</td>\n",
              "      <td>Female</td>\n",
              "      <td>No</td>\n",
              "      <td>Sun</td>\n",
              "      <td>Dinner</td>\n",
              "      <td>4</td>\n",
              "      <td>3.255132</td>\n",
              "    </tr>\n",
              "  </tbody>\n",
              "</table>\n",
              "</div>"
            ],
            "text/plain": [
              "   total_bill   tip     sex smoker  day    time  size  mean_tip_by_day\n",
              "0       16.99  1.01  Female     No  Sun  Dinner     2         3.255132\n",
              "1       10.34  1.66    Male     No  Sun  Dinner     3         3.255132\n",
              "2       21.01  3.50    Male     No  Sun  Dinner     3         3.255132\n",
              "3       23.68  3.31    Male     No  Sun  Dinner     2         3.255132\n",
              "4       24.59  3.61  Female     No  Sun  Dinner     4         3.255132"
            ]
          },
          "execution_count": 42,
          "metadata": {},
          "output_type": "execute_result"
        }
      ],
      "source": [
        "# Using the tips dataset for demonstration\n",
        "import seaborn as sns\n",
        "tips = sns.load_dataset('tips')\n",
        "# Grouping by 'day' and using transform to compute mean tip for each day\n",
        "mean_tips_by_day = tips.groupby('day')['tip'].transform('mean')\n",
        "tips['mean_tip_by_day'] = mean_tips_by_day\n",
        "tips.head()"
      ]
    },
    {
      "cell_type": "markdown",
      "id": "1e4c00bf-c1c0-48e8-af10-08441f56cb06",
      "metadata": {
        "noteable": {
          "cell_type": "markdown"
        },
        "slideshow": {
          "slide_type": "slide"
        }
      },
      "source": [
        "## Exploratory Methods in Pandas: describe, info, head, and tail\n",
        "When working with DataFrames in pandas, it's often useful to quickly explore and understand the structure and content of the data. Pandas provides several methods to help with this initial data exploration. In this section, we'll explore the following methods:\n",
        "1. **`describe`**: Provides a summary of the central tendencies, dispersion, and shape of the distribution of a dataset.\n",
        "2. **`info`**: Gives a concise summary of a DataFrame, including the number of non-null values in each column, data type, and memory usage.\n",
        "3. **`head`**: Returns the first few rows of a DataFrame or Series.\n",
        "4. **`tail`**: Returns the last few rows of a DataFrame or Series.\n",
        "Let's delve into each of these methods with explanations and examples using the `tips` dataset."
      ]
    },
    {
      "cell_type": "code",
      "execution_count": 43,
      "id": "53213de7-75fa-4327-aba8-db4a49439f4c",
      "metadata": {
        "noteable": {
          "cell_type": "code"
        },
        "slideshow": {
          "slide_type": "slide"
        }
      },
      "outputs": [
        {
          "data": {
            "text/html": [
              "<div>\n",
              "<style scoped>\n",
              "    .dataframe tbody tr th:only-of-type {\n",
              "        vertical-align: middle;\n",
              "    }\n",
              "\n",
              "    .dataframe tbody tr th {\n",
              "        vertical-align: top;\n",
              "    }\n",
              "\n",
              "    .dataframe thead th {\n",
              "        text-align: right;\n",
              "    }\n",
              "</style>\n",
              "<table border=\"1\" class=\"dataframe\">\n",
              "  <thead>\n",
              "    <tr style=\"text-align: right;\">\n",
              "      <th></th>\n",
              "      <th>total_bill</th>\n",
              "      <th>tip</th>\n",
              "      <th>size</th>\n",
              "      <th>mean_tip_by_day</th>\n",
              "    </tr>\n",
              "  </thead>\n",
              "  <tbody>\n",
              "    <tr>\n",
              "      <th>count</th>\n",
              "      <td>244.000000</td>\n",
              "      <td>244.000000</td>\n",
              "      <td>244.000000</td>\n",
              "      <td>244.000000</td>\n",
              "    </tr>\n",
              "    <tr>\n",
              "      <th>mean</th>\n",
              "      <td>19.785943</td>\n",
              "      <td>2.998279</td>\n",
              "      <td>2.569672</td>\n",
              "      <td>2.998279</td>\n",
              "    </tr>\n",
              "    <tr>\n",
              "      <th>std</th>\n",
              "      <td>8.902412</td>\n",
              "      <td>1.383638</td>\n",
              "      <td>0.951100</td>\n",
              "      <td>0.197993</td>\n",
              "    </tr>\n",
              "    <tr>\n",
              "      <th>min</th>\n",
              "      <td>3.070000</td>\n",
              "      <td>1.000000</td>\n",
              "      <td>1.000000</td>\n",
              "      <td>2.734737</td>\n",
              "    </tr>\n",
              "    <tr>\n",
              "      <th>25%</th>\n",
              "      <td>13.347500</td>\n",
              "      <td>2.000000</td>\n",
              "      <td>2.000000</td>\n",
              "      <td>2.771452</td>\n",
              "    </tr>\n",
              "    <tr>\n",
              "      <th>50%</th>\n",
              "      <td>17.795000</td>\n",
              "      <td>2.900000</td>\n",
              "      <td>2.000000</td>\n",
              "      <td>2.993103</td>\n",
              "    </tr>\n",
              "    <tr>\n",
              "      <th>75%</th>\n",
              "      <td>24.127500</td>\n",
              "      <td>3.562500</td>\n",
              "      <td>3.000000</td>\n",
              "      <td>3.255132</td>\n",
              "    </tr>\n",
              "    <tr>\n",
              "      <th>max</th>\n",
              "      <td>50.810000</td>\n",
              "      <td>10.000000</td>\n",
              "      <td>6.000000</td>\n",
              "      <td>3.255132</td>\n",
              "    </tr>\n",
              "  </tbody>\n",
              "</table>\n",
              "</div>"
            ],
            "text/plain": [
              "       total_bill         tip        size  mean_tip_by_day\n",
              "count  244.000000  244.000000  244.000000       244.000000\n",
              "mean    19.785943    2.998279    2.569672         2.998279\n",
              "std      8.902412    1.383638    0.951100         0.197993\n",
              "min      3.070000    1.000000    1.000000         2.734737\n",
              "25%     13.347500    2.000000    2.000000         2.771452\n",
              "50%     17.795000    2.900000    2.000000         2.993103\n",
              "75%     24.127500    3.562500    3.000000         3.255132\n",
              "max     50.810000   10.000000    6.000000         3.255132"
            ]
          },
          "execution_count": 43,
          "metadata": {},
          "output_type": "execute_result"
        }
      ],
      "source": [
        "# Using describe method on the tips dataset\n",
        "tips.describe()"
      ]
    },
    {
      "cell_type": "code",
      "execution_count": 44,
      "id": "b0cda2d5-9f60-47d3-83a3-954120a4ad9f",
      "metadata": {
        "noteable": {
          "cell_type": "code"
        },
        "slideshow": {
          "slide_type": "slide"
        }
      },
      "outputs": [
        {
          "name": "stdout",
          "output_type": "stream",
          "text": [
            "<class 'pandas.core.frame.DataFrame'>\n",
            "RangeIndex: 244 entries, 0 to 243\n",
            "Data columns (total 8 columns):\n",
            " #   Column           Non-Null Count  Dtype   \n",
            "---  ------           --------------  -----   \n",
            " 0   total_bill       244 non-null    float64 \n",
            " 1   tip              244 non-null    float64 \n",
            " 2   sex              244 non-null    category\n",
            " 3   smoker           244 non-null    category\n",
            " 4   day              244 non-null    category\n",
            " 5   time             244 non-null    category\n",
            " 6   size             244 non-null    int64   \n",
            " 7   mean_tip_by_day  244 non-null    float64 \n",
            "dtypes: category(4), float64(3), int64(1)\n",
            "memory usage: 9.3 KB\n"
          ]
        }
      ],
      "source": [
        "# Using info method on the tips dataset\n",
        "tips.info()"
      ]
    },
    {
      "cell_type": "code",
      "execution_count": 45,
      "id": "a55d85c1-e6f8-4c53-8529-debf1a1baa9b",
      "metadata": {
        "noteable": {
          "cell_type": "code"
        },
        "slideshow": {
          "slide_type": "slide"
        }
      },
      "outputs": [
        {
          "data": {
            "text/html": [
              "<div>\n",
              "<style scoped>\n",
              "    .dataframe tbody tr th:only-of-type {\n",
              "        vertical-align: middle;\n",
              "    }\n",
              "\n",
              "    .dataframe tbody tr th {\n",
              "        vertical-align: top;\n",
              "    }\n",
              "\n",
              "    .dataframe thead th {\n",
              "        text-align: right;\n",
              "    }\n",
              "</style>\n",
              "<table border=\"1\" class=\"dataframe\">\n",
              "  <thead>\n",
              "    <tr style=\"text-align: right;\">\n",
              "      <th></th>\n",
              "      <th>total_bill</th>\n",
              "      <th>tip</th>\n",
              "      <th>sex</th>\n",
              "      <th>smoker</th>\n",
              "      <th>day</th>\n",
              "      <th>time</th>\n",
              "      <th>size</th>\n",
              "      <th>mean_tip_by_day</th>\n",
              "    </tr>\n",
              "  </thead>\n",
              "  <tbody>\n",
              "    <tr>\n",
              "      <th>0</th>\n",
              "      <td>16.99</td>\n",
              "      <td>1.01</td>\n",
              "      <td>Female</td>\n",
              "      <td>No</td>\n",
              "      <td>Sun</td>\n",
              "      <td>Dinner</td>\n",
              "      <td>2</td>\n",
              "      <td>3.255132</td>\n",
              "    </tr>\n",
              "    <tr>\n",
              "      <th>1</th>\n",
              "      <td>10.34</td>\n",
              "      <td>1.66</td>\n",
              "      <td>Male</td>\n",
              "      <td>No</td>\n",
              "      <td>Sun</td>\n",
              "      <td>Dinner</td>\n",
              "      <td>3</td>\n",
              "      <td>3.255132</td>\n",
              "    </tr>\n",
              "    <tr>\n",
              "      <th>2</th>\n",
              "      <td>21.01</td>\n",
              "      <td>3.50</td>\n",
              "      <td>Male</td>\n",
              "      <td>No</td>\n",
              "      <td>Sun</td>\n",
              "      <td>Dinner</td>\n",
              "      <td>3</td>\n",
              "      <td>3.255132</td>\n",
              "    </tr>\n",
              "  </tbody>\n",
              "</table>\n",
              "</div>"
            ],
            "text/plain": [
              "   total_bill   tip     sex smoker  day    time  size  mean_tip_by_day\n",
              "0       16.99  1.01  Female     No  Sun  Dinner     2         3.255132\n",
              "1       10.34  1.66    Male     No  Sun  Dinner     3         3.255132\n",
              "2       21.01  3.50    Male     No  Sun  Dinner     3         3.255132"
            ]
          },
          "execution_count": 45,
          "metadata": {},
          "output_type": "execute_result"
        }
      ],
      "source": [
        "# Using head method on the tips dataset to view the first 3 rows\n",
        "tips.head(3)"
      ]
    },
    {
      "cell_type": "code",
      "execution_count": 46,
      "id": "fbb7fe09-6c1c-4c18-b735-486ac35492cd",
      "metadata": {
        "noteable": {
          "cell_type": "code"
        },
        "slideshow": {
          "slide_type": "slide"
        }
      },
      "outputs": [
        {
          "data": {
            "text/html": [
              "<div>\n",
              "<style scoped>\n",
              "    .dataframe tbody tr th:only-of-type {\n",
              "        vertical-align: middle;\n",
              "    }\n",
              "\n",
              "    .dataframe tbody tr th {\n",
              "        vertical-align: top;\n",
              "    }\n",
              "\n",
              "    .dataframe thead th {\n",
              "        text-align: right;\n",
              "    }\n",
              "</style>\n",
              "<table border=\"1\" class=\"dataframe\">\n",
              "  <thead>\n",
              "    <tr style=\"text-align: right;\">\n",
              "      <th></th>\n",
              "      <th>total_bill</th>\n",
              "      <th>tip</th>\n",
              "      <th>sex</th>\n",
              "      <th>smoker</th>\n",
              "      <th>day</th>\n",
              "      <th>time</th>\n",
              "      <th>size</th>\n",
              "      <th>mean_tip_by_day</th>\n",
              "    </tr>\n",
              "  </thead>\n",
              "  <tbody>\n",
              "    <tr>\n",
              "      <th>241</th>\n",
              "      <td>22.67</td>\n",
              "      <td>2.00</td>\n",
              "      <td>Male</td>\n",
              "      <td>Yes</td>\n",
              "      <td>Sat</td>\n",
              "      <td>Dinner</td>\n",
              "      <td>2</td>\n",
              "      <td>2.993103</td>\n",
              "    </tr>\n",
              "    <tr>\n",
              "      <th>242</th>\n",
              "      <td>17.82</td>\n",
              "      <td>1.75</td>\n",
              "      <td>Male</td>\n",
              "      <td>No</td>\n",
              "      <td>Sat</td>\n",
              "      <td>Dinner</td>\n",
              "      <td>2</td>\n",
              "      <td>2.993103</td>\n",
              "    </tr>\n",
              "    <tr>\n",
              "      <th>243</th>\n",
              "      <td>18.78</td>\n",
              "      <td>3.00</td>\n",
              "      <td>Female</td>\n",
              "      <td>No</td>\n",
              "      <td>Thur</td>\n",
              "      <td>Dinner</td>\n",
              "      <td>2</td>\n",
              "      <td>2.771452</td>\n",
              "    </tr>\n",
              "  </tbody>\n",
              "</table>\n",
              "</div>"
            ],
            "text/plain": [
              "     total_bill   tip     sex smoker   day    time  size  mean_tip_by_day\n",
              "241       22.67  2.00    Male    Yes   Sat  Dinner     2         2.993103\n",
              "242       17.82  1.75    Male     No   Sat  Dinner     2         2.993103\n",
              "243       18.78  3.00  Female     No  Thur  Dinner     2         2.771452"
            ]
          },
          "execution_count": 46,
          "metadata": {},
          "output_type": "execute_result"
        }
      ],
      "source": [
        "# Using tail method on the tips dataset to view the last 3 rows\n",
        "tips.tail(3)"
      ]
    },
    {
      "cell_type": "markdown",
      "id": "ee1b0679",
      "metadata": {
        "slideshow": {
          "slide_type": "slide"
        }
      },
      "source": [
        "## Reading and Writing DataFrames\n",
        "\n",
        "Pandas has read methods for reading files in different formats into dataframes.  These include read_csv, read_stata, read_sas, read_sql, and read_html.\n",
        "\n",
        "There are corresponding write methods: to_csv, to_stata, ...\n",
        "\n",
        "Stata files can include variable descriptions in addition to the data.  If you execute read_stata, you will only get the data.  If you also want the variable descriptions, then use the pandas StataReader."
      ]
    },
    {
      "cell_type": "code",
      "execution_count": 47,
      "id": "35def07f",
      "metadata": {},
      "outputs": [
        {
          "data": {
            "text/plain": [
              "{'wage': 'average hourly earnings',\n",
              " 'educ': 'years of education',\n",
              " 'exper': 'years potential experience',\n",
              " 'tenure': 'years with current employer',\n",
              " 'nonwhite': '=1 if nonwhite',\n",
              " 'female': '=1 if female',\n",
              " 'married': '=1 if married',\n",
              " 'numdep': 'number of dependents',\n",
              " 'smsa': '=1 if live in SMSA',\n",
              " 'northcen': '=1 if live in north central U.S',\n",
              " 'south': '=1 if live in southern region',\n",
              " 'west': '=1 if live in western region',\n",
              " 'construc': '=1 if work in construc. indus.',\n",
              " 'ndurman': '=1 if in nondur. manuf. indus.',\n",
              " 'trcommpu': '=1 if in trans, commun, pub ut',\n",
              " 'trade': '=1 if in wholesale or retail',\n",
              " 'services': '=1 if in services indus.',\n",
              " 'profserv': '=1 if in prof. serv. indus.',\n",
              " 'profocc': '=1 if in profess. occupation',\n",
              " 'clerocc': '=1 if in clerical occupation',\n",
              " 'servocc': '=1 if in service occupation',\n",
              " 'lwage': 'log(wage)',\n",
              " 'expersq': 'exper^2',\n",
              " 'tenursq': 'tenure^2'}"
            ]
          },
          "execution_count": 47,
          "metadata": {},
          "output_type": "execute_result"
        }
      ],
      "source": [
        "from pandas.io.stata import StataReader\n",
        "\n",
        "stata_file = StataReader('WAGE1.dta')\n",
        "variables = stata_file.variable_labels()\n",
        "data = stata_file.read()\n",
        "\n",
        "variables"
      ]
    },
    {
      "cell_type": "code",
      "execution_count": 48,
      "id": "296dc2c6",
      "metadata": {
        "slideshow": {
          "slide_type": "slide"
        }
      },
      "outputs": [
        {
          "name": "stdout",
          "output_type": "stream",
          "text": [
            "<class 'pandas.core.frame.DataFrame'>\n",
            "Int64Index: 526 entries, 0 to 525\n",
            "Data columns (total 24 columns):\n",
            " #   Column    Non-Null Count  Dtype  \n",
            "---  ------    --------------  -----  \n",
            " 0   wage      526 non-null    float32\n",
            " 1   educ      526 non-null    int8   \n",
            " 2   exper     526 non-null    int8   \n",
            " 3   tenure    526 non-null    int8   \n",
            " 4   nonwhite  526 non-null    int8   \n",
            " 5   female    526 non-null    int8   \n",
            " 6   married   526 non-null    int8   \n",
            " 7   numdep    526 non-null    int8   \n",
            " 8   smsa      526 non-null    int8   \n",
            " 9   northcen  526 non-null    int8   \n",
            " 10  south     526 non-null    int8   \n",
            " 11  west      526 non-null    int8   \n",
            " 12  construc  526 non-null    int8   \n",
            " 13  ndurman   526 non-null    int8   \n",
            " 14  trcommpu  526 non-null    int8   \n",
            " 15  trade     526 non-null    int8   \n",
            " 16  services  526 non-null    int8   \n",
            " 17  profserv  526 non-null    int8   \n",
            " 18  profocc   526 non-null    int8   \n",
            " 19  clerocc   526 non-null    int8   \n",
            " 20  servocc   526 non-null    int8   \n",
            " 21  lwage     526 non-null    float32\n",
            " 22  expersq   526 non-null    int16  \n",
            " 23  tenursq   526 non-null    int16  \n",
            "dtypes: float32(2), int16(2), int8(20)\n",
            "memory usage: 20.5 KB\n"
          ]
        }
      ],
      "source": [
        "data.info()"
      ]
    },
    {
      "cell_type": "code",
      "execution_count": 49,
      "id": "508a41c2",
      "metadata": {
        "slideshow": {
          "slide_type": "slide"
        }
      },
      "outputs": [],
      "source": [
        "# write to a csv file\n",
        "\n",
        "data.to_csv(\"wage1.csv\")"
      ]
    },
    {
      "cell_type": "code",
      "execution_count": 50,
      "id": "b0239495",
      "metadata": {
        "slideshow": {
          "slide_type": "slide"
        }
      },
      "outputs": [
        {
          "name": "stdout",
          "output_type": "stream",
          "text": [
            "<class 'pandas.core.frame.DataFrame'>\n",
            "RangeIndex: 526 entries, 0 to 525\n",
            "Data columns (total 25 columns):\n",
            " #   Column      Non-Null Count  Dtype  \n",
            "---  ------      --------------  -----  \n",
            " 0   Unnamed: 0  526 non-null    int64  \n",
            " 1   wage        526 non-null    float64\n",
            " 2   educ        526 non-null    int64  \n",
            " 3   exper       526 non-null    int64  \n",
            " 4   tenure      526 non-null    int64  \n",
            " 5   nonwhite    526 non-null    int64  \n",
            " 6   female      526 non-null    int64  \n",
            " 7   married     526 non-null    int64  \n",
            " 8   numdep      526 non-null    int64  \n",
            " 9   smsa        526 non-null    int64  \n",
            " 10  northcen    526 non-null    int64  \n",
            " 11  south       526 non-null    int64  \n",
            " 12  west        526 non-null    int64  \n",
            " 13  construc    526 non-null    int64  \n",
            " 14  ndurman     526 non-null    int64  \n",
            " 15  trcommpu    526 non-null    int64  \n",
            " 16  trade       526 non-null    int64  \n",
            " 17  services    526 non-null    int64  \n",
            " 18  profserv    526 non-null    int64  \n",
            " 19  profocc     526 non-null    int64  \n",
            " 20  clerocc     526 non-null    int64  \n",
            " 21  servocc     526 non-null    int64  \n",
            " 22  lwage       526 non-null    float64\n",
            " 23  expersq     526 non-null    int64  \n",
            " 24  tenursq     526 non-null    int64  \n",
            "dtypes: float64(2), int64(23)\n",
            "memory usage: 102.9 KB\n"
          ]
        }
      ],
      "source": [
        "# read a csv file\n",
        "\n",
        "data2 = pd.read_csv(\"wage1.csv\")\n",
        "data2.info()"
      ]
    }
  ],
  "metadata": {
    "kernel_info": {
      "name": "python3"
    },
    "kernelspec": {
      "display_name": "Python 3.9",
      "language": "python",
      "name": "python3"
    },
    "language_info": {
      "codemirror_mode": {
        "name": "ipython",
        "version": 3
      },
      "file_extension": ".py",
      "mimetype": "text/x-python",
      "name": "python",
      "nbconvert_exporter": "python",
      "pygments_lexer": "ipython3",
      "version": "3.10.8"
    },
    "noteable": {
      "last_delta_id": "afcb4b71-85c4-414b-b971-257c5482279b",
      "last_transaction_id": "afcb4b71-85c4-414b-b971-257c5482279b"
    },
    "noteable-chatgpt": {
      "create_notebook": {
        "openai_conversation_id": "eaa54984-548e-53d1-8713-340a7a1c227b",
        "openai_ephemeral_user_id": "013f07ed-ae7a-587b-b1e6-8595c572200d",
        "openai_subdivision1_iso_code": "US-TX"
      }
    },
    "nteract": {
      "version": "noteable@2.9.0"
    },
    "selected_hardware_size": "small"
  },
  "nbformat": 4,
  "nbformat_minor": 5
}
