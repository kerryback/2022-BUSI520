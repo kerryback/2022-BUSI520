{
  "cells": [
    {
      "cell_type": "markdown",
      "id": "e1818293-2831-45e1-a9dd-5a9f38504545",
      "metadata": {
        "noteable": {
          "cell_type": "markdown"
        },
        "slideshow": {
          "slide_type": "slide"
        }
      },
      "source": [
        "## 1. What is Python?\n",
        "\n",
        "Python is a high-level, interpreted programming language known for its simplicity and readability. It was created by Guido van Rossum and first released in 1991. Python's design philosophy emphasizes code readability, and its syntax allows programmers to express concepts in fewer lines of code than might be possible in other languages, such as C++ or Java.\n",
        "\n",
        "Python is versatile and can be used for a wide range of applications, including web development, data analysis, artificial intelligence, scientific computing, and more. It has a large and active community, which means there are plenty of resources, libraries, and frameworks available to help you with your projects."
      ]
    },
    {
      "cell_type": "markdown",
      "id": "e513283f-30ad-4601-bff5-a60fdeef1683",
      "metadata": {
        "noteable": {
          "cell_type": "markdown"
        },
        "slideshow": {
          "slide_type": "slide"
        }
      },
      "source": [
        "## 2. Python Syntax Basics\n",
        "\n",
        "Python is known for its clean and straightforward syntax, which is one of the reasons it's a great language for beginners. Let's go over some of the basic syntax rules:\n",
        "\n",
        "- **Indentation**: Unlike many other languages, Python uses whitespace (indentation) to delimit blocks of code. This means that the amount of whitespace before a line of code is important.\n",
        "- **Comments**: In Python, comments start with the `#` symbol. Comments are ignored by the Python interpreter and are used to provide notes or explanations within the code.\n",
        "- **Statements**: A statement is a unit of code that the Python interpreter can execute. For example, `a = 1` is an assignment statement.\n",
        "- **Line Continuation**: If a statement is too long, you can break it into multiple lines using the `\\` character or by enclosing the expression in parentheses.\n",
        "\n",
        "Let's see some of these in action."
      ]
    },
    {
      "cell_type": "code",
      "execution_count": 2,
      "id": "9343c6ce-a061-4bbc-8582-d1f06f590773",
      "metadata": {
        "ExecuteTime": {
          "end_time": "2023-08-23T02:40:05.379150+00:00",
          "start_time": "2023-08-23T02:40:05.220587+00:00"
        },
        "noteable": {
          "cell_type": "code"
        },
        "slideshow": {
          "slide_type": "slide"
        }
      },
      "outputs": [
        {
          "name": "stdout",
          "output_type": "stream",
          "text": [
            "5\n",
            "15\n",
            "15\n"
          ]
        }
      ],
      "source": [
        "# This is a comment and will be ignored by Python\n",
        "\n",
        "# Let's declare a variable and assign a value to it\n",
        "a = 5\n",
        "print(a)\n",
        "\n",
        "# Line continuation example\n",
        "b = 1 + 2 + 3 + \\\n",
        "    4 + 5\n",
        "print(b)\n",
        "\n",
        "# Another way to continue a long line\n",
        "c = (1 + 2 + 3 +\n",
        "     4 + 5)\n",
        "print(c)"
      ]
    },
    {
      "cell_type": "markdown",
      "id": "83b9f9e0-8c9f-475f-aedb-c0fe8cb68656",
      "metadata": {
        "noteable": {
          "cell_type": "markdown"
        },
        "slideshow": {
          "slide_type": "slide"
        }
      },
      "source": [
        "## 3. Variables and Data Types\n",
        "\n",
        "In Python, variables are used to store data values. Unlike other programming languages, Python has no command for declaring a variable. A variable is created the moment you first assign a value to it.\n",
        "\n",
        "Python supports various data types, including:\n",
        "- **Integers (`int`)**: Whole numbers, e.g., `5`, `-3`, `42`\n",
        "- **Floating point (`float`)**: Decimal numbers, e.g., `3.14`, `-0.001`, `5.0`\n",
        "- **Strings (`str`)**: Sequence of characters, e.g., `'hello'`, `'Python123'`, `' '`\n",
        "- **Booleans (`bool`)**: Represents truth values, `True` or `False`\n",
        "\n",
        "Let's explore these data types with some examples."
      ]
    },
    {
      "cell_type": "code",
      "execution_count": 3,
      "id": "260db3f8-3d3b-48b9-bf63-63ea919d8cdb",
      "metadata": {
        "ExecuteTime": {
          "end_time": "2023-08-23T02:40:53.371932+00:00",
          "start_time": "2023-08-23T02:40:53.213387+00:00"
        },
        "noteable": {
          "cell_type": "code"
        },
        "slideshow": {
          "slide_type": "slide"
        }
      },
      "outputs": [
        {
          "name": "stdout",
          "output_type": "stream",
          "text": [
            "<class 'int'> 10\n",
            "<class 'float'> 20.5\n",
            "<class 'str'> Python\n",
            "<class 'bool'> True\n"
          ]
        }
      ],
      "source": [
        "# Integer variable\n",
        "x = 10\n",
        "print(type(x), x)\n",
        "\n",
        "# Float variable\n",
        "y = 20.5\n",
        "print(type(y), y)\n",
        "\n",
        "# String variable\n",
        "name = 'Python'\n",
        "print(type(name), name)\n",
        "\n",
        "# Boolean variable\n",
        "is_active = True\n",
        "print(type(is_active), is_active)"
      ]
    },
    {
      "cell_type": "markdown",
      "id": "68751b2b-3e88-4e73-811d-13d6b133e346",
      "metadata": {
        "noteable": {
          "cell_type": "markdown"
        },
        "slideshow": {
          "slide_type": "slide"
        }
      },
      "source": [
        "## 4. Basic Operators\n",
        "\n",
        "Operators are used to perform operations on variables and values. Python has several types of operators:\n",
        "\n",
        "- **Arithmetic Operators**: Used to perform mathematical operations.\n",
        "- **Comparison Operators**: Used to compare two values.\n",
        "- **Logical Operators**: Used to combine conditional statements.\n",
        "- **Assignment Operators**: Used to assign values to variables.\n",
        "\n",
        "Let's explore some of these operators with examples."
      ]
    },
    {
      "cell_type": "code",
      "execution_count": 4,
      "id": "9b0e52b2-be9c-4ec4-afdc-6f020bbe8927",
      "metadata": {
        "ExecuteTime": {
          "end_time": "2023-08-23T02:41:45.432765+00:00",
          "start_time": "2023-08-23T02:41:45.273132+00:00"
        },
        "noteable": {
          "cell_type": "code"
        },
        "slideshow": {
          "slide_type": "slide"
        }
      },
      "outputs": [
        {
          "name": "stdout",
          "output_type": "stream",
          "text": [
            "a + b = 13\n",
            "a - b = 7\n",
            "a * b = 30\n",
            "a / b = 3.3333333333333335\n",
            "a % b = 1\n",
            "a ** b = 1000\n",
            "a == b: False\n",
            "a != b: True\n",
            "a > b: True\n",
            "a < b: False\n",
            "x and y: False\n",
            "x or y: True\n",
            "not x: False\n"
          ]
        }
      ],
      "source": [
        "# Arithmetic Operators\n",
        "a = 10\n",
        "b = 3\n",
        "print('a + b =', a + b)  # Addition\n",
        "print('a - b =', a - b)  # Subtraction\n",
        "print('a * b =', a * b)  # Multiplication\n",
        "print('a / b =', a / b)  # Division\n",
        "print('a % b =', a % b)  # Modulus (remainder)\n",
        "print('a ** b =', a ** b)  # Exponentiation\n",
        "\n",
        "# Comparison Operators\n",
        "print('a == b:', a == b)  # Equal to\n",
        "print('a != b:', a != b)  # Not equal to\n",
        "print('a > b:', a > b)   # Greater than\n",
        "print('a < b:', a < b)   # Less than\n",
        "\n",
        "# Logical Operators\n",
        "x = True\n",
        "y = False\n",
        "print('x and y:', x and y)  # Logical AND\n",
        "print('x or y:', x or y)    # Logical OR\n",
        "print('not x:', not x)      # Logical NOT"
      ]
    },
    {
      "cell_type": "markdown",
      "id": "86b2f5e2-5093-48d1-8d9e-ea6551f56e92",
      "metadata": {
        "noteable": {
          "cell_type": "markdown"
        },
        "slideshow": {
          "slide_type": "slide"
        }
      },
      "source": [
        "## 5. Control Structures\n",
        "\n",
        "Control structures allow you to control the flow of your program's execution based on certain conditions or loops. The primary control structures in Python are:\n",
        "\n",
        "- **`if`, `elif`, and `else` statements**: Used for conditional execution.\n",
        "- **`for` loops**: Used to iterate over a sequence (like a list or a string) or other iterable objects.\n",
        "- **`while` loops**: Used to execute a set of statements as long as a condition is true.\n",
        "\n",
        "Let's see some examples of these control structures."
      ]
    },
    {
      "cell_type": "code",
      "execution_count": 5,
      "id": "3e8c562f-80b0-490c-b5fb-77df30b1adb6",
      "metadata": {
        "ExecuteTime": {
          "end_time": "2023-08-23T02:42:37.359246+00:00",
          "start_time": "2023-08-23T02:42:37.200179+00:00"
        },
        "noteable": {
          "cell_type": "code"
        },
        "slideshow": {
          "slide_type": "slide"
        }
      },
      "outputs": [
        {
          "name": "stdout",
          "output_type": "stream",
          "text": [
            "Teenager\n",
            "apple\n",
            "banana\n",
            "cherry\n",
            "Count: 0\n",
            "Count: 1\n",
            "Count: 2\n"
          ]
        }
      ],
      "source": [
        "# if, elif, and else statements\n",
        "age = 18\n",
        "if age < 13:\n",
        "    print('Child')\n",
        "elif age < 20:\n",
        "    print('Teenager')\n",
        "else:\n",
        "    print('Adult')\n",
        "\n",
        "# for loop\n",
        "fruits = ['apple', 'banana', 'cherry']\n",
        "for fruit in fruits:\n",
        "    print(fruit)\n",
        "\n",
        "# while loop\n",
        "count = 0\n",
        "while count < 3:\n",
        "    print('Count:', count)\n",
        "    count += 1"
      ]
    },
    {
      "cell_type": "markdown",
      "id": "71494354-4ee7-4c5a-83df-1b07af43151b",
      "metadata": {
        "noteable": {
          "cell_type": "markdown"
        },
        "slideshow": {
          "slide_type": "slide"
        }
      },
      "source": [
        "## 6. Functions\n",
        "\n",
        "A function is a block of organized, reusable code that is used to perform a single, related action. Functions provide better modularity for your application and a high degree of code reusing.\n",
        "\n",
        "In Python, you can define a function using the `def` keyword. Functions can take parameters and return a value.\n",
        "\n",
        "Let's see some examples of defining and using functions."
      ]
    },
    {
      "cell_type": "code",
      "execution_count": 6,
      "id": "380be3d1-6da9-4eda-87fb-97a41400e7f6",
      "metadata": {
        "ExecuteTime": {
          "end_time": "2023-08-23T02:43:24.264180+00:00",
          "start_time": "2023-08-23T02:43:24.106996+00:00"
        },
        "noteable": {
          "cell_type": "code"
        },
        "slideshow": {
          "slide_type": "slide"
        }
      },
      "outputs": [
        {
          "name": "stdout",
          "output_type": "stream",
          "text": [
            "Hello, World!\n",
            "5 + 3 = 8\n"
          ]
        }
      ],
      "source": [
        "# Defining a simple function\n",
        "def greet():\n",
        "    return 'Hello, World!'\n",
        "\n",
        "# Calling the function\n",
        "print(greet())\n",
        "\n",
        "# Function with parameters\n",
        "def add_numbers(a, b):\n",
        "    return a + b\n",
        "\n",
        "# Calling the function with arguments\n",
        "result = add_numbers(5, 3)\n",
        "print('5 + 3 =', result)"
      ]
    },
    {
      "cell_type": "markdown",
      "id": "891d300f-cb1b-4d4e-a768-a04f7552bedd",
      "metadata": {
        "noteable": {
          "cell_type": "markdown"
        },
        "slideshow": {
          "slide_type": "slide"
        }
      },
      "source": [
        "## 7. Lists and Dictionaries\n",
        "\n",
        "Lists and dictionaries are two of the most frequently used data structures in Python.\n",
        "\n",
        "- **List**: A list is an ordered collection of items. Lists are mutable, which means you can modify their content. Lists are defined by enclosing a comma-separated sequence of items in square brackets `[]`.\n",
        "\n",
        "- **Dictionary**: A dictionary is an unordered collection of data in a key:value pair form. Here, keys are unique and used to access the corresponding value. Dictionaries are defined by enclosing a comma-separated list of key:value pairs in curly braces `{}`.\n",
        "\n",
        "Let's explore these data structures with some examples."
      ]
    },
    {
      "cell_type": "code",
      "execution_count": 8,
      "id": "53b27470-6b4e-4916-97d0-baa1dd6b790b",
      "metadata": {
        "ExecuteTime": {
          "end_time": "2023-08-23T02:45:42.660122+00:00",
          "start_time": "2023-08-23T02:45:42.500824+00:00"
        },
        "noteable": {
          "cell_type": "code"
        },
        "slideshow": {
          "slide_type": "slide"
        }
      },
      "outputs": [
        {
          "name": "stdout",
          "output_type": "stream",
          "text": [
            "Original List: ['apple', 'banana', 'cherry', 'date']\n",
            "First Fruit: apple\n",
            "Last Fruit: date\n",
            "Modified List: ['apple', 'blueberry', 'cherry', 'date']\n",
            "Appended List: ['apple', 'blueberry', 'cherry', 'date', 'elderberry']\n",
            "Person Dictionary: {'name': 'John', 'age': 30, 'is_student': False}\n",
            "Name: John\n",
            "Age: 30\n",
            "Updated Age: 31\n"
          ]
        }
      ],
      "source": [
        "# Lists\n",
        "fruits = ['apple', 'banana', 'cherry', 'date']\n",
        "print('Original List:', fruits)\n",
        "\n",
        "# Accessing elements\n",
        "print('First Fruit:', fruits[0])\n",
        "print('Last Fruit:', fruits[-1])\n",
        "\n",
        "# Modifying a list\n",
        "fruits[1] = 'blueberry'\n",
        "print('Modified List:', fruits)\n",
        "\n",
        "# Adding to a list\n",
        "fruits.append('elderberry')\n",
        "print('Appended List:', fruits)\n",
        "\n",
        "# Dictionaries\n",
        "person = {\n",
        "    'name': 'John',\n",
        "    'age': 30,\n",
        "    'is_student': False\n",
        "}\n",
        "print('Person Dictionary:', person)\n",
        "\n",
        "# Accessing dictionary values\n",
        "print('Name:', person['name'])\n",
        "print('Age:', person.get('age'))\n",
        "\n",
        "# Modifying a dictionary\n",
        "person['age'] = 31\n",
        "print('Updated Age:', person['age'])"
      ]
    },
    {
      "cell_type": "markdown",
      "id": "f90e20fb",
      "metadata": {
        "slideshow": {
          "slide_type": "slide"
        }
      },
      "source": [
        "## 8. Ternary Operator\n",
        "\n",
        "The ternary operator provides a shorthand way to write conditional statements. It's a concise way to evaluate expressions based on a condition.\n",
        "\n",
        "The syntax for the ternary operator is:\n",
        "\n",
        "```python\n",
        "value_if_true if condition else value_if_false\n",
        "```\n",
        "\n",
        "Let's see some examples of the ternary operator in action."
      ]
    },
    {
      "cell_type": "code",
      "execution_count": 9,
      "id": "767fdc17",
      "metadata": {
        "slideshow": {
          "slide_type": "slide"
        }
      },
      "outputs": [
        {
          "name": "stdout",
          "output_type": "stream",
          "text": [
            "Adult\n",
            "Pass\n"
          ]
        }
      ],
      "source": [
        "# Using the ternary operator\n",
        "age = 18\n",
        "status = 'Adult' if age >= 18 else 'Minor'\n",
        "print(status)\n",
        "\n",
        "# Another example\n",
        "score = 85\n",
        "result = 'Pass' if score >= 50 else 'Fail'\n",
        "print(result)"
      ]
    },
    {
      "cell_type": "markdown",
      "id": "84dbc775-305c-47d4-82d6-40261024b883",
      "metadata": {
        "noteable": {
          "cell_type": "markdown"
        },
        "slideshow": {
          "slide_type": "slide"
        }
      },
      "source": [
        "## 9. Loops in Python\n",
        "\n",
        "Loops are used in programming to execute a block of code repeatedly until a specified condition is met. Python provides two main types of loops:\n",
        "\n",
        "- **`for` loop**: Iterates over a sequence (like a list, tuple, dictionary, or string) or other iterable objects.\n",
        "- **`while` loop**: Executes a set of statements as long as a condition is true.\n",
        "\n",
        "Let's dive deeper into these loops with examples."
      ]
    },
    {
      "cell_type": "code",
      "execution_count": 10,
      "id": "9c5a5b38-b944-41ba-8564-0181714d048d",
      "metadata": {
        "noteable": {
          "cell_type": "code"
        },
        "slideshow": {
          "slide_type": "slide"
        }
      },
      "outputs": [
        {
          "name": "stdout",
          "output_type": "stream",
          "text": [
            "1\n",
            "2\n",
            "3\n",
            "4\n",
            "5\n",
            "Iteration: 0\n",
            "Iteration: 1\n",
            "Iteration: 2\n",
            "Iteration: 3\n",
            "Iteration: 4\n",
            "Count: 0\n",
            "Count: 1\n",
            "Count: 2\n"
          ]
        }
      ],
      "source": [
        "# for loop with a list\n",
        "numbers = [1, 2, 3, 4, 5]\n",
        "for num in numbers:\n",
        "    print(num)\n",
        "\n",
        "# for loop with a range\n",
        "for i in range(5):\n",
        "    print('Iteration:', i)\n",
        "\n",
        "# while loop\n",
        "count = 0\n",
        "while count < 3:\n",
        "    print('Count:', count)\n",
        "    count += 1"
      ]
    },
    {
      "cell_type": "markdown",
      "id": "d91adacd-f442-40e4-8292-af926065bef1",
      "metadata": {
        "noteable": {
          "cell_type": "markdown"
        },
        "slideshow": {
          "slide_type": "slide"
        }
      },
      "source": [
        "## 10. Classes in Python\n",
        "\n",
        "Python is an object-oriented programming language. This means that almost everything in Python is an object, with its properties and methods. A class is like an object constructor or a blueprint for creating objects.\n",
        "\n",
        "Classes encapsulate data for the object and methods to manipulate that data. Let's understand classes with a simple example."
      ]
    },
    {
      "cell_type": "code",
      "execution_count": 11,
      "id": "153c5abf-14c1-4639-965a-0cd4bb9e9651",
      "metadata": {
        "noteable": {
          "cell_type": "code"
        },
        "slideshow": {
          "slide_type": "slide"
        }
      },
      "outputs": [
        {
          "name": "stdout",
          "output_type": "stream",
          "text": [
            "Buddy is 3 years old\n",
            "Rex says Woof\n"
          ]
        }
      ],
      "source": [
        "# Defining a simple class\n",
        "class Dog:\n",
        "    # A class attribute\n",
        "    species = 'Canis familiaris'\n",
        "\n",
        "    # Initializer / Constructor\n",
        "    def __init__(self, name, age):\n",
        "        self.name = name\n",
        "        self.age = age\n",
        "\n",
        "    # Method to describe the dog\n",
        "    def description(self):\n",
        "        return f'{self.name} is {self.age} years old'\n",
        "\n",
        "    # Method to make the dog bark\n",
        "    def speak(self, sound):\n",
        "        return f'{self.name} says {sound}'\n",
        "\n",
        "# Creating instances of the Dog class\n",
        "dog1 = Dog('Buddy', 3)\n",
        "dog2 = Dog('Rex', 5)\n",
        "\n",
        "# Accessing attributes and methods\n",
        "print(dog1.description())\n",
        "print(dog2.speak('Woof'))"
      ]
    },
    {
      "cell_type": "markdown",
      "id": "a6fc7c5d-a6d5-416a-aa89-9716188bcc21",
      "metadata": {
        "noteable": {
          "cell_type": "markdown"
        },
        "slideshow": {
          "slide_type": "slide"
        }
      },
      "source": [
        "## 11. Enumerate and zip\n",
        "\n",
        "In Python, the `enumerate()` function is used to loop through a list (or any iterable) and retrieve both the index and the value of each item in the list. This can be particularly useful when you want to know the position of an item in the list.\n",
        "\n",
        "The zip function zips two lists together and creates a list of tuples.  This is often useful in loops.\n"
      ]
    },
    {
      "cell_type": "code",
      "execution_count": 12,
      "id": "ce99a59f-3be5-49cc-8055-a87597b297ca",
      "metadata": {
        "noteable": {
          "cell_type": "code"
        },
        "slideshow": {
          "slide_type": "slide"
        }
      },
      "outputs": [
        {
          "name": "stdout",
          "output_type": "stream",
          "text": [
            "Index: 0, Fruit: apple\n",
            "Index: 1, Fruit: banana\n",
            "Index: 2, Fruit: cherry\n",
            "Index: 3, Fruit: date\n",
            "Index: 0, Fruit: apple\n",
            "Index: 1, Fruit: banana\n",
            "Index: 2, Fruit: cherry\n",
            "Index: 3, Fruit: date\n"
          ]
        }
      ],
      "source": [
        "# List of fruits\n",
        "fruits = ['apple', 'banana', 'cherry', 'date']\n",
        "\n",
        "# Using enumerate to loop through the list with index and value\n",
        "for index, fruit in enumerate(fruits):\n",
        "    print(f'Index: {index}, Fruit: {fruit}')\n",
        "\n",
        "# Using zip to zip a range object and a list\n",
        "\n",
        "for index, fruit in zip(range(len(fruits)), fruits):\n",
        "    print(f'Index: {index}, Fruit: {fruit}')\n"
      ]
    },
    {
      "cell_type": "markdown",
      "id": "4281b4c6-851f-4eca-80c2-fa0fe0b9955e",
      "metadata": {
        "noteable": {
          "cell_type": "markdown"
        },
        "slideshow": {
          "slide_type": "slide"
        }
      },
      "source": [
        "## 13. List and dictionary comprehensions.\n",
        "\n",
        "\n",
        "### List Comprehensions\n",
        "List comprehensions provide a concise way to create lists. The syntax is:\n",
        "\n",
        "```python\n",
        "[expression for item in iterable if condition]\n",
        "```\n",
        "\n",
        "### Dictionary Comprehensions\n",
        "Similar to list comprehensions, dictionary comprehensions provide a concise way to create dictionaries. The syntax is:\n",
        "\n",
        "```python\n",
        "{key: value for item in iterable if condition}\n",
        "```\n",
        "\n",
        "Let's see some examples."
      ]
    },
    {
      "cell_type": "code",
      "execution_count": 13,
      "id": "f7a9d910-9aaa-4fb2-8fe2-e147aa30d42c",
      "metadata": {
        "noteable": {
          "cell_type": "code"
        },
        "slideshow": {
          "slide_type": "slide"
        }
      },
      "outputs": [
        {
          "name": "stdout",
          "output_type": "stream",
          "text": [
            "Squares: [0, 1, 4, 9, 16]\n",
            "Even Squares: [0, 4, 16]\n",
            "Squares Dictionary: {0: 0, 1: 1, 2: 4, 3: 9, 4: 16}\n",
            "Even Squares Dictionary: {0: 0, 2: 4, 4: 16}\n"
          ]
        }
      ],
      "source": [
        "# List comprehension to create a list of squares\n",
        "squares = [x**2 for x in range(5)]\n",
        "print('Squares:', squares)\n",
        "\n",
        "# List comprehension with condition\n",
        "even_squares = [x**2 for x in range(5) if x % 2 == 0]\n",
        "print('Even Squares:', even_squares)\n",
        "\n",
        "# Dictionary comprehension\n",
        "squares_dict = {x: x**2 for x in range(5)}\n",
        "print('Squares Dictionary:', squares_dict)\n",
        "\n",
        "# Dictionary comprehension with condition\n",
        "even_squares_dict = {x: x**2 for x in range(5) if x % 2 == 0}\n",
        "print('Even Squares Dictionary:', even_squares_dict)"
      ]
    },
    {
      "cell_type": "markdown",
      "id": "03708cb7-8614-4d78-9257-84a5c64a6d83",
      "metadata": {
        "noteable": {
          "cell_type": "markdown"
        },
        "slideshow": {
          "slide_type": "slide"
        }
      },
      "source": [
        "## 14. Arguments with Default Values\n",
        "\n",
        "In Python, you can define functions with default values for arguments. This means that if a value for a specific argument is not provided when the function is called, the default value will be used.\n",
        "\n",
        "The syntax for defining a function with default argument values is:\n",
        "\n",
        "```python\n",
        "def function_name(arg1=default_value1, arg2=default_value2, ...):\n",
        "    # function body\n",
        "```\n",
        "\n",
        "Let's see an example."
      ]
    },
    {
      "cell_type": "code",
      "execution_count": 14,
      "id": "dd28e9ee-ad8e-403a-b24b-00ac756a297f",
      "metadata": {
        "noteable": {
          "cell_type": "code"
        },
        "slideshow": {
          "slide_type": "slide"
        }
      },
      "outputs": [
        {
          "name": "stdout",
          "output_type": "stream",
          "text": [
            "Hello, World!\n",
            "Hello, Alice!\n"
          ]
        }
      ],
      "source": [
        "# Defining a function with default argument values\n",
        "def greet(name='World'):\n",
        "    return f'Hello, {name}!'\n",
        "\n",
        "# Calling the function without providing an argument\n",
        "print(greet())\n",
        "\n",
        "# Calling the function with an argument\n",
        "print(greet('Alice'))"
      ]
    },
    {
      "cell_type": "markdown",
      "id": "22fcd196-fc7d-42a2-9ff2-84d2e23df8b0",
      "metadata": {
        "noteable": {
          "cell_type": "markdown"
        },
        "slideshow": {
          "slide_type": "slide"
        }
      },
      "source": [
        "## 15. Keyword Arguments\n",
        "\n",
        "In Python, you can call functions using variable names. This is known as passing arguments using keywords. It allows you to specify which argument value corresponds to which parameter, making the code more readable and allowing you to skip certain arguments or rearrange the order in which they are passed.\n",
        "\n",
        "Let's see an example of calling a function using keyword arguments."
      ]
    },
    {
      "cell_type": "code",
      "execution_count": 15,
      "id": "c3712249-daa2-4730-96b7-92467c7aa32c",
      "metadata": {
        "noteable": {
          "cell_type": "code"
        },
        "slideshow": {
          "slide_type": "slide"
        }
      },
      "outputs": [
        {
          "name": "stdout",
          "output_type": "stream",
          "text": [
            "Bob is 25 years old. Student status: True\n"
          ]
        }
      ],
      "source": [
        "# Defining a function with multiple parameters\n",
        "def display_info(name, age, is_student):\n",
        "    return f'{name} is {age} years old. Student status: {is_student}'\n",
        "\n",
        "# Calling the function using keyword arguments\n",
        "info = display_info(age=25, name='Bob', is_student=True)\n",
        "print(info)"
      ]
    },
    {
      "cell_type": "markdown",
      "id": "2037e191-60ff-4f0a-a43d-075dfe9ab736",
      "metadata": {
        "noteable": {
          "cell_type": "markdown"
        },
        "slideshow": {
          "slide_type": "slide"
        }
      },
      "source": [
        "## 16. Local vs. Global Variables\n",
        "\n",
        "In Python, variables can be categorized as local or global based on their scope.\n",
        "\n",
        "- **Local Variables**: Variables declared inside a function or block are local to that function or block. They can be accessed only inside the function in which they are declared.\n",
        "- **Global Variables**: Variables declared outside a function or block are global variables. They can be accessed both inside and outside functions.\n",
        "\n",
        "Let's understand the difference between local and global variables with an example."
      ]
    },
    {
      "cell_type": "code",
      "execution_count": 16,
      "id": "32c47773-a3c1-4582-8f12-8aa93e07f67b",
      "metadata": {
        "noteable": {
          "cell_type": "code"
        },
        "slideshow": {
          "slide_type": "slide"
        }
      },
      "outputs": [
        {
          "name": "stdout",
          "output_type": "stream",
          "text": [
            "I am a global variable\n",
            "I am a local variable\n"
          ]
        }
      ],
      "source": [
        "# Global variable\n",
        "global_var = 'I am a global variable'\n",
        "\n",
        "def test_function():\n",
        "    # Local variable\n",
        "    local_var = 'I am a local variable'\n",
        "    print(global_var)\n",
        "    print(local_var)\n",
        "\n",
        "test_function()\n",
        "\n",
        "# This will raise an error as local_var is not accessible outside the function\n",
        "# print(local_var)"
      ]
    },
    {
      "cell_type": "markdown",
      "id": "4f6e8dd4-1393-4be8-a334-790db7a34ee3",
      "metadata": {
        "noteable": {
          "cell_type": "markdown"
        },
        "slideshow": {
          "slide_type": "slide"
        }
      },
      "source": [
        "## 17. Passing by Reference vs. Passing by Value\n",
        "\n",
        "When passing parameters to functions in Python, it's crucial to understand the difference between passing by reference and passing by value.\n",
        "\n",
        "- **Passing by Value**: When you pass a value type (like an integer or a string) to a function, a copy of the original variable is created, and the function works with this copy. Changes made to the copy inside the function do not affect the original variable.\n",
        "\n",
        "- **Passing by Reference**: When you pass a reference type (like a list or a dictionary) to a function, the function works directly with the original variable. Changes made to the variable inside the function affect the original variable.\n",
        "\n",
        "Let's see examples to understand the difference between the two."
      ]
    },
    {
      "cell_type": "code",
      "execution_count": 17,
      "id": "9083fe6d-c05d-4812-9492-5ab727d8fdc8",
      "metadata": {
        "noteable": {
          "cell_type": "code"
        },
        "slideshow": {
          "slide_type": "slide"
        }
      },
      "outputs": [
        {
          "name": "stdout",
          "output_type": "stream",
          "text": [
            "Original Value: 5\n",
            "Modified Value: 6\n",
            "Value after function call: 5\n",
            "\n",
            "Original List: [1, 2, 3]\n",
            "List after function call: [1, 2, 3, 4]\n"
          ]
        }
      ],
      "source": [
        "# Passing by Value\n",
        "def modify_value(x):\n",
        "    x = x + 1\n",
        "    return x\n",
        "\n",
        "num = 5\n",
        "print('Original Value:', num)\n",
        "print('Modified Value:', modify_value(num))\n",
        "print('Value after function call:', num)\n",
        "\n",
        "# Passing by Reference\n",
        "def modify_list(lst):\n",
        "    lst.append(4)\n",
        "\n",
        "numbers = [1, 2, 3]\n",
        "print('\\nOriginal List:', numbers)\n",
        "modify_list(numbers)\n",
        "print('List after function call:', numbers)"
      ]
    },
    {
      "cell_type": "markdown",
      "id": "7237ff33-9f6f-438d-b626-e728f37b86cf",
      "metadata": {
        "noteable": {
          "cell_type": "markdown"
        },
        "slideshow": {
          "slide_type": "slide"
        }
      },
      "source": [
        "## 18. Importing Libraries and Objects from Libraries\n",
        "\n",
        "In Python, a library (also known as a module) is a collection of functions and methods that allow you to perform various actions without writing your code. Python has a rich set of libraries that you can use to extend the functionality of your programs.\n",
        "\n",
        "To use a library in your code, you need to import it. There are several ways to import libraries and specific objects from libraries:\n",
        "\n",
        "1. **Importing an Entire Library**:\n",
        "   ```python\n",
        "   import library_name\n",
        "   ```\n",
        "   After importing, you can use the functions and objects from the library by prefixing them with the library name.\n",
        "\n",
        "2. **Importing Specific Objects from a Library**:\n",
        "   ```python\n",
        "   from library_name import object_name\n",
        "   ```\n",
        "   This allows you to use the imported object directly without prefixing it with the library name.\n",
        "\n",
        "3. **Importing All Objects from a Library**:\n",
        "   ```python\n",
        "   from library_name import *\n",
        "   ```\n",
        "   This imports all objects from the library, but it's generally not recommended as it can lead to naming conflicts and makes the code less readable.\n",
        "\n",
        "### Aliases\n",
        "Aliases are alternative names given to libraries or objects when they are imported. This can make the code more concise and often follows community conventions. For example, the `numpy` library is commonly imported with the alias `np`.\n",
        "\n",
        "The syntax for importing with an alias is:\n",
        "\n",
        "```python\n",
        "import library_name as alias_name\n",
        "```\n",
        "\n",
        "Let's see some examples of importing libraries and using aliases."
      ]
    },
    {
      "cell_type": "code",
      "execution_count": 18,
      "id": "fc7cf1a0-f00c-451d-8a4f-78f6da2695a4",
      "metadata": {
        "noteable": {
          "cell_type": "code"
        },
        "slideshow": {
          "slide_type": "slide"
        }
      },
      "outputs": [
        {
          "name": "stdout",
          "output_type": "stream",
          "text": [
            "Square root of 16: 4.0\n",
            "Today's date: 2023-08-22\n",
            "Current year: 2023\n"
          ]
        }
      ],
      "source": [
        "# Importing the entire math library\n",
        "import math\n",
        "print('Square root of 16:', math.sqrt(16))\n",
        "\n",
        "# Importing a specific object from the datetime library\n",
        "from datetime import date\n",
        "print(\"Today's date:\", date.today())\n",
        "\n",
        "# Importing a library with an alias\n",
        "import datetime as dt\n",
        "print('Current year:', dt.datetime.now().year)"
      ]
    }
  ],
  "metadata": {
    "kernel_info": {
      "name": "python3"
    },
    "kernelspec": {
      "display_name": "Python 3.9",
      "language": "python",
      "name": "python3"
    },
    "language_info": {
      "codemirror_mode": {
        "name": "ipython",
        "version": 3
      },
      "file_extension": ".py",
      "mimetype": "text/x-python",
      "name": "python",
      "nbconvert_exporter": "python",
      "pygments_lexer": "ipython3",
      "version": "3.10.8"
    },
    "noteable": {
      "last_delta_id": "30d02e5b-3b0f-4b42-ac1e-12b813754c6a",
      "last_transaction_id": "de182bf8-4069-4fe0-b450-8cd2de9e6da9"
    },
    "noteable-chatgpt": {
      "create_notebook": {
        "openai_conversation_id": "eed9268e-cefe-5f41-992f-c06db93f5886",
        "openai_ephemeral_user_id": "90d3f139-457e-5284-bd43-3886fb06a259",
        "openai_subdivision1_iso_code": "US-TX"
      }
    },
    "nteract": {
      "version": "noteable@2.9.0"
    },
    "selected_hardware_size": "small"
  },
  "nbformat": 4,
  "nbformat_minor": 5
}
