{
 "cells": [
  {
   "cell_type": "markdown",
   "metadata": {
    "slideshow": {
     "slide_type": "slide"
    }
   },
   "source": [
    "# Day 5\n",
    "\n",
    "### BUSI 520: Python for Business Research\n",
    "### Kerry Back, JGSB, Rice University"
   ]
  },
  {
   "cell_type": "markdown",
   "metadata": {
    "slideshow": {
     "slide_type": "slide"
    }
   },
   "source": [
    "## Today's plan\n",
    "\n",
    "- Other ways to run python (scripts) and using python on jgsrc1\n",
    "- Linear regression"
   ]
  },
  {
   "cell_type": "markdown",
   "metadata": {
    "slideshow": {
     "slide_type": "slide"
    }
   },
   "source": [
    "## 1. Scripts, environments, and jgsrc1"
   ]
  },
  {
   "cell_type": "markdown",
   "metadata": {
    "slideshow": {
     "slide_type": "slide"
    }
   },
   "source": [
    "### Python scripts\n",
    "\n",
    "- Scripts are text files with python code.  We can create a script with any text editor.\n",
    "- In VS Code, we can select File/New File/Python File.\n",
    "- We can also convert a notebook to a script in VS Code (more later).\n",
    "- Scripts are usually saved with the file extension .py.\n",
    "- We can run a script in VS Code (click run button at top) or at command line with `python scriptname.py`\n",
    "- Print statements will print to the console (terminal).  We can save files, figures, etc. as in a notebook."
   ]
  },
  {
   "cell_type": "markdown",
   "metadata": {
    "slideshow": {
     "slide_type": "slide"
    }
   },
   "source": [
    "### Why scripts?\n",
    "\n",
    "- For me, notebooks are for exploring.  I move around in the notebook, execute cells in the wrong order, add code that is not intended to be permanent just for experimenting or checking things and then may forget to delete it, etc.\n",
    "- If I want to save a record of what I did, to go back to when I next revise a paper, I save the code as a script.  Scripts execute in the order they were written, so they are easier to follow and a better record of what was done.\n",
    "- Also, scripts are very useful if you want to run code that will take a long time in the background on a remote machine (like jgsrc1)."
   ]
  },
  {
   "cell_type": "markdown",
   "metadata": {
    "slideshow": {
     "slide_type": "slide"
    }
   },
   "source": [
    "### Example\n",
    "\n",
    "- Select File/New File/Python file in VS Code.  \n",
    "- Type the following code into the file.\n",
    "\n",
    "```python\n",
    "\n",
    "    import pandas as pd\n",
    "\n",
    "    df = pd.DataFrame(\n",
    "        {\"a\": [1, 2, 3], \"b\": [4, 5, 6]}\n",
    "    )\n",
    "    df.to_csv(\"example.csv\")\n",
    "    print(df)\n",
    "    \n",
    "```\n",
    "- Click the \"run\" button at the top of the VS Code window."
   ]
  },
  {
   "cell_type": "markdown",
   "metadata": {
    "slideshow": {
     "slide_type": "slide"
    }
   },
   "source": [
    "### Running at the command line \n",
    "\n",
    "- Save the file as example.py.\n",
    "- Open a terminal window and navigate to the directory where example.py is saved (use cd directoryname to move around).\n",
    "- Type `python example.py` at the command line.\n",
    "- If command line stuff is new to you, do yourself a favor and spend a few minutes googling \"MS DOS shell commands.\""
   ]
  },
  {
   "cell_type": "markdown",
   "metadata": {
    "slideshow": {
     "slide_type": "slide"
    }
   },
   "source": [
    "### Exporting notebooks to scripts\n",
    "\n",
    "- After working in a notebook to write code, it is easy to export the notebook as a script.\n",
    "- Type the above code into multiple cells in a notebook (just break it up arbitrarily - for illustration).\n",
    "- Do CTRL-SHFT-P to open the command palette and find \"Jupyter: Export to Python Script.\"\n",
    "- The comments inserted between what were different cells in the notebook do not affect execution, but we can delete them to clean up the script."
   ]
  },
  {
   "cell_type": "markdown",
   "metadata": {
    "slideshow": {
     "slide_type": "slide"
    }
   },
   "source": [
    "### Running code on jgsrc1\n",
    "\n",
    "- Any SSH client: bitvise, remote desktop, etc.\n",
    "- jupyterhub.rice.edu in a browser\n",
    "- VS Code \n",
    "\n",
    "We can run either notebooks or scripts with either jupyterhub or VS Code. "
   ]
  },
  {
   "cell_type": "markdown",
   "metadata": {
    "slideshow": {
     "slide_type": "slide"
    }
   },
   "source": [
    "### Using VS Code on jgsrc1 \n",
    "\n",
    "- Go to the VS Code marketplace and install [Remote SSH from Microsoft](https://marketplace.visualstudio.com/items?itemName=ms-vscode-remote.remote-ssh)\n",
    "- Do CTRL-SHFT-P to open the command palette and type \"Remote-SSH: Add New SSH Host\" and enter username@jgsrc1.rice.edu.\n",
    "- Select File/New Window in VS Code.  This isn't necessary but it will allow you to work in two places at the same time.\n",
    "- For the remainder, you should be on Rice Owls not Rice Visitor.\n",
    "- Do CTRL-SHFT-P to open the command palette in the new window and type \"Remote-SSH: Connect to Host\" and select jgsrc1.\n",
    "- Enter your password.  You should be on the server in your home folder.  You can now work on the server just as on your own machine (though you have to enter your password again each time you execute \"Open Folder\")."
   ]
  },
  {
   "cell_type": "markdown",
   "metadata": {
    "slideshow": {
     "slide_type": "slide"
    }
   },
   "source": [
    "### Virtual environments\n",
    "\n",
    "- Everyone shares the same environment on jupyterhub.  So, you cannot control what packages or what versions of packages you have.\n",
    "- For using notebooks in VS Code or for running scripts, you can customize your python environment.\n",
    "- In VS Code on jgsrc1, do CTRL-SHFT-P and type \"Python: Select Interpreter\" and select \"Create Virtual Environment\"\n",
    "- You should end up with a new folder in your home directory called .venv.\n",
    "  - You could do the same thing in a terminal with `python -m venv .venv`\n",
    "  "
   ]
  },
  {
   "cell_type": "markdown",
   "metadata": {
    "slideshow": {
     "slide_type": "slide"
    }
   },
   "source": [
    "\n",
    "- You need to activate the environment to install packages in it.  Open a terminal pane in VS Code on the server.  Execute the following.\n",
    "    \n",
    "    ```bash\n",
    "\n",
    "        source .venv/bin/activate\n",
    "        pip install pandas matplotlib jupyter\n",
    "        \n",
    "    ```\n",
    "- You need to do the same each time you want to install packages.\n",
    "- Do CTRL-SHFT-P and type \"Python: Select Interpreter\" and select the one in .venv.  You're now running code in your new environment.\n"
   ]
  },
  {
   "cell_type": "markdown",
   "metadata": {
    "slideshow": {
     "slide_type": "slide"
    }
   },
   "source": [
    "- You can also create new environments on a Windows computer.  \n",
    "- The only change is that you use `.venv\\Scripts\\activate` instead of `source .venv/bin/activate` to activate the environment."
   ]
  },
  {
   "cell_type": "markdown",
   "metadata": {
    "slideshow": {
     "slide_type": "slide"
    }
   },
   "source": [
    "### Using tmux on linux\n",
    "\n",
    "- To run things on jgsrc1 that will keep running if you lose your connection (e.g., you close your laptop), run scripts with tmux.\n",
    "- You can do this from a VS Code connection or using any ssh client (e.g., bitvise) or a terminal window opened from jupyterhub.\n",
    "- At the command line type `tmux new -s mysessionname` to start a new session.\n",
    "- Activate your python environment within the tmux session (if you want) with `source .venv/bin/activate`.\n"
   ]
  },
  {
   "cell_type": "markdown",
   "metadata": {
    "slideshow": {
     "slide_type": "slide"
    }
   },
   "source": [
    "- Start your script running with `python myscript.py`.\n",
    "- Do CTRL-b and then d to detach from the session.\n",
    "- Do `tmux attach -t mysessionname` to reattach to the session.\n",
    "- You can have multiple sessions running simultaneously with different names.\n",
    "- Google 'tmux cheat sheet' for more details."
   ]
  },
  {
   "cell_type": "markdown",
   "metadata": {
    "slideshow": {
     "slide_type": "slide"
    }
   },
   "source": [
    "## 2. Regression\n",
    "\n",
    "- statsmodels implements OLS with HAC standard errors (Newey-West, etc.)\n",
    "- statsmodels has two flavors of OLS:  formula-based (like R) and array-based.\n",
    "- linearmodels is a possible Stata replacement with fixed effects, clustered standard errors, 2SLS, SUR, etc.\n",
    "- use statsmodels for repeated regressions and use linearmodels for more complex models.\n",
    "- pystout saves regression output to latex (python version of stata out).\n",
    "- scikit-learn implements OLS, LASSO, and Ridge."
   ]
  },
  {
   "cell_type": "markdown",
   "metadata": {
    "slideshow": {
     "slide_type": "slide"
    }
   },
   "source": [
    "### Lecture plan\n",
    "\n",
    "- We'll run the two flavors of statsmodels.\n",
    "- We'll look at an example of linearmodels and pystout.  You should check the linearmodels docs for more.\n",
    "- We'll code Fama-MacBeth.  linearmodels includes a Fama-MacBeth function but it is not as flexible as we might like (as far as I can tell).\n",
    "- We'll code rolling-window beta estimates.\n",
    "- LASSO and Ridge will be next week."
   ]
  },
  {
   "cell_type": "code",
   "execution_count": 83,
   "metadata": {
    "slideshow": {
     "slide_type": "slide"
    }
   },
   "outputs": [
    {
     "data": {
      "text/plain": [
       "Index(['wage', 'educ', 'exper', 'tenure', 'nonwhite', 'female', 'married',\n",
       "       'numdep', 'smsa', 'northcen', 'south', 'west', 'construc', 'ndurman',\n",
       "       'trcommpu', 'trade', 'services', 'profserv', 'profocc', 'clerocc',\n",
       "       'servocc', 'lwage', 'expersq', 'tenursq'],\n",
       "      dtype='object')"
      ]
     },
     "execution_count": 83,
     "metadata": {
      "slideshow": {
       "slide_type": "slide"
      }
     },
     "output_type": "execute_result"
    }
   ],
   "source": [
    "import numpy as np \n",
    "import pandas as pd\n",
    "\n",
    "df = pd.read_stata(\"WAGE1.DTA\")\n",
    "df.columns"
   ]
  },
  {
   "cell_type": "markdown",
   "metadata": {
    "slideshow": {
     "slide_type": "slide"
    }
   },
   "source": [
    "### Old-fashioned statsmodels \n",
    "\n",
    "-  pass X and y arrays \n",
    "- must add column of 1's to X to get an intercept\n",
    "- define model, fit it, then get results with .summary \n",
    "- there are other attributes to results, including .params, .pvalues, ..."
   ]
  },
  {
   "cell_type": "code",
   "execution_count": 84,
   "metadata": {
    "slideshow": {
     "slide_type": "slide"
    }
   },
   "outputs": [
    {
     "data": {
      "text/html": [
       "<table class=\"simpletable\">\n",
       "<caption>OLS Regression Results</caption>\n",
       "<tr>\n",
       "  <th>Dep. Variable:</th>          <td>wage</td>       <th>  R-squared:         </th> <td>   0.368</td>\n",
       "</tr>\n",
       "<tr>\n",
       "  <th>Model:</th>                   <td>OLS</td>       <th>  Adj. R-squared:    </th> <td>   0.361</td>\n",
       "</tr>\n",
       "<tr>\n",
       "  <th>Method:</th>             <td>Least Squares</td>  <th>  F-statistic:       </th> <td>   50.41</td>\n",
       "</tr>\n",
       "<tr>\n",
       "  <th>Date:</th>             <td>Wed, 11 Sep 2024</td> <th>  Prob (F-statistic):</th> <td>8.27e-49</td>\n",
       "</tr>\n",
       "<tr>\n",
       "  <th>Time:</th>                 <td>07:52:53</td>     <th>  Log-Likelihood:    </th> <td> -1312.3</td>\n",
       "</tr>\n",
       "<tr>\n",
       "  <th>No. Observations:</th>      <td>   526</td>      <th>  AIC:               </th> <td>   2639.</td>\n",
       "</tr>\n",
       "<tr>\n",
       "  <th>Df Residuals:</th>          <td>   519</td>      <th>  BIC:               </th> <td>   2668.</td>\n",
       "</tr>\n",
       "<tr>\n",
       "  <th>Df Model:</th>              <td>     6</td>      <th>                     </th>     <td> </td>   \n",
       "</tr>\n",
       "<tr>\n",
       "  <th>Covariance Type:</th>      <td>nonrobust</td>    <th>                     </th>     <td> </td>   \n",
       "</tr>\n",
       "</table>\n",
       "<table class=\"simpletable\">\n",
       "<tr>\n",
       "      <td></td>        <th>coef</th>     <th>std err</th>      <th>t</th>      <th>P>|t|</th>  <th>[0.025</th>    <th>0.975]</th>  \n",
       "</tr>\n",
       "<tr>\n",
       "  <th>const</th>    <td>   -1.6022</td> <td>    0.731</td> <td>   -2.192</td> <td> 0.029</td> <td>   -3.038</td> <td>   -0.166</td>\n",
       "</tr>\n",
       "<tr>\n",
       "  <th>educ</th>     <td>    0.5551</td> <td>    0.050</td> <td>   11.090</td> <td> 0.000</td> <td>    0.457</td> <td>    0.653</td>\n",
       "</tr>\n",
       "<tr>\n",
       "  <th>exper</th>    <td>    0.0187</td> <td>    0.012</td> <td>    1.557</td> <td> 0.120</td> <td>   -0.005</td> <td>    0.042</td>\n",
       "</tr>\n",
       "<tr>\n",
       "  <th>tenure</th>   <td>    0.1388</td> <td>    0.021</td> <td>    6.562</td> <td> 0.000</td> <td>    0.097</td> <td>    0.180</td>\n",
       "</tr>\n",
       "<tr>\n",
       "  <th>nonwhite</th> <td>   -0.0658</td> <td>    0.427</td> <td>   -0.154</td> <td> 0.877</td> <td>   -0.904</td> <td>    0.772</td>\n",
       "</tr>\n",
       "<tr>\n",
       "  <th>female</th>   <td>   -1.7424</td> <td>    0.267</td> <td>   -6.530</td> <td> 0.000</td> <td>   -2.267</td> <td>   -1.218</td>\n",
       "</tr>\n",
       "<tr>\n",
       "  <th>married</th>  <td>    0.5566</td> <td>    0.287</td> <td>    1.941</td> <td> 0.053</td> <td>   -0.007</td> <td>    1.120</td>\n",
       "</tr>\n",
       "</table>\n",
       "<table class=\"simpletable\">\n",
       "<tr>\n",
       "  <th>Omnibus:</th>       <td>188.311</td> <th>  Durbin-Watson:     </th> <td>   1.795</td> \n",
       "</tr>\n",
       "<tr>\n",
       "  <th>Prob(Omnibus):</th> <td> 0.000</td>  <th>  Jarque-Bera (JB):  </th> <td> 728.036</td> \n",
       "</tr>\n",
       "<tr>\n",
       "  <th>Skew:</th>          <td> 1.611</td>  <th>  Prob(JB):          </th> <td>8.11e-159</td>\n",
       "</tr>\n",
       "<tr>\n",
       "  <th>Kurtosis:</th>      <td> 7.779</td>  <th>  Cond. No.          </th> <td>    143.</td> \n",
       "</tr>\n",
       "</table><br/><br/>Notes:<br/>[1] Standard Errors assume that the covariance matrix of the errors is correctly specified."
      ],
      "text/latex": [
       "\\begin{center}\n",
       "\\begin{tabular}{lclc}\n",
       "\\toprule\n",
       "\\textbf{Dep. Variable:}    &       wage       & \\textbf{  R-squared:         } &     0.368   \\\\\n",
       "\\textbf{Model:}            &       OLS        & \\textbf{  Adj. R-squared:    } &     0.361   \\\\\n",
       "\\textbf{Method:}           &  Least Squares   & \\textbf{  F-statistic:       } &     50.41   \\\\\n",
       "\\textbf{Date:}             & Wed, 11 Sep 2024 & \\textbf{  Prob (F-statistic):} &  8.27e-49   \\\\\n",
       "\\textbf{Time:}             &     07:52:53     & \\textbf{  Log-Likelihood:    } &   -1312.3   \\\\\n",
       "\\textbf{No. Observations:} &         526      & \\textbf{  AIC:               } &     2639.   \\\\\n",
       "\\textbf{Df Residuals:}     &         519      & \\textbf{  BIC:               } &     2668.   \\\\\n",
       "\\textbf{Df Model:}         &           6      & \\textbf{                     } &             \\\\\n",
       "\\textbf{Covariance Type:}  &    nonrobust     & \\textbf{                     } &             \\\\\n",
       "\\bottomrule\n",
       "\\end{tabular}\n",
       "\\begin{tabular}{lcccccc}\n",
       "                  & \\textbf{coef} & \\textbf{std err} & \\textbf{t} & \\textbf{P$> |$t$|$} & \\textbf{[0.025} & \\textbf{0.975]}  \\\\\n",
       "\\midrule\n",
       "\\textbf{const}    &      -1.6022  &        0.731     &    -2.192  &         0.029        &       -3.038    &       -0.166     \\\\\n",
       "\\textbf{educ}     &       0.5551  &        0.050     &    11.090  &         0.000        &        0.457    &        0.653     \\\\\n",
       "\\textbf{exper}    &       0.0187  &        0.012     &     1.557  &         0.120        &       -0.005    &        0.042     \\\\\n",
       "\\textbf{tenure}   &       0.1388  &        0.021     &     6.562  &         0.000        &        0.097    &        0.180     \\\\\n",
       "\\textbf{nonwhite} &      -0.0658  &        0.427     &    -0.154  &         0.877        &       -0.904    &        0.772     \\\\\n",
       "\\textbf{female}   &      -1.7424  &        0.267     &    -6.530  &         0.000        &       -2.267    &       -1.218     \\\\\n",
       "\\textbf{married}  &       0.5566  &        0.287     &     1.941  &         0.053        &       -0.007    &        1.120     \\\\\n",
       "\\bottomrule\n",
       "\\end{tabular}\n",
       "\\begin{tabular}{lclc}\n",
       "\\textbf{Omnibus:}       & 188.311 & \\textbf{  Durbin-Watson:     } &     1.795  \\\\\n",
       "\\textbf{Prob(Omnibus):} &   0.000 & \\textbf{  Jarque-Bera (JB):  } &   728.036  \\\\\n",
       "\\textbf{Skew:}          &   1.611 & \\textbf{  Prob(JB):          } & 8.11e-159  \\\\\n",
       "\\textbf{Kurtosis:}      &   7.779 & \\textbf{  Cond. No.          } &      143.  \\\\\n",
       "\\bottomrule\n",
       "\\end{tabular}\n",
       "%\\caption{OLS Regression Results}\n",
       "\\end{center}\n",
       "\n",
       "Notes: \\newline\n",
       " [1] Standard Errors assume that the covariance matrix of the errors is correctly specified."
      ],
      "text/plain": [
       "<class 'statsmodels.iolib.summary.Summary'>\n",
       "\"\"\"\n",
       "                            OLS Regression Results                            \n",
       "==============================================================================\n",
       "Dep. Variable:                   wage   R-squared:                       0.368\n",
       "Model:                            OLS   Adj. R-squared:                  0.361\n",
       "Method:                 Least Squares   F-statistic:                     50.41\n",
       "Date:                Wed, 11 Sep 2024   Prob (F-statistic):           8.27e-49\n",
       "Time:                        07:52:53   Log-Likelihood:                -1312.3\n",
       "No. Observations:                 526   AIC:                             2639.\n",
       "Df Residuals:                     519   BIC:                             2668.\n",
       "Df Model:                           6                                         \n",
       "Covariance Type:            nonrobust                                         \n",
       "==============================================================================\n",
       "                 coef    std err          t      P>|t|      [0.025      0.975]\n",
       "------------------------------------------------------------------------------\n",
       "const         -1.6022      0.731     -2.192      0.029      -3.038      -0.166\n",
       "educ           0.5551      0.050     11.090      0.000       0.457       0.653\n",
       "exper          0.0187      0.012      1.557      0.120      -0.005       0.042\n",
       "tenure         0.1388      0.021      6.562      0.000       0.097       0.180\n",
       "nonwhite      -0.0658      0.427     -0.154      0.877      -0.904       0.772\n",
       "female        -1.7424      0.267     -6.530      0.000      -2.267      -1.218\n",
       "married        0.5566      0.287      1.941      0.053      -0.007       1.120\n",
       "==============================================================================\n",
       "Omnibus:                      188.311   Durbin-Watson:                   1.795\n",
       "Prob(Omnibus):                  0.000   Jarque-Bera (JB):              728.036\n",
       "Skew:                           1.611   Prob(JB):                    8.11e-159\n",
       "Kurtosis:                       7.779   Cond. No.                         143.\n",
       "==============================================================================\n",
       "\n",
       "Notes:\n",
       "[1] Standard Errors assume that the covariance matrix of the errors is correctly specified.\n",
       "\"\"\""
      ]
     },
     "execution_count": 84,
     "metadata": {
      "slideshow": {
       "slide_type": "slide"
      }
     },
     "output_type": "execute_result"
    }
   ],
   "source": [
    "import statsmodels.api as sm \n",
    "\n",
    "# right-hand side variables\n",
    "X = df[\n",
    "    [\n",
    "        \"educ\", \n",
    "        \"exper\", \n",
    "        \"tenure\", \n",
    "        \"nonwhite\", \n",
    "        \"female\", \n",
    "        \"married\"\n",
    "    ]\n",
    "]\n",
    "\n",
    "# include an intercept\n",
    "X = sm.add_constant(X)\n",
    "\n",
    "# left-hand side variable\n",
    "y = df.wage\n",
    "\n",
    "# define the model\n",
    "model = sm.OLS(exog=X, endog=y)\n",
    "\n",
    "# fit the model\n",
    "result = model.fit()\n",
    "\n",
    "# look at results\n",
    "result.summary()"
   ]
  },
  {
   "cell_type": "code",
   "execution_count": 86,
   "metadata": {
    "slideshow": {
     "slide_type": "slide"
    }
   },
   "outputs": [
    {
     "data": {
      "text/html": [
       "<table class=\"simpletable\">\n",
       "<tr>\n",
       "      <td></td>        <th>coef</th>     <th>std err</th>      <th>t</th>      <th>P>|t|</th>  <th>[0.025</th>    <th>0.975]</th>  \n",
       "</tr>\n",
       "<tr>\n",
       "  <th>const</th>    <td>   -1.6022</td> <td>    0.731</td> <td>   -2.192</td> <td> 0.029</td> <td>   -3.038</td> <td>   -0.166</td>\n",
       "</tr>\n",
       "<tr>\n",
       "  <th>educ</th>     <td>    0.5551</td> <td>    0.050</td> <td>   11.090</td> <td> 0.000</td> <td>    0.457</td> <td>    0.653</td>\n",
       "</tr>\n",
       "<tr>\n",
       "  <th>exper</th>    <td>    0.0187</td> <td>    0.012</td> <td>    1.557</td> <td> 0.120</td> <td>   -0.005</td> <td>    0.042</td>\n",
       "</tr>\n",
       "<tr>\n",
       "  <th>tenure</th>   <td>    0.1388</td> <td>    0.021</td> <td>    6.562</td> <td> 0.000</td> <td>    0.097</td> <td>    0.180</td>\n",
       "</tr>\n",
       "<tr>\n",
       "  <th>nonwhite</th> <td>   -0.0658</td> <td>    0.427</td> <td>   -0.154</td> <td> 0.877</td> <td>   -0.904</td> <td>    0.772</td>\n",
       "</tr>\n",
       "<tr>\n",
       "  <th>female</th>   <td>   -1.7424</td> <td>    0.267</td> <td>   -6.530</td> <td> 0.000</td> <td>   -2.267</td> <td>   -1.218</td>\n",
       "</tr>\n",
       "<tr>\n",
       "  <th>married</th>  <td>    0.5566</td> <td>    0.287</td> <td>    1.941</td> <td> 0.053</td> <td>   -0.007</td> <td>    1.120</td>\n",
       "</tr>\n",
       "</table>"
      ],
      "text/latex": [
       "\\begin{center}\n",
       "\\begin{tabular}{lcccccc}\n",
       "\\toprule\n",
       "                  & \\textbf{coef} & \\textbf{std err} & \\textbf{t} & \\textbf{P$> |$t$|$} & \\textbf{[0.025} & \\textbf{0.975]}  \\\\\n",
       "\\midrule\n",
       "\\textbf{const}    &      -1.6022  &        0.731     &    -2.192  &         0.029        &       -3.038    &       -0.166     \\\\\n",
       "\\textbf{educ}     &       0.5551  &        0.050     &    11.090  &         0.000        &        0.457    &        0.653     \\\\\n",
       "\\textbf{exper}    &       0.0187  &        0.012     &     1.557  &         0.120        &       -0.005    &        0.042     \\\\\n",
       "\\textbf{tenure}   &       0.1388  &        0.021     &     6.562  &         0.000        &        0.097    &        0.180     \\\\\n",
       "\\textbf{nonwhite} &      -0.0658  &        0.427     &    -0.154  &         0.877        &       -0.904    &        0.772     \\\\\n",
       "\\textbf{female}   &      -1.7424  &        0.267     &    -6.530  &         0.000        &       -2.267    &       -1.218     \\\\\n",
       "\\textbf{married}  &       0.5566  &        0.287     &     1.941  &         0.053        &       -0.007    &        1.120     \\\\\n",
       "\\bottomrule\n",
       "\\end{tabular}\n",
       "\\end{center}"
      ],
      "text/plain": [
       "<class 'statsmodels.iolib.table.SimpleTable'>"
      ]
     },
     "execution_count": 86,
     "metadata": {
      "slideshow": {
       "slide_type": "slide"
      }
     },
     "output_type": "execute_result"
    }
   ],
   "source": [
    "# if you want only the main table \n",
    "\n",
    "result.summary().tables[1]"
   ]
  },
  {
   "cell_type": "code",
   "execution_count": 102,
   "metadata": {
    "slideshow": {
     "slide_type": "slide"
    }
   },
   "outputs": [
    {
     "name": "stderr",
     "output_type": "stream",
     "text": [
      "C:\\Users\\kerry\\AppData\\Local\\Temp\\ipykernel_22164\\2205508342.py:4: FutureWarning: Passing literal html to 'read_html' is deprecated and will be removed in a future version. To read from a literal string, wrap it in a 'StringIO' object.\n",
      "  table_as_df = pd.read_html(table_as_html, header=0, index_col=0)[0]\n"
     ]
    },
    {
     "data": {
      "text/html": [
       "<div>\n",
       "<style scoped>\n",
       "    .dataframe tbody tr th:only-of-type {\n",
       "        vertical-align: middle;\n",
       "    }\n",
       "\n",
       "    .dataframe tbody tr th {\n",
       "        vertical-align: top;\n",
       "    }\n",
       "\n",
       "    .dataframe thead th {\n",
       "        text-align: right;\n",
       "    }\n",
       "</style>\n",
       "<table border=\"1\" class=\"dataframe\">\n",
       "  <thead>\n",
       "    <tr style=\"text-align: right;\">\n",
       "      <th></th>\n",
       "      <th>coef</th>\n",
       "      <th>std err</th>\n",
       "      <th>t</th>\n",
       "      <th>P&gt;|t|</th>\n",
       "      <th>[0.025</th>\n",
       "      <th>0.975]</th>\n",
       "    </tr>\n",
       "  </thead>\n",
       "  <tbody>\n",
       "    <tr>\n",
       "      <th>const</th>\n",
       "      <td>-1.602</td>\n",
       "      <td>0.731</td>\n",
       "      <td>-2.192</td>\n",
       "      <td>0.029</td>\n",
       "      <td>-3.038</td>\n",
       "      <td>-0.166</td>\n",
       "    </tr>\n",
       "    <tr>\n",
       "      <th>educ</th>\n",
       "      <td>0.555</td>\n",
       "      <td>0.050</td>\n",
       "      <td>11.090</td>\n",
       "      <td>0.000</td>\n",
       "      <td>0.457</td>\n",
       "      <td>0.653</td>\n",
       "    </tr>\n",
       "    <tr>\n",
       "      <th>exper</th>\n",
       "      <td>0.019</td>\n",
       "      <td>0.012</td>\n",
       "      <td>1.557</td>\n",
       "      <td>0.120</td>\n",
       "      <td>-0.005</td>\n",
       "      <td>0.042</td>\n",
       "    </tr>\n",
       "    <tr>\n",
       "      <th>tenure</th>\n",
       "      <td>0.139</td>\n",
       "      <td>0.021</td>\n",
       "      <td>6.562</td>\n",
       "      <td>0.000</td>\n",
       "      <td>0.097</td>\n",
       "      <td>0.180</td>\n",
       "    </tr>\n",
       "    <tr>\n",
       "      <th>nonwhite</th>\n",
       "      <td>-0.066</td>\n",
       "      <td>0.427</td>\n",
       "      <td>-0.154</td>\n",
       "      <td>0.877</td>\n",
       "      <td>-0.904</td>\n",
       "      <td>0.772</td>\n",
       "    </tr>\n",
       "    <tr>\n",
       "      <th>female</th>\n",
       "      <td>-1.742</td>\n",
       "      <td>0.267</td>\n",
       "      <td>-6.530</td>\n",
       "      <td>0.000</td>\n",
       "      <td>-2.267</td>\n",
       "      <td>-1.218</td>\n",
       "    </tr>\n",
       "    <tr>\n",
       "      <th>married</th>\n",
       "      <td>0.557</td>\n",
       "      <td>0.287</td>\n",
       "      <td>1.941</td>\n",
       "      <td>0.053</td>\n",
       "      <td>-0.007</td>\n",
       "      <td>1.120</td>\n",
       "    </tr>\n",
       "  </tbody>\n",
       "</table>\n",
       "</div>"
      ],
      "text/plain": [
       "           coef  std err       t  P>|t|  [0.025  0.975]\n",
       "const    -1.602    0.731  -2.192  0.029  -3.038  -0.166\n",
       "educ      0.555    0.050  11.090  0.000   0.457   0.653\n",
       "exper     0.019    0.012   1.557  0.120  -0.005   0.042\n",
       "tenure    0.139    0.021   6.562  0.000   0.097   0.180\n",
       "nonwhite -0.066    0.427  -0.154  0.877  -0.904   0.772\n",
       "female   -1.742    0.267  -6.530  0.000  -2.267  -1.218\n",
       "married   0.557    0.287   1.941  0.053  -0.007   1.120"
      ]
     },
     "execution_count": 102,
     "metadata": {
      "slideshow": {
       "slide_type": "slide"
      }
     },
     "output_type": "execute_result"
    }
   ],
   "source": [
    "# getting the main table as a dataframe \n",
    "# we can ignore the future warning (for now!)\n",
    "\n",
    "table_as_html = result.summary().tables[1].as_html()\n",
    "table_as_df = pd.read_html(table_as_html, header=0, index_col=0)[0]\n",
    "table_as_df.round(3)"
   ]
  },
  {
   "cell_type": "code",
   "execution_count": 101,
   "metadata": {
    "slideshow": {
     "slide_type": "slide"
    }
   },
   "outputs": [],
   "source": [
    "# save to excel (may need to pip install openpyxl)\n",
    "\n",
    "table_as_df.to_excel(\"table.xlsx\")\n",
    "\n",
    "# save to latex\n",
    "\n",
    "table_as_df.to_latex(\"table.tex\")"
   ]
  },
  {
   "cell_type": "code",
   "execution_count": 14,
   "metadata": {
    "slideshow": {
     "slide_type": "slide"
    }
   },
   "outputs": [
    {
     "data": {
      "text/html": [
       "<table class=\"simpletable\">\n",
       "<tr>\n",
       "      <td></td>        <th>coef</th>     <th>std err</th>      <th>t</th>      <th>P>|t|</th>  <th>[0.025</th>    <th>0.975]</th>  \n",
       "</tr>\n",
       "<tr>\n",
       "  <th>const</th>    <td>   -1.6022</td> <td>    0.731</td> <td>   -2.192</td> <td> 0.029</td> <td>   -3.038</td> <td>   -0.166</td>\n",
       "</tr>\n",
       "<tr>\n",
       "  <th>educ</th>     <td>    1.5371</td> <td>    0.139</td> <td>   11.090</td> <td> 0.000</td> <td>    1.265</td> <td>    1.809</td>\n",
       "</tr>\n",
       "<tr>\n",
       "  <th>exper</th>    <td>    0.2544</td> <td>    0.163</td> <td>    1.557</td> <td> 0.120</td> <td>   -0.067</td> <td>    0.575</td>\n",
       "</tr>\n",
       "<tr>\n",
       "  <th>tenure</th>   <td>    1.0030</td> <td>    0.153</td> <td>    6.562</td> <td> 0.000</td> <td>    0.703</td> <td>    1.303</td>\n",
       "</tr>\n",
       "<tr>\n",
       "  <th>nonwhite</th> <td>   -0.0658</td> <td>    0.427</td> <td>   -0.154</td> <td> 0.877</td> <td>   -0.904</td> <td>    0.772</td>\n",
       "</tr>\n",
       "<tr>\n",
       "  <th>female</th>   <td>   -1.7424</td> <td>    0.267</td> <td>   -6.530</td> <td> 0.000</td> <td>   -2.267</td> <td>   -1.218</td>\n",
       "</tr>\n",
       "<tr>\n",
       "  <th>married</th>  <td>    0.5566</td> <td>    0.287</td> <td>    1.941</td> <td> 0.053</td> <td>   -0.007</td> <td>    1.120</td>\n",
       "</tr>\n",
       "</table>"
      ],
      "text/latex": [
       "\\begin{center}\n",
       "\\begin{tabular}{lcccccc}\n",
       "\\toprule\n",
       "                  & \\textbf{coef} & \\textbf{std err} & \\textbf{t} & \\textbf{P$> |$t$|$} & \\textbf{[0.025} & \\textbf{0.975]}  \\\\\n",
       "\\midrule\n",
       "\\textbf{const}    &      -1.6022  &        0.731     &    -2.192  &         0.029        &       -3.038    &       -0.166     \\\\\n",
       "\\textbf{educ}     &       1.5371  &        0.139     &    11.090  &         0.000        &        1.265    &        1.809     \\\\\n",
       "\\textbf{exper}    &       0.2544  &        0.163     &     1.557  &         0.120        &       -0.067    &        0.575     \\\\\n",
       "\\textbf{tenure}   &       1.0030  &        0.153     &     6.562  &         0.000        &        0.703    &        1.303     \\\\\n",
       "\\textbf{nonwhite} &      -0.0658  &        0.427     &    -0.154  &         0.877        &       -0.904    &        0.772     \\\\\n",
       "\\textbf{female}   &      -1.7424  &        0.267     &    -6.530  &         0.000        &       -2.267    &       -1.218     \\\\\n",
       "\\textbf{married}  &       0.5566  &        0.287     &     1.941  &         0.053        &       -0.007    &        1.120     \\\\\n",
       "\\bottomrule\n",
       "\\end{tabular}\n",
       "\\end{center}"
      ],
      "text/plain": [
       "<class 'statsmodels.iolib.table.SimpleTable'>"
      ]
     },
     "execution_count": 14,
     "metadata": {
      "slideshow": {
       "slide_type": "slide"
      }
     },
     "output_type": "execute_result"
    }
   ],
   "source": [
    "# standardize regressors \n",
    "\n",
    "for col in [\"educ\", \"exper\", \"tenure\"]:\n",
    "    X[col] = X[col] / X[col].std()\n",
    "\n",
    "sm.OLS(exog=X, endog=y).fit().summary().tables[1]"
   ]
  },
  {
   "cell_type": "code",
   "execution_count": null,
   "metadata": {"slideshow": {"slide_type": "slide"}},
   "outputs": [],
   "source": [
    "# more compactly,\n",
    "\n",
    "X[[\"educ\", \"exper\", \"tenure\"]] /= X[[\"educ\", \"exper\", \"tenure\"]].std()"
   ]
  },
  {
   "cell_type": "markdown",
   "metadata": {
    "slideshow": {
     "slide_type": "slide"
    }
   },
   "source": [
    "### R-like statsmodels\n",
    "\n",
    "- R-like formula, pass dataframe containing the data to the function\n",
    "- Can include transformations of variables within the formula, including interactions\n",
    "- Includes intercept by default \n",
    "- If you don't want intercept use -1 in the formula\n",
    "- Do model.fit().summary() to get the summary or .params or whatever like before.\n",
    "- Convert to dataframe and save to excel or latex as before."
   ]
  },
  {
   "cell_type": "code",
   "execution_count": 24,
   "metadata": {
    "slideshow": {
     "slide_type": "slide"
    }
   },
   "outputs": [
    {
     "data": {
      "text/html": [
       "<table class=\"simpletable\">\n",
       "<tr>\n",
       "        <td></td>           <th>coef</th>     <th>std err</th>      <th>t</th>      <th>P>|t|</th>  <th>[0.025</th>    <th>0.975]</th>  \n",
       "</tr>\n",
       "<tr>\n",
       "  <th>educ</th>          <td>    0.4237</td> <td>    0.024</td> <td>   17.734</td> <td> 0.000</td> <td>    0.377</td> <td>    0.471</td>\n",
       "</tr>\n",
       "<tr>\n",
       "  <th>np.log(exper)</th> <td>    0.3510</td> <td>    0.139</td> <td>    2.521</td> <td> 0.012</td> <td>    0.077</td> <td>    0.625</td>\n",
       "</tr>\n",
       "<tr>\n",
       "  <th>tenure</th>        <td>    0.1247</td> <td>    0.021</td> <td>    6.072</td> <td> 0.000</td> <td>    0.084</td> <td>    0.165</td>\n",
       "</tr>\n",
       "<tr>\n",
       "  <th>nonwhite</th>      <td>   -0.2982</td> <td>    0.424</td> <td>   -0.703</td> <td> 0.482</td> <td>   -1.131</td> <td>    0.535</td>\n",
       "</tr>\n",
       "<tr>\n",
       "  <th>female</th>        <td>   -2.6244</td> <td>    1.015</td> <td>   -2.585</td> <td> 0.010</td> <td>   -4.619</td> <td>   -0.630</td>\n",
       "</tr>\n",
       "<tr>\n",
       "  <th>married</th>       <td>    0.2517</td> <td>    0.303</td> <td>    0.830</td> <td> 0.407</td> <td>   -0.344</td> <td>    0.848</td>\n",
       "</tr>\n",
       "<tr>\n",
       "  <th>educ:female</th>   <td>    0.0503</td> <td>    0.081</td> <td>    0.620</td> <td> 0.536</td> <td>   -0.109</td> <td>    0.210</td>\n",
       "</tr>\n",
       "</table>"
      ],
      "text/latex": [
       "\\begin{center}\n",
       "\\begin{tabular}{lcccccc}\n",
       "\\toprule\n",
       "                       & \\textbf{coef} & \\textbf{std err} & \\textbf{t} & \\textbf{P$> |$t$|$} & \\textbf{[0.025} & \\textbf{0.975]}  \\\\\n",
       "\\midrule\n",
       "\\textbf{educ}          &       0.4237  &        0.024     &    17.734  &         0.000        &        0.377    &        0.471     \\\\\n",
       "\\textbf{np.log(exper)} &       0.3510  &        0.139     &     2.521  &         0.012        &        0.077    &        0.625     \\\\\n",
       "\\textbf{tenure}        &       0.1247  &        0.021     &     6.072  &         0.000        &        0.084    &        0.165     \\\\\n",
       "\\textbf{nonwhite}      &      -0.2982  &        0.424     &    -0.703  &         0.482        &       -1.131    &        0.535     \\\\\n",
       "\\textbf{female}        &      -2.6244  &        1.015     &    -2.585  &         0.010        &       -4.619    &       -0.630     \\\\\n",
       "\\textbf{married}       &       0.2517  &        0.303     &     0.830  &         0.407        &       -0.344    &        0.848     \\\\\n",
       "\\textbf{educ:female}   &       0.0503  &        0.081     &     0.620  &         0.536        &       -0.109    &        0.210     \\\\\n",
       "\\bottomrule\n",
       "\\end{tabular}\n",
       "\\end{center}"
      ],
      "text/plain": [
       "<class 'statsmodels.iolib.table.SimpleTable'>"
      ]
     },
     "execution_count": 24,
     "metadata": {
      "slideshow": {
       "slide_type": "slide"
      }
     },
     "output_type": "execute_result"
    }
   ],
   "source": [
    "import statsmodels.formula.api as smf\n",
    "\n",
    "model = smf.ols(\n",
    "    \"\"\" \n",
    "    wage ~ educ + np.log(exper) + tenure**2 + nonwhite \n",
    "         + female + married + educ*female - 1\n",
    "    \"\"\",\n",
    "    data=df\n",
    ")\n",
    "result = model.fit()\n",
    "result.summary().tables[1]"
   ]
  },
  {
   "cell_type": "code",
   "execution_count": 20,
   "metadata": {
    "slideshow": {
     "slide_type": "slide"
    }
   },
   "outputs": [
    {
     "name": "stdout",
     "output_type": "stream",
     "text": [
      "Help on method fit in module statsmodels.regression.linear_model:\n",
      "\n",
      "fit(method: \"Literal['pinv', 'qr']\" = 'pinv', cov_type: \"Literal['nonrobust', 'fixed scale', 'HC0', 'HC1', 'HC2', 'HC3', 'HAC', 'hac-panel', 'hac-groupsum', 'cluster']\" = 'nonrobust', cov_kwds=None, use_t: 'bool | None' = None, **kwargs) method of statsmodels.regression.linear_model.OLS instance\n",
      "    Full fit of the model.\n",
      "\n",
      "    The results include an estimate of covariance matrix, (whitened)\n",
      "    residuals and an estimate of scale.\n",
      "\n",
      "    Parameters\n",
      "    ----------\n",
      "    method : str, optional\n",
      "        Can be \"pinv\", \"qr\".  \"pinv\" uses the Moore-Penrose pseudoinverse\n",
      "        to solve the least squares problem. \"qr\" uses the QR\n",
      "        factorization.\n",
      "    cov_type : str, optional\n",
      "        See `regression.linear_model.RegressionResults` for a description\n",
      "        of the available covariance estimators.\n",
      "    cov_kwds : list or None, optional\n",
      "        See `linear_model.RegressionResults.get_robustcov_results` for a\n",
      "        description required keywords for alternative covariance\n",
      "        estimators.\n",
      "    use_t : bool, optional\n",
      "        Flag indicating to use the Student's t distribution when computing\n",
      "        p-values.  Default behavior depends on cov_type. See\n",
      "        `linear_model.RegressionResults.get_robustcov_results` for\n",
      "        implementation details.\n",
      "    **kwargs\n",
      "        Additional keyword arguments that contain information used when\n",
      "        constructing a model using the formula interface.\n",
      "\n",
      "    Returns\n",
      "    -------\n",
      "    RegressionResults\n",
      "        The model estimation results.\n",
      "\n",
      "    See Also\n",
      "    --------\n",
      "    RegressionResults\n",
      "        The results container.\n",
      "    RegressionResults.get_robustcov_results\n",
      "        A method to change the covariance estimator used when fitting the\n",
      "        model.\n",
      "\n",
      "    Notes\n",
      "    -----\n",
      "    The fit method uses the pseudoinverse of the design/exogenous variables\n",
      "    to solve the least squares minimization.\n",
      "\n"
     ]
    }
   ],
   "source": [
    "# the covariance estimator to use when computing std errors is passed \n",
    "# as an argument to .fit() in both statsmodels flavors\n",
    "\n",
    "help(model.fit)"
   ]
  },
  {
   "cell_type": "markdown",
   "metadata": {
    "slideshow": {
     "slide_type": "slide"
    }
   },
   "source": [
    "- [Covariance estimators](https://www.statsmodels.org/dev/generated/statsmodels.regression.linear_model.RegressionResults.get_robustcov_results.html)\n",
    "\n",
    "- Newey-West is HAC with Bartlett kernel."
   ]
  },
  {
   "cell_type": "markdown",
   "metadata": {
    "slideshow": {
     "slide_type": "slide"
    }
   },
   "source": [
    "### Logit\n",
    "\n",
    "You can also run logit with either old-fashioned or R-like statsmodels."
   ]
  },
  {
   "cell_type": "code",
   "execution_count": 23,
   "metadata": {
    "slideshow": {
     "slide_type": "slide"
    }
   },
   "outputs": [
    {
     "name": "stdout",
     "output_type": "stream",
     "text": [
      "Optimization terminated successfully.\n",
      "         Current function value: 0.622458\n",
      "         Iterations 6\n"
     ]
    },
    {
     "data": {
      "text/html": [
       "<table class=\"simpletable\">\n",
       "<tr>\n",
       "      <td></td>         <th>coef</th>     <th>std err</th>      <th>z</th>      <th>P>|z|</th>  <th>[0.025</th>    <th>0.975]</th>  \n",
       "</tr>\n",
       "<tr>\n",
       "  <th>Intercept</th> <td>    1.3893</td> <td>    0.215</td> <td>    6.458</td> <td> 0.000</td> <td>    0.968</td> <td>    1.811</td>\n",
       "</tr>\n",
       "<tr>\n",
       "  <th>wage</th>      <td>   -0.2654</td> <td>    0.037</td> <td>   -7.096</td> <td> 0.000</td> <td>   -0.339</td> <td>   -0.192</td>\n",
       "</tr>\n",
       "</table>"
      ],
      "text/latex": [
       "\\begin{center}\n",
       "\\begin{tabular}{lcccccc}\n",
       "\\toprule\n",
       "                   & \\textbf{coef} & \\textbf{std err} & \\textbf{z} & \\textbf{P$> |$z$|$} & \\textbf{[0.025} & \\textbf{0.975]}  \\\\\n",
       "\\midrule\n",
       "\\textbf{Intercept} &       1.3893  &        0.215     &     6.458  &         0.000        &        0.968    &        1.811     \\\\\n",
       "\\textbf{wage}      &      -0.2654  &        0.037     &    -7.096  &         0.000        &       -0.339    &       -0.192     \\\\\n",
       "\\bottomrule\n",
       "\\end{tabular}\n",
       "\\end{center}"
      ],
      "text/plain": [
       "<class 'statsmodels.iolib.table.SimpleTable'>"
      ]
     },
     "execution_count": 23,
     "metadata": {
      "slideshow": {
       "slide_type": "slide"
      }
     },
     "output_type": "execute_result"
    }
   ],
   "source": [
    "smf.logit(\"female ~ wage\", df).fit().summary().tables[1]"
   ]
  },
  {
   "cell_type": "markdown",
   "metadata": {
    "slideshow": {
     "slide_type": "slide"
    }
   },
   "source": [
    "### Linearmodels\n",
    "\n",
    "- created by [Kevin Sheppard](https://www.economics.ox.ac.uk/people/kevin-sheppard) \n",
    "- [docs](https://bashtage.github.io/linearmodels/) are very good\n",
    "- has R-like formula option\n",
    "- define model, fit, and then get summary like before - but .summary instead of .summary()\n",
    "- pass covariance matrix type to fit method as before"
   ]
  },
  {
   "cell_type": "code",
   "execution_count": 38,
   "metadata": {
    "slideshow": {
     "slide_type": "slide"
    }
   },
   "outputs": [
    {
     "data": {
      "text/html": [
       "<div>\n",
       "<style scoped>\n",
       "    .dataframe tbody tr th:only-of-type {\n",
       "        vertical-align: middle;\n",
       "    }\n",
       "\n",
       "    .dataframe tbody tr th {\n",
       "        vertical-align: top;\n",
       "    }\n",
       "\n",
       "    .dataframe thead th {\n",
       "        text-align: right;\n",
       "    }\n",
       "</style>\n",
       "<table border=\"1\" class=\"dataframe\">\n",
       "  <thead>\n",
       "    <tr style=\"text-align: right;\">\n",
       "      <th></th>\n",
       "      <th></th>\n",
       "      <th>black</th>\n",
       "      <th>exper</th>\n",
       "      <th>hisp</th>\n",
       "      <th>hours</th>\n",
       "      <th>married</th>\n",
       "      <th>educ</th>\n",
       "      <th>union</th>\n",
       "      <th>lwage</th>\n",
       "      <th>expersq</th>\n",
       "      <th>occupation</th>\n",
       "    </tr>\n",
       "    <tr>\n",
       "      <th>nr</th>\n",
       "      <th>year</th>\n",
       "      <th></th>\n",
       "      <th></th>\n",
       "      <th></th>\n",
       "      <th></th>\n",
       "      <th></th>\n",
       "      <th></th>\n",
       "      <th></th>\n",
       "      <th></th>\n",
       "      <th></th>\n",
       "      <th></th>\n",
       "    </tr>\n",
       "  </thead>\n",
       "  <tbody>\n",
       "    <tr>\n",
       "      <th rowspan=\"5\" valign=\"top\">13</th>\n",
       "      <th>1980</th>\n",
       "      <td>0</td>\n",
       "      <td>1</td>\n",
       "      <td>0</td>\n",
       "      <td>2672</td>\n",
       "      <td>0</td>\n",
       "      <td>14</td>\n",
       "      <td>0</td>\n",
       "      <td>1.197540</td>\n",
       "      <td>1</td>\n",
       "      <td>9</td>\n",
       "    </tr>\n",
       "    <tr>\n",
       "      <th>1981</th>\n",
       "      <td>0</td>\n",
       "      <td>2</td>\n",
       "      <td>0</td>\n",
       "      <td>2320</td>\n",
       "      <td>0</td>\n",
       "      <td>14</td>\n",
       "      <td>1</td>\n",
       "      <td>1.853060</td>\n",
       "      <td>4</td>\n",
       "      <td>9</td>\n",
       "    </tr>\n",
       "    <tr>\n",
       "      <th>1982</th>\n",
       "      <td>0</td>\n",
       "      <td>3</td>\n",
       "      <td>0</td>\n",
       "      <td>2940</td>\n",
       "      <td>0</td>\n",
       "      <td>14</td>\n",
       "      <td>0</td>\n",
       "      <td>1.344462</td>\n",
       "      <td>9</td>\n",
       "      <td>9</td>\n",
       "    </tr>\n",
       "    <tr>\n",
       "      <th>1983</th>\n",
       "      <td>0</td>\n",
       "      <td>4</td>\n",
       "      <td>0</td>\n",
       "      <td>2960</td>\n",
       "      <td>0</td>\n",
       "      <td>14</td>\n",
       "      <td>0</td>\n",
       "      <td>1.433213</td>\n",
       "      <td>16</td>\n",
       "      <td>9</td>\n",
       "    </tr>\n",
       "    <tr>\n",
       "      <th>1984</th>\n",
       "      <td>0</td>\n",
       "      <td>5</td>\n",
       "      <td>0</td>\n",
       "      <td>3071</td>\n",
       "      <td>0</td>\n",
       "      <td>14</td>\n",
       "      <td>0</td>\n",
       "      <td>1.568125</td>\n",
       "      <td>25</td>\n",
       "      <td>5</td>\n",
       "    </tr>\n",
       "  </tbody>\n",
       "</table>\n",
       "</div>"
      ],
      "text/plain": [
       "         black  exper  hisp  hours  married  educ  union     lwage  expersq  \\\n",
       "nr year                                                                       \n",
       "13 1980      0      1     0   2672        0    14      0  1.197540        1   \n",
       "   1981      0      2     0   2320        0    14      1  1.853060        4   \n",
       "   1982      0      3     0   2940        0    14      0  1.344462        9   \n",
       "   1983      0      4     0   2960        0    14      0  1.433213       16   \n",
       "   1984      0      5     0   3071        0    14      0  1.568125       25   \n",
       "\n",
       "         occupation  \n",
       "nr year              \n",
       "13 1980           9  \n",
       "   1981           9  \n",
       "   1982           9  \n",
       "   1983           9  \n",
       "   1984           5  "
      ]
     },
     "execution_count": 38,
     "metadata": {
      "slideshow": {
       "slide_type": "slide"
      }
     },
     "output_type": "execute_result"
    }
   ],
   "source": [
    "from linearmodels.panel import PanelOLS\n",
    "from linearmodels.datasets import wage_panel\n",
    "\n",
    "data = wage_panel.load()\n",
    "data = data.set_index([\"nr\", \"year\"])\n",
    "data.head()"
   ]
  },
  {
   "cell_type": "markdown",
   "metadata": {
    "slideshow": {
     "slide_type": "slide"
    }
   },
   "source": [
    "### Indexing for linearmodels data \n",
    "\n",
    "- The indexing is crucial for fixed effects and clustered standard errors to work. \n",
    "- The outside index should be the entity (firm, person, ...)\n",
    "- The inside index should be a time index. "
   ]
  },
  {
   "cell_type": "code",
   "execution_count": 41,
   "metadata": {
    "slideshow": {
     "slide_type": "slide"
    }
   },
   "outputs": [
    {
     "data": {
      "text/html": [
       "<table class=\"simpletable\">\n",
       "<caption>PanelOLS Estimation Summary</caption>\n",
       "<tr>\n",
       "  <th>Dep. Variable:</th>          <td>lwage</td>      <th>  R-squared:         </th>    <td>0.1216</td>  \n",
       "</tr>\n",
       "<tr>\n",
       "  <th>Estimator:</th>            <td>PanelOLS</td>     <th>  R-squared (Between):</th>   <td>0.9312</td>  \n",
       "</tr>\n",
       "<tr>\n",
       "  <th>No. Observations:</th>       <td>4360</td>       <th>  R-squared (Within):</th>    <td>0.1305</td>  \n",
       "</tr>\n",
       "<tr>\n",
       "  <th>Date:</th>             <td>Tue, Sep 10 2024</td> <th>  R-squared (Overall):</th>   <td>0.8962</td>  \n",
       "</tr>\n",
       "<tr>\n",
       "  <th>Time:</th>                 <td>16:23:01</td>     <th>  Log-likelihood     </th>    <td>-2986.3</td> \n",
       "</tr>\n",
       "<tr>\n",
       "  <th>Cov. Estimator:</th>       <td>Clustered</td>    <th>                     </th>       <td></td>     \n",
       "</tr>\n",
       "<tr>\n",
       "  <th></th>                          <td></td>         <th>  F-statistic:       </th>    <td>100.30</td>  \n",
       "</tr>\n",
       "<tr>\n",
       "  <th>Entities:</th>                <td>545</td>       <th>  P-value            </th>    <td>0.0000</td>  \n",
       "</tr>\n",
       "<tr>\n",
       "  <th>Avg Obs:</th>               <td>8.0000</td>      <th>  Distribution:      </th>   <td>F(6,4346)</td>\n",
       "</tr>\n",
       "<tr>\n",
       "  <th>Min Obs:</th>               <td>8.0000</td>      <th>                     </th>       <td></td>     \n",
       "</tr>\n",
       "<tr>\n",
       "  <th>Max Obs:</th>               <td>8.0000</td>      <th>  F-statistic (robust):</th>  <td>36.580</td>  \n",
       "</tr>\n",
       "<tr>\n",
       "  <th></th>                          <td></td>         <th>  P-value            </th>    <td>0.0000</td>  \n",
       "</tr>\n",
       "<tr>\n",
       "  <th>Time periods:</th>             <td>8</td>        <th>  Distribution:      </th>   <td>F(6,4346)</td>\n",
       "</tr>\n",
       "<tr>\n",
       "  <th>Avg Obs:</th>               <td>545.00</td>      <th>                     </th>       <td></td>     \n",
       "</tr>\n",
       "<tr>\n",
       "  <th>Min Obs:</th>               <td>545.00</td>      <th>                     </th>       <td></td>     \n",
       "</tr>\n",
       "<tr>\n",
       "  <th>Max Obs:</th>               <td>545.00</td>      <th>                     </th>       <td></td>     \n",
       "</tr>\n",
       "<tr>\n",
       "  <th></th>                          <td></td>         <th>                     </th>       <td></td>     \n",
       "</tr>\n",
       "</table>\n",
       "<table class=\"simpletable\">\n",
       "<caption>Parameter Estimates</caption>\n",
       "<tr>\n",
       "     <td></td>     <th>Parameter</th> <th>Std. Err.</th> <th>T-stat</th>  <th>P-value</th> <th>Lower CI</th> <th>Upper CI</th>\n",
       "</tr>\n",
       "<tr>\n",
       "  <th>exper</th>    <td>0.0303</td>    <td>0.0133</td>   <td>2.2750</td>  <td>0.0230</td>   <td>0.0042</td>   <td>0.0565</td> \n",
       "</tr>\n",
       "<tr>\n",
       "  <th>educ</th>     <td>0.0929</td>    <td>0.0100</td>   <td>9.3247</td>  <td>0.0000</td>   <td>0.0733</td>   <td>0.1124</td> \n",
       "</tr>\n",
       "<tr>\n",
       "  <th>black</th>    <td>-0.1373</td>   <td>0.0478</td>   <td>-2.8760</td> <td>0.0040</td>   <td>-0.2310</td>  <td>-0.0437</td>\n",
       "</tr>\n",
       "<tr>\n",
       "  <th>hisp</th>     <td>0.0137</td>    <td>0.0350</td>   <td>0.3906</td>  <td>0.6961</td>   <td>-0.0550</td>  <td>0.0823</td> \n",
       "</tr>\n",
       "<tr>\n",
       "  <th>married</th>  <td>0.1110</td>    <td>0.0219</td>   <td>5.0604</td>  <td>0.0000</td>   <td>0.0680</td>   <td>0.1540</td> \n",
       "</tr>\n",
       "<tr>\n",
       "  <th>union</th>    <td>0.1863</td>    <td>0.0269</td>   <td>6.9147</td>  <td>0.0000</td>   <td>0.1335</td>   <td>0.2392</td> \n",
       "</tr>\n",
       "</table><br/><br/>F-test for Poolability: 3.1404<br/>P-value: 0.0026<br/>Distribution: F(7,4346)<br/><br/>Included effects: Time"
      ],
      "text/latex": [
       "\\begin{center}\n",
       "\\begin{tabular}{lclc}\n",
       "\\toprule\n",
       "\\textbf{Dep. Variable:}    &       lwage        & \\textbf{  R-squared:         }   &      0.1216      \\\\\n",
       "\\textbf{Estimator:}        &      PanelOLS      & \\textbf{  R-squared (Between):}  &      0.9312      \\\\\n",
       "\\textbf{No. Observations:} &        4360        & \\textbf{  R-squared (Within):}   &      0.1305      \\\\\n",
       "\\textbf{Date:}             &  Tue, Sep 10 2024  & \\textbf{  R-squared (Overall):}  &      0.8962      \\\\\n",
       "\\textbf{Time:}             &      16:23:01      & \\textbf{  Log-likelihood     }   &     -2986.3      \\\\\n",
       "\\textbf{Cov. Estimator:}   &     Clustered      & \\textbf{                     }   &                  \\\\\n",
       "\\textbf{}                  &                    & \\textbf{  F-statistic:       }   &      100.30      \\\\\n",
       "\\textbf{Entities:}         &        545         & \\textbf{  P-value            }   &      0.0000      \\\\\n",
       "\\textbf{Avg Obs:}          &       8.0000       & \\textbf{  Distribution:      }   &    F(6,4346)     \\\\\n",
       "\\textbf{Min Obs:}          &       8.0000       & \\textbf{                     }   &                  \\\\\n",
       "\\textbf{Max Obs:}          &       8.0000       & \\textbf{  F-statistic (robust):} &      36.580      \\\\\n",
       "\\textbf{}                  &                    & \\textbf{  P-value            }   &      0.0000      \\\\\n",
       "\\textbf{Time periods:}     &         8          & \\textbf{  Distribution:      }   &    F(6,4346)     \\\\\n",
       "\\textbf{Avg Obs:}          &       545.00       & \\textbf{                     }   &                  \\\\\n",
       "\\textbf{Min Obs:}          &       545.00       & \\textbf{                     }   &                  \\\\\n",
       "\\textbf{Max Obs:}          &       545.00       & \\textbf{                     }   &                  \\\\\n",
       "\\textbf{}                  &                    & \\textbf{                     }   &                  \\\\\n",
       "\\bottomrule\n",
       "\\end{tabular}\n",
       "\\begin{tabular}{lcccccc}\n",
       "                 & \\textbf{Parameter} & \\textbf{Std. Err.} & \\textbf{T-stat} & \\textbf{P-value} & \\textbf{Lower CI} & \\textbf{Upper CI}  \\\\\n",
       "\\midrule\n",
       "\\textbf{exper}   &       0.0303       &       0.0133       &      2.2750     &      0.0230      &       0.0042      &       0.0565       \\\\\n",
       "\\textbf{educ}    &       0.0929       &       0.0100       &      9.3247     &      0.0000      &       0.0733      &       0.1124       \\\\\n",
       "\\textbf{black}   &      -0.1373       &       0.0478       &     -2.8760     &      0.0040      &      -0.2310      &      -0.0437       \\\\\n",
       "\\textbf{hisp}    &       0.0137       &       0.0350       &      0.3906     &      0.6961      &      -0.0550      &       0.0823       \\\\\n",
       "\\textbf{married} &       0.1110       &       0.0219       &      5.0604     &      0.0000      &       0.0680      &       0.1540       \\\\\n",
       "\\textbf{union}   &       0.1863       &       0.0269       &      6.9147     &      0.0000      &       0.1335      &       0.2392       \\\\\n",
       "\\bottomrule\n",
       "\\end{tabular}\n",
       "%\\caption{PanelOLS Estimation Summary}\n",
       "\\end{center}\n",
       "\n",
       "F-test for Poolability: 3.1404 \\newline\n",
       " P-value: 0.0026 \\newline\n",
       " Distribution: F(7,4346) \\newline\n",
       "  \\newline\n",
       " Included effects: Time"
      ],
      "text/plain": [
       "<class 'linearmodels.compat.statsmodels.Summary'>\n",
       "\"\"\"\n",
       "                          PanelOLS Estimation Summary                           \n",
       "================================================================================\n",
       "Dep. Variable:                  lwage   R-squared:                        0.1216\n",
       "Estimator:                   PanelOLS   R-squared (Between):              0.9312\n",
       "No. Observations:                4360   R-squared (Within):               0.1305\n",
       "Date:                Tue, Sep 10 2024   R-squared (Overall):              0.8962\n",
       "Time:                        16:23:01   Log-likelihood                   -2986.3\n",
       "Cov. Estimator:             Clustered                                           \n",
       "                                        F-statistic:                      100.30\n",
       "Entities:                         545   P-value                           0.0000\n",
       "Avg Obs:                       8.0000   Distribution:                  F(6,4346)\n",
       "Min Obs:                       8.0000                                           \n",
       "Max Obs:                       8.0000   F-statistic (robust):             36.580\n",
       "                                        P-value                           0.0000\n",
       "Time periods:                       8   Distribution:                  F(6,4346)\n",
       "Avg Obs:                       545.00                                           \n",
       "Min Obs:                       545.00                                           \n",
       "Max Obs:                       545.00                                           \n",
       "                                                                                \n",
       "                             Parameter Estimates                              \n",
       "==============================================================================\n",
       "            Parameter  Std. Err.     T-stat    P-value    Lower CI    Upper CI\n",
       "------------------------------------------------------------------------------\n",
       "exper          0.0303     0.0133     2.2750     0.0230      0.0042      0.0565\n",
       "educ           0.0929     0.0100     9.3247     0.0000      0.0733      0.1124\n",
       "black         -0.1373     0.0478    -2.8760     0.0040     -0.2310     -0.0437\n",
       "hisp           0.0137     0.0350     0.3906     0.6961     -0.0550      0.0823\n",
       "married        0.1110     0.0219     5.0604     0.0000      0.0680      0.1540\n",
       "union          0.1863     0.0269     6.9147     0.0000      0.1335      0.2392\n",
       "==============================================================================\n",
       "\n",
       "F-test for Poolability: 3.1404\n",
       "P-value: 0.0026\n",
       "Distribution: F(7,4346)\n",
       "\n",
       "Included effects: Time\n",
       "\"\"\""
      ]
     },
     "execution_count": 41,
     "metadata": {
      "slideshow": {
       "slide_type": "slide"
      }
     },
     "output_type": "execute_result"
    }
   ],
   "source": [
    "model = PanelOLS.from_formula(\n",
    "    \"lwage ~ exper + educ + black + hisp + married + union + TimeEffects\",\n",
    "    data=data,\n",
    ")\n",
    "result = model.fit(cov_type=\"clustered\", cluster_time=True, cluster_entity=True)\n",
    "result.summary"
   ]
  },
  {
   "cell_type": "markdown",
   "metadata": {
    "slideshow": {
     "slide_type": "slide"
    }
   },
   "source": [
    "### pystout\n",
    "\n",
    "- works with statsmodels or linearmodels\n",
    "- pass fitted models\n",
    "- specify filename to save to and various formatting options (significance stars, etc.) in pystout function"
   ]
  },
  {
   "cell_type": "code",
   "execution_count": 50,
   "metadata": {
    "slideshow": {
     "slide_type": "slide"
    }
   },
   "outputs": [],
   "source": [
    "# example regressions\n",
    "\n",
    "model1 = smf.ols(\"wage ~ female\", data=df)\n",
    "result1 = model1.fit()\n",
    "\n",
    "model2 = smf.ols(\"wage ~ female + educ + female*educ\", data=df)\n",
    "result2 = model2.fit()"
   ]
  },
  {
   "cell_type": "code",
   "execution_count": 44,
   "metadata": {
    "slideshow": {
     "slide_type": "slide"
    }
   },
   "outputs": [],
   "source": [
    "from pystout import pystout\n",
    "\n",
    "pystout(\n",
    "    models=[result1, result2], \n",
    "    file=\"regressions.tex\",\n",
    "    endog_names = [\"wage\", \"wage\"],\n",
    "    exogvars=[\n",
    "        'female', \n",
    "        'educ', \n",
    "        'female:educ', \n",
    "        ],\n",
    "    stars={0.1: \"*\", 0.05: \"**\", 0.01: \"***\"},\n",
    "    addnotes=[\"$^*p<0.1$, $^{**}p<0.05$, $^{***}p<0.01$\"],\n",
    "    modstat={\"nobs\": \"Obs\", \"rsquared_adj\": \"Adj $R^2$\"},\n",
    "    title=\"Wage Equation\",\n",
    "    label=\"tab:wage\"\n",
    ")"
   ]
  },
  {
   "cell_type": "markdown",
   "metadata": {
    "slideshow": {
     "slide_type": "slide"
    }
   },
   "source": [
    "### Fama-MacBeth\n",
    "\n",
    "Run cross-sectional regressions and then use $t$ tests for the means of the time series of cross-sectional coefficients."
   ]
  },
  {
   "cell_type": "code",
   "execution_count": 77,
   "metadata": {
    "slideshow": {
     "slide_type": "slide"
    }
   },
   "outputs": [
    {
     "name": "stdout",
     "output_type": "stream",
     "text": [
      "<class 'pandas.core.frame.DataFrame'>\n",
      "MultiIndex: 282598 entries, (np.float64(10025.0), Period('2012-10', 'M')) to (np.float64(93436.0), Period('2021-12', 'M'))\n",
      "Data columns (total 3 columns):\n",
      " #   Column  Non-Null Count   Dtype  \n",
      "---  ------  --------------   -----  \n",
      " 0   ret     282598 non-null  float64\n",
      " 1   acc     282598 non-null  float64\n",
      " 2   agr     282598 non-null  float64\n",
      "dtypes: float64(3)\n",
      "memory usage: 7.7 MB\n"
     ]
    }
   ],
   "source": [
    "# A small data set with acc=accruals and agr=asset growth, \n",
    "# monthly data since 2010, roughly 2,000 stocks per month.\n",
    "\n",
    "data = pd.read_csv(\n",
    "    \"https://www.dropbox.com/s/012c6y4gxsxss6y/ghz.csv?dl=1\", \n",
    "    parse_dates=[\"date\"]\n",
    ")\n",
    "\n",
    "# change dates to period format (to merge with FF factors)\n",
    "data[\"date\"] = data.date.dt.to_period(\"M\")\n",
    "\n",
    "data = data.set_index([\"permno\", \"date\"])\n",
    "data = data.sort_index()\n",
    "data.info()"
   ]
  },
  {
   "cell_type": "code",
   "execution_count": 67,
   "metadata": {
    "slideshow": {
     "slide_type": "slide"
    }
   },
   "outputs": [
    {
     "data": {
      "text/html": [
       "<div>\n",
       "<style scoped>\n",
       "    .dataframe tbody tr th:only-of-type {\n",
       "        vertical-align: middle;\n",
       "    }\n",
       "\n",
       "    .dataframe tbody tr th {\n",
       "        vertical-align: top;\n",
       "    }\n",
       "\n",
       "    .dataframe thead th {\n",
       "        text-align: right;\n",
       "    }\n",
       "</style>\n",
       "<table border=\"1\" class=\"dataframe\">\n",
       "  <thead>\n",
       "    <tr style=\"text-align: right;\">\n",
       "      <th></th>\n",
       "      <th></th>\n",
       "      <th>ret</th>\n",
       "      <th>acc</th>\n",
       "      <th>agr</th>\n",
       "    </tr>\n",
       "    <tr>\n",
       "      <th>permno</th>\n",
       "      <th>date</th>\n",
       "      <th></th>\n",
       "      <th></th>\n",
       "      <th></th>\n",
       "    </tr>\n",
       "  </thead>\n",
       "  <tbody>\n",
       "    <tr>\n",
       "      <th rowspan=\"5\" valign=\"top\">10025.0</th>\n",
       "      <th>2012-10</th>\n",
       "      <td>0.055125</td>\n",
       "      <td>-0.028995</td>\n",
       "      <td>0.184931</td>\n",
       "    </tr>\n",
       "    <tr>\n",
       "      <th>2012-11</th>\n",
       "      <td>-0.053652</td>\n",
       "      <td>-0.028995</td>\n",
       "      <td>0.184931</td>\n",
       "    </tr>\n",
       "    <tr>\n",
       "      <th>2012-12</th>\n",
       "      <td>-0.020992</td>\n",
       "      <td>-0.028995</td>\n",
       "      <td>0.184931</td>\n",
       "    </tr>\n",
       "    <tr>\n",
       "      <th>2013-01</th>\n",
       "      <td>0.086949</td>\n",
       "      <td>-0.028995</td>\n",
       "      <td>0.184931</td>\n",
       "    </tr>\n",
       "    <tr>\n",
       "      <th>2013-02</th>\n",
       "      <td>0.095527</td>\n",
       "      <td>-0.028995</td>\n",
       "      <td>0.184931</td>\n",
       "    </tr>\n",
       "  </tbody>\n",
       "</table>\n",
       "</div>"
      ],
      "text/plain": [
       "                      ret       acc       agr\n",
       "permno  date                                 \n",
       "10025.0 2012-10  0.055125 -0.028995  0.184931\n",
       "        2012-11 -0.053652 -0.028995  0.184931\n",
       "        2012-12 -0.020992 -0.028995  0.184931\n",
       "        2013-01  0.086949 -0.028995  0.184931\n",
       "        2013-02  0.095527 -0.028995  0.184931"
      ]
     },
     "execution_count": 67,
     "metadata": {
      "slideshow": {
       "slide_type": "slide"
      }
     },
     "output_type": "execute_result"
    }
   ],
   "source": [
    "data.head()"
   ]
  },
  {
   "cell_type": "code",
   "execution_count": 68,
   "metadata": {
    "slideshow": {
     "slide_type": "slide"
    }
   },
   "outputs": [
    {
     "data": {
      "text/html": [
       "<div>\n",
       "<style scoped>\n",
       "    .dataframe tbody tr th:only-of-type {\n",
       "        vertical-align: middle;\n",
       "    }\n",
       "\n",
       "    .dataframe tbody tr th {\n",
       "        vertical-align: top;\n",
       "    }\n",
       "\n",
       "    .dataframe thead th {\n",
       "        text-align: right;\n",
       "    }\n",
       "</style>\n",
       "<table border=\"1\" class=\"dataframe\">\n",
       "  <thead>\n",
       "    <tr style=\"text-align: right;\">\n",
       "      <th></th>\n",
       "      <th>Intercept</th>\n",
       "      <th>acc</th>\n",
       "      <th>agr</th>\n",
       "    </tr>\n",
       "    <tr>\n",
       "      <th>date</th>\n",
       "      <th></th>\n",
       "      <th></th>\n",
       "      <th></th>\n",
       "    </tr>\n",
       "  </thead>\n",
       "  <tbody>\n",
       "    <tr>\n",
       "      <th>2010-01</th>\n",
       "      <td>-0.029367</td>\n",
       "      <td>0.021650</td>\n",
       "      <td>-0.011795</td>\n",
       "    </tr>\n",
       "    <tr>\n",
       "      <th>2010-02</th>\n",
       "      <td>0.040089</td>\n",
       "      <td>-0.052454</td>\n",
       "      <td>-0.003666</td>\n",
       "    </tr>\n",
       "    <tr>\n",
       "      <th>2010-03</th>\n",
       "      <td>0.081821</td>\n",
       "      <td>0.037491</td>\n",
       "      <td>-0.024873</td>\n",
       "    </tr>\n",
       "    <tr>\n",
       "      <th>2010-04</th>\n",
       "      <td>0.042478</td>\n",
       "      <td>-0.090209</td>\n",
       "      <td>-0.009522</td>\n",
       "    </tr>\n",
       "    <tr>\n",
       "      <th>2010-05</th>\n",
       "      <td>-0.074971</td>\n",
       "      <td>0.008434</td>\n",
       "      <td>0.005427</td>\n",
       "    </tr>\n",
       "  </tbody>\n",
       "</table>\n",
       "</div>"
      ],
      "text/plain": [
       "         Intercept       acc       agr\n",
       "date                                  \n",
       "2010-01  -0.029367  0.021650 -0.011795\n",
       "2010-02   0.040089 -0.052454 -0.003666\n",
       "2010-03   0.081821  0.037491 -0.024873\n",
       "2010-04   0.042478 -0.090209 -0.009522\n",
       "2010-05  -0.074971  0.008434  0.005427"
      ]
     },
     "execution_count": 68,
     "metadata": {
      "slideshow": {
       "slide_type": "slide"
      }
     },
     "output_type": "execute_result"
    }
   ],
   "source": [
    "# cross-sectional regression function\n",
    "\n",
    "def xreg(df):\n",
    "    model = smf.ols(\"ret ~ acc + agr\", data=df)\n",
    "    result = model.fit()\n",
    "    return result.params\n",
    "\n",
    "# apply to each cross-section to get time series of coefficients\n",
    "regressions = data.groupby('date').apply(xreg)\n",
    "regressions.head()"
   ]
  },
  {
   "cell_type": "code",
   "execution_count": 69,
   "metadata": {
    "slideshow": {
     "slide_type": "slide"
    }
   },
   "outputs": [
    {
     "name": "stdout",
     "output_type": "stream",
     "text": [
      "acc 0.43832436517863066\n",
      "agr -1.5746161411946056\n"
     ]
    }
   ],
   "source": [
    "# We want to run t-tests on the means (the null is that they are zero).\n",
    "# We probably want to use Newey-West standard errors\n",
    "# One way to do that is to regress on 1 (the coefficient is the mean) and use\n",
    "# Newey-West standard errors in statsmodels OLS.\n",
    "\n",
    "for col in [\"acc\", \"agr\"]:\n",
    "    model = smf.ols(f\"{col} ~ 1\", data=regressions)\n",
    "    result = model.fit(cov_type='HAC', cov_kwds={\"kernel\": \"bartlett\", \"maxlags\": 12})\n",
    "    print(col, result.tvalues.item())"
   ]
  },
  {
   "cell_type": "markdown",
   "metadata": {
    "slideshow": {
     "slide_type": "slide"
    }
   },
   "source": [
    "### Rolling Window Betas\n",
    "\n",
    "- We'll run time-series regressions for each stock over rolling windows. \n",
    "- It is common to use 60 months as the window but to include all stock/months for which 24 past months were available in the prior 60 months.  We do that with window=60, min_nobs=24, and expanding=True.\n",
    "- The RollingOLS function crashes if you specify a window size that is larger than the number of rows in the data frame.  \n",
    "  - So, we construct a function to \"pass\" if the number of rows is less than 24 and specify the window size as the smaller of 60 and the number of rows."
   ]
  },
  {
   "cell_type": "code",
   "execution_count": 78,
   "metadata": {
    "slideshow": {
     "slide_type": "slide"
    }
   },
   "outputs": [
    {
     "name": "stderr",
     "output_type": "stream",
     "text": [
      "C:\\Users\\kerry\\AppData\\Local\\Temp\\ipykernel_22164\\4004107026.py:6: FutureWarning: The argument 'date_parser' is deprecated and will be removed in a future version. Please use 'date_format' instead, or read your data in as 'object' dtype and then call 'to_datetime'.\n",
      "  ff = pdr(\"F-F_Research_Data_Factors\", \"famafrench\", start=2010)[0] / 100\n",
      "C:\\Users\\kerry\\AppData\\Local\\Temp\\ipykernel_22164\\4004107026.py:6: FutureWarning: The argument 'date_parser' is deprecated and will be removed in a future version. Please use 'date_format' instead, or read your data in as 'object' dtype and then call 'to_datetime'.\n",
      "  ff = pdr(\"F-F_Research_Data_Factors\", \"famafrench\", start=2010)[0] / 100\n"
     ]
    },
    {
     "data": {
      "text/html": [
       "<div>\n",
       "<style scoped>\n",
       "    .dataframe tbody tr th:only-of-type {\n",
       "        vertical-align: middle;\n",
       "    }\n",
       "\n",
       "    .dataframe tbody tr th {\n",
       "        vertical-align: top;\n",
       "    }\n",
       "\n",
       "    .dataframe thead th {\n",
       "        text-align: right;\n",
       "    }\n",
       "</style>\n",
       "<table border=\"1\" class=\"dataframe\">\n",
       "  <thead>\n",
       "    <tr style=\"text-align: right;\">\n",
       "      <th></th>\n",
       "      <th></th>\n",
       "      <th>ret</th>\n",
       "      <th>acc</th>\n",
       "      <th>agr</th>\n",
       "      <th>Mkt_RF</th>\n",
       "      <th>SMB</th>\n",
       "      <th>HML</th>\n",
       "      <th>RF</th>\n",
       "      <th>ret_RF</th>\n",
       "    </tr>\n",
       "    <tr>\n",
       "      <th>permno</th>\n",
       "      <th>date</th>\n",
       "      <th></th>\n",
       "      <th></th>\n",
       "      <th></th>\n",
       "      <th></th>\n",
       "      <th></th>\n",
       "      <th></th>\n",
       "      <th></th>\n",
       "      <th></th>\n",
       "    </tr>\n",
       "  </thead>\n",
       "  <tbody>\n",
       "    <tr>\n",
       "      <th rowspan=\"5\" valign=\"top\">10025.0</th>\n",
       "      <th>2012-10</th>\n",
       "      <td>0.055125</td>\n",
       "      <td>-0.028995</td>\n",
       "      <td>0.184931</td>\n",
       "      <td>-0.0176</td>\n",
       "      <td>-0.0115</td>\n",
       "      <td>0.0359</td>\n",
       "      <td>0.0001</td>\n",
       "      <td>0.055025</td>\n",
       "    </tr>\n",
       "    <tr>\n",
       "      <th>2012-11</th>\n",
       "      <td>-0.053652</td>\n",
       "      <td>-0.028995</td>\n",
       "      <td>0.184931</td>\n",
       "      <td>0.0078</td>\n",
       "      <td>0.0063</td>\n",
       "      <td>-0.0084</td>\n",
       "      <td>0.0001</td>\n",
       "      <td>-0.053752</td>\n",
       "    </tr>\n",
       "    <tr>\n",
       "      <th>2012-12</th>\n",
       "      <td>-0.020992</td>\n",
       "      <td>-0.028995</td>\n",
       "      <td>0.184931</td>\n",
       "      <td>0.0118</td>\n",
       "      <td>0.0148</td>\n",
       "      <td>0.0351</td>\n",
       "      <td>0.0001</td>\n",
       "      <td>-0.021092</td>\n",
       "    </tr>\n",
       "    <tr>\n",
       "      <th>2013-01</th>\n",
       "      <td>0.086949</td>\n",
       "      <td>-0.028995</td>\n",
       "      <td>0.184931</td>\n",
       "      <td>0.0557</td>\n",
       "      <td>0.0034</td>\n",
       "      <td>0.0096</td>\n",
       "      <td>0.0000</td>\n",
       "      <td>0.086949</td>\n",
       "    </tr>\n",
       "    <tr>\n",
       "      <th>2013-02</th>\n",
       "      <td>0.095527</td>\n",
       "      <td>-0.028995</td>\n",
       "      <td>0.184931</td>\n",
       "      <td>0.0129</td>\n",
       "      <td>-0.0027</td>\n",
       "      <td>0.0011</td>\n",
       "      <td>0.0000</td>\n",
       "      <td>0.095527</td>\n",
       "    </tr>\n",
       "  </tbody>\n",
       "</table>\n",
       "</div>"
      ],
      "text/plain": [
       "                      ret       acc       agr  Mkt_RF     SMB     HML      RF  \\\n",
       "permno  date                                                                    \n",
       "10025.0 2012-10  0.055125 -0.028995  0.184931 -0.0176 -0.0115  0.0359  0.0001   \n",
       "        2012-11 -0.053652 -0.028995  0.184931  0.0078  0.0063 -0.0084  0.0001   \n",
       "        2012-12 -0.020992 -0.028995  0.184931  0.0118  0.0148  0.0351  0.0001   \n",
       "        2013-01  0.086949 -0.028995  0.184931  0.0557  0.0034  0.0096  0.0000   \n",
       "        2013-02  0.095527 -0.028995  0.184931  0.0129 -0.0027  0.0011  0.0000   \n",
       "\n",
       "                   ret_RF  \n",
       "permno  date               \n",
       "10025.0 2012-10  0.055025  \n",
       "        2012-11 -0.053752  \n",
       "        2012-12 -0.021092  \n",
       "        2013-01  0.086949  \n",
       "        2013-02  0.095527  "
      ]
     },
     "execution_count": 78,
     "metadata": {
      "slideshow": {
       "slide_type": "slide"
      }
     },
     "output_type": "execute_result"
    }
   ],
   "source": [
    "# merge Fama-French factors (we want Mkt-RF and RF)\n",
    "# this pastes the factors for each month beside each stock for that month\n",
    "\n",
    "from pandas_datareader import DataReader as pdr\n",
    "\n",
    "ff = pdr(\"F-F_Research_Data_Factors\", \"famafrench\", start=2010)[0] / 100\n",
    "data_ff = data.merge(ff, left_on='date', right_index=True, how=\"left\")\n",
    "\n",
    "# compute excess returns\n",
    "data_ff[\"ret_RF\"] = data_ff.ret - data_ff.RF\n",
    "\n",
    "# we can't put Mkt-RF in the ols formula so we change to an underscore\n",
    "data_ff = data_ff.rename(columns={\"Mkt-RF\": \"Mkt_RF\"})\n",
    "data_ff.head()"
   ]
  },
  {
   "cell_type": "code",
   "execution_count": 81,
   "metadata": {
    "slideshow": {
     "slide_type": "slide"
    }
   },
   "outputs": [
    {
     "data": {
      "text/plain": [
       "permno   date   \n",
       "10026.0  2011-12    0.635232\n",
       "         2012-01    0.582387\n",
       "         2012-02    0.557631\n",
       "         2012-03    0.565231\n",
       "         2012-04    0.545091\n",
       "dtype: float64"
      ]
     },
     "execution_count": 81,
     "metadata": {
      "slideshow": {
       "slide_type": "slide"
      }
     },
     "output_type": "execute_result"
    }
   ],
   "source": [
    "from statsmodels.regression.rolling import RollingOLS \n",
    "\n",
    "def rolling_betas(df):\n",
    "\n",
    "    # we'll pass the time series for each stock to this function\n",
    "    # we first check how many months the stock is in the data\n",
    "    n = df.shape[0]\n",
    "\n",
    "    # if there are at least 24 months, we proceed\n",
    "    if n >= 24:\n",
    "        # data = df.set_index(\"date\") \n",
    "        model = RollingOLS.from_formula(\n",
    "            \"ret_RF ~ Mkt_RF\",\n",
    "            window=min(n, 60),\n",
    "            min_nobs=24,\n",
    "            expanding=True,\n",
    "            data=df\n",
    "        )\n",
    "        result = model.fit()\n",
    "\n",
    "        # return the time series of rolling window betas\n",
    "        return result.params['Mkt_RF'].dropna()\n",
    "\n",
    "    # if number of months < 24, we skip this stock\n",
    "    else:\n",
    "        pass\n",
    "    \n",
    "betas = data_ff.groupby(\"permno\", group_keys=False).apply(rolling_betas)\n",
    "betas.dropna().head()"
   ]
  }
 ],
 "metadata": {
  "kernelspec": {
   "display_name": "Python 3",
   "language": "python",
   "name": "python3"
  },
  "language_info": {
   "codemirror_mode": {
    "name": "ipython",
    "version": 3
   },
   "file_extension": ".py",
   "mimetype": "text/x-python",
   "name": "python",
   "nbconvert_exporter": "python",
   "pygments_lexer": "ipython3",
   "version": "3.12.5"
  }
 },
 "nbformat": 4,
 "nbformat_minor": 2
}
