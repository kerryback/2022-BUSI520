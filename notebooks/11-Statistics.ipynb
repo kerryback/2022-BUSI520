{
 "cells": [
  {
   "cell_type": "markdown",
   "metadata": {
    "slideshow": {
     "slide_type": "slide"
    }
   },
   "source": [
    "# Statistics\n",
    "\n",
    "### BUSI 520 - Python for Business Research\n",
    "### Kerry Back, JGSB, Rice University"
   ]
  },
  {
   "cell_type": "markdown",
   "metadata": {
    "slideshow": {
     "slide_type": "slide"
    }
   },
   "source": [
    "* $t$ tests with scipy.stats\n",
    "* regressions with statsmodels formula API\n",
    "    * HAC std errors\n",
    "  * logit\n",
    "* regressions with linearmodels\n",
    "  * two-stage least squares\n",
    "  * seemingly unrelated regressions\n",
    "  * fixed effects and clustered std errors\n",
    "  * Fama-MacBeth\n",
    "* VARs with statsmodels\n",
    "* saving output\n",
    "  * to Excel\n",
    "  * to latex with pystout"
   ]
  },
  {
   "cell_type": "code",
   "execution_count": 150,
   "metadata": {
    "id": "yWCBy6XRWxde",
    "slideshow": {
     "slide_type": "slide"
    }
   },
   "outputs": [],
   "source": [
    "import numpy as np\n",
    "import pandas as pd\n",
    "import pandas_datareader as pdr\n",
    "\n",
    "from scipy.stats import ttest_1samp, ttest_ind \n",
    "import statsmodels.api as sm\n",
    "import statsmodels.formula.api as smf\n",
    "from linearmodels.panel import PanelOLS, FamaMacBeth\n",
    "from linearmodels.iv import IV2SLS\n",
    "from linearmodels.system import SUR\n",
    "from statsmodels.regression.rolling import RollingOLS\n",
    "from statsmodels.tsa.api import VAR\n",
    "from pystout import pystout"
   ]
  },
  {
   "cell_type": "markdown",
   "metadata": {
    "slideshow": {
     "slide_type": "slide"
    }
   },
   "source": [
    "## $t$ tests with scipy.stats"
   ]
  },
  {
   "cell_type": "code",
   "execution_count": 151,
   "metadata": {
    "slideshow": {
     "slide_type": "slide"
    }
   },
   "outputs": [],
   "source": [
    "# use result.statistic and result.pvalue to get t-stat and p-value\n",
    "\n",
    "sampleA = np.random.normal(size=100)\n",
    "sampleB = np.random.normal(loc=0.1, scale=2, size=150)\n",
    "\n",
    "# test of H0: mean = 0\n",
    "result1 = ttest_1samp(sampleB, popmean=0)\n",
    "\n",
    "# test of H0: meanA = meanB assuming equal variances\n",
    "result2 = ttest_ind(sampleA, sampleB)\n",
    "\n",
    "# test 0f H0: meanA = meanB allowing unequal variances\n",
    "result3 = ttest_ind(sampleA, sampleB, equal_var=False)"
   ]
  },
  {
   "cell_type": "markdown",
   "metadata": {
    "id": "ht2gCfBpWxdf",
    "slideshow": {
     "slide_type": "slide"
    }
   },
   "source": [
    "## Regressions with statsmodels"
   ]
  },
  {
   "cell_type": "code",
   "execution_count": 152,
   "metadata": {
    "slideshow": {
     "slide_type": "slide"
    }
   },
   "outputs": [],
   "source": [
    "data = pd.read_csv(\"WAGE1_revised.csv\")"
   ]
  },
  {
   "cell_type": "code",
   "execution_count": 153,
   "metadata": {
    "id": "bp_PfZX9Wxdk",
    "slideshow": {
     "slide_type": "slide"
    }
   },
   "outputs": [],
   "source": [
    "# use result.summary() \n",
    "\n",
    "model1 = sm.OLS(endog=data.wage, exog=sm.add_constant(data.exper))\n",
    "result1 = model1.fit()\n",
    "\n",
    "model2 = smf.ols(\"wage ~ female\", data=data)\n",
    "result2 = model2.fit()\n",
    "\n",
    "# multivariate\n",
    "model3 = smf.ols(\"wage ~ female + educ\", data=data)\n",
    "result3 = model3.fit()\n",
    "\n",
    "# transformations of variables\n",
    "model4 = smf.ols(\"wage ~ female + educ + np.log(exper)\", data=data)\n",
    "result4 = model4.fit()"
   ]
  },
  {
   "cell_type": "code",
   "execution_count": 154,
   "metadata": {
    "slideshow": {
     "slide_type": "slide"
    }
   },
   "outputs": [],
   "source": [
    "# interactions\n",
    "model5 = smf.ols(\"wage ~ female + educ + female*educ + np.log(exper)\", data=data)\n",
    "result5 = model5.fit()\n",
    "\n",
    "# dummy variables\n",
    "model6 = smf.ols(\n",
    "    \"wage ~ female + educ + female*educ + np.log(exper) + C(area)\", \n",
    "    data=data\n",
    ")\n",
    "result6 = model6.fit()\n",
    "\n",
    "# regression without an intercept\n",
    "model7 = smf.ols(\n",
    "    \"wage ~ female + educ + female*educ + np.log(exper) + C(area) - 1\", \n",
    "    data=data\n",
    ")\n",
    "result7 = model7.fit()"
   ]
  },
  {
   "cell_type": "markdown",
   "metadata": {
    "slideshow": {
     "slide_type": "slide"
    }
   },
   "source": [
    "## Regressions with linearmodels\n",
    "\n",
    "The linearmodels package was created by Kevin Sheppard.  Many of the following examples come from the linearmodels user guide https://bashtage.github.io/linearmodels/."
   ]
  },
  {
   "cell_type": "markdown",
   "metadata": {
    "slideshow": {
     "slide_type": "slide"
    }
   },
   "source": [
    "### Two Stage Least Squares"
   ]
  },
  {
   "cell_type": "code",
   "execution_count": 155,
   "metadata": {
    "slideshow": {
     "slide_type": "slide"
    }
   },
   "outputs": [],
   "source": [
    "# use result.summary \n",
    "\n",
    "from linearmodels.datasets import wage\n",
    "\n",
    "data = wage.load()\n",
    "data = data.dropna(subset=[\"educ\", \"wage\", \"sibs\", \"exper\"])\n",
    "\n",
    "model1 = IV2SLS.from_formula(\"np.log(wage) ~ exper + [educ ~ sibs]\", data=data)\n",
    "result1 = model1.fit(cov_type=\"robust\")\n"
   ]
  },
  {
   "cell_type": "markdown",
   "metadata": {
    "slideshow": {
     "slide_type": "slide"
    }
   },
   "source": [
    "### Seemingly Unrelated Regressions"
   ]
  },
  {
   "cell_type": "code",
   "execution_count": 156,
   "metadata": {
    "slideshow": {
     "slide_type": "slide"
    }
   },
   "outputs": [],
   "source": [
    "from linearmodels.datasets import fringe\n",
    "data = fringe.load()\n",
    "\n",
    "formula = \"\"\" \n",
    "    {hrbens ~ educ + exper + union + south + nrtheast + nrthcen + male}\n",
    "    {hrearn ~ educ + exper + nrtheast + married + male}\n",
    "    \"\"\"\n",
    "model2 = SUR.from_formula(formula, data=data)\n",
    "result2 = model2.fit(cov_type=\"robust\")"
   ]
  },
  {
   "cell_type": "markdown",
   "metadata": {
    "slideshow": {
     "slide_type": "slide"
    }
   },
   "source": [
    "### Panel Regressions with Fixed Effects and Clustered Standard Errors\n",
    "\n",
    "To use the formula version of linearmodels with fixed effects, create a multi-index for the dataframe with the outside (first) index being \"entity\" and the inside (second) index being \"time.\"  For other fixed effects, use the basic (non-formula) version of linearmodels."
   ]
  },
  {
   "cell_type": "code",
   "execution_count": 157,
   "metadata": {
    "slideshow": {
     "slide_type": "slide"
    }
   },
   "outputs": [],
   "source": [
    "from linearmodels.datasets import wage_panel\n",
    "data = wage_panel.load()\n",
    "data = data.set_index([\"nr\", \"year\"])"
   ]
  },
  {
   "cell_type": "code",
   "execution_count": 158,
   "metadata": {
    "slideshow": {
     "slide_type": "slide"
    }
   },
   "outputs": [],
   "source": [
    "# entity fixed effects\n",
    "model3 = PanelOLS.from_formula(\n",
    "    \"lwage ~ exper + EntityEffects\",\n",
    "    data=data,\n",
    ")\n",
    "result3 = model3.fit(cov_type=\"clustered\", cluster_entity=True)\n",
    "\n",
    "# time fixed effects\n",
    "model4 = PanelOLS.from_formula(\n",
    "    \"lwage ~ exper + married + black + TimeEffects\",\n",
    "    data=data,\n",
    ")\n",
    "result4 = model4.fit(cov_type=\"clustered\", cluster_time=True)\n",
    "\n",
    "# time and entity fixed effects\n",
    "model5 = PanelOLS.from_formula(\n",
    "    \"lwage ~ exper + EntityEffects + TimeEffects\",\n",
    "    data=data,\n",
    ")\n",
    "result5 = model5.fit(cov_type=\"clustered\", cluster_entity=True, cluster_time=True)"
   ]
  },
  {
   "cell_type": "markdown",
   "metadata": {
    "slideshow": {
     "slide_type": "slide"
    }
   },
   "source": [
    "### Fama-MacBeth\n",
    "\n",
    "Run cross-sectional regressions and then use $t$ tests for the means of the time series of cross-sectional coefficients."
   ]
  },
  {
   "cell_type": "code",
   "execution_count": 159,
   "metadata": {
    "slideshow": {
     "slide_type": "slide"
    }
   },
   "outputs": [],
   "source": [
    "# A small data set with acc=accruals and agr=asset growth, \n",
    "# monthly data since 2010, roughly 2,000 stocks per month.\n",
    "\n",
    "data = pd.read_csv(\"https://www.dropbox.com/s/012c6y4gxsxss6y/ghz.csv?dl=1\", parse_dates=[\"date\"])\n",
    "data = data.sort_values(by=['permno', 'date'])\n",
    "data = data.set_index([\"permno\", \"date\"])"
   ]
  },
  {
   "cell_type": "code",
   "execution_count": 160,
   "metadata": {
    "slideshow": {
     "slide_type": "slide"
    }
   },
   "outputs": [
    {
     "name": "stderr",
     "output_type": "stream",
     "text": [
      "C:\\Users\\kerry\\AppData\\Local\\Temp\\ipykernel_20000\\462842168.py:9: FutureWarning: Not prepending group keys to the result index of transform-like apply. In the future, the group keys will be included in the index, regardless of whether the applied function returns a like-indexed object.\n",
      "To preserve the previous behavior, use\n",
      "\n",
      "\t>>> .groupby(..., group_keys=False)\n",
      "\n",
      "To adopt the future behavior and silence this warning, use \n",
      "\n",
      "\t>>> .groupby(..., group_keys=True)\n",
      "  data[char] = data.groupby(\"date\")[char].apply(winsorize)\n",
      "C:\\Users\\kerry\\AppData\\Local\\Temp\\ipykernel_20000\\462842168.py:10: FutureWarning: Not prepending group keys to the result index of transform-like apply. In the future, the group keys will be included in the index, regardless of whether the applied function returns a like-indexed object.\n",
      "To preserve the previous behavior, use\n",
      "\n",
      "\t>>> .groupby(..., group_keys=False)\n",
      "\n",
      "To adopt the future behavior and silence this warning, use \n",
      "\n",
      "\t>>> .groupby(..., group_keys=True)\n",
      "  data[char] = data.groupby(\"date\")[char].apply(lambda x: x / x.std())\n",
      "C:\\Users\\kerry\\AppData\\Local\\Temp\\ipykernel_20000\\462842168.py:9: FutureWarning: Not prepending group keys to the result index of transform-like apply. In the future, the group keys will be included in the index, regardless of whether the applied function returns a like-indexed object.\n",
      "To preserve the previous behavior, use\n",
      "\n",
      "\t>>> .groupby(..., group_keys=False)\n",
      "\n",
      "To adopt the future behavior and silence this warning, use \n",
      "\n",
      "\t>>> .groupby(..., group_keys=True)\n",
      "  data[char] = data.groupby(\"date\")[char].apply(winsorize)\n",
      "C:\\Users\\kerry\\AppData\\Local\\Temp\\ipykernel_20000\\462842168.py:10: FutureWarning: Not prepending group keys to the result index of transform-like apply. In the future, the group keys will be included in the index, regardless of whether the applied function returns a like-indexed object.\n",
      "To preserve the previous behavior, use\n",
      "\n",
      "\t>>> .groupby(..., group_keys=False)\n",
      "\n",
      "To adopt the future behavior and silence this warning, use \n",
      "\n",
      "\t>>> .groupby(..., group_keys=True)\n",
      "  data[char] = data.groupby(\"date\")[char].apply(lambda x: x / x.std())\n"
     ]
    }
   ],
   "source": [
    "# winsorize and standardize cross sections\n",
    "\n",
    "data.agr = np.log(1+data.agr)\n",
    "\n",
    "def winsorize(ser):\n",
    "    return ser.clip(lower=ser.quantile(0.01), upper=ser.quantile(0.99))\n",
    "\n",
    "for char in [\"acc\", \"agr\"]:\n",
    "    data[char] = data.groupby(\"date\")[char].apply(winsorize)\n",
    "    data[char] = data.groupby(\"date\")[char].apply(lambda x: x / x.std())\n",
    "\n"
   ]
  },
  {
   "cell_type": "code",
   "execution_count": 161,
   "metadata": {
    "slideshow": {
     "slide_type": "slide"
    }
   },
   "outputs": [],
   "source": [
    "# run Fama-MacBeth\n",
    "\n",
    "model6 = FamaMacBeth.from_formula(\"ret ~ acc + agr + 1\", data=data)\n",
    "result6 = model6.fit(cov_type=\"kernel\", kernel=\"Bartlett\", bandwidth=12)"
   ]
  },
  {
   "cell_type": "code",
   "execution_count": 162,
   "metadata": {
    "slideshow": {
     "slide_type": "slide"
    }
   },
   "outputs": [],
   "source": [
    "# Fama-MacBeth \"by hand\" \n",
    "\n",
    "# cross-sectional regression function\n",
    "def xreg(df):\n",
    "    model = smf.ols(\"ret ~ acc + agr\", data=df)\n",
    "    result = model.fit()\n",
    "    return result.params\n",
    "\n",
    "# apply to each cross-section to get time series of coefficients\n",
    "fm = data.groupby('date').apply(xreg)\n",
    "\n",
    "# run t-tests by OLS to get Newey-West standard errors\n",
    "model7a = smf.ols(\"acc ~ 1\", data=fm)\n",
    "result7a = model7a.fit(cov_type='HAC', cov_kwds={\"kernel\": \"bartlett\", \"maxlags\": 12})\n",
    "\n",
    "model7b = smf.ols(\"agr ~ 1\", data=fm)\n",
    "result7b = model7b.fit(cov_type='HAC', cov_kwds={\"kernel\": \"bartlett\", \"maxlags\": 12})"
   ]
  },
  {
   "cell_type": "markdown",
   "metadata": {
    "slideshow": {
     "slide_type": "slide"
    }
   },
   "source": [
    "## Rolling Window Betas\n",
    "\n",
    "For Fama-MacBeth, we run cross-sectional regressions at each date.  For this exercise, we will run time-series regressions for each entity (stock).  We'll run the time-series regressions over rolling windows. \n",
    "\n",
    "The time series regressions are for stock returns on Fama-French factors.  It is common to use 60 months as the window but to include all stock/months for which 24 past months were available in the prior 60 months.  We do that with window=60, min_nobs=24, and expanding=True.\n",
    "\n",
    "The RollingOLS function crashes if you specify a window size that is larger than the number of rows in the data frame.  So, we construct a function to \"pass\" if the number of rows is less than 24 and specify the window size as the smaller of 60 and the number of rows."
   ]
  },
  {
   "cell_type": "code",
   "execution_count": 163,
   "metadata": {
    "slideshow": {
     "slide_type": "slide"
    }
   },
   "outputs": [],
   "source": [
    "ff = pdr.DataReader(\"F-F_Research_Data_Factors\", \"famafrench\", start=2000)[0] / 100\n",
    "data = data.merge(ff, left_on='date', right_index=True) \n",
    "data = data.rename(columns={\"Mkt-RF\": \"Mkt_RF\"})\n",
    "data[\"ret_RF\"] = data.ret - data.RF\n",
    "data = data.dropna(subset=[\"ret_RF\", \"Mkt_RF\", \"SMB\", \"HML\"])"
   ]
  },
  {
   "cell_type": "code",
   "execution_count": 164,
   "metadata": {
    "slideshow": {
     "slide_type": "slide"
    }
   },
   "outputs": [
    {
     "name": "stderr",
     "output_type": "stream",
     "text": [
      "C:\\Users\\kerry\\AppData\\Local\\Temp\\ipykernel_20000\\998454947.py:17: FutureWarning: Not prepending group keys to the result index of transform-like apply. In the future, the group keys will be included in the index, regardless of whether the applied function returns a like-indexed object.\n",
      "To preserve the previous behavior, use\n",
      "\n",
      "\t>>> .groupby(..., group_keys=False)\n",
      "\n",
      "To adopt the future behavior and silence this warning, use \n",
      "\n",
      "\t>>> .groupby(..., group_keys=True)\n",
      "  betas = data.reset_index().groupby(\"permno\").apply(rolling_betas)\n"
     ]
    }
   ],
   "source": [
    "def rolling_betas(df):\n",
    "    n = df.shape[0]\n",
    "    if n >= 24:\n",
    "        data = df.set_index(\"date\") \n",
    "        model = RollingOLS.from_formula(\n",
    "            \"ret_RF ~ Mkt_RF + SMB + HML\",\n",
    "            window=min(n, 60),\n",
    "            min_nobs=24,\n",
    "            expanding=True,\n",
    "            data=data\n",
    "        )\n",
    "        result = model.fit()\n",
    "        return result.params[['Mkt_RF', 'SMB', 'HML']].dropna()\n",
    "    else:\n",
    "        pass\n",
    "    \n",
    "betas = data.reset_index().groupby(\"permno\").apply(rolling_betas)"
   ]
  },
  {
   "cell_type": "markdown",
   "metadata": {
    "slideshow": {
     "slide_type": "slide"
    }
   },
   "source": [
    "## Vector Auto-Regressions"
   ]
  },
  {
   "cell_type": "code",
   "execution_count": 165,
   "metadata": {
    "slideshow": {
     "slide_type": "slide"
    }
   },
   "outputs": [],
   "source": [
    "model = VAR(ff)\n",
    "result = model.fit()"
   ]
  },
  {
   "cell_type": "markdown",
   "metadata": {
    "slideshow": {
     "slide_type": "slide"
    }
   },
   "source": [
    "## Saving Results"
   ]
  },
  {
   "cell_type": "code",
   "execution_count": 166,
   "metadata": {
    "slideshow": {
     "slide_type": "slide"
    }
   },
   "outputs": [
    {
     "ename": "PermissionError",
     "evalue": "[Errno 13] Permission denied: 'excelfile.xlsx'",
     "output_type": "error",
     "traceback": [
      "\u001b[1;31m---------------------------------------------------------------------------\u001b[0m",
      "\u001b[1;31mPermissionError\u001b[0m                           Traceback (most recent call last)",
      "\u001b[1;32mc:\\Users\\kerry\\repos\\busi520-development\\docs\\11-Statistics.ipynb Cell 29\u001b[0m line \u001b[0;36m1\n\u001b[0;32m      <a href='vscode-notebook-cell:/c%3A/Users/kerry/repos/busi520-development/docs/11-Statistics.ipynb#X54sZmlsZQ%3D%3D?line=8'>9</a>\u001b[0m result2 \u001b[39m=\u001b[39m model2\u001b[39m.\u001b[39mfit()\n\u001b[0;32m     <a href='vscode-notebook-cell:/c%3A/Users/kerry/repos/busi520-development/docs/11-Statistics.ipynb#X54sZmlsZQ%3D%3D?line=10'>11</a>\u001b[0m \u001b[39m# saving to Excel\u001b[39;00m\n\u001b[1;32m---> <a href='vscode-notebook-cell:/c%3A/Users/kerry/repos/busi520-development/docs/11-Statistics.ipynb#X54sZmlsZQ%3D%3D?line=11'>12</a>\u001b[0m pd\u001b[39m.\u001b[39;49mDataFrame(result2\u001b[39m.\u001b[39;49msummary()\u001b[39m.\u001b[39;49mtables[\u001b[39m1\u001b[39;49m])\u001b[39m.\u001b[39;49mto_excel(\u001b[39m\"\u001b[39;49m\u001b[39mexcelfile.xlsx\u001b[39;49m\u001b[39m\"\u001b[39;49m)\n",
      "File \u001b[1;32mc:\\Users\\kerry\\AppData\\Local\\Programs\\Python\\Python310\\lib\\site-packages\\pandas\\util\\_decorators.py:211\u001b[0m, in \u001b[0;36mdeprecate_kwarg.<locals>._deprecate_kwarg.<locals>.wrapper\u001b[1;34m(*args, **kwargs)\u001b[0m\n\u001b[0;32m    209\u001b[0m     \u001b[39melse\u001b[39;00m:\n\u001b[0;32m    210\u001b[0m         kwargs[new_arg_name] \u001b[39m=\u001b[39m new_arg_value\n\u001b[1;32m--> 211\u001b[0m \u001b[39mreturn\u001b[39;00m func(\u001b[39m*\u001b[39margs, \u001b[39m*\u001b[39m\u001b[39m*\u001b[39mkwargs)\n",
      "File \u001b[1;32mc:\\Users\\kerry\\AppData\\Local\\Programs\\Python\\Python310\\lib\\site-packages\\pandas\\util\\_decorators.py:211\u001b[0m, in \u001b[0;36mdeprecate_kwarg.<locals>._deprecate_kwarg.<locals>.wrapper\u001b[1;34m(*args, **kwargs)\u001b[0m\n\u001b[0;32m    209\u001b[0m     \u001b[39melse\u001b[39;00m:\n\u001b[0;32m    210\u001b[0m         kwargs[new_arg_name] \u001b[39m=\u001b[39m new_arg_value\n\u001b[1;32m--> 211\u001b[0m \u001b[39mreturn\u001b[39;00m func(\u001b[39m*\u001b[39margs, \u001b[39m*\u001b[39m\u001b[39m*\u001b[39mkwargs)\n",
      "File \u001b[1;32mc:\\Users\\kerry\\AppData\\Local\\Programs\\Python\\Python310\\lib\\site-packages\\pandas\\core\\generic.py:2373\u001b[0m, in \u001b[0;36mNDFrame.to_excel\u001b[1;34m(self, excel_writer, sheet_name, na_rep, float_format, columns, header, index, index_label, startrow, startcol, engine, merge_cells, encoding, inf_rep, verbose, freeze_panes, storage_options)\u001b[0m\n\u001b[0;32m   2360\u001b[0m \u001b[39mfrom\u001b[39;00m \u001b[39mpandas\u001b[39;00m\u001b[39m.\u001b[39;00m\u001b[39mio\u001b[39;00m\u001b[39m.\u001b[39;00m\u001b[39mformats\u001b[39;00m\u001b[39m.\u001b[39;00m\u001b[39mexcel\u001b[39;00m \u001b[39mimport\u001b[39;00m ExcelFormatter\n\u001b[0;32m   2362\u001b[0m formatter \u001b[39m=\u001b[39m ExcelFormatter(\n\u001b[0;32m   2363\u001b[0m     df,\n\u001b[0;32m   2364\u001b[0m     na_rep\u001b[39m=\u001b[39mna_rep,\n\u001b[1;32m   (...)\u001b[0m\n\u001b[0;32m   2371\u001b[0m     inf_rep\u001b[39m=\u001b[39minf_rep,\n\u001b[0;32m   2372\u001b[0m )\n\u001b[1;32m-> 2373\u001b[0m formatter\u001b[39m.\u001b[39;49mwrite(\n\u001b[0;32m   2374\u001b[0m     excel_writer,\n\u001b[0;32m   2375\u001b[0m     sheet_name\u001b[39m=\u001b[39;49msheet_name,\n\u001b[0;32m   2376\u001b[0m     startrow\u001b[39m=\u001b[39;49mstartrow,\n\u001b[0;32m   2377\u001b[0m     startcol\u001b[39m=\u001b[39;49mstartcol,\n\u001b[0;32m   2378\u001b[0m     freeze_panes\u001b[39m=\u001b[39;49mfreeze_panes,\n\u001b[0;32m   2379\u001b[0m     engine\u001b[39m=\u001b[39;49mengine,\n\u001b[0;32m   2380\u001b[0m     storage_options\u001b[39m=\u001b[39;49mstorage_options,\n\u001b[0;32m   2381\u001b[0m )\n",
      "File \u001b[1;32mc:\\Users\\kerry\\AppData\\Local\\Programs\\Python\\Python310\\lib\\site-packages\\pandas\\io\\formats\\excel.py:911\u001b[0m, in \u001b[0;36mExcelFormatter.write\u001b[1;34m(self, writer, sheet_name, startrow, startcol, freeze_panes, engine, storage_options)\u001b[0m\n\u001b[0;32m    907\u001b[0m     need_save \u001b[39m=\u001b[39m \u001b[39mFalse\u001b[39;00m\n\u001b[0;32m    908\u001b[0m \u001b[39melse\u001b[39;00m:\n\u001b[0;32m    909\u001b[0m     \u001b[39m# error: Cannot instantiate abstract class 'ExcelWriter' with abstract\u001b[39;00m\n\u001b[0;32m    910\u001b[0m     \u001b[39m# attributes 'engine', 'save', 'supported_extensions' and 'write_cells'\u001b[39;00m\n\u001b[1;32m--> 911\u001b[0m     writer \u001b[39m=\u001b[39m ExcelWriter(  \u001b[39m# type: ignore[abstract]\u001b[39;49;00m\n\u001b[0;32m    912\u001b[0m         writer, engine\u001b[39m=\u001b[39;49mengine, storage_options\u001b[39m=\u001b[39;49mstorage_options\n\u001b[0;32m    913\u001b[0m     )\n\u001b[0;32m    914\u001b[0m     need_save \u001b[39m=\u001b[39m \u001b[39mTrue\u001b[39;00m\n\u001b[0;32m    916\u001b[0m \u001b[39mtry\u001b[39;00m:\n",
      "File \u001b[1;32mc:\\Users\\kerry\\AppData\\Local\\Programs\\Python\\Python310\\lib\\site-packages\\pandas\\io\\excel\\_openpyxl.py:60\u001b[0m, in \u001b[0;36mOpenpyxlWriter.__init__\u001b[1;34m(self, path, engine, date_format, datetime_format, mode, storage_options, if_sheet_exists, engine_kwargs, **kwargs)\u001b[0m\n\u001b[0;32m     56\u001b[0m \u001b[39mfrom\u001b[39;00m \u001b[39mopenpyxl\u001b[39;00m\u001b[39m.\u001b[39;00m\u001b[39mworkbook\u001b[39;00m \u001b[39mimport\u001b[39;00m Workbook\n\u001b[0;32m     58\u001b[0m engine_kwargs \u001b[39m=\u001b[39m combine_kwargs(engine_kwargs, kwargs)\n\u001b[1;32m---> 60\u001b[0m \u001b[39msuper\u001b[39;49m()\u001b[39m.\u001b[39;49m\u001b[39m__init__\u001b[39;49m(\n\u001b[0;32m     61\u001b[0m     path,\n\u001b[0;32m     62\u001b[0m     mode\u001b[39m=\u001b[39;49mmode,\n\u001b[0;32m     63\u001b[0m     storage_options\u001b[39m=\u001b[39;49mstorage_options,\n\u001b[0;32m     64\u001b[0m     if_sheet_exists\u001b[39m=\u001b[39;49mif_sheet_exists,\n\u001b[0;32m     65\u001b[0m     engine_kwargs\u001b[39m=\u001b[39;49mengine_kwargs,\n\u001b[0;32m     66\u001b[0m )\n\u001b[0;32m     68\u001b[0m \u001b[39m# ExcelWriter replaced \"a\" by \"r+\" to allow us to first read the excel file from\u001b[39;00m\n\u001b[0;32m     69\u001b[0m \u001b[39m# the file and later write to it\u001b[39;00m\n\u001b[0;32m     70\u001b[0m \u001b[39mif\u001b[39;00m \u001b[39m\"\u001b[39m\u001b[39mr+\u001b[39m\u001b[39m\"\u001b[39m \u001b[39min\u001b[39;00m \u001b[39mself\u001b[39m\u001b[39m.\u001b[39m_mode:  \u001b[39m# Load from existing workbook\u001b[39;00m\n",
      "File \u001b[1;32mc:\\Users\\kerry\\AppData\\Local\\Programs\\Python\\Python310\\lib\\site-packages\\pandas\\io\\excel\\_base.py:1302\u001b[0m, in \u001b[0;36mExcelWriter.__init__\u001b[1;34m(self, path, engine, date_format, datetime_format, mode, storage_options, if_sheet_exists, engine_kwargs, **kwargs)\u001b[0m\n\u001b[0;32m   1298\u001b[0m \u001b[39mself\u001b[39m\u001b[39m.\u001b[39m_handles \u001b[39m=\u001b[39m IOHandles(\n\u001b[0;32m   1299\u001b[0m     cast(IO[\u001b[39mbytes\u001b[39m], path), compression\u001b[39m=\u001b[39m{\u001b[39m\"\u001b[39m\u001b[39mcompression\u001b[39m\u001b[39m\"\u001b[39m: \u001b[39mNone\u001b[39;00m}\n\u001b[0;32m   1300\u001b[0m )\n\u001b[0;32m   1301\u001b[0m \u001b[39mif\u001b[39;00m \u001b[39mnot\u001b[39;00m \u001b[39misinstance\u001b[39m(path, ExcelWriter):\n\u001b[1;32m-> 1302\u001b[0m     \u001b[39mself\u001b[39m\u001b[39m.\u001b[39m_handles \u001b[39m=\u001b[39m get_handle(\n\u001b[0;32m   1303\u001b[0m         path, mode, storage_options\u001b[39m=\u001b[39;49mstorage_options, is_text\u001b[39m=\u001b[39;49m\u001b[39mFalse\u001b[39;49;00m\n\u001b[0;32m   1304\u001b[0m     )\n\u001b[0;32m   1305\u001b[0m \u001b[39mself\u001b[39m\u001b[39m.\u001b[39m_cur_sheet \u001b[39m=\u001b[39m \u001b[39mNone\u001b[39;00m\n\u001b[0;32m   1307\u001b[0m \u001b[39mif\u001b[39;00m date_format \u001b[39mis\u001b[39;00m \u001b[39mNone\u001b[39;00m:\n",
      "File \u001b[1;32mc:\\Users\\kerry\\AppData\\Local\\Programs\\Python\\Python310\\lib\\site-packages\\pandas\\io\\common.py:866\u001b[0m, in \u001b[0;36mget_handle\u001b[1;34m(path_or_buf, mode, encoding, compression, memory_map, is_text, errors, storage_options)\u001b[0m\n\u001b[0;32m    857\u001b[0m         handle \u001b[39m=\u001b[39m \u001b[39mopen\u001b[39m(\n\u001b[0;32m    858\u001b[0m             handle,\n\u001b[0;32m    859\u001b[0m             ioargs\u001b[39m.\u001b[39mmode,\n\u001b[1;32m   (...)\u001b[0m\n\u001b[0;32m    862\u001b[0m             newline\u001b[39m=\u001b[39m\u001b[39m\"\u001b[39m\u001b[39m\"\u001b[39m,\n\u001b[0;32m    863\u001b[0m         )\n\u001b[0;32m    864\u001b[0m     \u001b[39melse\u001b[39;00m:\n\u001b[0;32m    865\u001b[0m         \u001b[39m# Binary mode\u001b[39;00m\n\u001b[1;32m--> 866\u001b[0m         handle \u001b[39m=\u001b[39m \u001b[39mopen\u001b[39;49m(handle, ioargs\u001b[39m.\u001b[39;49mmode)\n\u001b[0;32m    867\u001b[0m     handles\u001b[39m.\u001b[39mappend(handle)\n\u001b[0;32m    869\u001b[0m \u001b[39m# Convert BytesIO or file objects passed with an encoding\u001b[39;00m\n",
      "\u001b[1;31mPermissionError\u001b[0m: [Errno 13] Permission denied: 'excelfile.xlsx'"
     ]
    }
   ],
   "source": [
    "data = pd.read_csv(\"WAGE1_revised.csv\")\n",
    "\n",
    "# transformations of variables\n",
    "model1 = smf.ols(\"wage ~ female\", data=data)\n",
    "result1 = model1.fit()\n",
    "\n",
    "# multivariate\n",
    "model2 = smf.ols(\"wage ~ female + educ + female*educ\", data=data)\n",
    "result2 = model2.fit()\n",
    "\n",
    "# saving to Excel\n",
    "pd.DataFrame(result2.summary().tables[1]).to_excel(\"excelfile.xlsx\")\n"
   ]
  },
  {
   "cell_type": "code",
   "execution_count": null,
   "metadata": {
    "slideshow": {
     "slide_type": "slide"
    }
   },
   "outputs": [
    {
     "name": "stderr",
     "output_type": "stream",
     "text": [
      "c:\\Users\\kerry\\AppData\\Local\\Programs\\Python\\Python310\\lib\\site-packages\\pystout\\pystout.py:377: FutureWarning: The frame.append method is deprecated and will be removed from pandas in a future version. Use pandas.concat instead.\n",
      "  options = options.append(pd.DataFrame([r],index=[value]))\n",
      "c:\\Users\\kerry\\AppData\\Local\\Programs\\Python\\Python310\\lib\\site-packages\\pystout\\pystout.py:377: FutureWarning: The frame.append method is deprecated and will be removed from pandas in a future version. Use pandas.concat instead.\n",
      "  options = options.append(pd.DataFrame([r],index=[value]))\n"
     ]
    }
   ],
   "source": [
    "# saving to tex\n",
    "\n",
    "pystout(\n",
    "    models=[result1, result2], \n",
    "    file=\"texfile.tex\",\n",
    "    endog_names = [\"wage\", \"wage\"],\n",
    "    exogvars=[\n",
    "        'female', \n",
    "        'educ', \n",
    "        'female:educ', \n",
    "        ],\n",
    "    stars={0.1: \"*\", 0.05: \"**\", 0.01: \"***\"},\n",
    "    addnotes=[\"$^*p<0.1$, $^{**}p<0.05$, $^{***}p<0.01$\"],\n",
    "    modstat={\"nobs\": \"Obs\", \"rsquared_adj\": \"Adj $R^2$\"},\n",
    "    title=\"Wage Equation\",\n",
    "    label=\"tab:wage\"\n",
    "\n",
    ")"
   ]
  }
 ],
 "metadata": {
  "colab": {
   "include_colab_link": true,
   "provenance": []
  },
  "kernelspec": {
   "display_name": "Python 3 (ipykernel)",
   "language": "python",
   "name": "python3"
  },
  "language_info": {
   "codemirror_mode": {
    "name": "ipython",
    "version": 3
   },
   "file_extension": ".py",
   "mimetype": "text/x-python",
   "name": "python",
   "nbconvert_exporter": "python",
   "pygments_lexer": "ipython3",
   "version": "3.10.8"
  },
  "vscode": {
   "interpreter": {
    "hash": "e9c182eb2c6b77cc7a6e636d1b5173df89a0a80b42c041014ee844b6f22ab6ab"
   }
  }
 },
 "nbformat": 4,
 "nbformat_minor": 4
}
