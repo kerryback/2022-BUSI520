{
  "cells": [
    {
      "cell_type": "markdown",
      "id": "a8977ab7-3661-4e9f-bd1f-2c3ba0889b84",
      "metadata": {
        "noteable": {
          "cell_type": "markdown"
        },
        "slideshow": {
          "slide_type": "slide"
        }
      },
      "source": [
        "# Day 9 \n",
        "\n",
        "### BUSI 520: Python for Business Research\n",
        "### Kerry Back, JGSB, Rice University"
      ]
    },
    {
      "cell_type": "markdown",
      "id": "0e075007",
      "metadata": {
        "slideshow": {
          "slide_type": "slide"
        }
      },
      "source": [
        "### Plan\n",
        "\n",
        "- Numpy\n",
        "- Scipy"
      ]
    },
    {
      "cell_type": "markdown",
      "id": "cda683c2",
      "metadata": {
        "slideshow": {
          "slide_type": "slide"
        }
      },
      "source": [
        "## Numpy\n",
        "\n",
        "- Arrays and array operations\n",
        "- Functions \n",
        "- Linear algebra\n",
        "- The random module \n",
        "- The linalg module"
      ]
    },
    {
      "cell_type": "code",
      "execution_count": 102,
      "id": "7a937e9a-3ed6-4936-95ef-792862389613",
      "metadata": {
        "noteable": {
          "cell_type": "code"
        },
        "slideshow": {
          "slide_type": "skip"
        }
      },
      "outputs": [],
      "source": [
        "import numpy as np"
      ]
    },
    {
      "cell_type": "markdown",
      "id": "ad7f58e6-deac-4c21-88af-75d4d89c177f",
      "metadata": {
        "noteable": {
          "cell_type": "markdown"
        },
        "slideshow": {
          "slide_type": "slide"
        }
      },
      "source": [
        "### Arrays"
      ]
    },
    {
      "cell_type": "code",
      "execution_count": 103,
      "id": "f4bfe6bf-7b8b-4a17-882d-bccf053cd9af",
      "metadata": {
        "noteable": {
          "cell_type": "code"
        },
        "slideshow": {
          "slide_type": "slide"
        }
      },
      "outputs": [
        {
          "data": {
            "text/plain": [
              "array([1, 2, 3, 4, 5])"
            ]
          },
          "execution_count": 103,
          "metadata": {
            "slideshow": {
              "slide_type": "slide"
            }
          },
          "output_type": "execute_result"
        }
      ],
      "source": [
        "# creating a 1D array\n",
        "\n",
        "arr = np.array([1, 2, 3, 4, 5])\n",
        "arr"
      ]
    },
    {
      "cell_type": "markdown",
      "id": "a29b7b05",
      "metadata": {
        "slideshow": {
          "slide_type": "slide"
        }
      },
      "source": [
        "- We actually created a list first: [1, 2, 3, 4, 5]\n",
        "- Then, we passed the list to the function np.array\n",
        "- We can go back and forth between lists and arrays"
      ]
    },
    {
      "cell_type": "code",
      "execution_count": 133,
      "id": "c52c0074",
      "metadata": {"slideshow": {"slide_type": "slide"}},
      "outputs": [
        {
          "name": "stdout",
          "output_type": "stream",
          "text": [
            "[1 2 3 4 5]\n",
            "<class 'numpy.ndarray'> \n",
            "\n",
            "[np.int64(1), np.int64(2), np.int64(3), np.int64(4), np.int64(5)]\n",
            "<class 'list'>\n"
          ]
        }
      ],
      "source": [
        "lst = [1, 2, 3, 4, 5]\n",
        "arr = np.array(lst)\n",
        "print(arr)\n",
        "print(type(arr), \"\\n\")\n",
        "lst = list(arr)\n",
        "print(lst)\n",
        "print(type(lst))"
      ]
    },
    {
      "cell_type": "code",
      "execution_count": 104,
      "id": "324a6fed-863d-4d29-a822-544195f49987",
      "metadata": {
        "noteable": {
          "cell_type": "code"
        },
        "slideshow": {
          "slide_type": "slide"
        }
      },
      "outputs": [
        {
          "data": {
            "text/plain": [
              "array([[1, 2, 3],\n",
              "       [4, 5, 6],\n",
              "       [7, 8, 9]])"
            ]
          },
          "execution_count": 104,
          "metadata": {
            "slideshow": {
              "slide_type": "slide"
            }
          },
          "output_type": "execute_result"
        }
      ],
      "source": [
        "# creating a 2D array\n",
        "\n",
        "arr = np.array(\n",
        "    [\n",
        "        [1, 2, 3], \n",
        "        [4, 5, 6], \n",
        "        [7, 8, 9]\n",
        "    ]\n",
        ")\n",
        "arr"
      ]
    },
    {
      "cell_type": "code",
      "execution_count": 105,
      "id": "8c85504e",
      "metadata": {
        "slideshow": {
          "slide_type": "slide"
        }
      },
      "outputs": [
        {
          "data": {
            "text/plain": [
              "array([[[ 1,  2,  3],\n",
              "        [ 4,  5,  6],\n",
              "        [ 7,  8,  9]],\n",
              "\n",
              "       [[10, 11, 12],\n",
              "        [13, 14, 15],\n",
              "        [16, 17, 18]]])"
            ]
          },
          "execution_count": 105,
          "metadata": {
            "slideshow": {
              "slide_type": "slide"
            }
          },
          "output_type": "execute_result"
        }
      ],
      "source": [
        "# creating a 3D array\n",
        "\n",
        "arr = np.array(\n",
        "    [\n",
        "        [\n",
        "            [1, 2, 3], \n",
        "            [4, 5, 6], \n",
        "            [7, 8, 9]\n",
        "        ],\n",
        "        [\n",
        "            [10, 11, 12], \n",
        "            [13, 14, 15], \n",
        "            [16, 17, 18]\n",
        "        ]\n",
        "    ]\n",
        ")\n",
        "arr"
      ]
    },
    {
      "cell_type": "markdown",
      "id": "f86a9129",
      "metadata": {
        "slideshow": {
          "slide_type": "slide"
        }
      },
      "source": [
        "### Warning redux\n",
        "\n",
        "- Arrays, like lists and dataframes, are assigned by reference\n",
        "- If you want a copy, use the copy method"
      ]
    },
    {
      "cell_type": "code",
      "execution_count": 106,
      "id": "96fcbdb2",
      "metadata": {
        "slideshow": {
          "slide_type": "slide"
        }
      },
      "outputs": [
        {
          "data": {
            "text/plain": [
              "array([[50,  2,  3],\n",
              "       [ 4,  5,  6],\n",
              "       [ 7,  8,  9]])"
            ]
          },
          "execution_count": 106,
          "metadata": {
            "slideshow": {
              "slide_type": "slide"
            }
          },
          "output_type": "execute_result"
        }
      ],
      "source": [
        "# assignment does not create a new copy, just a new reference to the original\n",
        "# so any changes are made to the original \n",
        "\n",
        "arr = np.array(\n",
        "    [\n",
        "        [1, 2, 3], \n",
        "        [4, 5, 6], \n",
        "        [7, 8, 9]\n",
        "    ]\n",
        ")\n",
        "\n",
        "# assignment\n",
        "arr2 = arr \n",
        "\n",
        "# change the new one\n",
        "arr2[0, 0] = 50\n",
        "\n",
        "# check the original\n",
        "arr"
      ]
    },
    {
      "cell_type": "code",
      "execution_count": 107,
      "id": "4bd019b2",
      "metadata": {
        "slideshow": {
          "slide_type": "slide"
        }
      },
      "outputs": [
        {
          "data": {
            "text/plain": [
              "array([[1, 2, 3],\n",
              "       [4, 5, 6],\n",
              "       [7, 8, 9]])"
            ]
          },
          "execution_count": 107,
          "metadata": {
            "slideshow": {
              "slide_type": "slide"
            }
          },
          "output_type": "execute_result"
        }
      ],
      "source": [
        "# create a copy if you want to make changes without changing the original \n",
        "\n",
        "arr = np.array(\n",
        "    [\n",
        "        [1, 2, 3], \n",
        "        [4, 5, 6], \n",
        "        [7, 8, 9]\n",
        "    ]\n",
        ")\n",
        "\n",
        "# assignment\n",
        "arr2 = arr.copy()\n",
        "\n",
        "# change the new one\n",
        "arr2[0, 0] = 50\n",
        "\n",
        "# check the original\n",
        "arr"
      ]
    },
    {
      "cell_type": "markdown",
      "id": "a4045ceb-fd7f-4915-99bb-9eeaf451d5d7",
      "metadata": {
        "noteable": {
          "cell_type": "markdown"
        },
        "slideshow": {
          "slide_type": "slide"
        }
      },
      "source": [
        "### Array Attributes\n",
        "\n",
        "NumPy arrays have several attributes that give information about the array's size, shape, and data type:\n",
        "\n",
        "```python \n",
        "arr.shape \n",
        "arr.size \n",
        "arr.ndim\n",
        "arr.dtype\n",
        "```\n"
      ]
    },
    {
      "cell_type": "markdown",
      "id": "bb00e485",
      "metadata": {
        "slideshow": {
          "slide_type": "slide"
        }
      },
      "source": [
        "### 1D Shapes\n",
        "\n",
        "- We usually think of a 1D array as either a column vector or a row vector\n",
        "- Numpy 1D arrays are neither row vectors nor column vectors\n",
        "- A row vector has shape $1 \\times n$ (i.e., 2D with 1 row).\n",
        "- A column vector has shape $n \\times 1$ (i.e., 2D with 1 column).\n",
        "- A 1D array has shape $n$.  It has no fixed orientation.  So, its orientation is adaptable.  More later."
      ]
    },
    {
      "cell_type": "code",
      "execution_count": 108,
      "id": "da380170",
      "metadata": {
        "slideshow": {
          "slide_type": "slide"
        }
      },
      "outputs": [
        {
          "name": "stdout",
          "output_type": "stream",
          "text": [
            "(3,)\n",
            "(1, 3)\n",
            "(3, 1)\n"
          ]
        }
      ],
      "source": [
        "x = np.array([1, 2, 3])\n",
        "\n",
        "# x has no orientation\n",
        "print(x.shape)\n",
        "\n",
        "# create a 2D array with one row (a row vector)\n",
        "x = np.array(\n",
        "    [\n",
        "        [1, 2, 3]\n",
        "    ]\n",
        ")\n",
        "print(x.shape)\n",
        "\n",
        "# create a 2D array with one column (a column vector)\n",
        "x = np.array(\n",
        "    [\n",
        "        [1], \n",
        "        [2], \n",
        "        [3]\n",
        "    ]\n",
        ")\n",
        "print(x.shape)"
      ]
    },
    {
      "cell_type": "markdown",
      "id": "46f873e0-b80d-47c5-ad23-1123e2e3835e",
      "metadata": {
        "noteable": {
          "cell_type": "markdown"
        },
        "slideshow": {
          "slide_type": "slide"
        }
      },
      "source": [
        "### Array Indexing and Slicing\n",
        "\n",
        "Indexing and slicing works the same way as for lists and the same as the .iloc method for dataframes."
      ]
    },
    {
      "cell_type": "code",
      "execution_count": 109,
      "id": "685c1d2e",
      "metadata": {
        "slideshow": {
          "slide_type": "slide"
        }
      },
      "outputs": [],
      "source": [
        "arr = np.array(\n",
        "    [\n",
        "        [1, 2, 3], \n",
        "        [4, 5, 6], \n",
        "        [7, 8, 9]\n",
        "    ]\n",
        ")"
      ]
    },
    {
      "cell_type": "markdown",
      "id": "68e024d0",
      "metadata": {
        "slideshow": {
          "slide_type": "slide"
        }
      },
      "source": [
        "Try \n",
        "\n",
        "```python \n",
        "arr[1, 2]\n",
        "arr[0]\n",
        "arr[0, :]\n",
        "arr[:, 0]\n",
        "arr[0][1]\n",
        "arr[-1, :]\n",
        "arr[:, -1]\n",
        "arr[1:3, 1:3]\n",
        "arr[::2, ::2]\n",
        "arr > 2\n",
        "arr[arr > 2]\n",
        "arr[:, 0] > 2 \n",
        "arr[arr[:, 0] > 2, :]\n",
        "```"
      ]
    },
    {
      "cell_type": "markdown",
      "id": "c6dc8d8b",
      "metadata": {
        "slideshow": {
          "slide_type": "slide"
        }
      },
      "source": [
        "### Some array-creating functions\n",
        "\n",
        "Try \n",
        "\n",
        "```python\n",
        "np.ones(4)\n",
        "np.ones((2, 3))\n",
        "np.zeros(4) \n",
        "np.zeros((2, 3))\n",
        "np.arange(10)\n",
        "np.arange(1, 12, 2)\n",
        "np.linspace(0, 1, 5)  # note endpoint is included\n",
        "np.empty(4)\n",
        "np.empty((2, 3))\n",
        "np.full((2, 3), 5)\n",
        "np.repeat(arr, 2)\n",
        "np.tile(arr, 2)\n",
        "np.eye(3)\n",
        "np.diag([1, 2, 3])\n",
        "np.logspace(0, 1, 4)  # = 10**np.linspace(0, 1, 4)\n",
        "```"
      ]
    },
    {
      "cell_type": "markdown",
      "id": "afa78404",
      "metadata": {
        "slideshow": {
          "slide_type": "slide"
        }
      },
      "source": [
        "### Reshaping\n",
        "\n",
        "- arr.reshape\n",
        "- arr.flatten\n",
        "- arr.ravel"
      ]
    },
    {
      "cell_type": "code",
      "execution_count": 110,
      "id": "2d9f6c70",
      "metadata": {
        "slideshow": {
          "slide_type": "slide"
        }
      },
      "outputs": [
        {
          "name": "stdout",
          "output_type": "stream",
          "text": [
            "[0 1 2]\n",
            "(3,) \n",
            "\n",
            "[[0 1 2]]\n",
            "(1, 3)\n",
            "(1, 3) \n",
            "\n",
            "[[0]\n",
            " [1]\n",
            " [2]]\n",
            "(3, 1)\n",
            "(3, 1)\n"
          ]
        }
      ],
      "source": [
        "# reshape \n",
        "\n",
        "x = np.arange(3)\n",
        "print(x)\n",
        "print(x.shape, \"\\n\")\n",
        "print(x.reshape(1, 3))\n",
        "print(x.reshape(1, 3).shape)\n",
        "print(x.reshape(1, -1).shape, \"\\n\")\n",
        "print(x.reshape(3, 1))\n",
        "print(x.reshape(3, 1).shape)\n",
        "print(x.reshape(-1, 1).shape)\n"
      ]
    },
    {
      "cell_type": "markdown",
      "id": "cf4b7b0e",
      "metadata": {
        "slideshow": {
          "slide_type": "slide"
        }
      },
      "source": [
        "### Ravel and flatten \n",
        "\n",
        "- both turn arrays into 1D arrays (with no orientation)\n",
        "- ravel returns a view of the array\n",
        "- flatten returns a copy of the array"
      ]
    },
    {
      "cell_type": "code",
      "execution_count": 111,
      "id": "a92eb495",
      "metadata": {
        "slideshow": {
          "slide_type": "slide"
        }
      },
      "outputs": [
        {
          "name": "stdout",
          "output_type": "stream",
          "text": [
            "[[1 2 3]\n",
            " [4 5 6]\n",
            " [7 8 9]]\n",
            "[1 2 3 4 5 6 7 8 9]\n",
            "(9,)\n"
          ]
        }
      ],
      "source": [
        "# flatten\n",
        "\n",
        "x = np.arange(1, 10).reshape(3, 3)\n",
        "print(x)\n",
        "\n",
        "y = x.flatten()\n",
        "print(y)\n",
        "print(y.shape)"
      ]
    },
    {
      "cell_type": "code",
      "execution_count": 112,
      "id": "6940a4f5",
      "metadata": {
        "slideshow": {
          "slide_type": "slide"
        }
      },
      "outputs": [
        {
          "name": "stdout",
          "output_type": "stream",
          "text": [
            "[[1 2 3]\n",
            " [4 5 6]\n",
            " [7 8 9]]\n",
            "[1 2 3 4 5 6 7 8 9]\n",
            "(9,)\n"
          ]
        }
      ],
      "source": [
        "# ravel \n",
        "\n",
        "x = np.arange(1, 10).reshape(3, 3)\n",
        "print(x)\n",
        "\n",
        "y = x.flatten()\n",
        "print(y)\n",
        "print(y.shape)"
      ]
    },
    {
      "cell_type": "markdown",
      "id": "4eeed53e",
      "metadata": {
        "slideshow": {
          "slide_type": "slide"
        }
      },
      "source": [
        "### Concatenate \n",
        "\n",
        "- Combine arrays with np.concatenate\n",
        "- Put arrays on top of each other with axis=0\n",
        "- Put arrays side by side with axis=1"
      ]
    },
    {
      "cell_type": "code",
      "execution_count": 113,
      "id": "c3bc36a3",
      "metadata": {
        "slideshow": {
          "slide_type": "slide"
        }
      },
      "outputs": [
        {
          "name": "stdout",
          "output_type": "stream",
          "text": [
            "[[ 1  2  3]\n",
            " [ 4  5  6]\n",
            " [ 7  8  9]\n",
            " [10 11 12]]\n",
            "[[ 1  2  3  7  8  9]\n",
            " [ 4  5  6 10 11 12]]\n"
          ]
        }
      ],
      "source": [
        "arr1 = np.arange(1, 7).reshape(2, 3)\n",
        "arr2 = np.arange(7, 13).reshape(2, 3)\n",
        "print(np.concatenate((arr1, arr2), axis=0))\n",
        "print(np.concatenate((arr1, arr2), axis=1))"
      ]
    },
    {
      "cell_type": "markdown",
      "id": "0a0c2538-63f2-49f2-b724-2b6f5cb5fd10",
      "metadata": {
        "noteable": {
          "cell_type": "markdown"
        },
        "slideshow": {
          "slide_type": "slide"
        }
      },
      "source": [
        "### Array Operations\n",
        "\n",
        "- Addition, multiplication, etc. are applied element-by-element\n",
        "- Addition and multiplication work differently for arrays compared to lists\n"
      ]
    },
    {
      "cell_type": "code",
      "execution_count": 138,
      "id": "6596a0a4",
      "metadata": {"slideshow": {"slide_type": "slide"}},
      "outputs": [
        {
          "name": "stdout",
          "output_type": "stream",
          "text": [
            "[[0 1 2]\n",
            " [3 4 5]\n",
            " [6 7 8]] \n",
            "\n",
            "[[ 0  1  4]\n",
            " [ 9 16 25]\n",
            " [36 49 64]] \n",
            "\n",
            "[[100 101 102]\n",
            " [103 104 105]\n",
            " [106 107 108]] \n",
            "\n",
            "[[10 11 12]\n",
            " [13 14 15]\n",
            " [16 17 18]] \n",
            "\n",
            "[[10 12 14]\n",
            " [16 18 20]\n",
            " [22 24 26]] \n",
            "\n",
            "[1.     1.1    1.21   1.331  1.4641]\n"
          ]
        }
      ],
      "source": [
        "arr1 = np.arange(9).reshape(3, 3)\n",
        "print(arr1, \"\\n\")\n",
        "print(arr1**2, \"\\n\")\n",
        "print(arr1 + 100, \"\\n\")\n",
        "\n",
        "arr2 = np.arange(10, 19).reshape(3, 3)\n",
        "print(arr2, \"\\n\")\n",
        "print(arr1 + arr2, \"\\n\")\n",
        "\n",
        "print(1.1**np.arange(5))\n"
      ]
    },
    {
      "cell_type": "code",
      "execution_count": 140,
      "id": "49fa1184",
      "metadata": {"slideshow": {"slide_type": "slide"}},
      "outputs": [
        {
          "name": "stdout",
          "output_type": "stream",
          "text": [
            "[1, 2, 3, 4, 5, 1, 2, 3, 4, 5]\n",
            "[ 2  4  6  8 10] \n",
            "\n",
            "[1, 2, 3, 4, 5, 6, 7, 8, 9, 10]\n",
            "[ 7  9 11 13 15]\n"
          ]
        }
      ],
      "source": [
        "# compare adding and multiplying arrays vs lists \n",
        "\n",
        "lst1 = [1, 2, 3, 4, 5]\n",
        "arr1 = np.array(lst)\n",
        "\n",
        "print(2 * lst1)\n",
        "print(2 * arr1, \"\\n\")\n",
        "\n",
        "lst2 = [6, 7, 8, 9, 10]\n",
        "arr2 = np.array(lst2)\n",
        "\n",
        "print(lst1 + lst2)\n",
        "print(arr1 + arr2)"
      ]
    },
    {
      "cell_type": "markdown",
      "id": "0e5c14cc",
      "metadata": {
        "slideshow": {
          "slide_type": "slide"
        }
      },
      "source": [
        "### Broadcasting\n",
        "\n",
        "- Broadcasting is used when the shapes of the arrays are different. - When possible, the smaller array is replicated to match the size of the larger array.\n",
        "- For example, a scalar is treated as an array of the same shape as the other array.\n",
        "- The shape of the smaller array dictates how it will be broadcasted."
      ]
    },
    {
      "cell_type": "code",
      "execution_count": 114,
      "id": "7707c609",
      "metadata": {
        "slideshow": {
          "slide_type": "slide"
        }
      },
      "outputs": [
        {
          "name": "stdout",
          "output_type": "stream",
          "text": [
            "[[1 2 3]\n",
            " [4 5 6]\n",
            " [7 8 9]]\n",
            "[10 11 12]\n",
            "\n",
            "\n",
            "[[11 13 15]\n",
            " [14 16 18]\n",
            " [17 19 21]]\n"
          ]
        }
      ],
      "source": [
        "# adding a smaller 1D array (with no orientation) \n",
        "\n",
        "arr1 = np.arange(1, 10).reshape((3, 3))\n",
        "arr2 = np.arange(10, 13)\n",
        "print(arr1)\n",
        "print(arr2)\n",
        "print(\"\\n\")\n",
        "print(arr1 + arr2)"
      ]
    },
    {
      "cell_type": "code",
      "execution_count": 115,
      "id": "c83d2e23",
      "metadata": {
        "slideshow": {
          "slide_type": "slide"
        }
      },
      "outputs": [
        {
          "name": "stdout",
          "output_type": "stream",
          "text": [
            "[[1 2 3]\n",
            " [4 5 6]\n",
            " [7 8 9]] \n",
            "\n",
            "[[10]\n",
            " [11]\n",
            " [12]] \n",
            "\n",
            "[[11 12 13]\n",
            " [15 16 17]\n",
            " [19 20 21]]\n"
          ]
        }
      ],
      "source": [
        "# adding a column vector adds the vector to each column \n",
        "\n",
        "arr1 = np.arange(1, 10).reshape((3, 3))\n",
        "arr2 = np.arange(10, 13).reshape((3, 1))\n",
        "print(arr1, \"\\n\")\n",
        "print(arr2, \"\\n\")\n",
        "print(arr1 + arr2)"
      ]
    },
    {
      "cell_type": "markdown",
      "id": "a31f80ef",
      "metadata": {
        "slideshow": {
          "slide_type": "slide"
        }
      },
      "source": [
        "### Array methods \n",
        "\n",
        "- Arrays have many methods. Type arr. in a code cell to see them all.\n",
        "- Aggregation methods: sum, mean, std, var, min, max, argmin, argmax, cumsum, cumprod\n",
        "- Aggregation methods can operate down columns or across rows or over the entire array\n"
      ]
    },
    {
      "cell_type": "code",
      "execution_count": 116,
      "id": "0b7d4bd3",
      "metadata": {
        "slideshow": {
          "slide_type": "slide"
        }
      },
      "outputs": [
        {
          "name": "stdout",
          "output_type": "stream",
          "text": [
            "[[1 2 3]\n",
            " [4 5 6]] \n",
            "\n",
            "21 \n",
            "\n",
            "[5 7 9] \n",
            "\n",
            "\n",
            "\n",
            "[ 6 15]\n"
          ]
        }
      ],
      "source": [
        "arr = np.arange(1, 7).reshape(2, 3)\n",
        "print(arr, \"\\n\")\n",
        "\n",
        "# entire array\n",
        "print(arr.sum(), \"\\n\")\n",
        "\n",
        "# down columns\n",
        "print(arr.sum(axis=0), \"\\n\")\n",
        "print(\"\\n\")\n",
        "\n",
        "# across rows\n",
        "print(arr.sum(axis=1))"
      ]
    },
    {
      "cell_type": "markdown",
      "id": "339db08b-5148-4335-b50d-aff245428f7a",
      "metadata": {
        "noteable": {
          "cell_type": "markdown"
        },
        "slideshow": {
          "slide_type": "slide"
        }
      },
      "source": [
        "### Numpy functions \n",
        "\n",
        "- Numpy has aggregation functions (often duplicates of methods): np.sum(), np.std(), ... \n",
        "- Numpy also has functions that apply element-by-element: np.exp(), np.log(), np.sqrt(), np.abs(), np.sign(), np.ceil(), np.floor(), np.round(), np.isnan(), np.isinf(), np.isfinite and more.\n",
        "- Try some."
      ]
    },
    {
      "cell_type": "markdown",
      "id": "7e6b70d5",
      "metadata": {
        "slideshow": {
          "slide_type": "slide"
        }
      },
      "source": [
        "### Linear algebra \n",
        "\n",
        "- matrix/vector multiplication is with the @ operator\n",
        "- transpose is .T\n",
        "- 1D arrays are mutable.  numpy will orient them as needed. A 1D array equals its own transpose (so there is no point to transposing it).\n"
      ]
    },
    {
      "cell_type": "code",
      "execution_count": 117,
      "id": "bc350fcd",
      "metadata": {
        "slideshow": {
          "slide_type": "slide"
        }
      },
      "outputs": [
        {
          "name": "stdout",
          "output_type": "stream",
          "text": [
            "[[1 2 3]\n",
            " [4 5 6]] \n",
            "\n",
            "[0 1 2] \n",
            "\n",
            "[ 8 17]\n"
          ]
        }
      ],
      "source": [
        "arr1 = np.arange(1, 7).reshape(2, 3)\n",
        "arr2 = np.arange(3) \n",
        "print(arr1, \"\\n\")\n",
        "print(arr2, \"\\n\")\n",
        "print(arr1 @ arr2)"
      ]
    },
    {
      "cell_type": "markdown",
      "id": "328ad9cd",
      "metadata": {
        "slideshow": {
          "slide_type": "slide"
        }
      },
      "source": [
        "### numpy random module\n",
        "\n",
        "- The `np.random` module in NumPy provides a suite of functions to generate random numbers for various distributions.\n",
        "- Type np.random. in a code cell to see the functions available."
      ]
    },
    {
      "cell_type": "markdown",
      "id": "4b4fa2a3",
      "metadata": {
        "slideshow": {
          "slide_type": "slide"
        }
      },
      "source": [
        "1. Random number generation:\n",
        "   - `rand()`: Generates uniform random numbers between 0 and 1 in a given shape.\n",
        "   - `randn()`: Generates random numbers from a standard normal distribution (mean 0 and variance 1).\n",
        "   - `randint()`: Generates random integers between specified low and high values.\n",
        "   - `randn(3, 4)` and `normal(size=(3, 4))` are the same thing. normal allows you to specify mean and std dev.\n",
        "   - `binomial()`: Draws samples from a binomial distribution.\n",
        "   - `normal()`: Draws samples from a normal (Gaussian) distribution.\n",
        "   - `poisson()`: Draws samples from a Poisson distribution.\n",
        "   - ... and many more for other distributions."
      ]
    },
    {
      "cell_type": "markdown",
      "id": "080d1882",
      "metadata": {
        "slideshow": {
          "slide_type": "slide"
        }
      },
      "source": [
        "2. Random sampling:\n",
        "   - `choice()`: Generates a random sample from a given 1-D array.\n",
        "   - `shuffle()`: Modifies a sequence in-place by shuffling its contents.\n",
        "   - `permutation()`: Returns a shuffled version of a sequence or returns a permuted range."
      ]
    },
    {
      "cell_type": "markdown",
      "id": "5de6cf22",
      "metadata": {
        "slideshow": {
          "slide_type": "slide"
        }
      },
      "source": [
        "Try \n",
        "\n",
        "```python   \n",
        "np.random.seed(0)\n",
        "np.random.randn(9, (3, 3))\n",
        "np.random.randint(0, 10, 10)\n",
        "np.random.choice([\"a\", \"b\", \"c\"], 10)\n",
        "```"
      ]
    },
    {
      "cell_type": "markdown",
      "id": "1a9e44f9",
      "metadata": {
        "slideshow": {
          "slide_type": "slide"
        }
      },
      "source": [
        "### numpy linalg module\n",
        "\n",
        "- The `np.linalg` module in NumPy provides a collection of linear algebra functions, including eigenvalues and eigenvectors, and matrix norms, determinants, and ranks.  It will also solve linear equations and invert matrices. \n",
        "- Example: if you want to compute regression coefficients $(X'X)^{-1}X'y$, you can use \n",
        "  - `np.linalg.inv(X.T @ X) @ X.T @ y` or \n",
        "  - `np.linalg.solve(X.T @ X, X.T @ y)`\n",
        "- It won't matter most of the time, but the second method is faster and more numerically stable.\n"
      ]
    },
    {
      "cell_type": "markdown",
      "id": "0837d070",
      "metadata": {
        "slideshow": {
          "slide_type": "slide"
        }
      },
      "source": [
        "## Scipy \n",
        "\n",
        "* Optimization\n",
        "* Solving (systems of) nonlinear equations\n",
        "* Interpolation and extrapolation\n",
        "* Nonlinear regression\n",
        "* stats module\n",
        "* skipping numerical integration and differentiation and differential equations\n"
      ]
    },
    {
      "cell_type": "markdown",
      "id": "5778d169",
      "metadata": {
        "slideshow": {
          "slide_type": "slide"
        }
      },
      "source": [
        "### Optimization\n",
        "\n",
        "https://docs.scipy.org/doc/scipy/reference/generated/scipy.optimize.minimize.html\n",
        "\n",
        "- There is no guarantee of finding a global optimum.  It can be difficult to find optima in high dimensions.  \n",
        "- There are choices of algorithms.  Different algorithms have various advantages and disadvantages.\n",
        "- Can optimize subject to bounds or more general constraints."
      ]
    },
    {
      "cell_type": "code",
      "execution_count": 118,
      "id": "1ff49bbe",
      "metadata": {
        "slideshow": {
          "slide_type": "slide"
        }
      },
      "outputs": [
        {
          "name": "stdout",
          "output_type": "stream",
          "text": [
            "minimum value is 1.75 and argmin is -0.50\n"
          ]
        }
      ],
      "source": [
        "# basic optimization  \n",
        "\n",
        "from scipy.optimize import minimize\n",
        "\n",
        "# Define a simple function forexample\n",
        "def func(x):\n",
        "    return x**2 + x + 2\n",
        "\n",
        "# minimize using scipy.optimize.minimize\n",
        "result = minimize(func, x0=0)\n",
        "min_point = result.x\n",
        "min_value = result.fun\n",
        "print(f\"minimum value is {min_value:.2f} and argmin is {min_point[0]:.2f}\")"
      ]
    },
    {
      "cell_type": "code",
      "execution_count": 119,
      "id": "16affb5d",
      "metadata": {
        "slideshow": {
          "slide_type": "slide"
        }
      },
      "outputs": [
        {
          "name": "stdout",
          "output_type": "stream",
          "text": [
            "minimum value is 3.25 and argmin is [2. 1.]\n"
          ]
        }
      ],
      "source": [
        "# a function of two variables and with bounds \n",
        "\n",
        "def func(x):\n",
        "\n",
        "    # extract the elements of the array x into (x0, x1)\n",
        "    x0, x1 = x\n",
        "    return (x0 - 1)**2 + (x1 - 2.5)**2\n",
        "\n",
        "# define bounds for the variables\n",
        "bounds = [(2, 3), (0, 1)]\n",
        "\n",
        "# minimize with bounds\n",
        "result = minimize(func, x0=[1, 2], bounds=bounds)\n",
        "min_point = result.x\n",
        "min_value = result.fun\n",
        "\n",
        "print(f\"minimum value is {min_value:.2f} and argmin is {np.round(min_point, 2)}\")"
      ]
    },
    {
      "cell_type": "code",
      "execution_count": 120,
      "id": "8514e9f4",
      "metadata": {
        "slideshow": {
          "slide_type": "slide"
        }
      },
      "outputs": [
        {
          "name": "stdout",
          "output_type": "stream",
          "text": [
            "minimum value is 0.51 and argmin is [1.17 0.83 0.56]\n"
          ]
        }
      ],
      "source": [
        "# a function of three variables with more general constraints\n",
        "\n",
        "def func(x):\n",
        "\n",
        "    # extract the elements of the array x into (x0, x1, x2)\n",
        "    x0, x1, x2 = x\n",
        "    return x0*x1 - x1*x2\n",
        "\n",
        "# define constraints\n",
        "def constraint1(x):\n",
        "    x0, x1, x2 = x\n",
        "    return x0 + x1 - 2\n",
        "\n",
        "def constraint2(x):\n",
        "    x0, x1, x2 = x\n",
        "    return x1**2 + x2**2 - 1\n",
        "\n",
        "constraints = (\n",
        "    {'type': 'eq', 'fun': constraint1},\n",
        "    {'type': 'eq', 'fun': constraint2}\n",
        ")\n",
        "\n",
        "# minimize with constraints\n",
        "result = minimize(func, x0=[0, 0, 0], constraints=constraints)\n",
        "min_point = result.x\n",
        "min_value = result.fun\n",
        "\n",
        "print(f\"minimum value is {min_value:.2f} and argmin is {np.round(min_point, 2)}\")"
      ]
    },
    {
      "cell_type": "markdown",
      "id": "3e3dd36b",
      "metadata": {
        "slideshow": {
          "slide_type": "slide"
        }
      },
      "source": [
        "### Solving equations\n",
        "\n",
        "https://docs.scipy.org/doc/scipy/reference/generated/scipy.optimize.root.html\n",
        "\n",
        "Again, there are various algorithms available, and it can be difficult to find solutions in high dimensions."
      ]
    },
    {
      "cell_type": "code",
      "execution_count": 121,
      "id": "8dfe2c15",
      "metadata": {
        "slideshow": {
          "slide_type": "slide"
        }
      },
      "outputs": [
        {
          "name": "stdout",
          "output_type": "stream",
          "text": [
            "roots are [ 1.  1. -2.]\n"
          ]
        }
      ],
      "source": [
        "from scipy.optimize import root\n",
        "\n",
        "# function of one variable\n",
        "def func(x):\n",
        "    return x**3 - 4*x**2 - 7*x + 10\n",
        "\n",
        "\n",
        "# find roots \n",
        "result = root(func, x0=[0, 2, 3])\n",
        "roots = result.x\n",
        "\n",
        "print(f\"roots are {roots}\")"
      ]
    },
    {
      "cell_type": "code",
      "execution_count": 122,
      "id": "ac579213",
      "metadata": {
        "slideshow": {
          "slide_type": "slide"
        }
      },
      "outputs": [
        {
          "data": {
            "image/png": "[encoded data removed]",
            "text/plain": [
              "<Figure size 640x480 with 1 Axes>"
            ]
          },
          "metadata": {
            "slideshow": {
              "slide_type": "slide"
            }
          },
          "output_type": "display_data"
        }
      ],
      "source": [
        "# plot the function and its roots \n",
        "\n",
        "import matplotlib.pyplot as plt\n",
        "import seaborn as sns\n",
        "sns.set_style('whitegrid')\n",
        "\n",
        "x = np.linspace(-5, 10, 100)\n",
        "y = func(x)\n",
        "\n",
        "plt.plot(x, y)\n",
        "plt.plot(roots, func(roots), 'ro')\n",
        "plt.axhline(0, color='black',linewidth=0.5)\n",
        "plt.axvline(0, color='black',linewidth=0.5)\n",
        "plt.show()"
      ]
    },
    {
      "cell_type": "code",
      "execution_count": 123,
      "id": "3f8e51b8",
      "metadata": {
        "slideshow": {
          "slide_type": "slide"
        }
      },
      "outputs": [
        {
          "name": "stdout",
          "output_type": "stream",
          "text": [
            "roots are [0.70710677 0.70710679]\n"
          ]
        }
      ],
      "source": [
        "# function of two variables\n",
        "def func(x):\n",
        "    x0, x1 = x\n",
        "    f1 = x0**2 + x1**2 - 1\n",
        "    f2 = x0*x1 - 0.5\n",
        "    return [f1, f2]\n",
        "\n",
        "result = root(func, x0=[0.5, 0.5])\n",
        "roots = result.x\n",
        "print(f\"roots are {roots}\")  # each root is a array of shape (2,)"
      ]
    },
    {
      "cell_type": "markdown",
      "id": "580a501a",
      "metadata": {
        "slideshow": {
          "slide_type": "slide"
        }
      },
      "source": [
        "### Interpolation and Extrapolation\n",
        "\n",
        " - linear and spline interpolation \n",
        " - A spline is a smooth function that passes through given points.  \n",
        " - A cubic spline is a piecewise cubic function with parameters chosen to produce a smooth function passing through given points."
      ]
    },
    {
      "cell_type": "code",
      "execution_count": 124,
      "id": "9d1e50b6",
      "metadata": {
        "slideshow": {
          "slide_type": "slide"
        }
      },
      "outputs": [
        {
          "data": {
            "text/plain": [
              "<matplotlib.collections.PathCollection at 0x23ba47db440>"
            ]
          },
          "execution_count": 124,
          "metadata": {
            "slideshow": {
              "slide_type": "slide"
            }
          },
          "output_type": "execute_result"
        },
        {
          "data": {
            "image/png": "[encoded data removed]",
            "text/plain": [
              "<Figure size 640x480 with 1 Axes>"
            ]
          },
          "metadata": {
            "slideshow": {
              "slide_type": "slide"
            }
          },
          "output_type": "display_data"
        }
      ],
      "source": [
        "from scipy.interpolate import interp1d, UnivariateSpline\n",
        "\n",
        "# given data\n",
        "x = np.linspace(0, 10, 10)\n",
        "y = np.sin(x)\n",
        "plt.scatter(x, y)"
      ]
    },
    {
      "cell_type": "code",
      "execution_count": 126,
      "id": "4d5b81ba",
      "metadata": {
        "slideshow": {
          "slide_type": "slide"
        }
      },
      "outputs": [],
      "source": [
        "# points at which to interpolate \n",
        "# \n",
        "x_interp = np.linspace(0, 10, 100) \n",
        "\n",
        "# linear interpolation\n",
        "linear_interp = interp1d(x, y)\n",
        "y_linear = linear_interp(x_interp)\n",
        "\n",
        "# spline interpolation \n",
        "# s parameter determines tradeoff between smoothness and accuracy\n",
        "# s=0 means perfect accuracy (interpolation)\n",
        "spline_interp = UnivariateSpline(x, y, s=0)  \n",
        "y_spline = spline_interp(x_interp)"
      ]
    },
    {
      "cell_type": "code",
      "execution_count": 127,
      "id": "31b03fc0",
      "metadata": {
        "slideshow": {
          "slide_type": "slide"
        }
      },
      "outputs": [
        {
          "data": {
            "image/png": "[encoded data removed]",
            "text/plain": [
              "<Figure size 640x480 with 1 Axes>"
            ]
          },
          "metadata": {
            "slideshow": {
              "slide_type": "slide"
            }
          },
          "output_type": "display_data"
        }
      ],
      "source": [
        "plt.scatter(x, y, label='Original Data')\n",
        "plt.plot(x_interp, y_linear, label='Linear Interpolation')\n",
        "plt.plot(x_interp, y_spline, label='Spline Interpolation')\n",
        "plt.xlabel('X')\n",
        "plt.ylabel('Y')\n",
        "plt.legend()\n",
        "plt.show()"
      ]
    },
    {
      "cell_type": "code",
      "execution_count": 128,
      "id": "ca26c73f",
      "metadata": {
        "slideshow": {
          "slide_type": "slide"
        }
      },
      "outputs": [],
      "source": [
        "# grid on which to interpolate and extrapolate\n",
        "x_extrap = np.linspace(-2, 12, 100)\n",
        "\n",
        "# Linear extrapolation\n",
        "linear_extrap = interp1d(x, y, fill_value='extrapolate')\n",
        "y_linear_extrap = linear_extrap(x_extrap)\n",
        "\n",
        "# Spline extrapolation\n",
        "spline_extrap = UnivariateSpline(x, y, s=0, ext='extrapolate')\n",
        "y_spline_extrap = spline_extrap(x_extrap)"
      ]
    },
    {
      "cell_type": "code",
      "execution_count": 130,
      "id": "fd25fbf7",
      "metadata": {
        "slideshow": {
          "slide_type": "slide"
        }
      },
      "outputs": [
        {
          "data": {
            "image/png": "[encoded data removed]",
            "text/plain": [
              "<Figure size 640x480 with 1 Axes>"
            ]
          },
          "metadata": {
            "slideshow": {
              "slide_type": "slide"
            }
          },
          "output_type": "display_data"
        }
      ],
      "source": [
        "plt.scatter(x, y, label='Original Data')\n",
        "plt.plot(x_extrap, y_linear_extrap, label='Linear')\n",
        "plt.plot(x_extrap, y_spline_extrap, label='Spline')\n",
        "plt.xlabel('X')\n",
        "plt.ylabel('Y')\n",
        "plt.legend()\n",
        "plt.show()"
      ]
    },
    {
      "cell_type": "markdown",
      "id": "0bd3f19d",
      "metadata": {
        "slideshow": {
          "slide_type": "slide"
        }
      },
      "source": [
        "### Nonlinear regression\n",
        "\n",
        "https://docs.scipy.org/doc/scipy/reference/generated/scipy.optimize.curve_fit.html\n",
        "\n",
        "- In the next example, we find parameters $a$ and $b$ to minimize the sum of squared errors\n",
        "$$\\sum_{i=1}^n \\big[y_i - f(x_i | a, b)\\big]^2$$ \n",
        "with $f(x|a, b) = a \\cdot \\sin(bx)$.  \n",
        "- It provides a covariance matrix for the parameter estimates based on the delta method.\n",
        "- Can also use weighted least squares"
      ]
    },
    {
      "cell_type": "code",
      "execution_count": null,
      "id": "5e734940",
      "metadata": {
        "slideshow": {
          "slide_type": "slide"
        }
      },
      "outputs": [
        {
          "name": "stdout",
          "output_type": "stream",
          "text": [
            "optimal parameters are [2.79 1.51]\n"
          ]
        }
      ],
      "source": [
        "from scipy.optimize import curve_fit\n",
        "\n",
        "# generate data\n",
        "np.random.seed(0)\n",
        "x_data = np.linspace(-2, 2, 100)\n",
        "y_data = 2.9 * np.sin(1.5 * x_data) + np.random.normal(size=100)\n",
        "\n",
        "# functional form to fit\n",
        "def func(x, a, b):\n",
        "    return a * np.sin(b * x)\n",
        "\n",
        "popt, pcov = curve_fit(func, x_data, y_data)\n",
        "print(f\"optimal parameters are {np.round(popt, 2)}\")"
      ]
    },
    {
      "cell_type": "code",
      "execution_count": null,
      "id": "52d85620",
      "metadata": {
        "slideshow": {
          "slide_type": "slide"
        }
      },
      "outputs": [
        {
          "data": {
            "image/png": "[encoded data removed]",
            "text/plain": [
              "<Figure size 800x400 with 1 Axes>"
            ]
          },
          "metadata": {
            "slideshow": {
              "slide_type": "slide"
            }
          },
          "output_type": "display_data"
        }
      ],
      "source": [
        "# plot the data and the fit\n",
        "y_fit = func(x_data, *popt)\n",
        "\n",
        "plt.plot(x_data, y_data, 'o', label='Data')\n",
        "plt.plot(x_data, y_fit, '-', label='Fit')\n",
        "plt.xlabel('x')\n",
        "plt.ylabel('y')\n",
        "plt.legend()\n",
        "plt.show()"
      ]
    },
    {
      "cell_type": "markdown",
      "id": "1580de0f",
      "metadata": {
        "slideshow": {
          "slide_type": "slide"
        }
      },
      "source": [
        "### stats module\n",
        "\n",
        "- pdf, cdf, rvs, ttest, and more\n",
        "- many distributions available"
      ]
    },
    {
      "cell_type": "code",
      "execution_count": 132,
      "id": "d5b32851",
      "metadata": {
        "slideshow": {
          "slide_type": "slide"
        }
      },
      "outputs": [
        {
          "data": {
            "image/png": "[encoded data removed]",
            "text/plain": [
              "<Figure size 640x480 with 1 Axes>"
            ]
          },
          "metadata": {
            "slideshow": {
              "slide_type": "slide"
            }
          },
          "output_type": "display_data"
        }
      ],
      "source": [
        "from scipy.stats import norm \n",
        "\n",
        "grid = np.linspace(-4, 4, 100)\n",
        "density = norm.pdf(grid) \n",
        "\n",
        "sample = norm.rvs(size=1000)\n",
        "\n",
        "plt.hist(sample, bins=30, density=True, alpha=0.5, label='Sampled Data')\n",
        "plt.plot(grid, density, label='True Density')\n",
        "plt.legend()\n",
        "plt.show()"
      ]
    }
  ],
  "metadata": {
    "kernel_info": {
      "name": "python3"
    },
    "kernelspec": {
      "display_name": "Python 3.9",
      "language": "python",
      "name": "python3"
    },
    "language_info": {
      "codemirror_mode": {
        "name": "ipython",
        "version": 3
      },
      "file_extension": ".py",
      "mimetype": "text/x-python",
      "name": "python",
      "nbconvert_exporter": "python",
      "pygments_lexer": "ipython3",
      "version": "3.12.5"
    },
    "noteable": {
      "last_delta_id": "8211c14d-f9bd-436c-9791-a84c2b70f342",
      "last_transaction_id": "ff05a7c4-06f3-4f70-beb6-336c170eb5ee"
    },
    "noteable-chatgpt": {
      "create_notebook": {
        "openai_conversation_id": "ef4e0ae1-8c55-59d8-94a8-099b294d1093",
        "openai_ephemeral_user_id": "90d3f139-457e-5284-bd43-3886fb06a259",
        "openai_subdivision1_iso_code": "US-TX"
      }
    },
    "nteract": {
      "version": "noteable@2.9.0"
    },
    "selected_hardware_size": "small"
  },
  "nbformat": 4,
  "nbformat_minor": 5
}
