{
  "cells": [
    {
      "cell_type": "markdown",
      "id": "a8977ab7-3661-4e9f-bd1f-2c3ba0889b84",
      "metadata": {
        "noteable": {
          "cell_type": "markdown"
        },
        "slideshow": {
          "slide_type": "slide"
        }
      },
      "source": [
        "# Introduction to NumPy\n",
        "### BUSI 520: Python for Business Research\n",
        "### Kerry Back, JGSB, Rice University"
      ]
    },
    {
      "cell_type": "markdown",
      "id": "1704866e-d59b-4699-be15-6938b9309c7a",
      "metadata": {
        "noteable": {
          "cell_type": "markdown"
        },
        "slideshow": {
          "slide_type": "slide"
        }
      },
      "source": [
        "## What is NumPy?\n",
        "\n",
        "NumPy, short for Numerical Python, is a foundational package for numerical computations in Python. It provides support for large multi-dimensional arrays and matrices, along with a collection of mathematical functions to operate on these arrays."
      ]
    },
    {
      "cell_type": "markdown",
      "id": "8fcda172-a4db-4e38-8824-0d11eb6dc0f9",
      "metadata": {
        "noteable": {
          "cell_type": "markdown"
        },
        "slideshow": {
          "slide_type": "slide"
        }
      },
      "source": [
        "## Why NumPy?\n",
        "\n",
        "- **Performance**: NumPy operations are implemented in C, making them much faster than standard Python.\n",
        "- **Memory Efficiency**: NumPy arrays are more compact and allow faster access in reading/writing items.\n",
        "- **Convenience**: Offers a lot of mathematical functions and operations out of the box.\n",
        "- **Interoperability**: Can integrate with a vast amount of other libraries and tools in the Python ecosystem."
      ]
    },
    {
      "cell_type": "markdown",
      "id": "7cc92903-a4ed-4f44-862e-98ddbfb93609",
      "metadata": {
        "noteable": {
          "cell_type": "markdown"
        },
        "slideshow": {
          "slide_type": "slide"
        }
      },
      "source": [
        "## Installing NumPy\n",
        "\n",
        "To install NumPy, you can use pip:\n",
        "```\n",
        "pip install numpy\n",
        "```\n",
        "Once installed, you can import it in your Python script or Jupyter notebook as follows:\n",
        "```python\n",
        "import numpy as np\n",
        "```"
      ]
    },
    {
      "cell_type": "code",
      "execution_count": 35,
      "id": "7a937e9a-3ed6-4936-95ef-792862389613",
      "metadata": {
        "noteable": {
          "cell_type": "code"
        },
        "slideshow": {
          "slide_type": "skip"
        }
      },
      "outputs": [],
      "source": [
        "import numpy as np"
      ]
    },
    {
      "cell_type": "markdown",
      "id": "ad7f58e6-deac-4c21-88af-75d4d89c177f",
      "metadata": {
        "noteable": {
          "cell_type": "markdown"
        },
        "slideshow": {
          "slide_type": "slide"
        }
      },
      "source": [
        "## Basics of NumPy Arrays\n",
        "\n",
        "At the core of NumPy is the `ndarray` object, which encapsulates n-dimensional arrays of homogeneous data types. Let's explore some basic operations and properties of NumPy arrays."
      ]
    },
    {
      "cell_type": "code",
      "execution_count": 36,
      "id": "f4bfe6bf-7b8b-4a17-882d-bccf053cd9af",
      "metadata": {
        "noteable": {
          "cell_type": "code"
        },
        "slideshow": {
          "slide_type": "slide"
        }
      },
      "outputs": [
        {
          "data": {
            "text/plain": [
              "array([1, 2, 3, 4, 5])"
            ]
          },
          "execution_count": 36,
          "metadata": {},
          "output_type": "execute_result"
        }
      ],
      "source": [
        "# Creating a 1D array\n",
        "arr_1d = np.array([1, 2, 3, 4, 5])\n",
        "arr_1d"
      ]
    },
    {
      "cell_type": "code",
      "execution_count": 37,
      "id": "324a6fed-863d-4d29-a822-544195f49987",
      "metadata": {
        "noteable": {
          "cell_type": "code"
        },
        "slideshow": {
          "slide_type": "slide"
        }
      },
      "outputs": [
        {
          "data": {
            "text/plain": [
              "array([[1, 2, 3],\n",
              "       [4, 5, 6],\n",
              "       [7, 8, 9]])"
            ]
          },
          "execution_count": 37,
          "metadata": {},
          "output_type": "execute_result"
        }
      ],
      "source": [
        "# Creating a 2D array\n",
        "arr_2d = np.array([[1, 2, 3], [4, 5, 6], [7, 8, 9]])\n",
        "arr_2d"
      ]
    },
    {
      "cell_type": "markdown",
      "id": "a4045ceb-fd7f-4915-99bb-9eeaf451d5d7",
      "metadata": {
        "noteable": {
          "cell_type": "markdown"
        },
        "slideshow": {
          "slide_type": "slide"
        }
      },
      "source": [
        "### Array Attributes\n",
        "\n",
        "NumPy arrays have several attributes that give information about the array's size, shape, and data type:"
      ]
    },
    {
      "cell_type": "code",
      "execution_count": 38,
      "id": "257b03a9-301b-46fb-b350-c9182c0ed665",
      "metadata": {
        "noteable": {
          "cell_type": "code"
        },
        "slideshow": {
          "slide_type": "slide"
        }
      },
      "outputs": [
        {
          "name": "stdout",
          "output_type": "stream",
          "text": [
            "Shape: (5,)\n",
            "Size: 5\n",
            "Number of dimensions: 1\n",
            "Data type: int32\n"
          ]
        }
      ],
      "source": [
        "# Attributes of the 1D array\n",
        "print('Shape:', arr_1d.shape)\n",
        "print('Size:', arr_1d.size)\n",
        "print('Number of dimensions:', arr_1d.ndim)\n",
        "print('Data type:', arr_1d.dtype)"
      ]
    },
    {
      "cell_type": "code",
      "execution_count": 39,
      "id": "7a8d2cb8-87d0-4c5b-ac8d-78c87a068999",
      "metadata": {
        "noteable": {
          "cell_type": "code"
        },
        "slideshow": {
          "slide_type": "slide"
        }
      },
      "outputs": [
        {
          "name": "stdout",
          "output_type": "stream",
          "text": [
            "Shape: (3, 3)\n",
            "Size: 9\n",
            "Number of dimensions: 2\n",
            "Data type: int32\n"
          ]
        }
      ],
      "source": [
        "# Attributes of the 2D array\n",
        "print('Shape:', arr_2d.shape)\n",
        "print('Size:', arr_2d.size)\n",
        "print('Number of dimensions:', arr_2d.ndim)\n",
        "print('Data type:', arr_2d.dtype)"
      ]
    },
    {
      "cell_type": "markdown",
      "id": "46f873e0-b80d-47c5-ad23-1123e2e3835e",
      "metadata": {
        "noteable": {
          "cell_type": "markdown"
        },
        "slideshow": {
          "slide_type": "slide"
        }
      },
      "source": [
        "### Array Indexing and Slicing\n",
        "\n",
        "Just like Python lists, NumPy arrays can be indexed and sliced. This allows for efficient access to and modification of the array's contents."
      ]
    },
    {
      "cell_type": "code",
      "execution_count": 40,
      "id": "162e6868-edc2-45e9-bd17-8f9297e0a9eb",
      "metadata": {
        "noteable": {
          "cell_type": "code"
        },
        "slideshow": {
          "slide_type": "slide"
        }
      },
      "outputs": [
        {
          "name": "stdout",
          "output_type": "stream",
          "text": [
            "First element: 1\n",
            "Second element: 2\n",
            "Last element: 5\n"
          ]
        }
      ],
      "source": [
        "# Indexing a 1D array\n",
        "print('First element:', arr_1d[0])\n",
        "print('Second element:', arr_1d[1])\n",
        "print('Last element:', arr_1d[-1])"
      ]
    },
    {
      "cell_type": "code",
      "execution_count": 41,
      "id": "0b27b0e5-4d5f-4331-8704-5fabef3651a2",
      "metadata": {
        "noteable": {
          "cell_type": "code"
        },
        "slideshow": {
          "slide_type": "slide"
        }
      },
      "outputs": [
        {
          "name": "stdout",
          "output_type": "stream",
          "text": [
            "First three elements: [1 2 3]\n",
            "Elements from index 2 to 4: [3 4 5]\n",
            "Every second element: [1 3 5]\n"
          ]
        }
      ],
      "source": [
        "# Slicing a 1D array\n",
        "print('First three elements:', arr_1d[:3])\n",
        "print('Elements from index 2 to 4:', arr_1d[2:5])\n",
        "print('Every second element:', arr_1d[::2])"
      ]
    },
    {
      "cell_type": "code",
      "execution_count": 42,
      "id": "4fa535c2-8744-484b-8a31-d3bfa34e9ba9",
      "metadata": {
        "noteable": {
          "cell_type": "code"
        },
        "slideshow": {
          "slide_type": "slide"
        }
      },
      "outputs": [
        {
          "name": "stdout",
          "output_type": "stream",
          "text": [
            "Element at (0,0): 1\n",
            "Element at (1,2): 6\n",
            "Second row: [4 5 6]\n"
          ]
        }
      ],
      "source": [
        "# Indexing a 2D array\n",
        "print('Element at (0,0):', arr_2d[0, 0])\n",
        "print('Element at (1,2):', arr_2d[1, 2])\n",
        "print('Second row:', arr_2d[1])"
      ]
    },
    {
      "cell_type": "code",
      "execution_count": 43,
      "id": "e5d473ee-08be-4a74-8261-6192de86d0ac",
      "metadata": {
        "noteable": {
          "cell_type": "code"
        },
        "slideshow": {
          "slide_type": "slide"
        }
      },
      "outputs": [
        {
          "name": "stdout",
          "output_type": "stream",
          "text": [
            "First two rows and first two columns:\n",
            " [[1 2]\n",
            " [4 5]]\n",
            "All rows, every other column:\n",
            " [[1 3]\n",
            " [4 6]\n",
            " [7 9]]\n"
          ]
        }
      ],
      "source": [
        "# Slicing a 2D array\n",
        "print('First two rows and first two columns:\\n', arr_2d[:2, :2])\n",
        "print('All rows, every other column:\\n', arr_2d[:, ::2])"
      ]
    },
    {
      "cell_type": "markdown",
      "id": "0a0c2538-63f2-49f2-b724-2b6f5cb5fd10",
      "metadata": {
        "noteable": {
          "cell_type": "markdown"
        },
        "slideshow": {
          "slide_type": "slide"
        }
      },
      "source": [
        "### Array Operations\n",
        "\n",
        "NumPy arrays support a variety of operations, both unary (operations with one operand) and binary (operations with two operands). These operations are performed element-wise, which means they are applied to each element of the array separately."
      ]
    },
    {
      "cell_type": "code",
      "execution_count": 44,
      "id": "6b2181da-6918-4362-9b9f-56065d10ff84",
      "metadata": {
        "noteable": {
          "cell_type": "code"
        },
        "slideshow": {
          "slide_type": "slide"
        }
      },
      "outputs": [
        {
          "name": "stdout",
          "output_type": "stream",
          "text": [
            "Original array:\n",
            " [1 2 3 4 5]\n",
            "Array + 5:\n",
            " [ 6  7  8  9 10]\n",
            "Array squared:\n",
            " [ 1  4  9 16 25]\n"
          ]
        }
      ],
      "source": [
        "# Unary operations\n",
        "print('Original array:\\n', arr_1d)\n",
        "print('Array + 5:\\n', arr_1d + 5)\n",
        "print('Array squared:\\n', arr_1d**2)"
      ]
    },
    {
      "cell_type": "code",
      "execution_count": 45,
      "id": "6575d72b-82c8-43a0-9570-832781e86946",
      "metadata": {
        "noteable": {
          "cell_type": "code"
        },
        "slideshow": {
          "slide_type": "slide"
        }
      },
      "outputs": [
        {
          "name": "stdout",
          "output_type": "stream",
          "text": [
            "arr1: [1 2 3]\n",
            "arr2: [4 5 6]\n",
            "arr1 + arr2: [5 7 9]\n",
            "arr1 * arr2: [ 4 10 18]\n"
          ]
        }
      ],
      "source": [
        "# Binary operations\n",
        "arr1 = np.array([1, 2, 3])\n",
        "arr2 = np.array([4, 5, 6])\n",
        "print('arr1:', arr1)\n",
        "print('arr2:', arr2)\n",
        "print('arr1 + arr2:', arr1 + arr2)\n",
        "print('arr1 * arr2:', arr1 * arr2)"
      ]
    },
    {
      "cell_type": "markdown",
      "id": "339db08b-5148-4335-b50d-aff245428f7a",
      "metadata": {
        "noteable": {
          "cell_type": "markdown"
        },
        "slideshow": {
          "slide_type": "slide"
        }
      },
      "source": [
        "### Mathematical Functions\n",
        "\n",
        "NumPy provides a comprehensive set of mathematical functions that can be applied element-wise to arrays. These include trigonometric, logarithmic, exponential, and statistical functions, among others."
      ]
    },
    {
      "cell_type": "code",
      "execution_count": 46,
      "id": "674fd366-a6b8-4d70-90bb-4c6f56ad2f31",
      "metadata": {
        "noteable": {
          "cell_type": "code"
        },
        "slideshow": {
          "slide_type": "slide"
        }
      },
      "outputs": [
        {
          "name": "stdout",
          "output_type": "stream",
          "text": [
            "Sin values: [ 0.84147098  0.90929743  0.14112001 -0.7568025  -0.95892427]\n",
            "Natural logarithm: [0.         0.69314718 1.09861229 1.38629436 1.60943791]\n",
            "Exponential: [  2.71828183   7.3890561   20.08553692  54.59815003 148.4131591 ]\n"
          ]
        }
      ],
      "source": [
        "# Some mathematical functions\n",
        "print('Sin values:', np.sin(arr_1d))\n",
        "print('Natural logarithm:', np.log(arr_1d))\n",
        "print('Exponential:', np.exp(arr_1d))"
      ]
    },
    {
      "cell_type": "markdown",
      "id": "7acaa510-a0f1-4001-aac2-19f9fbcd76f3",
      "metadata": {
        "noteable": {
          "cell_type": "markdown"
        },
        "slideshow": {
          "slide_type": "slide"
        }
      },
      "source": [
        "### Aggregation Functions\n",
        "\n",
        "NumPy provides functions to compute aggregated values like sum, mean, median, etc. These can be applied to the entire array or along a specified axis in case of multi-dimensional arrays."
      ]
    },
    {
      "cell_type": "code",
      "execution_count": 47,
      "id": "b4000f8b-5371-43d1-9722-2f2b06a00634",
      "metadata": {
        "noteable": {
          "cell_type": "code"
        },
        "slideshow": {
          "slide_type": "slide"
        }
      },
      "outputs": [
        {
          "name": "stdout",
          "output_type": "stream",
          "text": [
            "Sum: 15\n",
            "Mean: 3.0\n",
            "Standard Deviation: 1.4142135623730951\n"
          ]
        }
      ],
      "source": [
        "# Aggregation functions on 1D array\n",
        "print('Sum:', np.sum(arr_1d))\n",
        "print('Mean:', np.mean(arr_1d))\n",
        "print('Standard Deviation:', np.std(arr_1d))"
      ]
    },
    {
      "cell_type": "code",
      "execution_count": 48,
      "id": "1b4af957-0df7-41c3-8545-536d887abf53",
      "metadata": {
        "noteable": {
          "cell_type": "code"
        },
        "slideshow": {
          "slide_type": "slide"
        }
      },
      "outputs": [
        {
          "name": "stdout",
          "output_type": "stream",
          "text": [
            "Total Sum: 45\n",
            "Sum along columns: [12 15 18]\n",
            "Sum along rows: [ 6 15 24]\n"
          ]
        }
      ],
      "source": [
        "# Aggregation functions on 2D array\n",
        "print('Total Sum:', np.sum(arr_2d))\n",
        "print('Sum along columns:', np.sum(arr_2d, axis=0))\n",
        "print('Sum along rows:', np.sum(arr_2d, axis=1))"
      ]
    },
    {
      "cell_type": "markdown",
      "id": "0c534db4-19a1-4464-b972-cfeb7ad78f24",
      "metadata": {
        "noteable": {
          "cell_type": "markdown"
        },
        "slideshow": {
          "slide_type": "slide"
        }
      },
      "source": [
        "### Broadcasting\n",
        "\n",
        "Broadcasting is a powerful feature in NumPy that allows for operations between arrays of different shapes. It does this by 'stretching' the smaller array to match the shape of the larger array, without actually copying any data."
      ]
    },
    {
      "cell_type": "code",
      "execution_count": 49,
      "id": "6ef1dde0-e8b0-41c4-832d-8f42af40c48a",
      "metadata": {
        "noteable": {
          "cell_type": "code"
        },
        "slideshow": {
          "slide_type": "slide"
        }
      },
      "outputs": [
        {
          "name": "stdout",
          "output_type": "stream",
          "text": [
            "Original array:\n",
            " [[1 2 3]\n",
            " [4 5 6]\n",
            " [7 8 9]]\n",
            "\n",
            "Array after adding 5:\n",
            " [[ 6  7  8]\n",
            " [ 9 10 11]\n",
            " [12 13 14]]\n",
            "\n",
            "Array after adding [1, 0, -1]:\n",
            " [[2 2 2]\n",
            " [5 5 5]\n",
            " [8 8 8]]\n"
          ]
        }
      ],
      "source": [
        "# Broadcasting in action\n",
        "arr = np.array([[1, 2, 3], [4, 5, 6], [7, 8, 9]])\n",
        "print('Original array:\\n', arr)\n",
        "\n",
        "# Adding a scalar to a 2D array\n",
        "print('\\nArray after adding 5:\\n', arr + 5)\n",
        "\n",
        "# Adding a 1D array to a 2D array\n",
        "vec = np.array([1, 0, -1])\n",
        "print('\\nArray after adding [1, 0, -1]:\\n', arr + vec)"
      ]
    },
    {
      "cell_type": "markdown",
      "id": "d3b80a26-ba7a-4cdf-a14a-35898fda59bf",
      "metadata": {
        "noteable": {
          "cell_type": "markdown"
        },
        "slideshow": {
          "slide_type": "slide"
        }
      },
      "source": [
        "### Advanced Indexing\n",
        "\n",
        "Apart from basic indexing and slicing, NumPy offers more advanced indexing techniques. This includes integer array indexing and boolean indexing."
      ]
    },
    {
      "cell_type": "code",
      "execution_count": 50,
      "id": "3f8a0b25-6500-473e-befc-48bfaab53764",
      "metadata": {
        "noteable": {
          "cell_type": "code"
        },
        "slideshow": {
          "slide_type": "slide"
        }
      },
      "outputs": [
        {
          "name": "stdout",
          "output_type": "stream",
          "text": [
            "Original array:\n",
            " [1 2 3 4 5]\n",
            "Elements at indices 1, 3, and 4: [2 4 5]\n"
          ]
        }
      ],
      "source": [
        "# Integer array indexing\n",
        "print('Original array:\\n', arr_1d)\n",
        "indices = np.array([1, 3, 4])\n",
        "print('Elements at indices 1, 3, and 4:', arr_1d[indices])"
      ]
    },
    {
      "cell_type": "code",
      "execution_count": 51,
      "id": "f145103b-90c3-4623-b3cc-942c02d2dd0e",
      "metadata": {
        "noteable": {
          "cell_type": "code"
        },
        "slideshow": {
          "slide_type": "slide"
        }
      },
      "outputs": [
        {
          "name": "stdout",
          "output_type": "stream",
          "text": [
            "Original array:\n",
            " [1 2 3 4 5]\n",
            "Mask of elements greater than 3: [False False False  True  True]\n",
            "Elements greater than 3: [4 5]\n"
          ]
        }
      ],
      "source": [
        "# Boolean indexing\n",
        "print('Original array:\\n', arr_1d)\n",
        "mask = arr_1d > 3\n",
        "print('Mask of elements greater than 3:', mask)\n",
        "print('Elements greater than 3:', arr_1d[mask])"
      ]
    },
    {
      "cell_type": "markdown",
      "id": "07eb3d86-307b-4385-9860-69070f37b543",
      "metadata": {
        "noteable": {
          "cell_type": "markdown"
        },
        "slideshow": {
          "slide_type": "slide"
        }
      },
      "source": [
        "### Reshaping and Transposing\n",
        "\n",
        "NumPy provides functionalities to change the shape of arrays without changing their data. This is particularly useful when you need to prepare data for certain libraries or operations that expect data in a particular shape."
      ]
    },
    {
      "cell_type": "code",
      "execution_count": 52,
      "id": "3b82ffd8-7427-4f76-8995-2a5d1a57260e",
      "metadata": {
        "noteable": {
          "cell_type": "code"
        },
        "slideshow": {
          "slide_type": "slide"
        }
      },
      "outputs": [
        {
          "name": "stdout",
          "output_type": "stream",
          "text": [
            "Original 2D array:\n",
            " [[1 2 3]\n",
            " [4 5 6]\n",
            " [7 8 9]]\n",
            "\n",
            "Reshaped to 1x9 array:\n",
            " [[1 2 3 4 5 6 7 8 9]]\n"
          ]
        }
      ],
      "source": [
        "# Reshaping an array\n",
        "print('Original 2D array:\\n', arr_2d)\n",
        "reshaped = arr_2d.reshape(1, 9)\n",
        "print('\\nReshaped to 1x9 array:\\n', reshaped)"
      ]
    },
    {
      "cell_type": "code",
      "execution_count": 53,
      "id": "09bd46bd-492d-4c80-a3da-8ebecc81ca97",
      "metadata": {
        "noteable": {
          "cell_type": "code"
        },
        "slideshow": {
          "slide_type": "slide"
        }
      },
      "outputs": [
        {
          "name": "stdout",
          "output_type": "stream",
          "text": [
            "Original 2D array:\n",
            " [[1 2 3]\n",
            " [4 5 6]\n",
            " [7 8 9]]\n",
            "\n",
            "Transposed array:\n",
            " [[1 4 7]\n",
            " [2 5 8]\n",
            " [3 6 9]]\n"
          ]
        }
      ],
      "source": [
        "# Transposing an array\n",
        "print('Original 2D array:\\n', arr_2d)\n",
        "transposed = arr_2d.T\n",
        "print('\\nTransposed array:\\n', transposed)"
      ]
    },
    {
      "cell_type": "markdown",
      "id": "c10733f2-471b-49d3-bd5a-d09302ca120d",
      "metadata": {
        "noteable": {
          "cell_type": "markdown"
        },
        "slideshow": {
          "slide_type": "slide"
        }
      },
      "source": [
        "The shapes `(n, 1)` and `(n,)` might seem similar, but they represent different structures:\n",
        "\n",
        "- `(n,)`: Represents a one-dimensional array with `n` elements.\n",
        "- `(n, 1)`: Represents a two-dimensional array with `n` rows and 1 column.\n",
        "\n",
        "Let's explore these shapes in more detail and see how to convert between them."
      ]
    },
    {
      "cell_type": "code",
      "execution_count": 54,
      "id": "cfee3b5a-a13a-43c5-a4dc-c4d5dc51a218",
      "metadata": {
        "noteable": {
          "cell_type": "code"
        },
        "slideshow": {
          "slide_type": "slide"
        }
      },
      "outputs": [
        {
          "name": "stdout",
          "output_type": "stream",
          "text": [
            "1D array: [1 2 3 4 5]\n",
            "Shape: (5,)\n",
            "\n",
            "2D array:\n",
            " [[1]\n",
            " [2]\n",
            " [3]\n",
            " [4]\n",
            " [5]]\n",
            "Shape: (5, 1)\n"
          ]
        }
      ],
      "source": [
        "# Creating an array with shape (n,)\n",
        "one_d_array = np.array([1, 2, 3, 4, 5])\n",
        "print('1D array:', one_d_array)\n",
        "print('Shape:', one_d_array.shape)\n",
        "\n",
        "# Reshaping to (n, 1)\n",
        "two_d_array = one_d_array.reshape(-1, 1)\n",
        "print('\\n2D array:\\n', two_d_array)\n",
        "print('Shape:', two_d_array.shape)"
      ]
    },
    {
      "cell_type": "code",
      "execution_count": 55,
      "id": "8359b51a-078f-4d5a-926d-035874dcc681",
      "metadata": {
        "noteable": {
          "cell_type": "code"
        },
        "slideshow": {
          "slide_type": "slide"
        }
      },
      "outputs": [
        {
          "name": "stdout",
          "output_type": "stream",
          "text": [
            "Converted 1D array: [1 2 3 4 5]\n",
            "Shape: (5,)\n"
          ]
        }
      ],
      "source": [
        "# Converting back to shape (n,)\n",
        "converted_one_d_array = two_d_array.reshape(-1)\n",
        "print('Converted 1D array:', converted_one_d_array)\n",
        "print('Shape:', converted_one_d_array.shape)"
      ]
    },
    {
      "cell_type": "markdown",
      "id": "7c191837-5ffb-4e0c-87e4-0b404629472d",
      "metadata": {
        "noteable": {
          "cell_type": "markdown"
        },
        "slideshow": {
          "slide_type": "slide"
        }
      },
      "source": [
        "Another way to convert a multi-dimensional array into a one-dimensional array is by using the `flatten` method. This method returns a copy of the original array, flattened to one dimension.\n",
        "\n",
        "The `ravel` method is another way to flatten multi-dimensional arrays into one dimension. It functions similarly to the `flatten` method but with a key difference:\n",
        "\n",
        "- `flatten` always returns a copy of the data.\n",
        "- `ravel` returns a flattened view of the original array whenever possible. \n",
        "\n",
        "Because of this behavior, modifications to the array returned by `ravel` might affect the original array, whereas modifications to the array returned by `flatten` will never affect the original array."
      ]
    },
    {
      "cell_type": "code",
      "execution_count": 56,
      "id": "caac2703-e0e2-475c-ac63-f9196bbe8351",
      "metadata": {
        "noteable": {
          "cell_type": "code"
        },
        "slideshow": {
          "slide_type": "slide"
        }
      },
      "outputs": [
        {
          "name": "stdout",
          "output_type": "stream",
          "text": [
            "Flattened array: [1 2 3 4 5]\n",
            "Shape: (5,)\n",
            "Raveled array: [1 2 3 4 5]\n",
            "Shape: (5,)\n"
          ]
        }
      ],
      "source": [
        "# Using the flatten method\n",
        "flattened_array = two_d_array.flatten()\n",
        "print('Flattened array:', flattened_array)\n",
        "print('Shape:', flattened_array.shape)\n",
        "\n",
        "# Using the ravel method\n",
        "raveled_array = two_d_array.ravel()\n",
        "print('Raveled array:', raveled_array)\n",
        "print('Shape:', raveled_array.shape)"
      ]
    },
    {
      "cell_type": "markdown",
      "id": "c3fc76f5-539e-45fe-9904-5e81bf88b0f1",
      "metadata": {
        "noteable": {
          "cell_type": "markdown"
        },
        "slideshow": {
          "slide_type": "slide"
        }
      },
      "source": [
        "### Inner Products and Matrix Multiplication\n",
        "\n",
        "Matrix operations are fundamental in linear algebra and have extensive applications in data science, especially in areas like machine learning.\n",
        "\n",
        "#### Inner Product (Dot Product)\n",
        "The inner product, also known as the dot product, between two vectors is a single number obtained by multiplying corresponding entries and then summing those products. For two vectors `a` and `b`, the dot product is given by:\n",
        "\n",
        "a . b = a1 b1 + a2 b2 + ... + an bn\n",
        "\n",
        "#### Matrix Multiplication\n",
        "Matrix multiplication, on the other hand, is a way to combine two matrices to produce a new matrix. It's defined such that the number in the i-th row and j-th column of the resulting matrix is the dot product of the i-th row of the first matrix and the j-th column of the second matrix.\n",
        "\n",
        "In Python, with NumPy, the `@` operator is used as a convenient way to perform matrix multiplication. It's more readable and concise than using the `np.dot()` function."
      ]
    },
    {
      "cell_type": "code",
      "execution_count": 57,
      "id": "623e94e7-3215-4911-95c1-67ab7c72f99e",
      "metadata": {
        "noteable": {
          "cell_type": "code"
        },
        "slideshow": {
          "slide_type": "slide"
        }
      },
      "outputs": [
        {
          "data": {
            "text/plain": [
              "32"
            ]
          },
          "execution_count": 57,
          "metadata": {},
          "output_type": "execute_result"
        }
      ],
      "source": [
        "# Demonstrating the inner product (dot product)\n",
        "vector_a = np.array([1, 2, 3])\n",
        "vector_b = np.array([4, 5, 6])\n",
        "\n",
        "dot_product = vector_a @ vector_b\n",
        "dot_product"
      ]
    },
    {
      "cell_type": "code",
      "execution_count": 58,
      "id": "d787bee2-8597-45f4-b973-687cca962a91",
      "metadata": {
        "noteable": {
          "cell_type": "code"
        },
        "slideshow": {
          "slide_type": "slide"
        }
      },
      "outputs": [
        {
          "data": {
            "text/plain": [
              "array([[ 4,  6],\n",
              "       [10, 12]])"
            ]
          },
          "execution_count": 58,
          "metadata": {},
          "output_type": "execute_result"
        }
      ],
      "source": [
        "# Demonstrating matrix multiplication using @\n",
        "matrix_A = np.array([[1, 2], [3, 4]])\n",
        "matrix_B = np.array([[2, 0], [1, 3]])\n",
        "\n",
        "result_matrix = matrix_A @ matrix_B\n",
        "result_matrix"
      ]
    },
    {
      "cell_type": "code",
      "execution_count": 59,
      "id": "ac4c305f-7846-40ad-bbff-1a53fcede786",
      "metadata": {
        "noteable": {
          "cell_type": "code"
        },
        "slideshow": {
          "slide_type": "slide"
        }
      },
      "outputs": [
        {
          "name": "stdout",
          "output_type": "stream",
          "text": [
            "Matrix product using matmul():\n",
            " [[ 4  6]\n",
            " [10 12]]\n",
            "\n",
            "Dot product of v1 and v2: 32\n"
          ]
        }
      ],
      "source": [
        "# Matrix and Vector Products\n",
        "\n",
        "# Creating two matrices for demonstration\n",
        "A = np.array([[1, 2], [3, 4]])\n",
        "B = np.array([[2, 0], [1, 3]])\n",
        "\n",
        "# Matrix multiplication using matmul()\n",
        "matrix_product = np.matmul(A, B)\n",
        "print('Matrix product using matmul():\\n', matrix_product)\n",
        "\n",
        "# Dot product of two vectors\n",
        "v1 = np.array([1, 2, 3])\n",
        "v2 = np.array([4, 5, 6])\n",
        "dot_product = np.dot(v1, v2)\n",
        "print('\\nDot product of v1 and v2:', dot_product)"
      ]
    },
    {
      "cell_type": "markdown",
      "id": "b6a11ba2-9fe0-4b83-b052-78208d4478f2",
      "metadata": {
        "noteable": {
          "cell_type": "markdown"
        },
        "slideshow": {
          "slide_type": "slide"
        }
      },
      "source": [
        "### Utility Functions for Creating Arrays\n",
        "\n",
        "NumPy provides several utility functions to create specific types of arrays with ease. Here are explanations for the functions you mentioned:\n",
        "\n",
        "1. **`np.ones`**:\n",
        "   - This function creates an array filled with ones.\n",
        "   - The desired shape of the array is provided as an argument.\n",
        "   - Example: `np.ones((2, 3))` creates a 2x3 matrix filled with ones.\n",
        "\n",
        "2. **`np.zeros`**:\n",
        "   - This function creates an array filled with zeros.\n",
        "   - The desired shape of the array is provided as an argument.\n",
        "   - Example: `np.zeros((3, 3))` creates a 3x3 matrix filled with zeros.\n",
        "\n"
      ]
    },
    {
      "cell_type": "markdown",
      "id": "1b335df4",
      "metadata": {
        "slideshow": {
          "slide_type": "slide"
        }
      },
      "source": [
        "3. **`np.diag`**:\n",
        "   - This function has two main uses:\n",
        "     - When provided with a 1-D array, it returns a 2-D array with the entries of the 1-D array as its diagonal and zeros elsewhere.\n",
        "     - When provided with a 2-D array, it extracts the diagonal elements and returns them as a 1-D array.\n",
        "   - Example: `np.diag([1, 2, 3])` creates a 3x3 diagonal matrix with the diagonal [1, 2, 3].\n",
        "\n",
        "4. **`np.identity`**:\n",
        "   - This function creates a square identity matrix of a specified size.\n",
        "   - An identity matrix is a square matrix with ones on its main diagonal and zeros elsewhere.\n",
        "   - Example: `np.identity(3)` creates a 3x3 identity matrix.\n",
        "\n",
        "Let's demonstrate each of these functions with examples."
      ]
    },
    {
      "cell_type": "code",
      "execution_count": 60,
      "id": "ec34407a-51dc-4d6a-ba04-dbca28c48648",
      "metadata": {
        "noteable": {
          "cell_type": "code"
        },
        "slideshow": {
          "slide_type": "slide"
        }
      },
      "outputs": [
        {
          "name": "stdout",
          "output_type": "stream",
          "text": [
            "Array filled with ones:\n",
            " [[1. 1. 1.]\n",
            " [1. 1. 1.]]\n",
            "\n",
            "Array filled with zeros:\n",
            " [[0. 0. 0.]\n",
            " [0. 0. 0.]\n",
            " [0. 0. 0.]]\n"
          ]
        }
      ],
      "source": [
        "# Demonstrating np.ones\n",
        "ones_array = np.ones((2, 3))\n",
        "print('Array filled with ones:\\n', ones_array)\n",
        "\n",
        "# Demonstrating np.zeros\n",
        "zeros_array = np.zeros((3, 3))\n",
        "print('\\nArray filled with zeros:\\n', zeros_array)\n",
        "\n"
      ]
    },
    {
      "cell_type": "code",
      "execution_count": 61,
      "id": "7cf99e22",
      "metadata": {
        "slideshow": {
          "slide_type": "slide"
        }
      },
      "outputs": [
        {
          "name": "stdout",
          "output_type": "stream",
          "text": [
            "\n",
            "Diagonal matrix:\n",
            " [[1 0 0]\n",
            " [0 2 0]\n",
            " [0 0 3]]\n",
            "\n",
            "Extracted diagonal from matrix: [1 2 3]\n",
            "\n",
            "Identity matrix:\n",
            " [[1. 0. 0.]\n",
            " [0. 1. 0.]\n",
            " [0. 0. 1.]]\n"
          ]
        }
      ],
      "source": [
        "# Demonstrating np.diag\n",
        "diagonal_matrix = np.diag([1, 2, 3])\n",
        "print('\\nDiagonal matrix:\\n', diagonal_matrix)\n",
        "extracted_diagonal = np.diag(diagonal_matrix)\n",
        "print('\\nExtracted diagonal from matrix:', extracted_diagonal)\n",
        "\n",
        "# Demonstrating np.identity\n",
        "identity_matrix = np.identity(3)\n",
        "print('\\nIdentity matrix:\\n', identity_matrix)"
      ]
    },
    {
      "cell_type": "markdown",
      "id": "4c92d4bc-a10a-4711-bce4-88e17ad87fc7",
      "metadata": {
        "noteable": {
          "cell_type": "markdown"
        },
        "slideshow": {
          "slide_type": "slide"
        }
      },
      "source": [
        "### `np.concatenate`\n",
        "\n",
        "The `np.concatenate` function is used to join two or more arrays along an existing axis. It's a versatile function that allows for the combination of arrays in various ways.\n",
        "\n",
        "**Parameters**:\n",
        "- `a1, a2, ...` : Arrays to be concatenated. They must have the same shape, except in the dimension corresponding to the specified axis.\n",
        "- `axis` : The axis along which the arrays will be joined. Default is 0.\n",
        "- `out` : If provided, the destination to place the result. The shape must be correct, matching that of what `concatenate` would have returned if no `out` argument were specified.\n",
        "\n",
        "**Usage**:\n",
        "```python\n",
        "np.concatenate((a1, a2, ...), axis=0, out=None)\n",
        "```\n",
        "\n",
        "Let's look at some examples to understand how `np.concatenate` works."
      ]
    },
    {
      "cell_type": "code",
      "execution_count": 62,
      "id": "35b63151-48de-4023-bff2-c7372c49a281",
      "metadata": {
        "noteable": {
          "cell_type": "code"
        },
        "slideshow": {
          "slide_type": "slide"
        }
      },
      "outputs": [
        {
          "name": "stdout",
          "output_type": "stream",
          "text": [
            "Concatenated 1-D array: [1 2 3 4 5 6]\n"
          ]
        }
      ],
      "source": [
        "# Creating two 1-D arrays for demonstration\n",
        "array1 = np.array([1, 2, 3])\n",
        "array2 = np.array([4, 5, 6])\n",
        "\n",
        "# Concatenating along axis 0 (default)\n",
        "concatenated_1d = np.concatenate((array1, array2))\n",
        "print('Concatenated 1-D array:', concatenated_1d)\n",
        "\n"
      ]
    },
    {
      "cell_type": "code",
      "execution_count": 63,
      "id": "88d2d2cd",
      "metadata": {
        "slideshow": {
          "slide_type": "slide"
        }
      },
      "outputs": [
        {
          "name": "stdout",
          "output_type": "stream",
          "text": [
            "\n",
            "Concatenated along rows:\n",
            " [[1 2]\n",
            " [3 4]\n",
            " [5 6]\n",
            " [7 8]]\n",
            "\n",
            "Concatenated along columns:\n",
            " [[1 2 5 6]\n",
            " [3 4 7 8]]\n"
          ]
        }
      ],
      "source": [
        "# Creating two 2-D arrays for demonstration\n",
        "matrix1 = np.array([[1, 2], [3, 4]])\n",
        "matrix2 = np.array([[5, 6], [7, 8]])\n",
        "\n",
        "# Concatenating along axis 0 (rows)\n",
        "concatenated_rows = np.concatenate((matrix1, matrix2), axis=0)\n",
        "print('\\nConcatenated along rows:\\n', concatenated_rows)\n",
        "\n",
        "# Concatenating along axis 1 (columns)\n",
        "concatenated_columns = np.concatenate((matrix1, matrix2), axis=1)\n",
        "print('\\nConcatenated along columns:\\n', concatenated_columns)"
      ]
    },
    {
      "cell_type": "markdown",
      "id": "deb14b8c-07e0-47ed-af31-680788bf59f9",
      "metadata": {
        "noteable": {
          "cell_type": "markdown"
        },
        "slideshow": {
          "slide_type": "slide"
        }
      },
      "source": [
        "### `np.arange` and `np.linspace`\n",
        "\n",
        "The `np.arange` and `np.linspace` functions create grids of evenly spaced points between start and stop values.  For `np.arange`, you specify the space between points (step size).  For `np.linspace`, you specify the number of points (including start and stop).  \n"
      ]
    },
    {
      "cell_type": "code",
      "execution_count": 64,
      "id": "5c31bff8-34d7-402f-8398-270175f18414",
      "metadata": {
        "noteable": {
          "cell_type": "code"
        },
        "slideshow": {
          "slide_type": "slide"
        }
      },
      "outputs": [
        {
          "name": "stdout",
          "output_type": "stream",
          "text": [
            "Numbers from 0 to 4: [0 1 2 3 4]\n",
            "\n",
            "Numbers from 2 to 8 with a step of 2: [2 4 6 8]\n",
            "\n",
            "Numbers from 0 to 1 with step = 0.1: [0.  0.1 0.2 0.3 0.4 0.5 0.6 0.7 0.8 0.9 1. ]\n",
            "\n",
            "Numbers from 0 to 1 with step = 0.1: [0.  0.1 0.2 0.3 0.4 0.5 0.6 0.7 0.8 0.9 1. ]\n"
          ]
        }
      ],
      "source": [
        "# Generating numbers from 0 to 4\n",
        "sequence1 = np.arange(5)\n",
        "print('Numbers from 0 to 4:', sequence1)\n",
        "\n",
        "# Generating numbers from 2 to 8 with a step of 2\n",
        "sequence2 = np.arange(2, 9, 2)\n",
        "print('\\nNumbers from 2 to 8 with a step of 2:', sequence2)\n",
        "\n",
        "# Generating numbers from 0 to 1 with a float step\n",
        "sequence3 = np.arange(0, 1.1, 0.1)\n",
        "print('\\nNumbers from 0 to 1 with step = 0.1:', sequence3)\n",
        "\n",
        "# Demonstrating np.linspace\n",
        "sequence4 = np.linspace(0, 1, 11)\n",
        "print('\\nNumbers from 0 to 1 with step = 0.1:', sequence4)\n"
      ]
    },
    {
      "cell_type": "markdown",
      "id": "328ad9cd",
      "metadata": {
        "slideshow": {
          "slide_type": "slide"
        }
      },
      "source": [
        "### The `np.random` Module\n",
        "\n",
        "The `np.random` module in NumPy provides a suite of functions to generate random numbers for various distributions. It's a crucial tool for simulations, statistical sampling, and many other tasks in data science and scientific computing. Here are some of the important elements of the `np.random` module:\n",
        "\n",
        "1. **Random Number Generation**:\n",
        "   - `rand()`: Generates random numbers between 0 and 1 in a given shape.\n",
        "   - `randn()`: Generates random numbers from a standard normal distribution (mean 0 and variance 1).\n",
        "   - `randint()`: Generates random integers between specified low and high values.\n",
        "\n",
        "2. **Random Sampling**:\n",
        "   - `choice()`: Generates a random sample from a given 1-D array.\n",
        "   - `shuffle()`: Modifies a sequence in-place by shuffling its contents.\n",
        "   - `permutation()`: Returns a shuffled version of a sequence or returns a permuted range.\n",
        "\n"
      ]
    },
    {
      "cell_type": "markdown",
      "id": "2bca7b6e",
      "metadata": {
        "slideshow": {
          "slide_type": "slide"
        }
      },
      "source": [
        "3. **Sampling from Distributions**:\n",
        "   - `binomial()`: Draws samples from a binomial distribution.\n",
        "   - `normal()`: Draws samples from a normal (Gaussian) distribution.\n",
        "   - `poisson()`: Draws samples from a Poisson distribution.\n",
        "   - ... and many more for other distributions.\n",
        "\n",
        "4. **Random Seed**:\n",
        "   - `seed()`: Sets the random seed, which allows for reproducibility of random numbers generated.\n",
        "\n",
        "Let's explore some of these functions with examples."
      ]
    },
    {
      "cell_type": "code",
      "execution_count": 65,
      "id": "5fe1c14b",
      "metadata": {
        "slideshow": {
          "slide_type": "slide"
        }
      },
      "outputs": [
        {
          "name": "stdout",
          "output_type": "stream",
          "text": [
            "Random numbers between 0 and 1: [0.5488135  0.71518937 0.60276338 0.54488318 0.4236548 ]\n",
            "\n",
            "Random numbers from a standard normal distribution: [-0.84272405  1.96992445  1.26611853 -0.50587654  2.54520078]\n",
            "\n",
            "Random integers between 1 and 10: [6 9 5 4 1]\n"
          ]
        }
      ],
      "source": [
        "# Set a seed (not required)\n",
        "np.random.seed(0)\n",
        "\n",
        "# Random Number Generation\n",
        "\n",
        "# Generating random numbers between 0 and 1\n",
        "random_numbers = np.random.rand(5)\n",
        "print('Random numbers between 0 and 1:', random_numbers)\n",
        "\n",
        "# Generating random numbers from a standard normal distribution\n",
        "normal_numbers = np.random.randn(5)\n",
        "print('\\nRandom numbers from a standard normal distribution:', normal_numbers)\n",
        "\n",
        "# Generating random integers between 1 and 10\n",
        "random_integers = np.random.randint(1, 10, size=5)\n",
        "print('\\nRandom integers between 1 and 10:', random_integers)"
      ]
    },
    {
      "cell_type": "code",
      "execution_count": 66,
      "id": "5bd861b4",
      "metadata": {
        "slideshow": {
          "slide_type": "slide"
        }
      },
      "outputs": [
        {
          "name": "stdout",
          "output_type": "stream",
          "text": [
            "Random sample from given array: [40 10 30]\n",
            "\n",
            "Shuffled sequence: [5 3 2 1 4]\n",
            "\n",
            "Permuted range: [0 1 2 4 3]\n"
          ]
        }
      ],
      "source": [
        "# Random Sampling\n",
        "\n",
        "# Generating a random sample from a given 1-D array\n",
        "sample_array = np.array([10, 20, 30, 40, 50])\n",
        "random_choice = np.random.choice(sample_array, size=3)\n",
        "print('Random sample from given array:', random_choice)\n",
        "\n",
        "# Shuffling a sequence in-place\n",
        "sequence_to_shuffle = np.array([1, 2, 3, 4, 5])\n",
        "np.random.shuffle(sequence_to_shuffle)\n",
        "print('\\nShuffled sequence:', sequence_to_shuffle)\n",
        "\n",
        "# Getting a permuted range\n",
        "permuted_range = np.random.permutation(5)\n",
        "print('\\nPermuted range:', permuted_range)"
      ]
    },
    {
      "cell_type": "code",
      "execution_count": 67,
      "id": "02e9a9ff",
      "metadata": {
        "slideshow": {
          "slide_type": "slide"
        }
      },
      "outputs": [
        {
          "name": "stdout",
          "output_type": "stream",
          "text": [
            "Samples from a binomial distribution: [6 3 7 5 5]\n",
            "\n",
            "Samples from a normal distribution: [ 1.08081191  0.8644362  -0.74216502  2.26975462 -1.45436567]\n",
            "\n",
            "Samples from a Poisson distribution: [0 6 1 3 3]\n"
          ]
        }
      ],
      "source": [
        "# Samples from Distributions\n",
        "\n",
        "# Drawing samples from a binomial distribution\n",
        "binomial_samples = np.random.binomial(n=10, p=0.5, size=5)\n",
        "print('Samples from a binomial distribution:', binomial_samples)\n",
        "\n",
        "# Drawing samples from a normal distribution with mean 0 and standard deviation 1\n",
        "normal_samples = np.random.normal(loc=0, scale=1, size=5)\n",
        "print('\\nSamples from a normal distribution:', normal_samples)\n",
        "\n",
        "# Drawing samples from a Poisson distribution with lambda=3\n",
        "poisson_samples = np.random.poisson(lam=3, size=5)\n",
        "print('\\nSamples from a Poisson distribution:', poisson_samples)"
      ]
    },
    {
      "cell_type": "markdown",
      "id": "1a9e44f9",
      "metadata": {
        "slideshow": {
          "slide_type": "slide"
        }
      },
      "source": [
        "### The `np.linalg` Module\n",
        "\n",
        "The `np.linalg` module in NumPy provides a collection of linear algebra functions. Here are some of the important elements of the `np.linalg` module:\n",
        "\n",
        "1. **Matrix and Vector Products**:\n",
        "   - `dot()`: Computes the dot product of two arrays.\n",
        "   - `matmul()`: Performs matrix multiplication.\n",
        "   - `inner()`: Computes the inner product of two arrays.\n",
        "   - `outer()`: Computes the outer product of two arrays.\n",
        "\n",
        "2. **Matrix Eigenvalues**:\n",
        "   - `eig()`: Computes the eigenvalues and right eigenvectors of a square array.\n",
        "   - `eigh()`: Computes the eigenvalues and eigenvectors of a Hermitian or symmetric matrix.\n",
        "   - `eigvals()`: Computes the eigenvalues of a square array.\n"
      ]
    },
    {
      "cell_type": "markdown",
      "id": "032248d7",
      "metadata": {
        "slideshow": {
          "slide_type": "slide"
        }
      },
      "source": [
        "3. **Norms and Other Numbers**:\n",
        "   - `norm()`: Computes the norm of a matrix or vector.\n",
        "   - `det()`: Computes the determinant of an array.\n",
        "   - `matrix_rank()`: Computes the numerical rank of a matrix.\n",
        "\n",
        "4. **Solving Equations and Inverting Matrices**:\n",
        "   - `solve()`: Solves a linear matrix equation.\n",
        "   - `inv()`: Computes the multiplicative inverse of a matrix.\n",
        "\n",
        "Let's explore some of these functions with examples."
      ]
    },
    {
      "cell_type": "code",
      "execution_count": 68,
      "id": "37c529d6",
      "metadata": {
        "slideshow": {
          "slide_type": "slide"
        }
      },
      "outputs": [
        {
          "name": "stdout",
          "output_type": "stream",
          "text": [
            "Eigenvalues of matrix A: [-0.37228132  5.37228132]\n",
            "\n",
            "Eigenvectors of matrix A:\n",
            " [[-0.82456484 -0.41597356]\n",
            " [ 0.56576746 -0.90937671]]\n"
          ]
        }
      ],
      "source": [
        "# Matrix Eigenvalues\n",
        "\n",
        "# Eigenvalues and eigenvectors of matrix A\n",
        "eigenvalues, eigenvectors = np.linalg.eig(A)\n",
        "print('Eigenvalues of matrix A:', eigenvalues)\n",
        "print('\\nEigenvectors of matrix A:\\n', eigenvectors)"
      ]
    },
    {
      "cell_type": "code",
      "execution_count": 69,
      "id": "1846fa33",
      "metadata": {
        "slideshow": {
          "slide_type": "slide"
        }
      },
      "outputs": [
        {
          "name": "stdout",
          "output_type": "stream",
          "text": [
            "Norm of vector v1: 3.7416573867739413\n",
            "\n",
            "Determinant of matrix A: -2.0000000000000004\n",
            "\n",
            "Rank of matrix A: 2\n"
          ]
        }
      ],
      "source": [
        "# Norms and Other Numbers\n",
        "\n",
        "# Norm of vector v1\n",
        "vector_norm = np.linalg.norm(v1)\n",
        "print('Norm of vector v1:', vector_norm)\n",
        "\n",
        "# Determinant of matrix A\n",
        "matrix_determinant = np.linalg.det(A)\n",
        "print('\\nDeterminant of matrix A:', matrix_determinant)\n",
        "\n",
        "# Rank of matrix A\n",
        "matrix_rank = np.linalg.matrix_rank(A)\n",
        "print('\\nRank of matrix A:', matrix_rank)"
      ]
    },
    {
      "cell_type": "code",
      "execution_count": 70,
      "id": "2b4d132c",
      "metadata": {
        "slideshow": {
          "slide_type": "slide"
        }
      },
      "outputs": [
        {
          "name": "stdout",
          "output_type": "stream",
          "text": [
            "Solution x for Ax = b: [1. 2.]\n",
            "\n",
            "Inverse of matrix A:\n",
            " [[-2.   1. ]\n",
            " [ 1.5 -0.5]]\n"
          ]
        }
      ],
      "source": [
        "# Solving Equations and Inverting Matrices\n",
        "\n",
        "# Solving a linear matrix equation Ax = b\n",
        "b = np.array([5, 11])\n",
        "x = np.linalg.solve(A, b)\n",
        "print('Solution x for Ax = b:', x)\n",
        "\n",
        "# Inverse of matrix A\n",
        "inverse_A = np.linalg.inv(A)\n",
        "print('\\nInverse of matrix A:\\n', inverse_A)"
      ]
    }
  ],
  "metadata": {
    "kernel_info": {
      "name": "python3"
    },
    "kernelspec": {
      "display_name": "Python 3.9",
      "language": "python",
      "name": "python3"
    },
    "language_info": {
      "codemirror_mode": {
        "name": "ipython",
        "version": 3
      },
      "file_extension": ".py",
      "mimetype": "text/x-python",
      "name": "python",
      "nbconvert_exporter": "python",
      "pygments_lexer": "ipython3",
      "version": "3.10.8"
    },
    "noteable": {
      "last_delta_id": "8211c14d-f9bd-436c-9791-a84c2b70f342",
      "last_transaction_id": "ff05a7c4-06f3-4f70-beb6-336c170eb5ee"
    },
    "noteable-chatgpt": {
      "create_notebook": {
        "openai_conversation_id": "ef4e0ae1-8c55-59d8-94a8-099b294d1093",
        "openai_ephemeral_user_id": "90d3f139-457e-5284-bd43-3886fb06a259",
        "openai_subdivision1_iso_code": "US-TX"
      }
    },
    "nteract": {
      "version": "noteable@2.9.0"
    },
    "selected_hardware_size": "small"
  },
  "nbformat": 4,
  "nbformat_minor": 5
}
