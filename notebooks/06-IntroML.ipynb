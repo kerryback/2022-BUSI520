{
 "cells": [
  {
   "cell_type": "markdown",
   "metadata": {"slideshow": {"slide_type": "slide"}},
   "source": [
    "# Day 6\n",
    "\n",
    "### BUSI 520: Python for Business Research\n",
    "### Kerry Back, JGSB, Rice University"
   ]
  },
  {
   "cell_type": "markdown",
   "metadata": {"slideshow": {"slide_type": "slide"}},
   "source": [
    "### Overview \n",
    "\n",
    "- Artificial dataset\n",
    "- Lasso \n",
    "- Out of sample forecasting\n",
    "- Diebold-Mariano test\n",
    "- Validation and cross-validation\n",
    "- Ridge\n",
    "- California housing data on Julius"
   ]
  },
  {
   "cell_type": "markdown",
   "metadata": {"slideshow": {"slide_type": "slide"}},
   "source": [
    "### Some toy data\n",
    "\n",
    " - 100 predictive variables (features) and 1000 observations\n",
    " - Only 10 of the 100 features are actually predictive\n",
    "    - The other 90 features are noise\n",
    "    - The 10 predictive features are the first 10 features\n",
    "- The left-hand side (target) variable is a linear combination of the 10 predictive features."
   ]
  },
  {
   "cell_type": "code",
   "execution_count": 16,
   "metadata": {"slideshow": {"slide_type": "slide"}},
   "outputs": [],
   "source": [
    "import numpy as np \n",
    "\n",
    "np.random.seed(0) # just so we all get the same results\n",
    "\n",
    "X = np.random.normal(size=(1000, 100))\n",
    "y = X[:, :10].sum(axis=1) + 10 * np.random.normal(size=1000)"
   ]
  },
  {
   "cell_type": "code",
   "execution_count": 17,
   "metadata": {"slideshow": {"slide_type": "slide"}},
   "outputs": [
    {
     "data": {
      "text/plain": [
       "1     3.893511\n",
       "2     3.977730\n",
       "3     2.846583\n",
       "4     2.837924\n",
       "5     3.382157\n",
       "6     3.654197\n",
       "7     2.517688\n",
       "8     3.355748\n",
       "9     2.768420\n",
       "10    2.926688\n",
       "33    2.259072\n",
       "35    2.481969\n",
       "95    2.350388\n",
       "dtype: float64"
      ]
     },
     "execution_count": 17,
     "metadata": {"slideshow": {"slide_type": "slide"}},
     "output_type": "execute_result"
    }
   ],
   "source": [
    "# Try OLS\n",
    "\n",
    "import statsmodels.api as sm \n",
    "import pandas as pd\n",
    "\n",
    "model = sm.OLS(endog=y, exog=sm.add_constant(X))\n",
    "result = model.fit()\n",
    "tvalues = pd.Series(result.tvalues)\n",
    "\n",
    "# significant features \n",
    "tvalues[tvalues > 2]"
   ]
  },
  {
   "cell_type": "code",
   "execution_count": 18,
   "metadata": {"slideshow": {"slide_type": "slide"}},
   "outputs": [
    {
     "data": {
      "text/plain": [
       "array([ 1.28003538,  1.29619223,  0.90471389,  0.91860977,  1.1069583 ,\n",
       "        1.22942272,  0.82773064,  1.14865406,  0.89821728,  0.9811078 ,\n",
       "        0.05494361, -0.30977471, -0.81276878, -0.18962315,  0.15576422,\n",
       "       -0.19575052, -0.03620061,  0.43368138,  0.0599448 ,  0.20188705])"
      ]
     },
     "execution_count": 18,
     "metadata": {"slideshow": {"slide_type": "slide"}},
     "output_type": "execute_result"
    }
   ],
   "source": [
    "# coefficients of first 20 features \n",
    "result.params[1:21]"
   ]
  },
  {
   "cell_type": "markdown",
   "metadata": {"slideshow": {"slide_type": "slide"}},
   "source": [
    "## Goal of machine learning\n",
    "\n",
    "- The goal is to make predictions on new data.\n",
    "- The test of a model is how well it predicts out of sample.\n",
    "- Can we predict with OLS?"
   ]
  },
  {
   "cell_type": "markdown",
   "metadata": {"slideshow": {"slide_type": "slide"}},
   "source": [
    "### Diebold-Mariano test \n",
    "\n",
    "- Compute mean-squared predictions errors for model (can use different loss function than squared error)\n",
    "- Compute mean-squared prediction errors for benchmark forecast \n",
    "- Do a one-sided $t$ test of the null hypothesis that the model is not better than the benchmark forecast\n",
    "- Hope to reject the null hypothesis"
   ]
  },
  {
   "cell_type": "code",
   "execution_count": 19,
   "metadata": {"slideshow": {"slide_type": "slide"}},
   "outputs": [],
   "source": [
    "# some new (test) data from the same data generating process\n",
    "\n",
    "X_test = np.random.normal(size=(200, 100))\n",
    "y_test = X_test[:, :10].sum(axis=1) + 10 * np.random.normal(size=200)"
   ]
  },
  {
   "cell_type": "code",
   "execution_count": 20,
   "metadata": {"slideshow": {"slide_type": "slide"}},
   "outputs": [
    {
     "data": {
      "text/plain": [
       "(np.float64(-0.5296622926168975), np.float64(0.29846825225075657))"
      ]
     },
     "execution_count": 20,
     "metadata": {"slideshow": {"slide_type": "slide"}},
     "output_type": "execute_result"
    }
   ],
   "source": [
    "# Diebold-Mariano test\n",
    "\n",
    "# !pip install dieboldmariano \n",
    "from dieboldmariano import dm_test\n",
    "\n",
    "# compare to a benchmark of zero \n",
    "benchmark_predict = np.zeros_like(y_test) \n",
    "model_predict = result.predict(sm.add_constant(X_test))\n",
    "dm_test(y_test, model_predict, benchmark_predict, one_sided=True)"
   ]
  },
  {
   "cell_type": "code",
   "execution_count": 23,
   "metadata": {"slideshow": {"slide_type": "slide"}},
   "outputs": [
    {
     "data": {
      "text/plain": [
       "(np.float64(-0.5109180851771397), np.float64(0.30498738035359785))"
      ]
     },
     "execution_count": 23,
     "metadata": {"slideshow": {"slide_type": "slide"}},
     "output_type": "execute_result"
    }
   ],
   "source": [
    "# compare to a benchmark of the out-of-sample target mean\n",
    "# unfair but common \n",
    "\n",
    "benchmark_predict = np.repeat(y_test.mean(), len(y_test))\n",
    "dm_test(y_test, model_predict, benchmark_predict, one_sided=True)"
   ]
  },
  {
   "cell_type": "markdown",
   "metadata": {"slideshow": {"slide_type": "slide"}},
   "source": [
    "### Lasso\n",
    "\n",
    "- OLS minimizes the mean squared error.  Lasso is an example of penalized linear regression.  It chooses coefficients to minimize\n",
    "\n",
    "$$\\frac{1}{2}\\text{MSE} + \\text{penalty} \\times \\sum_{i=1}^n |\\beta_i|$$\n",
    "\n",
    "- The penalty is a hyperparameter.  It is called \"alpha\" (not the regression intercept).\n",
    "\n",
    "- The larger the penalty, the smaller the estimated betas will be.  For large alpha, the estimated betas will be zeros.\n",
    "- Lasso is a way to do \"automatic feature selection.\"  Features are variables used to predict.  Dropping variables with zero lasso betas may be a reasonable thing to do in some settings.\n",
    "\n",
    "- scikit-learn' Lasso includes an intercept by default.  We can turn it off. The intercept is returned as .intercept_.  The other coefficients are returned as .coef_."
   ]
  },
  {
   "cell_type": "code",
   "execution_count": 24,
   "metadata": {"slideshow": {"slide_type": "slide"}},
   "outputs": [
    {
     "data": {
      "text/html": [
       "<style>#sk-container-id-1 {\n",
       "  /* Definition of color scheme common for light and dark mode */\n",
       "  --sklearn-color-text: black;\n",
       "  --sklearn-color-line: gray;\n",
       "  /* Definition of color scheme for unfitted estimators */\n",
       "  --sklearn-color-unfitted-level-0: #fff5e6;\n",
       "  --sklearn-color-unfitted-level-1: #f6e4d2;\n",
       "  --sklearn-color-unfitted-level-2: #ffe0b3;\n",
       "  --sklearn-color-unfitted-level-3: chocolate;\n",
       "  /* Definition of color scheme for fitted estimators */\n",
       "  --sklearn-color-fitted-level-0: #f0f8ff;\n",
       "  --sklearn-color-fitted-level-1: #d4ebff;\n",
       "  --sklearn-color-fitted-level-2: #b3dbfd;\n",
       "  --sklearn-color-fitted-level-3: cornflowerblue;\n",
       "\n",
       "  /* Specific color for light theme */\n",
       "  --sklearn-color-text-on-default-background: var(--sg-text-color, var(--theme-code-foreground, var(--jp-content-font-color1, black)));\n",
       "  --sklearn-color-background: var(--sg-background-color, var(--theme-background, var(--jp-layout-color0, white)));\n",
       "  --sklearn-color-border-box: var(--sg-text-color, var(--theme-code-foreground, var(--jp-content-font-color1, black)));\n",
       "  --sklearn-color-icon: #696969;\n",
       "\n",
       "  @media (prefers-color-scheme: dark) {\n",
       "    /* Redefinition of color scheme for dark theme */\n",
       "    --sklearn-color-text-on-default-background: var(--sg-text-color, var(--theme-code-foreground, var(--jp-content-font-color1, white)));\n",
       "    --sklearn-color-background: var(--sg-background-color, var(--theme-background, var(--jp-layout-color0, #111)));\n",
       "    --sklearn-color-border-box: var(--sg-text-color, var(--theme-code-foreground, var(--jp-content-font-color1, white)));\n",
       "    --sklearn-color-icon: #878787;\n",
       "  }\n",
       "}\n",
       "\n",
       "#sk-container-id-1 {\n",
       "  color: var(--sklearn-color-text);\n",
       "}\n",
       "\n",
       "#sk-container-id-1 pre {\n",
       "  padding: 0;\n",
       "}\n",
       "\n",
       "#sk-container-id-1 input.sk-hidden--visually {\n",
       "  border: 0;\n",
       "  clip: rect(1px 1px 1px 1px);\n",
       "  clip: rect(1px, 1px, 1px, 1px);\n",
       "  height: 1px;\n",
       "  margin: -1px;\n",
       "  overflow: hidden;\n",
       "  padding: 0;\n",
       "  position: absolute;\n",
       "  width: 1px;\n",
       "}\n",
       "\n",
       "#sk-container-id-1 div.sk-dashed-wrapped {\n",
       "  border: 1px dashed var(--sklearn-color-line);\n",
       "  margin: 0 0.4em 0.5em 0.4em;\n",
       "  box-sizing: border-box;\n",
       "  padding-bottom: 0.4em;\n",
       "  background-color: var(--sklearn-color-background);\n",
       "}\n",
       "\n",
       "#sk-container-id-1 div.sk-container {\n",
       "  /* jupyter's `normalize.less` sets `[hidden] { display: none; }`\n",
       "     but bootstrap.min.css set `[hidden] { display: none !important; }`\n",
       "     so we also need the `!important` here to be able to override the\n",
       "     default hidden behavior on the sphinx rendered scikit-learn.org.\n",
       "     See: https://github.com/scikit-learn/scikit-learn/issues/21755 */\n",
       "  display: inline-block !important;\n",
       "  position: relative;\n",
       "}\n",
       "\n",
       "#sk-container-id-1 div.sk-text-repr-fallback {\n",
       "  display: none;\n",
       "}\n",
       "\n",
       "div.sk-parallel-item,\n",
       "div.sk-serial,\n",
       "div.sk-item {\n",
       "  /* draw centered vertical line to link estimators */\n",
       "  background-image: linear-gradient(var(--sklearn-color-text-on-default-background), var(--sklearn-color-text-on-default-background));\n",
       "  background-size: 2px 100%;\n",
       "  background-repeat: no-repeat;\n",
       "  background-position: center center;\n",
       "}\n",
       "\n",
       "/* Parallel-specific style estimator block */\n",
       "\n",
       "#sk-container-id-1 div.sk-parallel-item::after {\n",
       "  content: \"\";\n",
       "  width: 100%;\n",
       "  border-bottom: 2px solid var(--sklearn-color-text-on-default-background);\n",
       "  flex-grow: 1;\n",
       "}\n",
       "\n",
       "#sk-container-id-1 div.sk-parallel {\n",
       "  display: flex;\n",
       "  align-items: stretch;\n",
       "  justify-content: center;\n",
       "  background-color: var(--sklearn-color-background);\n",
       "  position: relative;\n",
       "}\n",
       "\n",
       "#sk-container-id-1 div.sk-parallel-item {\n",
       "  display: flex;\n",
       "  flex-direction: column;\n",
       "}\n",
       "\n",
       "#sk-container-id-1 div.sk-parallel-item:first-child::after {\n",
       "  align-self: flex-end;\n",
       "  width: 50%;\n",
       "}\n",
       "\n",
       "#sk-container-id-1 div.sk-parallel-item:last-child::after {\n",
       "  align-self: flex-start;\n",
       "  width: 50%;\n",
       "}\n",
       "\n",
       "#sk-container-id-1 div.sk-parallel-item:only-child::after {\n",
       "  width: 0;\n",
       "}\n",
       "\n",
       "/* Serial-specific style estimator block */\n",
       "\n",
       "#sk-container-id-1 div.sk-serial {\n",
       "  display: flex;\n",
       "  flex-direction: column;\n",
       "  align-items: center;\n",
       "  background-color: var(--sklearn-color-background);\n",
       "  padding-right: 1em;\n",
       "  padding-left: 1em;\n",
       "}\n",
       "\n",
       "\n",
       "/* Toggleable style: style used for estimator/Pipeline/ColumnTransformer box that is\n",
       "clickable and can be expanded/collapsed.\n",
       "- Pipeline and ColumnTransformer use this feature and define the default style\n",
       "- Estimators will overwrite some part of the style using the `sk-estimator` class\n",
       "*/\n",
       "\n",
       "/* Pipeline and ColumnTransformer style (default) */\n",
       "\n",
       "#sk-container-id-1 div.sk-toggleable {\n",
       "  /* Default theme specific background. It is overwritten whether we have a\n",
       "  specific estimator or a Pipeline/ColumnTransformer */\n",
       "  background-color: var(--sklearn-color-background);\n",
       "}\n",
       "\n",
       "/* Toggleable label */\n",
       "#sk-container-id-1 label.sk-toggleable__label {\n",
       "  cursor: pointer;\n",
       "  display: block;\n",
       "  width: 100%;\n",
       "  margin-bottom: 0;\n",
       "  padding: 0.5em;\n",
       "  box-sizing: border-box;\n",
       "  text-align: center;\n",
       "}\n",
       "\n",
       "#sk-container-id-1 label.sk-toggleable__label-arrow:before {\n",
       "  /* Arrow on the left of the label */\n",
       "  content: \"▸\";\n",
       "  float: left;\n",
       "  margin-right: 0.25em;\n",
       "  color: var(--sklearn-color-icon);\n",
       "}\n",
       "\n",
       "#sk-container-id-1 label.sk-toggleable__label-arrow:hover:before {\n",
       "  color: var(--sklearn-color-text);\n",
       "}\n",
       "\n",
       "/* Toggleable content - dropdown */\n",
       "\n",
       "#sk-container-id-1 div.sk-toggleable__content {\n",
       "  max-height: 0;\n",
       "  max-width: 0;\n",
       "  overflow: hidden;\n",
       "  text-align: left;\n",
       "  /* unfitted */\n",
       "  background-color: var(--sklearn-color-unfitted-level-0);\n",
       "}\n",
       "\n",
       "#sk-container-id-1 div.sk-toggleable__content.fitted {\n",
       "  /* fitted */\n",
       "  background-color: var(--sklearn-color-fitted-level-0);\n",
       "}\n",
       "\n",
       "#sk-container-id-1 div.sk-toggleable__content pre {\n",
       "  margin: 0.2em;\n",
       "  border-radius: 0.25em;\n",
       "  color: var(--sklearn-color-text);\n",
       "  /* unfitted */\n",
       "  background-color: var(--sklearn-color-unfitted-level-0);\n",
       "}\n",
       "\n",
       "#sk-container-id-1 div.sk-toggleable__content.fitted pre {\n",
       "  /* unfitted */\n",
       "  background-color: var(--sklearn-color-fitted-level-0);\n",
       "}\n",
       "\n",
       "#sk-container-id-1 input.sk-toggleable__control:checked~div.sk-toggleable__content {\n",
       "  /* Expand drop-down */\n",
       "  max-height: 200px;\n",
       "  max-width: 100%;\n",
       "  overflow: auto;\n",
       "}\n",
       "\n",
       "#sk-container-id-1 input.sk-toggleable__control:checked~label.sk-toggleable__label-arrow:before {\n",
       "  content: \"▾\";\n",
       "}\n",
       "\n",
       "/* Pipeline/ColumnTransformer-specific style */\n",
       "\n",
       "#sk-container-id-1 div.sk-label input.sk-toggleable__control:checked~label.sk-toggleable__label {\n",
       "  color: var(--sklearn-color-text);\n",
       "  background-color: var(--sklearn-color-unfitted-level-2);\n",
       "}\n",
       "\n",
       "#sk-container-id-1 div.sk-label.fitted input.sk-toggleable__control:checked~label.sk-toggleable__label {\n",
       "  background-color: var(--sklearn-color-fitted-level-2);\n",
       "}\n",
       "\n",
       "/* Estimator-specific style */\n",
       "\n",
       "/* Colorize estimator box */\n",
       "#sk-container-id-1 div.sk-estimator input.sk-toggleable__control:checked~label.sk-toggleable__label {\n",
       "  /* unfitted */\n",
       "  background-color: var(--sklearn-color-unfitted-level-2);\n",
       "}\n",
       "\n",
       "#sk-container-id-1 div.sk-estimator.fitted input.sk-toggleable__control:checked~label.sk-toggleable__label {\n",
       "  /* fitted */\n",
       "  background-color: var(--sklearn-color-fitted-level-2);\n",
       "}\n",
       "\n",
       "#sk-container-id-1 div.sk-label label.sk-toggleable__label,\n",
       "#sk-container-id-1 div.sk-label label {\n",
       "  /* The background is the default theme color */\n",
       "  color: var(--sklearn-color-text-on-default-background);\n",
       "}\n",
       "\n",
       "/* On hover, darken the color of the background */\n",
       "#sk-container-id-1 div.sk-label:hover label.sk-toggleable__label {\n",
       "  color: var(--sklearn-color-text);\n",
       "  background-color: var(--sklearn-color-unfitted-level-2);\n",
       "}\n",
       "\n",
       "/* Label box, darken color on hover, fitted */\n",
       "#sk-container-id-1 div.sk-label.fitted:hover label.sk-toggleable__label.fitted {\n",
       "  color: var(--sklearn-color-text);\n",
       "  background-color: var(--sklearn-color-fitted-level-2);\n",
       "}\n",
       "\n",
       "/* Estimator label */\n",
       "\n",
       "#sk-container-id-1 div.sk-label label {\n",
       "  font-family: monospace;\n",
       "  font-weight: bold;\n",
       "  display: inline-block;\n",
       "  line-height: 1.2em;\n",
       "}\n",
       "\n",
       "#sk-container-id-1 div.sk-label-container {\n",
       "  text-align: center;\n",
       "}\n",
       "\n",
       "/* Estimator-specific */\n",
       "#sk-container-id-1 div.sk-estimator {\n",
       "  font-family: monospace;\n",
       "  border: 1px dotted var(--sklearn-color-border-box);\n",
       "  border-radius: 0.25em;\n",
       "  box-sizing: border-box;\n",
       "  margin-bottom: 0.5em;\n",
       "  /* unfitted */\n",
       "  background-color: var(--sklearn-color-unfitted-level-0);\n",
       "}\n",
       "\n",
       "#sk-container-id-1 div.sk-estimator.fitted {\n",
       "  /* fitted */\n",
       "  background-color: var(--sklearn-color-fitted-level-0);\n",
       "}\n",
       "\n",
       "/* on hover */\n",
       "#sk-container-id-1 div.sk-estimator:hover {\n",
       "  /* unfitted */\n",
       "  background-color: var(--sklearn-color-unfitted-level-2);\n",
       "}\n",
       "\n",
       "#sk-container-id-1 div.sk-estimator.fitted:hover {\n",
       "  /* fitted */\n",
       "  background-color: var(--sklearn-color-fitted-level-2);\n",
       "}\n",
       "\n",
       "/* Specification for estimator info (e.g. \"i\" and \"?\") */\n",
       "\n",
       "/* Common style for \"i\" and \"?\" */\n",
       "\n",
       ".sk-estimator-doc-link,\n",
       "a:link.sk-estimator-doc-link,\n",
       "a:visited.sk-estimator-doc-link {\n",
       "  float: right;\n",
       "  font-size: smaller;\n",
       "  line-height: 1em;\n",
       "  font-family: monospace;\n",
       "  background-color: var(--sklearn-color-background);\n",
       "  border-radius: 1em;\n",
       "  height: 1em;\n",
       "  width: 1em;\n",
       "  text-decoration: none !important;\n",
       "  margin-left: 1ex;\n",
       "  /* unfitted */\n",
       "  border: var(--sklearn-color-unfitted-level-1) 1pt solid;\n",
       "  color: var(--sklearn-color-unfitted-level-1);\n",
       "}\n",
       "\n",
       ".sk-estimator-doc-link.fitted,\n",
       "a:link.sk-estimator-doc-link.fitted,\n",
       "a:visited.sk-estimator-doc-link.fitted {\n",
       "  /* fitted */\n",
       "  border: var(--sklearn-color-fitted-level-1) 1pt solid;\n",
       "  color: var(--sklearn-color-fitted-level-1);\n",
       "}\n",
       "\n",
       "/* On hover */\n",
       "div.sk-estimator:hover .sk-estimator-doc-link:hover,\n",
       ".sk-estimator-doc-link:hover,\n",
       "div.sk-label-container:hover .sk-estimator-doc-link:hover,\n",
       ".sk-estimator-doc-link:hover {\n",
       "  /* unfitted */\n",
       "  background-color: var(--sklearn-color-unfitted-level-3);\n",
       "  color: var(--sklearn-color-background);\n",
       "  text-decoration: none;\n",
       "}\n",
       "\n",
       "div.sk-estimator.fitted:hover .sk-estimator-doc-link.fitted:hover,\n",
       ".sk-estimator-doc-link.fitted:hover,\n",
       "div.sk-label-container:hover .sk-estimator-doc-link.fitted:hover,\n",
       ".sk-estimator-doc-link.fitted:hover {\n",
       "  /* fitted */\n",
       "  background-color: var(--sklearn-color-fitted-level-3);\n",
       "  color: var(--sklearn-color-background);\n",
       "  text-decoration: none;\n",
       "}\n",
       "\n",
       "/* Span, style for the box shown on hovering the info icon */\n",
       ".sk-estimator-doc-link span {\n",
       "  display: none;\n",
       "  z-index: 9999;\n",
       "  position: relative;\n",
       "  font-weight: normal;\n",
       "  right: .2ex;\n",
       "  padding: .5ex;\n",
       "  margin: .5ex;\n",
       "  width: min-content;\n",
       "  min-width: 20ex;\n",
       "  max-width: 50ex;\n",
       "  color: var(--sklearn-color-text);\n",
       "  box-shadow: 2pt 2pt 4pt #999;\n",
       "  /* unfitted */\n",
       "  background: var(--sklearn-color-unfitted-level-0);\n",
       "  border: .5pt solid var(--sklearn-color-unfitted-level-3);\n",
       "}\n",
       "\n",
       ".sk-estimator-doc-link.fitted span {\n",
       "  /* fitted */\n",
       "  background: var(--sklearn-color-fitted-level-0);\n",
       "  border: var(--sklearn-color-fitted-level-3);\n",
       "}\n",
       "\n",
       ".sk-estimator-doc-link:hover span {\n",
       "  display: block;\n",
       "}\n",
       "\n",
       "/* \"?\"-specific style due to the `<a>` HTML tag */\n",
       "\n",
       "#sk-container-id-1 a.estimator_doc_link {\n",
       "  float: right;\n",
       "  font-size: 1rem;\n",
       "  line-height: 1em;\n",
       "  font-family: monospace;\n",
       "  background-color: var(--sklearn-color-background);\n",
       "  border-radius: 1rem;\n",
       "  height: 1rem;\n",
       "  width: 1rem;\n",
       "  text-decoration: none;\n",
       "  /* unfitted */\n",
       "  color: var(--sklearn-color-unfitted-level-1);\n",
       "  border: var(--sklearn-color-unfitted-level-1) 1pt solid;\n",
       "}\n",
       "\n",
       "#sk-container-id-1 a.estimator_doc_link.fitted {\n",
       "  /* fitted */\n",
       "  border: var(--sklearn-color-fitted-level-1) 1pt solid;\n",
       "  color: var(--sklearn-color-fitted-level-1);\n",
       "}\n",
       "\n",
       "/* On hover */\n",
       "#sk-container-id-1 a.estimator_doc_link:hover {\n",
       "  /* unfitted */\n",
       "  background-color: var(--sklearn-color-unfitted-level-3);\n",
       "  color: var(--sklearn-color-background);\n",
       "  text-decoration: none;\n",
       "}\n",
       "\n",
       "#sk-container-id-1 a.estimator_doc_link.fitted:hover {\n",
       "  /* fitted */\n",
       "  background-color: var(--sklearn-color-fitted-level-3);\n",
       "}\n",
       "</style><div id=\"sk-container-id-1\" class=\"sk-top-container\"><div class=\"sk-text-repr-fallback\"><pre>Lasso(alpha=1)</pre><b>In a Jupyter environment, please rerun this cell to show the HTML representation or trust the notebook. <br />On GitHub, the HTML representation is unable to render, please try loading this page with nbviewer.org.</b></div><div class=\"sk-container\" hidden><div class=\"sk-item\"><div class=\"sk-estimator fitted sk-toggleable\"><input class=\"sk-toggleable__control sk-hidden--visually\" id=\"sk-estimator-id-1\" type=\"checkbox\" checked><label for=\"sk-estimator-id-1\" class=\"sk-toggleable__label fitted sk-toggleable__label-arrow fitted\">&nbsp;&nbsp;Lasso<a class=\"sk-estimator-doc-link fitted\" rel=\"noreferrer\" target=\"_blank\" href=\"https://scikit-learn.org/1.5/modules/generated/sklearn.linear_model.Lasso.html\">?<span>Documentation for Lasso</span></a><span class=\"sk-estimator-doc-link fitted\">i<span>Fitted</span></span></label><div class=\"sk-toggleable__content fitted\"><pre>Lasso(alpha=1)</pre></div> </div></div></div></div>"
      ],
      "text/plain": [
       "Lasso(alpha=1)"
      ]
     },
     "execution_count": 24,
     "metadata": {"slideshow": {"slide_type": "slide"}},
     "output_type": "execute_result"
    }
   ],
   "source": [
    "# fit Lasso \n",
    "\n",
    "from sklearn.linear_model import Lasso \n",
    "model = Lasso(alpha=1)\n",
    "model.fit(X, y)"
   ]
  },
  {
   "cell_type": "code",
   "execution_count": 57,
   "metadata": {"slideshow": {"slide_type": "slide"}},
   "outputs": [
    {
     "data": {
      "text/plain": [
       "array([ 0.79639728,  0.41262863,  1.14203814,  0.52133762,  1.31402738,\n",
       "        0.82636546,  0.98171983,  0.91782699,  0.456659  ,  0.90460806,\n",
       "        0.22987108,  0.        , -0.14828462,  0.        , -0.11832466,\n",
       "       -0.        ,  0.        ,  0.        ,  0.24302983, -0.07111992])"
      ]
     },
     "execution_count": 57,
     "metadata": {"slideshow": {"slide_type": "slide"}},
     "output_type": "execute_result"
    }
   ],
   "source": [
    "# first twenty coefficients (excluding intercept) \n",
    "\n",
    "model.coef_[:20]"
   ]
  },
  {
   "cell_type": "code",
   "execution_count": 27,
   "metadata": {"slideshow": {"slide_type": "slide"}},
   "outputs": [
    {
     "name": "stdout",
     "output_type": "stream",
     "text": [
      "Help on method score in module sklearn.base:\n",
      "\n",
      "score(X, y, sample_weight=None) method of sklearn.linear_model._coordinate_descent.Lasso instance\n",
      "    Return the coefficient of determination of the prediction.\n",
      "\n",
      "    The coefficient of determination :math:`R^2` is defined as\n",
      "    :math:`(1 - \\frac{u}{v})`, where :math:`u` is the residual\n",
      "    sum of squares ``((y_true - y_pred)** 2).sum()`` and :math:`v`\n",
      "    is the total sum of squares ``((y_true - y_true.mean()) ** 2).sum()``.\n",
      "    The best possible score is 1.0 and it can be negative (because the\n",
      "    model can be arbitrarily worse). A constant model that always predicts\n",
      "    the expected value of `y`, disregarding the input features, would get\n",
      "    a :math:`R^2` score of 0.0.\n",
      "\n",
      "    Parameters\n",
      "    ----------\n",
      "    X : array-like of shape (n_samples, n_features)\n",
      "        Test samples. For some estimators this may be a precomputed\n",
      "        kernel matrix or a list of generic objects instead with shape\n",
      "        ``(n_samples, n_samples_fitted)``, where ``n_samples_fitted``\n",
      "        is the number of samples used in the fitting for the estimator.\n",
      "\n",
      "    y : array-like of shape (n_samples,) or (n_samples, n_outputs)\n",
      "        True values for `X`.\n",
      "\n",
      "    sample_weight : array-like of shape (n_samples,), default=None\n",
      "        Sample weights.\n",
      "\n",
      "    Returns\n",
      "    -------\n",
      "    score : float\n",
      "        :math:`R^2` of ``self.predict(X)`` w.r.t. `y`.\n",
      "\n",
      "    Notes\n",
      "    -----\n",
      "    The :math:`R^2` score used when calling ``score`` on a regressor uses\n",
      "    ``multioutput='uniform_average'`` from version 0.23 to keep consistent\n",
      "    with default value of :func:`~sklearn.metrics.r2_score`.\n",
      "    This influences the ``score`` method of all the multioutput\n",
      "    regressors (except for\n",
      "    :class:`~sklearn.multioutput.MultiOutputRegressor`).\n",
      "\n"
     ]
    }
   ],
   "source": [
    "# score method computes R2 relative to test sample mean  \n",
    "\n",
    "help(model.score)"
   ]
  },
  {
   "cell_type": "code",
   "execution_count": 26,
   "metadata": {"slideshow": {"slide_type": "slide"}},
   "outputs": [
    {
     "data": {
      "text/plain": [
       "0.002859434185740306"
      ]
     },
     "execution_count": 26,
     "metadata": {"slideshow": {"slide_type": "slide"}},
     "output_type": "execute_result"
    }
   ],
   "source": [
    "# compute model score on test data \n",
    "\n",
    "model.score(X_test, y_test)"
   ]
  },
  {
   "cell_type": "code",
   "execution_count": 32,
   "metadata": {"slideshow": {"slide_type": "slide"}},
   "outputs": [
    {
     "data": {
      "text/plain": [
       "[<matplotlib.lines.Line2D at 0x1ad14244a40>]"
      ]
     },
     "execution_count": 32,
     "metadata": {"slideshow": {"slide_type": "slide"}},
     "output_type": "execute_result"
    },
    {
     "data": {
      "image/png": "[encoded data removed]",
      "text/plain": [
       "<Figure size 640x480 with 1 Axes>"
      ]
     },
     "metadata": {"slideshow": {"slide_type": "slide"}},
     "output_type": "display_data"
    }
   ],
   "source": [
    "# compute out-of-sample R2's for a range of alphas\n",
    "\n",
    "grid = np.linspace(0.001, 1, 20)\n",
    "scores = []\n",
    "for alpha in grid:\n",
    "    model = Lasso(alpha=alpha)\n",
    "    model.fit(X, y)\n",
    "    scores.append(model.score(X_test, y_test))\n",
    "\n",
    "import matplotlib.pyplot as plt\n",
    "plt.plot(grid, scores)"
   ]
  },
  {
   "cell_type": "code",
   "execution_count": 33,
   "metadata": {"slideshow": {"slide_type": "slide"}},
   "outputs": [
    {
     "data": {
      "text/plain": [
       "(np.float64(-2.0249665093950453), np.float64(0.02210338426259904))"
      ]
     },
     "execution_count": 33,
     "metadata": {"slideshow": {"slide_type": "slide"}},
     "output_type": "execute_result"
    }
   ],
   "source": [
    "# Diebold-Mariano test \n",
    "\n",
    "best_alpha = grid[np.argmax(scores)]\n",
    "model = Lasso(alpha=best_alpha)\n",
    "model.fit(X, y)\n",
    "model_predict = model.predict(X_test)\n",
    "dm_test(y_test, model_predict, benchmark_predict, one_sided=True)"
   ]
  },
  {
   "cell_type": "markdown",
   "metadata": {"slideshow": {"slide_type": "slide"}},
   "source": [
    "### Train, Validate, and Test\n",
    "\n",
    "Split the data into three parts.  \n",
    "\n",
    "1. Train on the training data.\n",
    "2. Evaluate performance on the validation data (playing the role of the test data in our first example).  Choose the best performing model.\n",
    "3. Test the performance of the chosen model on the test data (held out from training and validation)."
   ]
  },
  {
   "cell_type": "code",
   "execution_count": 50,
   "metadata": {"slideshow": {"slide_type": "slide"}},
   "outputs": [],
   "source": [
    "# full hypothetical sample \n",
    "X = np.random.normal(size=(1500, 100))\n",
    "y = 100 + X[:, :10].sum(axis=1) + 10 * np.random.normal(size=1500)\n",
    "\n",
    "# randomly split into training and test samples\n",
    "from sklearn.model_selection import train_test_split\n",
    "np.random.seed(0)  # just so we all get the same results\n",
    "X_train, X_test, y_train, y_test = train_test_split(X, y, test_size=300)\n",
    "X_train0, X_val, y_train0, y_val = train_test_split(X_train, y_train, test_size=200)"
   ]
  },
  {
   "cell_type": "code",
   "execution_count": 51,
   "metadata": {"slideshow": {"slide_type": "slide"}},
   "outputs": [
    {
     "data": {
      "text/plain": [
       "[<matplotlib.lines.Line2D at 0x1ad169ace00>]"
      ]
     },
     "execution_count": 51,
     "metadata": {"slideshow": {"slide_type": "slide"}},
     "output_type": "execute_result"
    },
    {
     "data": {
      "image/png": "[encoded data removed]",
      "text/plain": [
       "<Figure size 640x480 with 1 Axes>"
      ]
     },
     "metadata": {"slideshow": {"slide_type": "slide"}},
     "output_type": "display_data"
    }
   ],
   "source": [
    "# compute out-of-sample R2's on validation data for a range of alphas\n",
    "\n",
    "grid = np.linspace(0.001, 1, 20)\n",
    "scores = []\n",
    "for alpha in grid:\n",
    "    model = Lasso(alpha=alpha)\n",
    "    model.fit(X_train0, y_train0)\n",
    "    scores.append(model.score(X_val, y_val))\n",
    "\n",
    "import matplotlib.pyplot as plt\n",
    "plt.plot(grid, scores)"
   ]
  },
  {
   "cell_type": "code",
   "execution_count": 64,
   "metadata": {"slideshow": {"slide_type": "slide"}},
   "outputs": [
    {
     "data": {
      "text/plain": [
       "(np.float64(-1.2498206179604558), np.float64(0.10617122764240022))"
      ]
     },
     "execution_count": 64,
     "metadata": {"slideshow": {"slide_type": "slide"}},
     "output_type": "execute_result"
    }
   ],
   "source": [
    "# Diebold-Mariano test \n",
    "\n",
    "benchmark_predict = np.repeat(y_test.mean(), len(y_test))\n",
    "best_alpha = grid[np.argmax(scores)]\n",
    "model = Lasso(alpha=best_alpha)\n",
    "model.fit(X_train, y_train)  # fit using all data other than test data\n",
    "model_predict = model.predict(X_test)\n",
    "dm_test(y_test, model_predict, benchmark_predict, one_sided=True)"
   ]
  },
  {
   "cell_type": "markdown",
   "metadata": {"slideshow": {"slide_type": "slide"}},
   "source": [
    "### Cross Validation\n",
    "\n",
    "- Instead of splitting non-test observations into Train and Validate, cross-validation does the following.\n",
    "- Split the 1200 points into, for example, 5 randomly chosen subsets $A, B, C, D$, and $E$.\n",
    "  - Use $A \\cup B \\cup C \\cup D$ as training data and validate on $E$.  \n",
    "  - Then use $B \\cup C \\cup D \\cup E$ as training data and validate on $A$.  \n",
    "  - Then, ..., until we have trained and validated 5 times.\n",
    "- Average the 5 validation scores for each model.  Choose the model with the highest average validation score.  Then test it."
   ]
  },
  {
   "cell_type": "markdown",
   "metadata": {"slideshow": {"slide_type": "slide"}},
   "source": [
    "### Ridge regression\n",
    "\n",
    "In ridge regression, the coefficients are chosen to minimize\n",
    "$$\\text{SSE} + \\text{penalty} \\times \\sum_{i=1}^n \\beta_i^2$$\n",
    "Again, the penalty is called \"alpha.\"\n",
    "\n",
    "Lasso will often force some coefficients to zero.  Ridge regression is unlikely to do so, because the marginal penalty goes to zero as the coefficient goes to zero."
   ]
  },
  {
   "cell_type": "markdown",
   "metadata": {"slideshow": {"slide_type": "slide"}},
   "source": [
    "### Exercise \n",
    "\n",
    "- Run train/validate using Ridge for a grid of alpha values.\n",
    "- Run a Diebold-Mariano test of the best Ridge model."
   ]
  },
  {
   "cell_type": "markdown",
   "metadata": {"slideshow": {"slide_type": "slide"}},
   "source": [
    "### Ask Julius \n",
    "\n",
    "- to get the California house price data and describe it\n",
    "- to build Lasso and Ridge models to predict house prices using some of the features \n",
    "- to run train/test split and use cross-validation to find the best alpha values\n",
    "- to report the scores on the test data for the best alpha values"
   ]
  }
 ],
 "metadata": {
  "kernelspec": {
   "display_name": "Python 3",
   "language": "python",
   "name": "python3"
  },
  "language_info": {
   "codemirror_mode": {
    "name": "ipython",
    "version": 3
   },
   "file_extension": ".py",
   "mimetype": "text/x-python",
   "name": "python",
   "nbconvert_exporter": "python",
   "pygments_lexer": "ipython3",
   "version": "3.12.5"
  }
 },
 "nbformat": 4,
 "nbformat_minor": 2
}
