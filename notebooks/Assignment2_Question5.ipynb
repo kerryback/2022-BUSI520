{
 "cells": [
  {
   "cell_type": "code",
   "execution_count": null,
   "metadata": {},
   "outputs": [],
   "source": [
    "import wrds       \n",
    "conn = wrds.Connection() \n",
    "\n",
    "df = conn.raw_sql(\" select gvkey, datadate,  \" \n",
    "                        + variables +\n",
    "                      \" from comp.funda \"\n",
    "                      \" where datadate >= '\" + startdate + \"' \"\n",
    "                      \" and indfmt='INDL' and datafmt='STD' and popsrc='D' and consol='C' \", date_cols=['datadate'])\n",
    "    df.gvkey = df.gvkey.astype(int)\n",
    "    df = df.sort_values(by=['gvkey','datadate'])\n",
    "    return df.set_index(['gvkey','datadate'])\n",
    "\n",
    "comp = conn.raw_sql(\n",
    "    \"\"\"\n",
    "    select gvkey, datadate, at\n",
    "    from comp.funda\n",
    "    where datadate >= '2000-01-01' and at>0 \n",
    "    and indfmt='INDL' and datafmt='STD' and popsrc='D' and consol='C'\n",
    "    order by gvkey, datadate\n",
    "    \"\"\", \n",
    "    date_cols=['datadate']\n",
    ")\n",
    "\n",
    "# convert string or float to int\n",
    "comp.gvkey = comp.gvkey.astype(int)\n",
    "    \n",
    "def coalesce(df, cols) :\n",
    "        return df[cols].bfill(axis=1).iloc[:, 0]\n",
    "        \n",
    "def bookequity(df) :\n",
    "    deferredTaxes = df.txditc.fillna(0)    \n",
    "    preferredStock = coalesce(df,['pstkrv','pstkl','pstk']).fillna(0)                  \n",
    "    df['seq2'] = df.ceq + df.pstk.fillna(0)                \n",
    "    df['seq3'] = np.where((df['at']>=0) & (df['lt']>=0), df['at']-df['lt'], np.nan)        \n",
    "    shareholdersEquity = coalesce(df,['seq','seq2','seq3'])\n",
    "    bookEquity = shareholdersEquity + deferredTaxes - preferredStock\n",
    "    bookEquity = np.where(bookEquity>0,bookEquity,np.nan)\n",
    "    return pd.Series(bookEquity, index=df.index)"
   ]
  }
 ],
 "metadata": {
  "language_info": {
   "name": "python"
  }
 },
 "nbformat": 4,
 "nbformat_minor": 2
}
