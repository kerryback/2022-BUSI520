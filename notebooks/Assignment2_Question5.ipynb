{
 "cells": [
  {
   "cell_type": "markdown",
   "metadata": {},
   "source": [
    "- Assignment: Create a dataset containing monthly CRSP returns and book-to-market ratios for 1970 through 2023.  Use the Fama-French June 30 convention for book-to-market.  Follow the Fama-French definitions for book equity and market equity (variable definitions are at French's data library).\n",
    "- We'll just do the book-to-market part.  Follow the WRDS lecture for merging with CRSP.\n",
    "- Book "
   ]
  },
  {
   "cell_type": "code",
   "execution_count": 6,
   "metadata": {},
   "outputs": [],
   "source": [
    "import pandas as pd \n",
    "import numpy as np\n",
    "import wrds"
   ]
  },
  {
   "cell_type": "code",
   "execution_count": 3,
   "metadata": {},
   "outputs": [
    {
     "name": "stdout",
     "output_type": "stream",
     "text": [
      "WRDS recommends setting up a .pgpass file.\n",
      "Created .pgpass file successfully.\n",
      "You can create this file yourself at any time with the create_pgpass_file() function.\n",
      "Loading library list...\n",
      "Done\n"
     ]
    }
   ],
   "source": [
    "conn = wrds.Connection() "
   ]
  },
  {
   "cell_type": "code",
   "execution_count": 27,
   "metadata": {},
   "outputs": [],
   "source": [
    " comp = conn.raw_sql(\n",
    "    \"\"\"\n",
    "    select gvkey, datadate as date, txditc, pstkrv, pstkl, pstk, ceq, at, lt, seq\n",
    "    from comp.funda\n",
    "    where datadate >= '2000-01-01' and at>0 \n",
    "    and indfmt='INDL' and datafmt='STD' and popsrc='D' and consol='C'\n",
    "    order by gvkey, datadate\n",
    "    \"\"\", \n",
    "    date_cols=['date']\n",
    ")\n",
    "\n",
    "# convert string or float to int\n",
    "comp.gvkey = comp.gvkey.astype(int)\n",
    "            \n",
    "def bookequity(df) :\n",
    "    deferredTaxes = df.txditc.fillna(0)    \n",
    "    preferredStock = df[['pstkrv','pstkl','pstk']].bfill(axis=1).iloc[:, 0].fillna(0)               \n",
    "    df['seq2'] = df.ceq + df.pstk               \n",
    "    df['seq3'] = np.where((df['at']>=0) & (df['lt']>=0), df['at']-df['lt'], np.nan)        \n",
    "    shareholdersEquity = df[['seq','seq2','seq3']].bfill(axis=1).iloc[:, 0]\n",
    "    bookEquity = shareholdersEquity + deferredTaxes - preferredStock\n",
    "    bookEquity = np.where(bookEquity>0, bookEquity, np.nan)\n",
    "    return pd.Series(bookEquity, index=df.index)\n",
    "\n",
    "comp['bookEquity'] = bookequity(comp)"
   ]
  },
  {
   "cell_type": "code",
   "execution_count": 28,
   "metadata": {},
   "outputs": [],
   "source": [
    "comp['date'] = pd.to_datetime(\n",
    "    comp.date.map(\n",
    "        lambda d: str(d.year+1)+'-06-30'\n",
    "    )\n",
    ")\n",
    "    \n",
    "# if two annual reports in one calendar year (due to change of fiscal year), keep last one\n",
    "comp = comp.drop_duplicates(\n",
    "    subset=['gvkey', 'date'], keep='last'\n",
    ") "
   ]
  },
  {
   "cell_type": "code",
   "execution_count": 29,
   "metadata": {},
   "outputs": [],
   "source": [
    "link = conn.raw_sql(\n",
    "    \"\"\"\n",
    "    select distinct gvkey, lpermno as permno, linkdt, linkenddt\n",
    "    from crsp.Ccmxpf_linktable\n",
    "    where linktype in ('LU', 'LC')\n",
    "    and LINKPRIM in ('P', 'C')\n",
    "    \"\"\"\n",
    ")\n",
    "\n",
    "# convert strings or floats to ints\n",
    "link['gvkey'] = link.gvkey.astype(int)\n",
    "link['permno'] = link.permno.astype(int)\n",
    "\n",
    "# fill in missing end dates with a future date\n",
    "link['linkenddt'] = pd.to_datetime(\n",
    "    link.linkenddt\n",
    ").fillna(pd.Timestamp('21000101'))\n",
    "\n",
    "# merge with Compustat data and keep rows with Compustat datadate between link date and link end date\n",
    "comp = comp.merge(link, on='gvkey', how='inner')\n",
    "comp = comp[\n",
    "    (comp.date>=comp.linkdt) & (comp.date<=comp.linkenddt)\n",
    "]"
   ]
  },
  {
   "cell_type": "code",
   "execution_count": 30,
   "metadata": {},
   "outputs": [
    {
     "name": "stderr",
     "output_type": "stream",
     "text": [
      "C:\\Users\\kerry\\AppData\\Local\\Temp\\ipykernel_38572\\2057758595.py:18: FutureWarning: The provided callable <built-in function sum> is currently using SeriesGroupBy.sum. In a future version of pandas, the provided callable will be used directly. To keep current behavior pass the string \"sum\" instead.\n",
      "  crsp['me'] = crsp.groupby(['date','permco']).me.transform(sum)\n"
     ]
    }
   ],
   "source": [
    "crsp = conn.raw_sql(\n",
    "    \"\"\"\n",
    "    select a.permno, a.permco, a.date, abs(a.prc)*a.shrout as me\n",
    "    from crsp.msf a inner join crsp.msenames b\n",
    "    on a.permno=b.permno and a.date between b.namedt and b.nameendt\n",
    "    and b.exchcd in (1,2,3) and b.shrcd in (10,11)\n",
    "    where a.date >= '2000-01-01'\n",
    "    order by a.permno, a.date\n",
    "    \"\"\",\n",
    "date_cols=['date']\n",
    ")\n",
    "\n",
    "# change strings or floats to integers\n",
    "for col in ['permno','permco']:\n",
    "    crsp[col] = crsp[col].astype(int)\n",
    "\n",
    "# define market equity as sum of market equities of all permnos associated with a permco\n",
    "crsp['me'] = crsp.groupby(['date','permco']).me.transform(sum)"
   ]
  },
  {
   "cell_type": "code",
   "execution_count": 31,
   "metadata": {},
   "outputs": [
    {
     "name": "stderr",
     "output_type": "stream",
     "text": [
      "C:\\Users\\kerry\\AppData\\Local\\Temp\\ipykernel_38572\\2629157431.py:1: DeprecationWarning: DataFrameGroupBy.apply operated on the grouping columns. This behavior is deprecated, and in a future version of pandas the grouping columns will be excluded from the operation. Either pass `include_groups=False` to exclude the groupings or explicitly select the grouping columns after groupby to silence this warning.\n",
      "  me = crsp.groupby(\"permno\", group_keys=True).apply(\n"
     ]
    }
   ],
   "source": [
    "me = crsp.groupby(\"permno\", group_keys=True).apply(\n",
    "    lambda d: d.set_index(\"date\").resample(\"YE\").me.last()\n",
    ")"
   ]
  },
  {
   "cell_type": "code",
   "execution_count": 32,
   "metadata": {},
   "outputs": [],
   "source": [
    "me = pd.DataFrame(me).reset_index() \n",
    "me[\"date\"] = me.date.map(\n",
    "    lambda d: str(d.year+1)+'-06-30'\n",
    ")\n",
    "me[\"date\"] = pd.to_datetime(me.date)\n"
   ]
  },
  {
   "cell_type": "code",
   "execution_count": 33,
   "metadata": {},
   "outputs": [],
   "source": [
    "comp = comp.merge(me, on=[\"permno\", \"date\"], how=\"inner\")\n",
    "comp[\"bm\"] = comp.bookEquity / comp.me"
   ]
  },
  {
   "cell_type": "code",
   "execution_count": 34,
   "metadata": {},
   "outputs": [
    {
     "data": {
      "text/html": [
       "<div>\n",
       "<style scoped>\n",
       "    .dataframe tbody tr th:only-of-type {\n",
       "        vertical-align: middle;\n",
       "    }\n",
       "\n",
       "    .dataframe tbody tr th {\n",
       "        vertical-align: top;\n",
       "    }\n",
       "\n",
       "    .dataframe thead th {\n",
       "        text-align: right;\n",
       "    }\n",
       "</style>\n",
       "<table border=\"1\" class=\"dataframe\">\n",
       "  <thead>\n",
       "    <tr style=\"text-align: right;\">\n",
       "      <th></th>\n",
       "      <th>gvkey</th>\n",
       "      <th>date</th>\n",
       "      <th>txditc</th>\n",
       "      <th>pstkrv</th>\n",
       "      <th>pstkl</th>\n",
       "      <th>pstk</th>\n",
       "      <th>ceq</th>\n",
       "      <th>at</th>\n",
       "      <th>lt</th>\n",
       "      <th>seq</th>\n",
       "      <th>seq2</th>\n",
       "      <th>seq3</th>\n",
       "      <th>bookEquity</th>\n",
       "      <th>permno</th>\n",
       "      <th>linkdt</th>\n",
       "      <th>linkenddt</th>\n",
       "      <th>me</th>\n",
       "      <th>bm</th>\n",
       "    </tr>\n",
       "  </thead>\n",
       "  <tbody>\n",
       "    <tr>\n",
       "      <th>0</th>\n",
       "      <td>1004</td>\n",
       "      <td>2001-06-30</td>\n",
       "      <td>56.020</td>\n",
       "      <td>0.0</td>\n",
       "      <td>0.0</td>\n",
       "      <td>0.0</td>\n",
       "      <td>339.515</td>\n",
       "      <td>740.998</td>\n",
       "      <td>401.483</td>\n",
       "      <td>339.515</td>\n",
       "      <td>339.515</td>\n",
       "      <td>339.515</td>\n",
       "      <td>395.535</td>\n",
       "      <td>54594</td>\n",
       "      <td>1972-04-24</td>\n",
       "      <td>2100-01-01</td>\n",
       "      <td>339057.00</td>\n",
       "      <td>0.001167</td>\n",
       "    </tr>\n",
       "    <tr>\n",
       "      <th>1</th>\n",
       "      <td>1004</td>\n",
       "      <td>2002-06-30</td>\n",
       "      <td>55.063</td>\n",
       "      <td>0.0</td>\n",
       "      <td>0.0</td>\n",
       "      <td>0.0</td>\n",
       "      <td>340.212</td>\n",
       "      <td>701.854</td>\n",
       "      <td>361.642</td>\n",
       "      <td>340.212</td>\n",
       "      <td>340.212</td>\n",
       "      <td>340.212</td>\n",
       "      <td>395.275</td>\n",
       "      <td>54594</td>\n",
       "      <td>1972-04-24</td>\n",
       "      <td>2100-01-01</td>\n",
       "      <td>242891.58</td>\n",
       "      <td>0.001627</td>\n",
       "    </tr>\n",
       "    <tr>\n",
       "      <th>2</th>\n",
       "      <td>1004</td>\n",
       "      <td>2003-06-30</td>\n",
       "      <td>30.601</td>\n",
       "      <td>0.0</td>\n",
       "      <td>0.0</td>\n",
       "      <td>0.0</td>\n",
       "      <td>310.235</td>\n",
       "      <td>710.199</td>\n",
       "      <td>399.964</td>\n",
       "      <td>310.235</td>\n",
       "      <td>310.235</td>\n",
       "      <td>310.235</td>\n",
       "      <td>340.836</td>\n",
       "      <td>54594</td>\n",
       "      <td>1972-04-24</td>\n",
       "      <td>2100-01-01</td>\n",
       "      <td>164001.75</td>\n",
       "      <td>0.002078</td>\n",
       "    </tr>\n",
       "    <tr>\n",
       "      <th>3</th>\n",
       "      <td>1004</td>\n",
       "      <td>2004-06-30</td>\n",
       "      <td>22.601</td>\n",
       "      <td>0.0</td>\n",
       "      <td>0.0</td>\n",
       "      <td>0.0</td>\n",
       "      <td>294.988</td>\n",
       "      <td>686.621</td>\n",
       "      <td>391.633</td>\n",
       "      <td>294.988</td>\n",
       "      <td>294.988</td>\n",
       "      <td>294.988</td>\n",
       "      <td>317.589</td>\n",
       "      <td>54594</td>\n",
       "      <td>1972-04-24</td>\n",
       "      <td>2100-01-01</td>\n",
       "      <td>476112.65</td>\n",
       "      <td>0.000667</td>\n",
       "    </tr>\n",
       "    <tr>\n",
       "      <th>4</th>\n",
       "      <td>1004</td>\n",
       "      <td>2005-06-30</td>\n",
       "      <td>17.628</td>\n",
       "      <td>0.0</td>\n",
       "      <td>0.0</td>\n",
       "      <td>0.0</td>\n",
       "      <td>301.684</td>\n",
       "      <td>709.292</td>\n",
       "      <td>407.608</td>\n",
       "      <td>301.684</td>\n",
       "      <td>301.684</td>\n",
       "      <td>301.684</td>\n",
       "      <td>319.312</td>\n",
       "      <td>54594</td>\n",
       "      <td>1972-04-24</td>\n",
       "      <td>2100-01-01</td>\n",
       "      <td>439190.52</td>\n",
       "      <td>0.000727</td>\n",
       "    </tr>\n",
       "  </tbody>\n",
       "</table>\n",
       "</div>"
      ],
      "text/plain": [
       "   gvkey       date  txditc  pstkrv  pstkl  pstk      ceq       at       lt  \\\n",
       "0   1004 2001-06-30  56.020     0.0    0.0   0.0  339.515  740.998  401.483   \n",
       "1   1004 2002-06-30  55.063     0.0    0.0   0.0  340.212  701.854  361.642   \n",
       "2   1004 2003-06-30  30.601     0.0    0.0   0.0  310.235  710.199  399.964   \n",
       "3   1004 2004-06-30  22.601     0.0    0.0   0.0  294.988  686.621  391.633   \n",
       "4   1004 2005-06-30  17.628     0.0    0.0   0.0  301.684  709.292  407.608   \n",
       "\n",
       "       seq     seq2     seq3  bookEquity  permno      linkdt  linkenddt  \\\n",
       "0  339.515  339.515  339.515     395.535   54594  1972-04-24 2100-01-01   \n",
       "1  340.212  340.212  340.212     395.275   54594  1972-04-24 2100-01-01   \n",
       "2  310.235  310.235  310.235     340.836   54594  1972-04-24 2100-01-01   \n",
       "3  294.988  294.988  294.988     317.589   54594  1972-04-24 2100-01-01   \n",
       "4  301.684  301.684  301.684     319.312   54594  1972-04-24 2100-01-01   \n",
       "\n",
       "          me        bm  \n",
       "0  339057.00  0.001167  \n",
       "1  242891.58  0.001627  \n",
       "2  164001.75  0.002078  \n",
       "3  476112.65  0.000667  \n",
       "4  439190.52  0.000727  "
      ]
     },
     "execution_count": 34,
     "metadata": {},
     "output_type": "execute_result"
    }
   ],
   "source": [
    "comp.head()"
   ]
  }
 ],
 "metadata": {
  "kernelspec": {
   "display_name": "Python 3",
   "language": "python",
   "name": "python3"
  },
  "language_info": {
   "codemirror_mode": {
    "name": "ipython",
    "version": 3
   },
   "file_extension": ".py",
   "mimetype": "text/x-python",
   "name": "python",
   "nbconvert_exporter": "python",
   "pygments_lexer": "ipython3",
   "version": "3.12.5"
  }
 },
 "nbformat": 4,
 "nbformat_minor": 2
}
