{
 "cells": [
  {
   "cell_type": "markdown",
   "metadata": {
    "slideshow": {
     "slide_type": "slide"
    }
   },
   "source": [
    "# Day 7\n",
    "\n",
    "### BUSI 520: Python for Business Research\n",
    "### Kerry Back, JGSB, Rice University"
   ]
  },
  {
   "cell_type": "markdown",
   "metadata": {
    "slideshow": {
     "slide_type": "slide"
    }
   },
   "source": [
    "### Outline \n",
    "\n",
    "- Some overview of ML\n",
    "- Decision trees\n",
    "- Random forests and gradient boosting \n",
    "- Classifiers \n",
    "- Start with toy data and then some sklearn datasets"
   ]
  },
  {
   "cell_type": "markdown",
   "metadata": {
    "slideshow": {
     "slide_type": "slide"
    }
   },
   "source": [
    "### Some ML Models\n",
    "\n",
    "- Linear (OLS, lasso, ridge, elastic net) -- Monday \n",
    "- Trees (decision trees, random forests, gradient boosting) -- Today\n",
    "- Neural networks -- in two weeks\n",
    "- Support vector machines, k-nearest neighbors, etc."
   ]
  },
  {
   "cell_type": "markdown",
   "metadata": {
    "slideshow": {
     "slide_type": "slide"
    }
   },
   "source": [
    "### Which model is best?\n",
    "\n",
    "- Linear models are best if you know the data are linear.\n",
    "- In general, imposing parametric assumptions is useful when you don't have much data.\n",
    "- Trees are more flexible.\n",
    "- Neural networks can approximate any functional relationship."
   ]
  },
  {
   "cell_type": "markdown",
   "metadata": {
    "slideshow": {
     "slide_type": "slide"
    }
   },
   "source": [
    "### Some terminology\n",
    "\n",
    "- Bagging = bootstrap aggregation\n",
    "  - bootstrap means to sample from the data with replacement to create random samples \n",
    "  - aggregation means to average the predictions of many models\n",
    "  - Random forests are an example of bagging\n",
    "- Boosting = train a sequence of models where each model tries to correct the errors of the previous model\n",
    "  - Gradient boosting is an example\n",
    "- Goal of bagging and boosting is to combine many weak learners to create a strong learner\n",
    "- Regression in ML = prediction of a continuous variable\n",
    "- Classification in ML = prediction of a categorical variable"
   ]
  },
  {
   "cell_type": "markdown",
   "metadata": {
    "slideshow": {
     "slide_type": "slide"
    }
   },
   "source": [
    "### Decision trees\n",
    "\n",
    "- Random forests and gradient boosting are based on decision trees\n",
    "- A decision tree starts with a yes or no question.  \n",
    "  - Depending on the answer, there is another yes or no question.\n",
    "  - Each question is of the form: Is variable $x_i$ greater than threshold $t_i$?\n",
    "  - The tree ends in a leaf node that gives the prediction.\n",
    "- Each observation is passed through the tree to determine the corresponding prediction.\n",
    "- Then (in regression) the mean squared error is calculated.\n",
    "- The tree is grown by choosing the variable and threshold that minimizes the MSE at the next step."
   ]
  },
  {
   "cell_type": "markdown",
   "metadata": {
    "slideshow": {
     "slide_type": "slide"
    }
   },
   "source": [
    "### Example \n",
    "\n",
    "![](images/Trees_Transparent.png){height=520 width=900 fig-align=\"center\"}"
   ]
  },
  {
   "cell_type": "markdown",
   "metadata": {
    "slideshow": {
     "slide_type": "slide"
    }
   },
   "source": [
    "### Random data\n",
    "\n",
    "- 10 features\n",
    "- target is product of first two plus noise\n",
    "- 1,500 observations (1,000 training, 200 validation, 300 test)"
   ]
  },
  {
   "cell_type": "code",
   "execution_count": 40,
   "metadata": {
    "slideshow": {
     "slide_type": "slide"
    }
   },
   "outputs": [],
   "source": [
    "import numpy as np \n",
    "\n",
    "np.random.seed(0)  # just so we all get the same results\n",
    "\n",
    "# full hypothetical sample \n",
    "X = np.random.normal(size=(1500, 10))\n",
    "y = X[:, 0] * X[:, 1] + np.random.normal(size=1500)\n",
    "\n",
    "# randomly split into training and test samples\n",
    "from sklearn.model_selection import train_test_split\n",
    "X_train, X_test, y_train, y_test = train_test_split(\n",
    "    X, y, test_size=300\n",
    ")\n",
    "X_train0, X_val, y_train0, y_val = train_test_split(\n",
    "    X_train, y_train, test_size=200\n",
    ")"
   ]
  },
  {
   "cell_type": "markdown",
   "metadata": {
    "slideshow": {
     "slide_type": "slide"
    }
   },
   "source": [
    "### Train a decision tree\n",
    "\n",
    "- We will use a max depth of 3 for illustration.\n",
    "- We will train on (X_train0, y_train0)."
   ]
  },
  {
   "cell_type": "code",
   "execution_count": 41,
   "metadata": {
    "slideshow": {
     "slide_type": "slide"
    }
   },
   "outputs": [
    {
     "data": {
      "text/html": [
       "<style>#sk-container-id-4 {\n",
       "  /* Definition of color scheme common for light and dark mode */\n",
       "  --sklearn-color-text: black;\n",
       "  --sklearn-color-line: gray;\n",
       "  /* Definition of color scheme for unfitted estimators */\n",
       "  --sklearn-color-unfitted-level-0: #fff5e6;\n",
       "  --sklearn-color-unfitted-level-1: #f6e4d2;\n",
       "  --sklearn-color-unfitted-level-2: #ffe0b3;\n",
       "  --sklearn-color-unfitted-level-3: chocolate;\n",
       "  /* Definition of color scheme for fitted estimators */\n",
       "  --sklearn-color-fitted-level-0: #f0f8ff;\n",
       "  --sklearn-color-fitted-level-1: #d4ebff;\n",
       "  --sklearn-color-fitted-level-2: #b3dbfd;\n",
       "  --sklearn-color-fitted-level-3: cornflowerblue;\n",
       "\n",
       "  /* Specific color for light theme */\n",
       "  --sklearn-color-text-on-default-background: var(--sg-text-color, var(--theme-code-foreground, var(--jp-content-font-color1, black)));\n",
       "  --sklearn-color-background: var(--sg-background-color, var(--theme-background, var(--jp-layout-color0, white)));\n",
       "  --sklearn-color-border-box: var(--sg-text-color, var(--theme-code-foreground, var(--jp-content-font-color1, black)));\n",
       "  --sklearn-color-icon: #696969;\n",
       "\n",
       "  @media (prefers-color-scheme: dark) {\n",
       "    /* Redefinition of color scheme for dark theme */\n",
       "    --sklearn-color-text-on-default-background: var(--sg-text-color, var(--theme-code-foreground, var(--jp-content-font-color1, white)));\n",
       "    --sklearn-color-background: var(--sg-background-color, var(--theme-background, var(--jp-layout-color0, #111)));\n",
       "    --sklearn-color-border-box: var(--sg-text-color, var(--theme-code-foreground, var(--jp-content-font-color1, white)));\n",
       "    --sklearn-color-icon: #878787;\n",
       "  }\n",
       "}\n",
       "\n",
       "#sk-container-id-4 {\n",
       "  color: var(--sklearn-color-text);\n",
       "}\n",
       "\n",
       "#sk-container-id-4 pre {\n",
       "  padding: 0;\n",
       "}\n",
       "\n",
       "#sk-container-id-4 input.sk-hidden--visually {\n",
       "  border: 0;\n",
       "  clip: rect(1px 1px 1px 1px);\n",
       "  clip: rect(1px, 1px, 1px, 1px);\n",
       "  height: 1px;\n",
       "  margin: -1px;\n",
       "  overflow: hidden;\n",
       "  padding: 0;\n",
       "  position: absolute;\n",
       "  width: 1px;\n",
       "}\n",
       "\n",
       "#sk-container-id-4 div.sk-dashed-wrapped {\n",
       "  border: 1px dashed var(--sklearn-color-line);\n",
       "  margin: 0 0.4em 0.5em 0.4em;\n",
       "  box-sizing: border-box;\n",
       "  padding-bottom: 0.4em;\n",
       "  background-color: var(--sklearn-color-background);\n",
       "}\n",
       "\n",
       "#sk-container-id-4 div.sk-container {\n",
       "  /* jupyter's `normalize.less` sets `[hidden] { display: none; }`\n",
       "     but bootstrap.min.css set `[hidden] { display: none !important; }`\n",
       "     so we also need the `!important` here to be able to override the\n",
       "     default hidden behavior on the sphinx rendered scikit-learn.org.\n",
       "     See: https://github.com/scikit-learn/scikit-learn/issues/21755 */\n",
       "  display: inline-block !important;\n",
       "  position: relative;\n",
       "}\n",
       "\n",
       "#sk-container-id-4 div.sk-text-repr-fallback {\n",
       "  display: none;\n",
       "}\n",
       "\n",
       "div.sk-parallel-item,\n",
       "div.sk-serial,\n",
       "div.sk-item {\n",
       "  /* draw centered vertical line to link estimators */\n",
       "  background-image: linear-gradient(var(--sklearn-color-text-on-default-background), var(--sklearn-color-text-on-default-background));\n",
       "  background-size: 2px 100%;\n",
       "  background-repeat: no-repeat;\n",
       "  background-position: center center;\n",
       "}\n",
       "\n",
       "/* Parallel-specific style estimator block */\n",
       "\n",
       "#sk-container-id-4 div.sk-parallel-item::after {\n",
       "  content: \"\";\n",
       "  width: 100%;\n",
       "  border-bottom: 2px solid var(--sklearn-color-text-on-default-background);\n",
       "  flex-grow: 1;\n",
       "}\n",
       "\n",
       "#sk-container-id-4 div.sk-parallel {\n",
       "  display: flex;\n",
       "  align-items: stretch;\n",
       "  justify-content: center;\n",
       "  background-color: var(--sklearn-color-background);\n",
       "  position: relative;\n",
       "}\n",
       "\n",
       "#sk-container-id-4 div.sk-parallel-item {\n",
       "  display: flex;\n",
       "  flex-direction: column;\n",
       "}\n",
       "\n",
       "#sk-container-id-4 div.sk-parallel-item:first-child::after {\n",
       "  align-self: flex-end;\n",
       "  width: 50%;\n",
       "}\n",
       "\n",
       "#sk-container-id-4 div.sk-parallel-item:last-child::after {\n",
       "  align-self: flex-start;\n",
       "  width: 50%;\n",
       "}\n",
       "\n",
       "#sk-container-id-4 div.sk-parallel-item:only-child::after {\n",
       "  width: 0;\n",
       "}\n",
       "\n",
       "/* Serial-specific style estimator block */\n",
       "\n",
       "#sk-container-id-4 div.sk-serial {\n",
       "  display: flex;\n",
       "  flex-direction: column;\n",
       "  align-items: center;\n",
       "  background-color: var(--sklearn-color-background);\n",
       "  padding-right: 1em;\n",
       "  padding-left: 1em;\n",
       "}\n",
       "\n",
       "\n",
       "/* Toggleable style: style used for estimator/Pipeline/ColumnTransformer box that is\n",
       "clickable and can be expanded/collapsed.\n",
       "- Pipeline and ColumnTransformer use this feature and define the default style\n",
       "- Estimators will overwrite some part of the style using the `sk-estimator` class\n",
       "*/\n",
       "\n",
       "/* Pipeline and ColumnTransformer style (default) */\n",
       "\n",
       "#sk-container-id-4 div.sk-toggleable {\n",
       "  /* Default theme specific background. It is overwritten whether we have a\n",
       "  specific estimator or a Pipeline/ColumnTransformer */\n",
       "  background-color: var(--sklearn-color-background);\n",
       "}\n",
       "\n",
       "/* Toggleable label */\n",
       "#sk-container-id-4 label.sk-toggleable__label {\n",
       "  cursor: pointer;\n",
       "  display: block;\n",
       "  width: 100%;\n",
       "  margin-bottom: 0;\n",
       "  padding: 0.5em;\n",
       "  box-sizing: border-box;\n",
       "  text-align: center;\n",
       "}\n",
       "\n",
       "#sk-container-id-4 label.sk-toggleable__label-arrow:before {\n",
       "  /* Arrow on the left of the label */\n",
       "  content: \"▸\";\n",
       "  float: left;\n",
       "  margin-right: 0.25em;\n",
       "  color: var(--sklearn-color-icon);\n",
       "}\n",
       "\n",
       "#sk-container-id-4 label.sk-toggleable__label-arrow:hover:before {\n",
       "  color: var(--sklearn-color-text);\n",
       "}\n",
       "\n",
       "/* Toggleable content - dropdown */\n",
       "\n",
       "#sk-container-id-4 div.sk-toggleable__content {\n",
       "  max-height: 0;\n",
       "  max-width: 0;\n",
       "  overflow: hidden;\n",
       "  text-align: left;\n",
       "  /* unfitted */\n",
       "  background-color: var(--sklearn-color-unfitted-level-0);\n",
       "}\n",
       "\n",
       "#sk-container-id-4 div.sk-toggleable__content.fitted {\n",
       "  /* fitted */\n",
       "  background-color: var(--sklearn-color-fitted-level-0);\n",
       "}\n",
       "\n",
       "#sk-container-id-4 div.sk-toggleable__content pre {\n",
       "  margin: 0.2em;\n",
       "  border-radius: 0.25em;\n",
       "  color: var(--sklearn-color-text);\n",
       "  /* unfitted */\n",
       "  background-color: var(--sklearn-color-unfitted-level-0);\n",
       "}\n",
       "\n",
       "#sk-container-id-4 div.sk-toggleable__content.fitted pre {\n",
       "  /* unfitted */\n",
       "  background-color: var(--sklearn-color-fitted-level-0);\n",
       "}\n",
       "\n",
       "#sk-container-id-4 input.sk-toggleable__control:checked~div.sk-toggleable__content {\n",
       "  /* Expand drop-down */\n",
       "  max-height: 200px;\n",
       "  max-width: 100%;\n",
       "  overflow: auto;\n",
       "}\n",
       "\n",
       "#sk-container-id-4 input.sk-toggleable__control:checked~label.sk-toggleable__label-arrow:before {\n",
       "  content: \"▾\";\n",
       "}\n",
       "\n",
       "/* Pipeline/ColumnTransformer-specific style */\n",
       "\n",
       "#sk-container-id-4 div.sk-label input.sk-toggleable__control:checked~label.sk-toggleable__label {\n",
       "  color: var(--sklearn-color-text);\n",
       "  background-color: var(--sklearn-color-unfitted-level-2);\n",
       "}\n",
       "\n",
       "#sk-container-id-4 div.sk-label.fitted input.sk-toggleable__control:checked~label.sk-toggleable__label {\n",
       "  background-color: var(--sklearn-color-fitted-level-2);\n",
       "}\n",
       "\n",
       "/* Estimator-specific style */\n",
       "\n",
       "/* Colorize estimator box */\n",
       "#sk-container-id-4 div.sk-estimator input.sk-toggleable__control:checked~label.sk-toggleable__label {\n",
       "  /* unfitted */\n",
       "  background-color: var(--sklearn-color-unfitted-level-2);\n",
       "}\n",
       "\n",
       "#sk-container-id-4 div.sk-estimator.fitted input.sk-toggleable__control:checked~label.sk-toggleable__label {\n",
       "  /* fitted */\n",
       "  background-color: var(--sklearn-color-fitted-level-2);\n",
       "}\n",
       "\n",
       "#sk-container-id-4 div.sk-label label.sk-toggleable__label,\n",
       "#sk-container-id-4 div.sk-label label {\n",
       "  /* The background is the default theme color */\n",
       "  color: var(--sklearn-color-text-on-default-background);\n",
       "}\n",
       "\n",
       "/* On hover, darken the color of the background */\n",
       "#sk-container-id-4 div.sk-label:hover label.sk-toggleable__label {\n",
       "  color: var(--sklearn-color-text);\n",
       "  background-color: var(--sklearn-color-unfitted-level-2);\n",
       "}\n",
       "\n",
       "/* Label box, darken color on hover, fitted */\n",
       "#sk-container-id-4 div.sk-label.fitted:hover label.sk-toggleable__label.fitted {\n",
       "  color: var(--sklearn-color-text);\n",
       "  background-color: var(--sklearn-color-fitted-level-2);\n",
       "}\n",
       "\n",
       "/* Estimator label */\n",
       "\n",
       "#sk-container-id-4 div.sk-label label {\n",
       "  font-family: monospace;\n",
       "  font-weight: bold;\n",
       "  display: inline-block;\n",
       "  line-height: 1.2em;\n",
       "}\n",
       "\n",
       "#sk-container-id-4 div.sk-label-container {\n",
       "  text-align: center;\n",
       "}\n",
       "\n",
       "/* Estimator-specific */\n",
       "#sk-container-id-4 div.sk-estimator {\n",
       "  font-family: monospace;\n",
       "  border: 1px dotted var(--sklearn-color-border-box);\n",
       "  border-radius: 0.25em;\n",
       "  box-sizing: border-box;\n",
       "  margin-bottom: 0.5em;\n",
       "  /* unfitted */\n",
       "  background-color: var(--sklearn-color-unfitted-level-0);\n",
       "}\n",
       "\n",
       "#sk-container-id-4 div.sk-estimator.fitted {\n",
       "  /* fitted */\n",
       "  background-color: var(--sklearn-color-fitted-level-0);\n",
       "}\n",
       "\n",
       "/* on hover */\n",
       "#sk-container-id-4 div.sk-estimator:hover {\n",
       "  /* unfitted */\n",
       "  background-color: var(--sklearn-color-unfitted-level-2);\n",
       "}\n",
       "\n",
       "#sk-container-id-4 div.sk-estimator.fitted:hover {\n",
       "  /* fitted */\n",
       "  background-color: var(--sklearn-color-fitted-level-2);\n",
       "}\n",
       "\n",
       "/* Specification for estimator info (e.g. \"i\" and \"?\") */\n",
       "\n",
       "/* Common style for \"i\" and \"?\" */\n",
       "\n",
       ".sk-estimator-doc-link,\n",
       "a:link.sk-estimator-doc-link,\n",
       "a:visited.sk-estimator-doc-link {\n",
       "  float: right;\n",
       "  font-size: smaller;\n",
       "  line-height: 1em;\n",
       "  font-family: monospace;\n",
       "  background-color: var(--sklearn-color-background);\n",
       "  border-radius: 1em;\n",
       "  height: 1em;\n",
       "  width: 1em;\n",
       "  text-decoration: none !important;\n",
       "  margin-left: 1ex;\n",
       "  /* unfitted */\n",
       "  border: var(--sklearn-color-unfitted-level-1) 1pt solid;\n",
       "  color: var(--sklearn-color-unfitted-level-1);\n",
       "}\n",
       "\n",
       ".sk-estimator-doc-link.fitted,\n",
       "a:link.sk-estimator-doc-link.fitted,\n",
       "a:visited.sk-estimator-doc-link.fitted {\n",
       "  /* fitted */\n",
       "  border: var(--sklearn-color-fitted-level-1) 1pt solid;\n",
       "  color: var(--sklearn-color-fitted-level-1);\n",
       "}\n",
       "\n",
       "/* On hover */\n",
       "div.sk-estimator:hover .sk-estimator-doc-link:hover,\n",
       ".sk-estimator-doc-link:hover,\n",
       "div.sk-label-container:hover .sk-estimator-doc-link:hover,\n",
       ".sk-estimator-doc-link:hover {\n",
       "  /* unfitted */\n",
       "  background-color: var(--sklearn-color-unfitted-level-3);\n",
       "  color: var(--sklearn-color-background);\n",
       "  text-decoration: none;\n",
       "}\n",
       "\n",
       "div.sk-estimator.fitted:hover .sk-estimator-doc-link.fitted:hover,\n",
       ".sk-estimator-doc-link.fitted:hover,\n",
       "div.sk-label-container:hover .sk-estimator-doc-link.fitted:hover,\n",
       ".sk-estimator-doc-link.fitted:hover {\n",
       "  /* fitted */\n",
       "  background-color: var(--sklearn-color-fitted-level-3);\n",
       "  color: var(--sklearn-color-background);\n",
       "  text-decoration: none;\n",
       "}\n",
       "\n",
       "/* Span, style for the box shown on hovering the info icon */\n",
       ".sk-estimator-doc-link span {\n",
       "  display: none;\n",
       "  z-index: 9999;\n",
       "  position: relative;\n",
       "  font-weight: normal;\n",
       "  right: .2ex;\n",
       "  padding: .5ex;\n",
       "  margin: .5ex;\n",
       "  width: min-content;\n",
       "  min-width: 20ex;\n",
       "  max-width: 50ex;\n",
       "  color: var(--sklearn-color-text);\n",
       "  box-shadow: 2pt 2pt 4pt #999;\n",
       "  /* unfitted */\n",
       "  background: var(--sklearn-color-unfitted-level-0);\n",
       "  border: .5pt solid var(--sklearn-color-unfitted-level-3);\n",
       "}\n",
       "\n",
       ".sk-estimator-doc-link.fitted span {\n",
       "  /* fitted */\n",
       "  background: var(--sklearn-color-fitted-level-0);\n",
       "  border: var(--sklearn-color-fitted-level-3);\n",
       "}\n",
       "\n",
       ".sk-estimator-doc-link:hover span {\n",
       "  display: block;\n",
       "}\n",
       "\n",
       "/* \"?\"-specific style due to the `<a>` HTML tag */\n",
       "\n",
       "#sk-container-id-4 a.estimator_doc_link {\n",
       "  float: right;\n",
       "  font-size: 1rem;\n",
       "  line-height: 1em;\n",
       "  font-family: monospace;\n",
       "  background-color: var(--sklearn-color-background);\n",
       "  border-radius: 1rem;\n",
       "  height: 1rem;\n",
       "  width: 1rem;\n",
       "  text-decoration: none;\n",
       "  /* unfitted */\n",
       "  color: var(--sklearn-color-unfitted-level-1);\n",
       "  border: var(--sklearn-color-unfitted-level-1) 1pt solid;\n",
       "}\n",
       "\n",
       "#sk-container-id-4 a.estimator_doc_link.fitted {\n",
       "  /* fitted */\n",
       "  border: var(--sklearn-color-fitted-level-1) 1pt solid;\n",
       "  color: var(--sklearn-color-fitted-level-1);\n",
       "}\n",
       "\n",
       "/* On hover */\n",
       "#sk-container-id-4 a.estimator_doc_link:hover {\n",
       "  /* unfitted */\n",
       "  background-color: var(--sklearn-color-unfitted-level-3);\n",
       "  color: var(--sklearn-color-background);\n",
       "  text-decoration: none;\n",
       "}\n",
       "\n",
       "#sk-container-id-4 a.estimator_doc_link.fitted:hover {\n",
       "  /* fitted */\n",
       "  background-color: var(--sklearn-color-fitted-level-3);\n",
       "}\n",
       "</style><div id=\"sk-container-id-4\" class=\"sk-top-container\"><div class=\"sk-text-repr-fallback\"><pre>DecisionTreeRegressor(max_depth=3)</pre><b>In a Jupyter environment, please rerun this cell to show the HTML representation or trust the notebook. <br />On GitHub, the HTML representation is unable to render, please try loading this page with nbviewer.org.</b></div><div class=\"sk-container\" hidden><div class=\"sk-item\"><div class=\"sk-estimator fitted sk-toggleable\"><input class=\"sk-toggleable__control sk-hidden--visually\" id=\"sk-estimator-id-4\" type=\"checkbox\" checked><label for=\"sk-estimator-id-4\" class=\"sk-toggleable__label fitted sk-toggleable__label-arrow fitted\">&nbsp;&nbsp;DecisionTreeRegressor<a class=\"sk-estimator-doc-link fitted\" rel=\"noreferrer\" target=\"_blank\" href=\"https://scikit-learn.org/1.5/modules/generated/sklearn.tree.DecisionTreeRegressor.html\">?<span>Documentation for DecisionTreeRegressor</span></a><span class=\"sk-estimator-doc-link fitted\">i<span>Fitted</span></span></label><div class=\"sk-toggleable__content fitted\"><pre>DecisionTreeRegressor(max_depth=3)</pre></div> </div></div></div></div>"
      ],
      "text/plain": [
       "DecisionTreeRegressor(max_depth=3)"
      ]
     },
     "execution_count": 41,
     "metadata": {
      "slideshow": {
       "slide_type": "slide"
      }
     },
     "output_type": "execute_result"
    }
   ],
   "source": [
    "from sklearn.tree import DecisionTreeRegressor\n",
    "\n",
    "model = DecisionTreeRegressor(max_depth=3)\n",
    "model.fit(X_train0, y_train0)"
   ]
  },
  {
   "cell_type": "markdown",
   "metadata": {
    "slideshow": {
     "slide_type": "slide"
    }
   },
   "source": [
    "### View the tree\n",
    "\n",
    "- We do this only for illustration."
   ]
  },
  {
   "cell_type": "code",
   "execution_count": 42,
   "metadata": {
    "slideshow": {
     "slide_type": "slide"
    }
   },
   "outputs": [
    {
     "data": {
      "image/png": "[encoded data removed]",
      "text/plain": [
       "<Figure size 640x480 with 1 Axes>"
      ]
     },
     "metadata": {
      "slideshow": {
       "slide_type": "slide"
      }
     },
     "output_type": "display_data"
    }
   ],
   "source": [
    "from sklearn.tree import plot_tree\n",
    "import matplotlib.pyplot as plt\n",
    "\n",
    "plot_tree(model, filled=True)\n",
    "plt.show()"
   ]
  },
  {
   "cell_type": "markdown",
   "metadata": {
    "slideshow": {
     "slide_type": "slide"
    }
   },
   "source": [
    "### Random forest \n",
    "\n",
    "- Bootstrap samples are used to create random datasets.\n",
    "- A tree is fit to each random dataset.\n",
    "- The predictions of all trees are averaged to get the final prediction (for regression)\n",
    "- To get more randomness, often restrict the variables that can be used at each split.\n",
    "  - Choose a random subset of $n$ features at each split to select from. \n",
    "- Key hyperparameters are n_estimators, max_features, and max_depth."
   ]
  },
  {
   "cell_type": "markdown",
   "metadata": {
    "slideshow": {
     "slide_type": "slide"
    }
   },
   "source": [
    "### Gradient boosting\n",
    "\n",
    "- Fit a decision tree.\n",
    "- Look at its errors.  Fit a new decision tree to predict the errors.\n",
    "- New prediction is original plus a fraction of the prediction of original's error (fraction = learning rate).\n",
    "- Look at the errors of the new predictions.  Fit a new decision tree to predict these errors.\n",
    "- Continue ...\n",
    "- Key hyperparameters are n_estimators, learning_rate, and max_depth.\n",
    "- Probably want to use xgboost library (eXtreme Gradient Boosting)."
   ]
  },
  {
   "cell_type": "markdown",
   "metadata": {
    "slideshow": {
     "slide_type": "slide"
    }
   },
   "source": [
    "### Overfitting / underfitting \n",
    "\n",
    "- OLS overfit on Monday - poor predictions \n",
    "- If we make alpha very large in lasso or ridge, we underfit - force coefficients to zero and get poor predictions.\n",
    "- Decision trees can overfit if we allow them to grow too deep. \n",
    "- If they are too shallow, they will underfit.\n",
    "- In general,\n",
    "  - Model too complex or not sufficiently regularized (penalized) -> overfit \n",
    "  - Model too simple or too regularized -> underfit"
   ]
  },
  {
   "cell_type": "markdown",
   "metadata": {
    "slideshow": {
     "slide_type": "slide"
    }
   },
   "source": [
    "### Random forest example"
   ]
  },
  {
   "cell_type": "code",
   "execution_count": 53,
   "metadata": {
    "slideshow": {
     "slide_type": "slide"
    }
   },
   "outputs": [],
   "source": [
    "from sklearn.ensemble import RandomForestRegressor \n",
    "\n",
    "# train and validate\n",
    "depths = range(2, 22, 2)\n",
    "train_scores = []\n",
    "val_scores = []\n",
    "for depth in depths:\n",
    "    model = RandomForestRegressor(max_depth=depth)\n",
    "    model.fit(X_train0, y_train0)\n",
    "    train_scores.append(model.score(X_train0, y_train0))\n",
    "    val_scores.append(model.score(X_val, y_val))"
   ]
  },
  {
   "cell_type": "code",
   "execution_count": 54,
   "metadata": {
    "slideshow": {
     "slide_type": "slide"
    }
   },
   "outputs": [
    {
     "data": {
      "image/png": "[encoded data removed]",
      "text/plain": [
       "<Figure size 640x480 with 1 Axes>"
      ]
     },
     "metadata": {
      "slideshow": {
       "slide_type": "slide"
      }
     },
     "output_type": "display_data"
    }
   ],
   "source": [
    "# plot results\n",
    "\n",
    "import matplotlib.pyplot as plt\n",
    "plt.plot(depths, train_scores, label='train')\n",
    "plt.plot(depths, val_scores, label='validation')\n",
    "plt.xlabel('max_depth')\n",
    "plt.ylabel('R^2')\n",
    "plt.legend()\n",
    "plt.show()"
   ]
  },
  {
   "cell_type": "code",
   "execution_count": 55,
   "metadata": {
    "slideshow": {
     "slide_type": "slide"
    }
   },
   "outputs": [
    {
     "data": {
      "text/plain": [
       "(np.float64(-5.800874151314999), np.float64(8.392613835376186e-09))"
      ]
     },
     "execution_count": 55,
     "metadata": {
      "slideshow": {
       "slide_type": "slide"
      }
     },
     "output_type": "execute_result"
    }
   ],
   "source": [
    "# Diebold-Mariano test \n",
    "\n",
    "from dieboldmariano import dm_test\n",
    "\n",
    "benchmark_predict = np.repeat(y_test.mean(), len(y_test))\n",
    "best_depth = depths[np.argmax(val_scores)]\n",
    "model = RandomForestRegressor(max_depth=best_depth)\n",
    "model.fit(X_train, y_train)  # fit using all data other than test data\n",
    "model_predict = model.predict(X_test)\n",
    "dm_test(y_test, model_predict, benchmark_predict, one_sided=True)"
   ]
  },
  {
   "cell_type": "markdown",
   "metadata": {
    "slideshow": {
     "slide_type": "slide"
    }
   },
   "source": [
    "### Feature importances\n",
    "\n",
    "- In linear models with standardized right-hand side variables, the coefficients give the importance of each variable.\n",
    "- In decision trees, we can look at the feature importances, which tell us which features are used the most for splitting."
   ]
  },
  {
   "cell_type": "code",
   "execution_count": 56,
   "metadata": {
    "slideshow": {
     "slide_type": "slide"
    }
   },
   "outputs": [
    {
     "data": {
      "text/plain": [
       "array([0.28428244, 0.31272374, 0.06335638, 0.05167325, 0.04224554,\n",
       "       0.05537387, 0.0431089 , 0.0539083 , 0.04727661, 0.04605097])"
      ]
     },
     "execution_count": 56,
     "metadata": {
      "slideshow": {
       "slide_type": "slide"
      }
     },
     "output_type": "execute_result"
    }
   ],
   "source": [
    "model.feature_importances_"
   ]
  },
  {
   "cell_type": "markdown",
   "metadata": {
    "slideshow": {
     "slide_type": "slide"
    }
   },
   "source": [
    "### Gradient boosting example with cross validation"
   ]
  },
  {
   "cell_type": "code",
   "execution_count": 58,
   "metadata": {
    "slideshow": {
     "slide_type": "slide"
    }
   },
   "outputs": [
    {
     "name": "stdout",
     "output_type": "stream",
     "text": [
      "R2 on test data is 0.387006955062173\n",
      "\n",
      "best hyperparameters are {'learning_rate': 0.1, 'max_depth': 6}\n",
      "\n",
      "feature importances are [0.15721264 0.22603351 0.07810193 0.06738326 0.06656754 0.07817706\n",
      " 0.07429293 0.09016509 0.08388416 0.07818186]\n"
     ]
    }
   ],
   "source": [
    "from xgboost import XGBRegressor\n",
    "from sklearn.model_selection import GridSearchCV\n",
    "\n",
    "depths = range(2, 12, 2)\n",
    "learning_rates = [0.1, 0.01, 0.001]\n",
    "cv = GridSearchCV(\n",
    "    XGBRegressor(), \n",
    "    {'max_depth': depths, 'learning_rate': learning_rates}\n",
    ")\n",
    "\n",
    "# use all of our training data for cross-validation\n",
    "cv.fit(X_train, y_train)\n",
    "\n",
    "# test on test data \n",
    "print(f\"R2 on test data is {cv.score(X_test, y_test)}\")\n",
    "\n",
    "# see best hyperparameters\n",
    "print(f\"\\nbest hyperparameters are {cv.best_params_}\")\n",
    "\n",
    "# feature importances\n",
    "print(f\"\\nfeature importances are {cv.best_estimator_.feature_importances_}\")"
   ]
  },
  {
   "cell_type": "markdown",
   "metadata": {
    "slideshow": {
     "slide_type": "slide"
    }
   },
   "source": [
    "### Classification\n",
    "\n",
    "- Binary or multi-class\n",
    "- Can use lasso or ridge versions of logistic regression\n",
    "- Tree-based classifiers use same syntax as regressors.  Generally same hyperparameters.\n",
    "- Same issues with overfitting and underfitting.  Can use cross validation to choose hyperparameters as in the regression case.\n",
    "- One difference is goodness of fit measure.  \n",
    "  - Regression usually uses MSE (but can use MAE).  \n",
    "  - Classification uses accuracy, precision, recall, F1 score, etc."
   ]
  },
  {
   "cell_type": "markdown",
   "metadata": {
    "slideshow": {
     "slide_type": "slide"
    }
   },
   "source": [
    "### Goodness of fit in binary classification \n",
    "\n",
    "- Accuracy = % correct \n",
    "- Precision = % of positive predictions that are correct\n",
    "- Recall = % of actual positives that are predicted correctly\n",
    "- F1 score = harmonic mean of precision and recall (harmonic mean = reciprocal of average reciprocal).\n",
    "- Example: cancer screening\n",
    "  - Precision = % of people who test positive who actually have cancer\n",
    "  - Recall = % of people who have cancer who test positive\n",
    "  - F1 score = balance between the two"
   ]
  },
  {
   "cell_type": "markdown",
   "metadata": {
    "slideshow": {
     "slide_type": "slide"
    }
   },
   "source": [
    "### Predicting probabilities\n",
    "\n",
    "- Classifiers actually predict probabilities of being in each class.\n",
    "- Probabilities are by default converted to class predictions as: highest probability class is the prediction.\n",
    "- Can use other thresholds to convert probabilities to class predictions.\n",
    "- Example: cancer screening\n",
    "  - If we want to catch all cases of cancer, we might set a low threshold.\n",
    "  - If we want to be very sure that a positive test is correct, we might set a high threshold."
   ]
  },
  {
   "cell_type": "markdown",
   "metadata": {
    "slideshow": {
     "slide_type": "slide"
    }
   },
   "source": [
    "### Impurity\n",
    "\n",
    "- In tree models, prediction is most dominant class in each leaf node.\n",
    "  - Choose splits to minimize impurity (Gini or entropy) rather than MSE.\n",
    "  - Pure means all observations in a node are of the same class.\n",
    "- With $k$ classes, the Gini impurity of a group of observations is \n",
    "$$ 1 - \\sum_{i=1}^k p_i^2 $$\n",
    "  - where $p_i$ is the fraction of the observations that are in class $i$.\n",
    "  - Perfect purity (all in 1 class) -> Gini impurity = 0\n",
    "  - Equal fraction in all classes -> Gini impurity = $1 - 1/k$"
   ]
  },
  {
   "cell_type": "code",
   "execution_count": 61,
   "metadata": {
    "slideshow": {
     "slide_type": "slide"
    }
   },
   "outputs": [],
   "source": [
    "### Revised random data \n",
    "\n",
    "import numpy as np \n",
    "\n",
    "np.random.seed(0)  # just so we all get the same results\n",
    "\n",
    "# full hypothetical sample \n",
    "X = np.random.normal(size=(1500, 10))\n",
    "y = X[:, 0] * X[:, 1] + np.random.normal(size=1500)\n",
    "\n",
    "# classify into three categories\n",
    "y = np.select([y < -1, np.abs(y) <= 1, y > 1], [0, 1, 2])\n",
    "\n",
    "# randomly split into training and test samples\n",
    "from sklearn.model_selection import train_test_split\n",
    "X_train, X_test, y_train, y_test = train_test_split(\n",
    "    X, y, test_size=300\n",
    ")\n",
    "X_train0, X_val, y_train0, y_val = train_test_split(\n",
    "    X_train, y_train, test_size=200\n",
    ")"
   ]
  },
  {
   "cell_type": "markdown",
   "metadata": {
    "slideshow": {
     "slide_type": "slide"
    }
   },
   "source": [
    "### Decision tree classifier"
   ]
  },
  {
   "cell_type": "code",
   "execution_count": 63,
   "metadata": {
    "slideshow": {
     "slide_type": "slide"
    }
   },
   "outputs": [
    {
     "data": {
      "image/png": "[encoded data removed]",
      "text/plain": [
       "<Figure size 640x480 with 1 Axes>"
      ]
     },
     "metadata": {
      "slideshow": {
       "slide_type": "slide"
      }
     },
     "output_type": "display_data"
    }
   ],
   "source": [
    "from sklearn.tree import DecisionTreeClassifier\n",
    "\n",
    "model = DecisionTreeClassifier(max_depth=3)\n",
    "model.fit(X_train0, y_train0)\n",
    "\n",
    "plot_tree(model, filled=True)\n",
    "plt.show()"
   ]
  },
  {
   "cell_type": "markdown",
   "metadata": {
    "slideshow": {
     "slide_type": "slide"
    }
   },
   "source": [
    "### Random forest classifier"
   ]
  },
  {
   "cell_type": "code",
   "execution_count": 68,
   "metadata": {
    "slideshow": {
     "slide_type": "slide"
    }
   },
   "outputs": [
    {
     "name": "stdout",
     "output_type": "stream",
     "text": [
      "accuracy on test data is 0.65\n",
      "\n",
      "best hyperparameters are {'max_depth': 12}\n",
      "\n",
      "feature importances are [0.18171944 0.18801425 0.08586213 0.07887764 0.07766699 0.08180962\n",
      " 0.07414406 0.07910208 0.07594694 0.07685685]\n"
     ]
    }
   ],
   "source": [
    "from sklearn.ensemble import RandomForestClassifier\n",
    "\n",
    "depths = range(2, 22, 2)\n",
    "cv = GridSearchCV(\n",
    "    RandomForestClassifier(), \n",
    "    {'max_depth': depths}\n",
    ")\n",
    "\n",
    "# use all of our training data for cross-validation\n",
    "cv.fit(X_train, y_train)\n",
    "\n",
    "# test on test data \n",
    "print(f\"accuracy on test data is {cv.score(X_test, y_test)}\")\n",
    "\n",
    "# see best hyperparameters\n",
    "print(f\"\\nbest hyperparameters are {cv.best_params_}\")\n",
    "\n",
    "# feature importances\n",
    "print(f\"\\nfeature importances are {cv.best_estimator_.feature_importances_}\")"
   ]
  },
  {
   "cell_type": "markdown",
   "metadata": {
    "slideshow": {
     "slide_type": "slide"
    }
   },
   "source": [
    "### More on GridSearchCV\n",
    "\n",
    "- After running it, the model is automatically fit on all of the (training) data using the best parameters.\n",
    "- Then methods of models are available: .predict, .score, .feature_importances_, .best_params_, .predict_proba, etc."
   ]
  },
  {
   "cell_type": "code",
   "execution_count": 67,
   "metadata": {
    "slideshow": {
     "slide_type": "slide"
    }
   },
   "outputs": [
    {
     "data": {
      "text/plain": [
       "array([[0.07790101, 0.55113351, 0.37096548],\n",
       "       [0.11701416, 0.72602633, 0.15695951],\n",
       "       [0.09211101, 0.60027424, 0.30761475],\n",
       "       [0.10745533, 0.72300015, 0.16954452],\n",
       "       [0.4946764 , 0.37800272, 0.12732089],\n",
       "       [0.10787996, 0.35866973, 0.53345031],\n",
       "       [0.09959712, 0.7403236 , 0.16007928],\n",
       "       [0.13889701, 0.63991328, 0.22118971],\n",
       "       [0.56710062, 0.30939932, 0.12350005],\n",
       "       [0.22763288, 0.60042377, 0.17194334],\n",
       "       [0.23457421, 0.3851543 , 0.38027149],\n",
       "       [0.3571637 , 0.40938757, 0.23344873],\n",
       "       [0.22222727, 0.66394639, 0.11382635],\n",
       "       [0.40587591, 0.30953296, 0.28459113],\n",
       "       [0.28490284, 0.48297914, 0.23211802],\n",
       "       [0.09188424, 0.54222716, 0.3658886 ],\n",
       "       [0.16020151, 0.53712168, 0.30267681],\n",
       "       [0.15840234, 0.68151543, 0.16008223],\n",
       "       [0.16306398, 0.55027206, 0.28666397],\n",
       "       [0.09705503, 0.51904085, 0.38390412],\n",
       "       [0.14900409, 0.69853294, 0.15246297],\n",
       "       [0.30558042, 0.4533839 , 0.24103569],\n",
       "       [0.63085609, 0.27256561, 0.0965783 ],\n",
       "       [0.22003337, 0.5735263 , 0.20644033],\n",
       "       [0.17032434, 0.63079944, 0.19887622],\n",
       "       [0.7045108 , 0.21527529, 0.08021391],\n",
       "       [0.08400077, 0.71851101, 0.19748822],\n",
       "       [0.08224326, 0.74207429, 0.17568244],\n",
       "       [0.14437363, 0.66760843, 0.18801793],\n",
       "       [0.31026605, 0.61286769, 0.07686626],\n",
       "       [0.06209412, 0.19877128, 0.7391346 ],\n",
       "       [0.2208897 , 0.63721066, 0.14189964],\n",
       "       [0.68675211, 0.17874848, 0.13449941],\n",
       "       [0.09997907, 0.73074497, 0.16927596],\n",
       "       [0.33743435, 0.40884201, 0.25372364],\n",
       "       [0.25722705, 0.57973393, 0.16303902],\n",
       "       [0.11976544, 0.70251483, 0.17771973],\n",
       "       [0.10038999, 0.72013862, 0.17947139],\n",
       "       [0.13723029, 0.36325978, 0.49950994],\n",
       "       [0.20005187, 0.58270081, 0.21724732],\n",
       "       [0.14159404, 0.40914814, 0.44925782],\n",
       "       [0.12332845, 0.70410545, 0.17256609],\n",
       "       [0.10064121, 0.76750001, 0.13185878],\n",
       "       [0.54638693, 0.40904175, 0.04457132],\n",
       "       [0.13677378, 0.66154428, 0.20168194],\n",
       "       [0.09025609, 0.7340698 , 0.17567411],\n",
       "       [0.09954874, 0.7293829 , 0.17106836],\n",
       "       [0.37206056, 0.50941514, 0.1185243 ],\n",
       "       [0.21129871, 0.58134718, 0.20735412],\n",
       "       [0.24100553, 0.54193937, 0.2170551 ],\n",
       "       [0.08082154, 0.1500979 , 0.76908055],\n",
       "       [0.37261863, 0.52969319, 0.09768818],\n",
       "       [0.09710263, 0.72219439, 0.18070298],\n",
       "       [0.09035156, 0.65229875, 0.25734969],\n",
       "       [0.11889312, 0.72687302, 0.15423385],\n",
       "       [0.11830426, 0.73172023, 0.14997551],\n",
       "       [0.13518369, 0.54833583, 0.31648048],\n",
       "       [0.55348415, 0.27784531, 0.16867054],\n",
       "       [0.16875872, 0.7393907 , 0.09185057],\n",
       "       [0.15778669, 0.42701535, 0.41519797],\n",
       "       [0.17498518, 0.65474903, 0.17026579],\n",
       "       [0.11765368, 0.67944796, 0.20289835],\n",
       "       [0.3725864 , 0.46179924, 0.16561436],\n",
       "       [0.12732474, 0.62488654, 0.24778872],\n",
       "       [0.14141364, 0.70885772, 0.14972865],\n",
       "       [0.07789283, 0.73537923, 0.18672794],\n",
       "       [0.08889865, 0.74627824, 0.16482311],\n",
       "       [0.17707169, 0.62799935, 0.19492897],\n",
       "       [0.11712959, 0.71459153, 0.16827888],\n",
       "       [0.0942276 , 0.7745935 , 0.13117891],\n",
       "       [0.10479475, 0.60303326, 0.29217199],\n",
       "       [0.09576139, 0.28018732, 0.62405128],\n",
       "       [0.1310064 , 0.61687028, 0.25212332],\n",
       "       [0.12418907, 0.65938436, 0.21642657],\n",
       "       [0.10631463, 0.75647764, 0.13720773],\n",
       "       [0.08448024, 0.79443535, 0.12108441],\n",
       "       [0.198711  , 0.59429804, 0.20699097],\n",
       "       [0.09170998, 0.56770628, 0.34058374],\n",
       "       [0.2528185 , 0.51679216, 0.23038934],\n",
       "       [0.14470635, 0.59308899, 0.26220466],\n",
       "       [0.37529265, 0.45893827, 0.16576908],\n",
       "       [0.19236729, 0.1934115 , 0.61422121],\n",
       "       [0.09808254, 0.73684158, 0.16507588],\n",
       "       [0.13023353, 0.5544963 , 0.31527017],\n",
       "       [0.08874287, 0.75716165, 0.15409548],\n",
       "       [0.23451468, 0.57408587, 0.19139945],\n",
       "       [0.12024778, 0.74292568, 0.13682654],\n",
       "       [0.24485933, 0.61198321, 0.14315745],\n",
       "       [0.51368628, 0.38031233, 0.1060014 ],\n",
       "       [0.28355099, 0.45929965, 0.25714936],\n",
       "       [0.1292935 , 0.73632308, 0.13438342],\n",
       "       [0.56103937, 0.35220552, 0.0867551 ],\n",
       "       [0.173539  , 0.54427658, 0.28218442],\n",
       "       [0.10319095, 0.2575608 , 0.63924825],\n",
       "       [0.0826495 , 0.7043    , 0.2130505 ],\n",
       "       [0.19702261, 0.56250436, 0.24047303],\n",
       "       [0.2432253 , 0.61038178, 0.14639292],\n",
       "       [0.49203651, 0.40341064, 0.10455285],\n",
       "       [0.12138842, 0.63683078, 0.24178079],\n",
       "       [0.24940632, 0.5667395 , 0.18385418],\n",
       "       [0.12662072, 0.66071012, 0.21266917],\n",
       "       [0.18075536, 0.69080896, 0.12843568],\n",
       "       [0.13393777, 0.69757502, 0.16848721],\n",
       "       [0.24023106, 0.64037484, 0.11939409],\n",
       "       [0.14953952, 0.67950073, 0.17095974],\n",
       "       [0.16829844, 0.64878645, 0.1829151 ],\n",
       "       [0.05537624, 0.37611147, 0.56851229],\n",
       "       [0.52291381, 0.33428655, 0.14279965],\n",
       "       [0.15770496, 0.66379876, 0.17849627],\n",
       "       [0.09855216, 0.76456982, 0.13687802],\n",
       "       [0.13471013, 0.72441102, 0.14087885],\n",
       "       [0.11130465, 0.70676173, 0.18193362],\n",
       "       [0.04128282, 0.60570238, 0.3530148 ],\n",
       "       [0.19171245, 0.67246706, 0.13582049],\n",
       "       [0.10582554, 0.71767369, 0.17650077],\n",
       "       [0.06180428, 0.80916322, 0.1290325 ],\n",
       "       [0.07155224, 0.64661427, 0.28183349],\n",
       "       [0.2536141 , 0.6513164 , 0.09506951],\n",
       "       [0.11120839, 0.69520335, 0.19358826],\n",
       "       [0.15466558, 0.65260765, 0.19272677],\n",
       "       [0.10199308, 0.69043279, 0.20757413],\n",
       "       [0.66842721, 0.29275833, 0.03881447],\n",
       "       [0.09662708, 0.6962519 , 0.20712102],\n",
       "       [0.2102573 , 0.45810252, 0.33164018],\n",
       "       [0.16263852, 0.34175375, 0.49560774],\n",
       "       [0.36045142, 0.54764054, 0.09190804],\n",
       "       [0.19473555, 0.56313222, 0.24213223],\n",
       "       [0.12404471, 0.57021503, 0.30574026],\n",
       "       [0.0595168 , 0.52887198, 0.41161122],\n",
       "       [0.12202979, 0.63092593, 0.24704428],\n",
       "       [0.35569965, 0.52427772, 0.12002264],\n",
       "       [0.23590534, 0.48018529, 0.28390937],\n",
       "       [0.09031946, 0.73476556, 0.17491498],\n",
       "       [0.18661021, 0.66647656, 0.14691323],\n",
       "       [0.5225908 , 0.32540369, 0.15200551],\n",
       "       [0.10845305, 0.60536926, 0.28617769],\n",
       "       [0.39093778, 0.50206571, 0.1069965 ],\n",
       "       [0.22834096, 0.45966998, 0.31198906],\n",
       "       [0.1794094 , 0.33467261, 0.48591799],\n",
       "       [0.23077846, 0.64365128, 0.12557026],\n",
       "       [0.07781609, 0.48824479, 0.43393912],\n",
       "       [0.37047319, 0.40812583, 0.22140098],\n",
       "       [0.15091792, 0.6847243 , 0.16435778],\n",
       "       [0.12183504, 0.66305277, 0.21511219],\n",
       "       [0.24841492, 0.57601213, 0.17557296],\n",
       "       [0.13226157, 0.69939268, 0.16834575],\n",
       "       [0.1242219 , 0.55020373, 0.32557438],\n",
       "       [0.26206522, 0.51034456, 0.22759022],\n",
       "       [0.32929308, 0.57042743, 0.10027949],\n",
       "       [0.17745296, 0.63308214, 0.1894649 ],\n",
       "       [0.09563184, 0.74113178, 0.16323638],\n",
       "       [0.1321253 , 0.67315429, 0.19472041],\n",
       "       [0.14396837, 0.64279028, 0.21324135],\n",
       "       [0.12682137, 0.29071603, 0.5824626 ],\n",
       "       [0.20671416, 0.64567325, 0.14761259],\n",
       "       [0.24188645, 0.60846388, 0.14964967],\n",
       "       [0.08744638, 0.76603763, 0.146516  ],\n",
       "       [0.13154993, 0.71888082, 0.14956925],\n",
       "       [0.08207461, 0.78718956, 0.13073583],\n",
       "       [0.24862789, 0.53625234, 0.21511978],\n",
       "       [0.09096517, 0.69278513, 0.2162497 ],\n",
       "       [0.0495165 , 0.64194913, 0.30853437],\n",
       "       [0.44614979, 0.3961534 , 0.15769681],\n",
       "       [0.10211831, 0.38413359, 0.5137481 ],\n",
       "       [0.10628485, 0.72198839, 0.17172676],\n",
       "       [0.16703147, 0.64920062, 0.18376791],\n",
       "       [0.17364723, 0.54788124, 0.27847153],\n",
       "       [0.10466864, 0.35590119, 0.53943017],\n",
       "       [0.13935059, 0.70190382, 0.15874559],\n",
       "       [0.6364034 , 0.30236799, 0.06122861],\n",
       "       [0.09667308, 0.7121034 , 0.19122352],\n",
       "       [0.58993619, 0.35340119, 0.05666262],\n",
       "       [0.06618169, 0.73607398, 0.19774433],\n",
       "       [0.0941017 , 0.69940753, 0.20649077],\n",
       "       [0.0789672 , 0.77407739, 0.14695541],\n",
       "       [0.22799182, 0.56054771, 0.21146047],\n",
       "       [0.08319071, 0.67198051, 0.24482878],\n",
       "       [0.14957507, 0.72101677, 0.12940816],\n",
       "       [0.18741646, 0.58363421, 0.22894933],\n",
       "       [0.21507571, 0.63804146, 0.14688283],\n",
       "       [0.1672301 , 0.72606263, 0.10670727],\n",
       "       [0.12578291, 0.56582426, 0.30839283],\n",
       "       [0.39723682, 0.36703951, 0.23572367],\n",
       "       [0.18291111, 0.32264875, 0.49444014],\n",
       "       [0.12221831, 0.26887089, 0.60891079],\n",
       "       [0.25856424, 0.485056  , 0.25637976],\n",
       "       [0.11223532, 0.59641556, 0.29134912],\n",
       "       [0.1075856 , 0.76445472, 0.12795968],\n",
       "       [0.37364439, 0.52995731, 0.09639829],\n",
       "       [0.16930849, 0.75544319, 0.07524832],\n",
       "       [0.12759201, 0.67079545, 0.20161254],\n",
       "       [0.71923378, 0.22894754, 0.05181868],\n",
       "       [0.12524241, 0.71730351, 0.15745408],\n",
       "       [0.45836793, 0.44850778, 0.09312429],\n",
       "       [0.06828687, 0.81942593, 0.1122872 ],\n",
       "       [0.13436872, 0.57649123, 0.28914005],\n",
       "       [0.1156899 , 0.75041905, 0.13389105],\n",
       "       [0.17820646, 0.51246078, 0.30933276],\n",
       "       [0.13685225, 0.28696821, 0.57617954],\n",
       "       [0.11628419, 0.42985689, 0.45385893],\n",
       "       [0.18224753, 0.59540669, 0.22234579],\n",
       "       [0.12159631, 0.71675356, 0.16165014],\n",
       "       [0.11460873, 0.48816718, 0.39722408],\n",
       "       [0.10922555, 0.71712591, 0.17364854],\n",
       "       [0.11082358, 0.43747808, 0.45169835],\n",
       "       [0.09198799, 0.56642377, 0.34158824],\n",
       "       [0.10426638, 0.70689642, 0.1888372 ],\n",
       "       [0.1652384 , 0.60351514, 0.23124646],\n",
       "       [0.10529178, 0.68918611, 0.20552211],\n",
       "       [0.40800949, 0.48154578, 0.11044473],\n",
       "       [0.17259819, 0.68504726, 0.14235455],\n",
       "       [0.21966849, 0.28130635, 0.49902516],\n",
       "       [0.20020501, 0.62312174, 0.17667325],\n",
       "       [0.18671174, 0.5736734 , 0.23961486],\n",
       "       [0.14701421, 0.7155513 , 0.13743449],\n",
       "       [0.07474274, 0.77838947, 0.1468678 ],\n",
       "       [0.14047168, 0.71624245, 0.14328588],\n",
       "       [0.14828855, 0.67104248, 0.18066897],\n",
       "       [0.17712313, 0.59611232, 0.22676455],\n",
       "       [0.17950356, 0.4198654 , 0.40063104],\n",
       "       [0.18475805, 0.68686163, 0.12838032],\n",
       "       [0.09180373, 0.75948684, 0.14870943],\n",
       "       [0.11329452, 0.7164619 , 0.17024358],\n",
       "       [0.13495589, 0.56725095, 0.29779316],\n",
       "       [0.07630909, 0.7709838 , 0.15270711],\n",
       "       [0.49599128, 0.37807763, 0.12593108],\n",
       "       [0.09129813, 0.76991718, 0.13878469],\n",
       "       [0.12891982, 0.69256231, 0.17851787],\n",
       "       [0.14086919, 0.68718918, 0.17194164],\n",
       "       [0.10234626, 0.58865464, 0.3089991 ],\n",
       "       [0.11791406, 0.66684953, 0.21523642],\n",
       "       [0.39315856, 0.45223315, 0.15460829],\n",
       "       [0.1415616 , 0.66693032, 0.19150808],\n",
       "       [0.35444983, 0.48703582, 0.15851435],\n",
       "       [0.51015356, 0.35985933, 0.1299871 ],\n",
       "       [0.15943814, 0.53045614, 0.31010573],\n",
       "       [0.47321717, 0.43342618, 0.09335666],\n",
       "       [0.23007705, 0.58287824, 0.18704471],\n",
       "       [0.13153228, 0.66434717, 0.20412054],\n",
       "       [0.29623731, 0.56670197, 0.13706072],\n",
       "       [0.11125222, 0.71179817, 0.17694961],\n",
       "       [0.13694566, 0.63567881, 0.22737553],\n",
       "       [0.08764904, 0.69864346, 0.2137075 ],\n",
       "       [0.15035253, 0.29704296, 0.55260451],\n",
       "       [0.11571264, 0.70074573, 0.18354163],\n",
       "       [0.10167835, 0.67971086, 0.21861078],\n",
       "       [0.14713482, 0.64984721, 0.20301797],\n",
       "       [0.20271724, 0.63008991, 0.16719285],\n",
       "       [0.0855938 , 0.70665446, 0.20775175],\n",
       "       [0.08896494, 0.7751743 , 0.13586077],\n",
       "       [0.10455559, 0.72055446, 0.17488995],\n",
       "       [0.10129173, 0.69646207, 0.2022462 ],\n",
       "       [0.24740853, 0.55303535, 0.19955611],\n",
       "       [0.24005724, 0.6406353 , 0.11930747],\n",
       "       [0.16453918, 0.65420754, 0.18125327],\n",
       "       [0.18498962, 0.66300811, 0.15200227],\n",
       "       [0.13426331, 0.66588143, 0.19985526],\n",
       "       [0.09605082, 0.77711125, 0.12683793],\n",
       "       [0.18875702, 0.59741726, 0.21382572],\n",
       "       [0.11946527, 0.68123659, 0.19929814],\n",
       "       [0.14155796, 0.60402261, 0.25441943],\n",
       "       [0.1       , 0.31      , 0.59      ],\n",
       "       [0.1665717 , 0.53833691, 0.29509139],\n",
       "       [0.11349006, 0.7614768 , 0.12503314],\n",
       "       [0.15934578, 0.58597909, 0.25467514],\n",
       "       [0.12327832, 0.716634  , 0.16008768],\n",
       "       [0.3473444 , 0.51550696, 0.13714864],\n",
       "       [0.43184597, 0.39080363, 0.1773504 ],\n",
       "       [0.10390214, 0.40028348, 0.49581438],\n",
       "       [0.10480346, 0.68180839, 0.21338815],\n",
       "       [0.11257978, 0.74447862, 0.14294159],\n",
       "       [0.11659141, 0.73052368, 0.15288491],\n",
       "       [0.13998589, 0.63893494, 0.22107917],\n",
       "       [0.26262607, 0.55742957, 0.17994436],\n",
       "       [0.21495134, 0.4262932 , 0.35875546],\n",
       "       [0.55110156, 0.29901845, 0.14987999],\n",
       "       [0.08760016, 0.73416452, 0.17823532],\n",
       "       [0.16557102, 0.56074971, 0.27367926],\n",
       "       [0.13125385, 0.71279866, 0.1559475 ],\n",
       "       [0.10235587, 0.78593258, 0.11171155],\n",
       "       [0.13586111, 0.68241572, 0.18172318],\n",
       "       [0.04798974, 0.36577987, 0.58623039],\n",
       "       [0.14817843, 0.67638006, 0.17544151],\n",
       "       [0.2067302 , 0.58406915, 0.20920064],\n",
       "       [0.14056616, 0.63836419, 0.22106965],\n",
       "       [0.64699965, 0.22837597, 0.12462438],\n",
       "       [0.14163062, 0.68609222, 0.17227715],\n",
       "       [0.10052551, 0.75411517, 0.14535932],\n",
       "       [0.29646804, 0.40966736, 0.29386459],\n",
       "       [0.08747053, 0.74666927, 0.1658602 ],\n",
       "       [0.14227246, 0.5839608 , 0.27376673],\n",
       "       [0.13996914, 0.72328651, 0.13674435],\n",
       "       [0.15277136, 0.64797424, 0.19925439],\n",
       "       [0.07648661, 0.79515047, 0.12836292],\n",
       "       [0.31203172, 0.58070716, 0.10726112],\n",
       "       [0.13808552, 0.67696029, 0.18495418],\n",
       "       [0.1246957 , 0.57192596, 0.30337834],\n",
       "       [0.09386799, 0.70287584, 0.20325617],\n",
       "       [0.11397121, 0.61605548, 0.2699733 ],\n",
       "       [0.12400904, 0.76443539, 0.11155557]])"
      ]
     },
     "execution_count": 67,
     "metadata": {
      "slideshow": {
       "slide_type": "slide"
      }
     },
     "output_type": "execute_result"
    }
   ],
   "source": [
    "# probabilities from the best hyperparameters \n",
    "\n",
    "cv.predict_proba(X_test)"
   ]
  },
  {
   "cell_type": "markdown",
   "metadata": {
    "slideshow": {
     "slide_type": "slide"
    }
   },
   "source": [
    "### Confusion matrix and ROC curve\n",
    "\n",
    "- Confusion matrix is a table of actual vs. predicted classes.  Reveals where the errors are.\n",
    "- ROC curve is a plot of true positive rate vs. false positive rate for different thresholds of the predicted probabilities.\n",
    "  - Used for binary classification.  Can extend to multiclass by creating dummies.\n",
    "  - AUC is the Area Under the (ROC) Curve.  AUC = 1 is perfect, AUC = 0.5 is random.\n",
    "  - Useful for picking an optimal threshold, given a model."
   ]
  },
  {
   "cell_type": "code",
   "execution_count": 70,
   "metadata": {
    "slideshow": {
     "slide_type": "slide"
    }
   },
   "outputs": [
    {
     "data": {
      "image/png": "[encoded data removed]",
      "text/plain": [
       "<Figure size 640x480 with 2 Axes>"
      ]
     },
     "metadata": {
      "slideshow": {
       "slide_type": "slide"
      }
     },
     "output_type": "display_data"
    }
   ],
   "source": [
    "from sklearn.metrics import ConfusionMatrixDisplay\n",
    "\n",
    "ConfusionMatrixDisplay.from_estimator(\n",
    "    estimator=cv, \n",
    "    X=X_test, \n",
    "    y=y_test\n",
    ")\n",
    "plt.show()"
   ]
  },
  {
   "cell_type": "markdown",
   "metadata": {
    "slideshow": {
     "slide_type": "slide"
    }
   },
   "source": [
    "### Binary classification example \n",
    "\n",
    "- Target = dummy for y > 0"
   ]
  },
  {
   "cell_type": "code",
   "execution_count": 72,
   "metadata": {
    "slideshow": {
     "slide_type": "slide"
    }
   },
   "outputs": [],
   "source": [
    "### Second revision of data \n",
    "\n",
    "import numpy as np \n",
    "\n",
    "np.random.seed(0)  # just so we all get the same results\n",
    "\n",
    "# full hypothetical sample \n",
    "X = np.random.normal(size=(1500, 10))\n",
    "y = X[:, 0] * X[:, 1] + np.random.normal(size=1500)\n",
    "\n",
    "# classify into two categories\n",
    "y = 1 * (y > 0)\n",
    "\n",
    "# randomly split into training and test samples\n",
    "from sklearn.model_selection import train_test_split\n",
    "X_train, X_test, y_train, y_test = train_test_split(\n",
    "    X, y, test_size=300\n",
    ")\n",
    "X_train0, X_val, y_train0, y_val = train_test_split(\n",
    "    X_train, y_train, test_size=200\n",
    ")"
   ]
  },
  {
   "cell_type": "code",
   "execution_count": 73,
   "metadata": {
    "slideshow": {
     "slide_type": "slide"
    }
   },
   "outputs": [
    {
     "name": "stdout",
     "output_type": "stream",
     "text": [
      "accuracy on test data is 0.61\n",
      "\n",
      "best hyperparameters are {'max_depth': 10}\n",
      "\n",
      "feature importances are [0.15459823 0.14353626 0.0949279  0.08389458 0.08679904 0.09218103\n",
      " 0.08275622 0.09064638 0.08656148 0.08409889]\n"
     ]
    }
   ],
   "source": [
    "# exact same code as for multi-class classification\n",
    "\n",
    "depths = range(2, 22, 2)\n",
    "cv = GridSearchCV(\n",
    "    RandomForestClassifier(), \n",
    "    {'max_depth': depths}\n",
    ")\n",
    "\n",
    "# use all of our training data for cross-validation\n",
    "cv.fit(X_train, y_train)\n",
    "\n",
    "# test on test data \n",
    "print(f\"accuracy on test data is {cv.score(X_test, y_test)}\")\n",
    "\n",
    "# see best hyperparameters\n",
    "print(f\"\\nbest hyperparameters are {cv.best_params_}\")\n",
    "\n",
    "# feature importances\n",
    "print(f\"\\nfeature importances are {cv.best_estimator_.feature_importances_}\")"
   ]
  },
  {
   "cell_type": "code",
   "execution_count": 74,
   "metadata": {
    "slideshow": {
     "slide_type": "slide"
    }
   },
   "outputs": [
    {
     "data": {
      "image/png": "[encoded data removed]",
      "text/plain": [
       "<Figure size 640x480 with 1 Axes>"
      ]
     },
     "metadata": {
      "slideshow": {
       "slide_type": "slide"
      }
     },
     "output_type": "display_data"
    }
   ],
   "source": [
    "from sklearn.metrics import RocCurveDisplay\n",
    "\n",
    "RocCurveDisplay.from_estimator(\n",
    "    estimator=cv, \n",
    "    X=X_test, \n",
    "    y=y_test, \n",
    ")\n",
    "plt.show()"
   ]
  },
  {
   "cell_type": "markdown",
   "metadata": {
    "slideshow": {
     "slide_type": "slide"
    }
   },
   "source": [
    "### Ask Julius \n",
    "\n",
    "- Get the California house price data, run random forest regressor on it, and show the feature importances.\n",
    "- Get the digits data, show the images, run a classifier on it, and show the confusion matrix.\n",
    "- Get the breast cancer data, run a classifier on it, and show the confusion matrix and ROC curve."
   ]
  }
 ],
 "metadata": {
  "kernelspec": {
   "display_name": "Python 3",
   "language": "python",
   "name": "python3"
  },
  "language_info": {
   "codemirror_mode": {
    "name": "ipython",
    "version": 3
   },
   "file_extension": ".py",
   "mimetype": "text/x-python",
   "name": "python",
   "nbconvert_exporter": "python",
   "pygments_lexer": "ipython3",
   "version": "3.12.5"
  }
 },
 "nbformat": 4,
 "nbformat_minor": 2
}
