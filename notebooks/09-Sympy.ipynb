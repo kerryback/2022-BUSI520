{
  "cells": [
    {
      "cell_type": "markdown",
      "id": "bcb39dfc",
      "metadata": {
        "slideshow": {
          "slide_type": "slide"
        }
      },
      "source": [
        "# SymPy\n",
        "\n",
        "### BUSI 520 - Python for Business Research\n",
        "### Kerry Back, JGSB, Rice University"
      ]
    },
    {
      "cell_type": "markdown",
      "id": "14719f4c",
      "metadata": {
        "slideshow": {
          "slide_type": "slide"
        }
      },
      "source": [
        "### SymPy: A Python Library for Symbolic Mathematics\n",
        "\n",
        "SymPy is a Python library for symbolic mathematics. It aims to become a full-featured computer algebra system (CAS) while keeping the code as simple as possible in order to be comprehensible and easily extensible. SymPy is written entirely in Python and does not require any external libraries. "
      ]
    },
    {
      "cell_type": "markdown",
      "id": "0bfd8e0c",
      "metadata": {
        "slideshow": {
          "slide_type": "slide"
        }
      },
      "source": [
        "## How SymPy Works\n",
        "\n",
        "1. **Symbolic Variables**: In SymPy, you work with symbolic variables, which represent mathematical variables in your expressions. These are different from regular Python variables.\n",
        "\n",
        "2. **Expressions**: You can build mathematical expressions using symbolic variables and SymPy functions.\n",
        "\n",
        "3. **Equations**: SymPy can represent equations symbolically, allowing you to solve them analytically or numerically.\n",
        "\n",
        "4. **Manipulation and Simplification**: SymPy can simplify expressions, expand them, factor them, and perform other algebraic manipulations.\n"
      ]
    },
    {
      "cell_type": "markdown",
      "id": "125967f5-f320-4092-8568-e0e38c0d4f02",
      "metadata": {
        "noteable": {
          "cell_type": "markdown"
        },
        "slideshow": {
          "slide_type": "slide"
        }
      },
      "source": [
        "5. **Calculus**: SymPy supports symbolic calculus, including differentiation, integration, and limit calculations.\n",
        "\n",
        "6. **Solvers**: SymPy contains functions to solve equations algebraically.\n",
        "\n",
        "7. **Matrix Operations**: SymPy can perform various matrix operations including inverse, determinant, etc.\n",
        "\n",
        "8. **Plotting**: SymPy can plot expressions and functions."
      ]
    },
    {
      "cell_type": "code",
      "execution_count": 86,
      "id": "32d69f36-faba-4ce3-a82c-c8a6e0ae3ec4",
      "metadata": {
        "ExecuteTime": {
          "end_time": "2023-09-12T00:16:36.852648+00:00",
          "start_time": "2023-09-12T00:16:36.264701+00:00"
        },
        "noteable": {
          "cell_type": "code",
          "output_collection_id": "3f8e18eb-f1d0-4dc3-84af-1f93a48642fd"
        },
        "slideshow": {
          "slide_type": "slide"
        }
      },
      "outputs": [
        {
          "data": {
            "text/latex": [
              "$\\displaystyle x + 2 y$"
            ],
            "text/plain": [
              "x + 2*y"
            ]
          },
          "execution_count": 86,
          "metadata": {},
          "output_type": "execute_result"
        }
      ],
      "source": [
        "# Example 1: Defining and Manipulating Symbolic Variables\n",
        "from sympy import symbols\n",
        "\n",
        "x, y = symbols('x y')\n",
        "expr = x + 2*y\n",
        "expr"
      ]
    },
    {
      "cell_type": "code",
      "execution_count": 87,
      "id": "82101517",
      "metadata": {
        "slideshow": {
          "slide_type": "slide"
        }
      },
      "outputs": [
        {
          "data": {
            "text/latex": [
              "$\\displaystyle x + 2$"
            ],
            "text/plain": [
              "x + 2"
            ]
          },
          "execution_count": 87,
          "metadata": {},
          "output_type": "execute_result"
        }
      ],
      "source": [
        "expr.subs(y, 1)"
      ]
    },
    {
      "cell_type": "code",
      "execution_count": 88,
      "id": "e77a5496-e552-48d5-b1e5-c02643ce3fcb",
      "metadata": {
        "ExecuteTime": {
          "end_time": "2023-09-12T00:16:44.463628+00:00",
          "start_time": "2023-09-12T00:16:44.303380+00:00"
        },
        "noteable": {
          "cell_type": "code",
          "output_collection_id": "08c91b90-61d2-468f-a446-80f46c77d9b8"
        },
        "slideshow": {
          "slide_type": "slide"
        }
      },
      "outputs": [
        {
          "name": "stdout",
          "output_type": "stream",
          "text": [
            "[-1, 1]\n",
            "[(-y, y)]\n"
          ]
        }
      ],
      "source": [
        "# Example 2: Solving Equations\n",
        "from sympy import Eq, solve\n",
        "\n",
        "sol1 = solve(x**2 - 1, x)\n",
        "print(sol1)\n",
        "\n",
        "sol2 = solve([x**2-y**2, x+y], (x, y))\n",
        "print(sol2)"
      ]
    },
    {
      "cell_type": "code",
      "execution_count": 89,
      "id": "e799227d-c21c-4098-8dce-66fb73dab3ad",
      "metadata": {
        "ExecuteTime": {
          "end_time": "2023-09-12T00:16:52.716183+00:00",
          "start_time": "2023-09-12T00:16:52.551940+00:00"
        },
        "noteable": {
          "cell_type": "code",
          "output_collection_id": "0f347b41-d42e-47dc-be27-febf95bfae3b"
        },
        "slideshow": {
          "slide_type": "slide"
        }
      },
      "outputs": [
        {
          "data": {
            "text/latex": [
              "$\\displaystyle 2 x + y$"
            ],
            "text/plain": [
              "2*x + y"
            ]
          },
          "execution_count": 89,
          "metadata": {},
          "output_type": "execute_result"
        }
      ],
      "source": [
        "# Example 3: Differentiation\n",
        "from sympy import diff\n",
        "\n",
        "expr = x**2 + x*y\n",
        "diff_expr = diff(expr, x)\n",
        "diff_expr"
      ]
    },
    {
      "cell_type": "code",
      "execution_count": 90,
      "id": "4744ebe2-2a11-48d0-b0bb-4f435f3e444a",
      "metadata": {
        "ExecuteTime": {
          "end_time": "2023-09-12T00:16:58.418774+00:00",
          "start_time": "2023-09-12T00:16:58.257176+00:00"
        },
        "noteable": {
          "cell_type": "code",
          "output_collection_id": "02dfbd38-2cea-4602-99e0-14c97da4a5ff"
        },
        "slideshow": {
          "slide_type": "slide"
        }
      },
      "outputs": [
        {
          "data": {
            "text/latex": [
              "$\\displaystyle \\frac{x^{3}}{3}$"
            ],
            "text/plain": [
              "x**3/3"
            ]
          },
          "execution_count": 90,
          "metadata": {},
          "output_type": "execute_result"
        }
      ],
      "source": [
        "# Example 4: Integration\n",
        "from sympy import integrate\n",
        "\n",
        "expr = x**2\n",
        "integral_expr = integrate(expr, x)\n",
        "integral_expr"
      ]
    },
    {
      "cell_type": "code",
      "execution_count": 91,
      "id": "0eb38c80-7329-426b-9a9b-a8e81b0a6c50",
      "metadata": {
        "ExecuteTime": {
          "end_time": "2023-09-12T00:17:06.108570+00:00",
          "start_time": "2023-09-12T00:17:05.951354+00:00"
        },
        "noteable": {
          "cell_type": "code",
          "output_collection_id": "a95e9d0f-2b25-4e3a-82aa-0c4b83766a68"
        },
        "slideshow": {
          "slide_type": "slide"
        }
      },
      "outputs": [
        {
          "data": {
            "text/latex": [
              "$\\displaystyle \\left[\\begin{matrix}-2 & 1\\\\\\frac{3}{2} & - \\frac{1}{2}\\end{matrix}\\right]$"
            ],
            "text/plain": [
              "Matrix([\n",
              "[ -2,    1],\n",
              "[3/2, -1/2]])"
            ]
          },
          "execution_count": 91,
          "metadata": {},
          "output_type": "execute_result"
        }
      ],
      "source": [
        "# Example 5: Matrix Operations\n",
        "from sympy import Matrix\n",
        "\n",
        "matrix = Matrix([[1, 2], [3, 4]])\n",
        "matrix_inv = matrix.inv()\n",
        "matrix_inv"
      ]
    },
    {
      "cell_type": "code",
      "execution_count": 92,
      "id": "8813f2b4-fa62-4f0b-b058-5f023bf342c4",
      "metadata": {
        "ExecuteTime": {
          "end_time": "2023-09-12T00:19:10.885992+00:00",
          "start_time": "2023-09-12T00:19:10.534125+00:00"
        },
        "noteable": {
          "cell_type": "code",
          "output_collection_id": "3a1e8bdc-8b3b-46cd-9e2f-96549b6f95d2"
        },
        "slideshow": {
          "slide_type": "slide"
        }
      },
      "outputs": [
        {
          "data": {
            "text/latex": [
              "$\\displaystyle y{\\left(x \\right)} = \\left(C_{1} + C_{2} x\\right) e^{x} + \\frac{\\cos{\\left(x \\right)}}{2}$"
            ],
            "text/plain": [
              "Eq(y(x), (C1 + C2*x)*exp(x) + cos(x)/2)"
            ]
          },
          "execution_count": 92,
          "metadata": {},
          "output_type": "execute_result"
        }
      ],
      "source": [
        "# Example 6: Solving a Differential Equation\n",
        "from sympy import Function, dsolve, Derivative, sin\n",
        "\n",
        "y = Function('y')\n",
        "diff_eq = Derivative(y(x), x, x) - 2*Derivative(y(x), x) + y(x) - sin(x)\n",
        "solution = dsolve(diff_eq, y(x))\n",
        "solution"
      ]
    },
    {
      "cell_type": "markdown",
      "id": "a2776b05",
      "metadata": {
        "slideshow": {
          "slide_type": "slide"
        }
      },
      "source": [
        "### Exercise\n",
        "\n",
        "Execute the following:\n",
        "\n",
        "    from sympy import diff, cos, exp\n",
        "    C1, C2 = symbols('C1 C2')\n",
        "    y = (C1 + C2*x) * exp(x) + cos(x)/2\n",
        "    print(y.subs(x, 0))\n",
        "    print(diff(y, x).subs(x, 0))\n",
        "   \n",
        "Find $C_1$ and $C_2$ so that $y(0) = y'(0) = 0$."
      ]
    },
    {
      "cell_type": "code",
      "execution_count": 93,
      "id": "19cda280",
      "metadata": {
        "slideshow": {
          "slide_type": "slide"
        }
      },
      "outputs": [
        {
          "name": "stdout",
          "output_type": "stream",
          "text": [
            "C1 + 1/2\n",
            "C1 + C2\n"
          ]
        }
      ],
      "source": [
        "from sympy import diff, cos, exp\n",
        "\n",
        "C1, C2 = symbols('C1 C2')\n",
        "y = (C1 + C2*x) * exp(x) + cos(x)/2\n",
        "print(y.subs(x, 0))\n",
        "print(diff(y, x).subs(x, 0))"
      ]
    },
    {
      "cell_type": "code",
      "execution_count": 94,
      "id": "f9266b6d",
      "metadata": {
        "slideshow": {
          "slide_type": "slide"
        }
      },
      "outputs": [
        {
          "data": {
            "text/plain": [
              "0.2701511529340699"
            ]
          },
          "execution_count": 94,
          "metadata": {},
          "output_type": "execute_result"
        }
      ],
      "source": [
        "# Example 7: lambdify\n",
        "\n",
        "from sympy import lambdify, cos, exp\n",
        "\n",
        "y = (-1/2 + (1/2)*x) * exp(x) + cos(x)/2\n",
        "func = lambdify(x, y)\n",
        "func(1)"
      ]
    },
    {
      "cell_type": "code",
      "execution_count": 95,
      "id": "4b415bfb",
      "metadata": {
        "slideshow": {
          "slide_type": "slide"
        }
      },
      "outputs": [
        {
          "data": {
            "image/png": "[encoded data removed]",
            "text/plain": [
              "<Figure size 640x480 with 1 Axes>"
            ]
          },
          "metadata": {},
          "output_type": "display_data"
        }
      ],
      "source": [
        "import numpy as np\n",
        "import matplotlib.pyplot as plt \n",
        "import seaborn as sns\n",
        "sns.set_style(\"whitegrid\")\n",
        "\n",
        "grid = np.linspace(0, 10, 100)\n",
        "plt.plot(grid, [func(x) for x in grid])\n",
        "plt.show()"
      ]
    }
  ],
  "metadata": {
    "kernel_info": {
      "name": "python3"
    },
    "kernelspec": {
      "display_name": "Python 3.9",
      "language": "python",
      "name": "python3"
    },
    "language_info": {
      "codemirror_mode": {
        "name": "ipython",
        "version": 3
      },
      "file_extension": ".py",
      "mimetype": "text/x-python",
      "name": "python",
      "nbconvert_exporter": "python",
      "pygments_lexer": "ipython3",
      "version": "3.10.8"
    },
    "noteable-chatgpt": {
      "create_notebook": {
        "openai_conversation_id": "02ea39b0-ab0d-50de-9846-622629a2fd25",
        "openai_ephemeral_user_id": "aab484e3-e9b5-549c-8933-256d8c343284",
        "openai_subdivision1_iso_code": "US-TX"
      }
    },
    "selected_hardware_size": "small"
  },
  "nbformat": 4,
  "nbformat_minor": 5
}
