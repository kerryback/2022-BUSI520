{
 "cells": [
  {
   "cell_type": "markdown",
   "metadata": {
    "slideshow": {
     "slide_type": "slide"
    }
   },
   "source": [
    "# Day 8\n",
    "\n",
    "### BUSI 520: Python for Business Research\n",
    "### Kerry Back, JGSB, Rice University"
   ]
  },
  {
   "cell_type": "markdown",
   "metadata": {
    "slideshow": {
     "slide_type": "slide"
    }
   },
   "source": [
    "### Example 1: scraping a table from a web page\n",
    "\n",
    "- Go to [https://en.wikipedia.org/wiki/List_of_S%26P_500_companies](https://en.wikipedia.org/wiki/List_of_S%26P_500_companies) to see a table of S&P 500 companies.\n",
    "- Right-click on the table and select \"View Page Source\" to see the HTML code for the table.\n",
    "- The table is in a `<table>` tag.  Use CTRL-F and search for \"<table\" to find it.\n",
    "  - th = table header, tr = table row, td = table data.\n",
    "- To find the table on the page in code, we can use BeautifulSoup.  Then, we pass the table to pd.read_html().\n",
    "- We don't need to do the manual inspection we just did.  Just run the code."
   ]
  },
  {
   "cell_type": "code",
   "execution_count": 2,
   "metadata": {
    "slideshow": {
     "slide_type": "slide"
    }
   },
   "outputs": [
    {
     "name": "stderr",
     "output_type": "stream",
     "text": [
      "C:\\Users\\kerry\\AppData\\Local\\Temp\\ipykernel_18828\\2851306430.py:20: FutureWarning: Passing literal html to 'read_html' is deprecated and will be removed in a future version. To read from a literal string, wrap it in a 'StringIO' object.\n",
      "  df = pd.read_html(str(table))[0]\n"
     ]
    },
    {
     "data": {
      "text/html": [
       "<div>\n",
       "<style scoped>\n",
       "    .dataframe tbody tr th:only-of-type {\n",
       "        vertical-align: middle;\n",
       "    }\n",
       "\n",
       "    .dataframe tbody tr th {\n",
       "        vertical-align: top;\n",
       "    }\n",
       "\n",
       "    .dataframe thead th {\n",
       "        text-align: right;\n",
       "    }\n",
       "</style>\n",
       "<table border=\"1\" class=\"dataframe\">\n",
       "  <thead>\n",
       "    <tr style=\"text-align: right;\">\n",
       "      <th></th>\n",
       "      <th>Symbol</th>\n",
       "      <th>Security</th>\n",
       "      <th>GICS Sector</th>\n",
       "      <th>GICS Sub-Industry</th>\n",
       "      <th>Headquarters Location</th>\n",
       "      <th>Date added</th>\n",
       "      <th>CIK</th>\n",
       "      <th>Founded</th>\n",
       "    </tr>\n",
       "  </thead>\n",
       "  <tbody>\n",
       "    <tr>\n",
       "      <th>0</th>\n",
       "      <td>MMM</td>\n",
       "      <td>3M</td>\n",
       "      <td>Industrials</td>\n",
       "      <td>Industrial Conglomerates</td>\n",
       "      <td>Saint Paul, Minnesota</td>\n",
       "      <td>1957-03-04</td>\n",
       "      <td>66740</td>\n",
       "      <td>1902</td>\n",
       "    </tr>\n",
       "    <tr>\n",
       "      <th>1</th>\n",
       "      <td>AOS</td>\n",
       "      <td>A. O. Smith</td>\n",
       "      <td>Industrials</td>\n",
       "      <td>Building Products</td>\n",
       "      <td>Milwaukee, Wisconsin</td>\n",
       "      <td>2017-07-26</td>\n",
       "      <td>91142</td>\n",
       "      <td>1916</td>\n",
       "    </tr>\n",
       "    <tr>\n",
       "      <th>2</th>\n",
       "      <td>ABT</td>\n",
       "      <td>Abbott Laboratories</td>\n",
       "      <td>Health Care</td>\n",
       "      <td>Health Care Equipment</td>\n",
       "      <td>North Chicago, Illinois</td>\n",
       "      <td>1957-03-04</td>\n",
       "      <td>1800</td>\n",
       "      <td>1888</td>\n",
       "    </tr>\n",
       "    <tr>\n",
       "      <th>3</th>\n",
       "      <td>ABBV</td>\n",
       "      <td>AbbVie</td>\n",
       "      <td>Health Care</td>\n",
       "      <td>Biotechnology</td>\n",
       "      <td>North Chicago, Illinois</td>\n",
       "      <td>2012-12-31</td>\n",
       "      <td>1551152</td>\n",
       "      <td>2013 (1888)</td>\n",
       "    </tr>\n",
       "    <tr>\n",
       "      <th>4</th>\n",
       "      <td>ACN</td>\n",
       "      <td>Accenture</td>\n",
       "      <td>Information Technology</td>\n",
       "      <td>IT Consulting &amp; Other Services</td>\n",
       "      <td>Dublin, Ireland</td>\n",
       "      <td>2011-07-06</td>\n",
       "      <td>1467373</td>\n",
       "      <td>1989</td>\n",
       "    </tr>\n",
       "  </tbody>\n",
       "</table>\n",
       "</div>"
      ],
      "text/plain": [
       "  Symbol             Security             GICS Sector  \\\n",
       "0    MMM                   3M             Industrials   \n",
       "1    AOS          A. O. Smith             Industrials   \n",
       "2    ABT  Abbott Laboratories             Health Care   \n",
       "3   ABBV               AbbVie             Health Care   \n",
       "4    ACN            Accenture  Information Technology   \n",
       "\n",
       "                GICS Sub-Industry    Headquarters Location  Date added  \\\n",
       "0        Industrial Conglomerates    Saint Paul, Minnesota  1957-03-04   \n",
       "1               Building Products     Milwaukee, Wisconsin  2017-07-26   \n",
       "2           Health Care Equipment  North Chicago, Illinois  1957-03-04   \n",
       "3                   Biotechnology  North Chicago, Illinois  2012-12-31   \n",
       "4  IT Consulting & Other Services          Dublin, Ireland  2011-07-06   \n",
       "\n",
       "       CIK      Founded  \n",
       "0    66740         1902  \n",
       "1    91142         1916  \n",
       "2     1800         1888  \n",
       "3  1551152  2013 (1888)  \n",
       "4  1467373         1989  "
      ]
     },
     "execution_count": 2,
     "metadata": {
      "slideshow": {
       "slide_type": "slide"
      }
     },
     "output_type": "execute_result"
    }
   ],
   "source": [
    "import pandas as pd \n",
    "import requests\n",
    "from bs4 import BeautifulSoup\n",
    "\n",
    "# URL of the Wikipedia page containing the list of S&P 500 constituents\n",
    "url = 'https://en.wikipedia.org/wiki/List_of_S%26P_500_companies'\n",
    "\n",
    "# Fetch the page\n",
    "response = requests.get(url)\n",
    "response.raise_for_status()  # Ensure the request was successful\n",
    "\n",
    "# Parse the HTML\n",
    "soup = BeautifulSoup(response.content, 'html.parser')\n",
    "\n",
    "# Find the table containing the S&P 500 constituents\n",
    "table = soup.find('table', {'id': 'constituents'})\n",
    "\n",
    "# Extract the data into a DataFrame\n",
    "# pd.read_html(str(table)) returns a list with a single element\n",
    "df = pd.read_html(str(table))[0]\n",
    "\n",
    "df.head()"
   ]
  },
  {
   "cell_type": "markdown",
   "metadata": {
    "slideshow": {
     "slide_type": "slide"
    }
   },
   "source": [
    "Explore this code to see how it works.  Put each of these lines individually in a code cell and execute.\n",
    "\n",
    "```python \n",
    "response.content\n",
    "table \n",
    "type(table)\n",
    "str(table)\n",
    "pd.read_html(str(table))\n",
    "```"
   ]
  },
  {
   "cell_type": "markdown",
   "metadata": {
    "slideshow": {
     "slide_type": "slide"
    }
   },
   "source": [
    "### Example 2: getting csv files from a website\n",
    "\n",
    "- FINRA reports short interest (cumulative short sales that have not been covered) on a semi-monthly basis for all stocks, based on shorts that were not executed on an exchange.  This is almost all retail trades. \n",
    "- You could google FINRA short interest files and click around if necessary to find the data links.  You should end up [here](https://www.finra.org/finra-data/browse-catalog/equity-short-interest/files).\n",
    "- We want to get all of the files, not just the two shown.\n",
    "- If you really want FINRA data, you should get an API key at [https://developer.finra.org/](https://developer.finra.org/)."
   ]
  },
  {
   "cell_type": "markdown",
   "metadata": {
    "slideshow": {
     "slide_type": "slide"
    }
   },
   "source": [
    "### Step 1: Find the URLs\n",
    "\n",
    "- Method A: right-click on Aug 30 and select \"Copy link address\".  \n",
    "- Method B: right-click on the page, choose \"View Page Source,\" use CTRL-F and search for \".csv\" or \"Aug 30\"\n",
    "- Method C: use BeautifulSoup to find the links.  \n",
    "- We only get two links from this page, but we can guess that all have the same structure."
   ]
  },
  {
   "cell_type": "markdown",
   "metadata": {
    "slideshow": {
     "slide_type": "slide"
    }
   },
   "source": [
    "### Step 2: Read a single file\n",
    "\n",
    "- Download a file and look at it\n",
    "- Try reading Aug 30 with pd.read_csv\n",
    "  - use pd.read_csv(\"url\", sep=\"|\") because the files are pipe-delimited.\n",
    "- You'll get a \"Forbidden File\" error.  As a workaround, use the requests library to download the file to your computer and then read it with pd.read_csv.\n",
    "- Ask Julius how to do it.  The next cell is Julius's response."
   ]
  },
  {
   "cell_type": "code",
   "execution_count": 3,
   "metadata": {
    "slideshow": {
     "slide_type": "slide"
    }
   },
   "outputs": [
    {
     "name": "stdout",
     "output_type": "stream",
     "text": [
      "   accountingYearMonthNumber symbolCode                       issueName  \\\n",
      "0                   20240830          A       Agilent Technologies Inc.   \n",
      "1                   20240830         AA               Alcoa Corporation   \n",
      "2                   20240830        AAA  Alternative Access First Prior   \n",
      "3                   20240830      AAALY  Aareal Bank AG Unsponsored Ame   \n",
      "4                   20240830       AAAU  Goldman Sachs Physical Gold ET   \n",
      "\n",
      "  issuerServicesGroupExchangeCode marketClassCode  \\\n",
      "0                               A            NYSE   \n",
      "1                               A            NYSE   \n",
      "2                               E            ARCA   \n",
      "3                               S             OTC   \n",
      "4                               H             BZX   \n",
      "\n",
      "   currentShortPositionQuantity  previousShortPositionQuantity stockSplitFlag  \\\n",
      "0                       3160001                        2855618            NaN   \n",
      "1                      11370782                       13010958            NaN   \n",
      "2                         25705                          25920            NaN   \n",
      "3                             2                              2            NaN   \n",
      "4                        741002                         749049            NaN   \n",
      "\n",
      "   averageDailyVolumeQuantity  daysToCoverQuantity revisionFlag  \\\n",
      "0                     1550973                 2.04          NaN   \n",
      "1                     4758982                 2.39          NaN   \n",
      "2                        6139                 4.19          NaN   \n",
      "3                           0               999.99          NaN   \n",
      "4                     1908691                 1.00          NaN   \n",
      "\n",
      "   changePercent  changePreviousNumber settlementDate  \n",
      "0          10.66                304383     2024-08-30  \n",
      "1         -12.61              -1640176     2024-08-30  \n",
      "2          -0.83                  -215     2024-08-30  \n",
      "3           0.00                     0     2024-08-30  \n",
      "4          -1.07                 -8047     2024-08-30  \n",
      "DataFrame Info:\n",
      "<class 'pandas.core.frame.DataFrame'>\n",
      "RangeIndex: 19514 entries, 0 to 19513\n",
      "Data columns (total 14 columns):\n",
      " #   Column                           Non-Null Count  Dtype  \n",
      "---  ------                           --------------  -----  \n",
      " 0   accountingYearMonthNumber        19514 non-null  int64  \n",
      " 1   symbolCode                       19513 non-null  object \n",
      " 2   issueName                        19514 non-null  object \n",
      " 3   issuerServicesGroupExchangeCode  19514 non-null  object \n",
      " 4   marketClassCode                  19514 non-null  object \n",
      " 5   currentShortPositionQuantity     19514 non-null  int64  \n",
      " 6   previousShortPositionQuantity    19514 non-null  int64  \n",
      " 7   stockSplitFlag                   42 non-null     object \n",
      " 8   averageDailyVolumeQuantity       19514 non-null  int64  \n",
      " 9   daysToCoverQuantity              19514 non-null  float64\n",
      " 10  revisionFlag                     1 non-null      object \n",
      " 11  changePercent                    19514 non-null  float64\n",
      " 12  changePreviousNumber             19514 non-null  int64  \n",
      " 13  settlementDate                   19514 non-null  object \n",
      "dtypes: float64(2), int64(5), object(7)\n",
      "memory usage: 2.1+ MB\n"
     ]
    }
   ],
   "source": [
    "import pandas as pd\n",
    "import requests\n",
    "import io\n",
    "\n",
    "# URL of the CSV file\n",
    "data_url = 'https://cdn.finra.org/equity/otcmarket/biweekly/shrt20240830.csv'\n",
    "\n",
    "# Send a GET request to the URL\n",
    "response = requests.get(data_url)\n",
    "\n",
    "# Check if the request was successful\n",
    "if response.status_code == 200:\n",
    "    # Read the content of the response into a pandas DataFrame\n",
    "    df = pd.read_csv(io.StringIO(response.text), sep='|')\n",
    "    \n",
    "    # Display the first few rows of the DataFrame\n",
    "    print(df.head())\n",
    "    \n",
    "    # Display information about the DataFrame\n",
    "    print(\"\\\n",
    "DataFrame Info:\")\n",
    "    df.info()\n",
    "else:\n",
    "    print(f\"Failed to retrieve the data. Status code: {response.status_code}\")\n",
    "    print(f\"Response content: {response.text[:500]}...\")  # Print first 500 characters of the response"
   ]
  },
  {
   "cell_type": "markdown",
   "metadata": {
    "slideshow": {
     "slide_type": "slide"
    }
   },
   "source": [
    "### Step 3: Download all files \n",
    "\n",
    "- We can run a loop over URLs and use pd.read_csv.\n",
    "- Method A: Try all possible dates.\n",
    "- Method B: Find the dates by scraping the page.  \n",
    "- With either method, we can paste the files together as we download them (or we could save them individually to disk and read them all later)."
   ]
  },
  {
   "cell_type": "code",
   "execution_count": 7,
   "metadata": {
    "slideshow": {
     "slide_type": "slide"
    }
   },
   "outputs": [
    {
     "name": "stdout",
     "output_type": "stream",
     "text": [
      "20240614\n",
      "20240628\n",
      "20240715\n",
      "20240731\n",
      "20240815\n",
      "20240830\n"
     ]
    }
   ],
   "source": [
    "# Method A: small example \n",
    "\n",
    "start = \"2024-06-01\" \n",
    "end = \"2024-09-23\" \n",
    "dates = pd.date_range(start, end)\n",
    "dates = dates.strftime(\"%Y%m%d\")\n",
    "urls = [f\"https://cdn.finra.org/equity/otcmarket/biweekly/shrt{date}.csv\" for date in dates]\n",
    "\n",
    "df = None \n",
    "good_dates = []\n",
    "for date in dates:\n",
    "    url = f\"https://cdn.finra.org/equity/otcmarket/biweekly/shrt{date}.csv\"\n",
    "    response = requests.get(url)\n",
    "    if response.status_code == 200:\n",
    "        new_df = pd.read_csv(io.StringIO(response.text), sep='|', skiprows=1, header=None)\n",
    "        df = pd.concat((df, new_df))\n",
    "        good_dates.append(date)\n",
    "        print(date)\n",
    "\n",
    "date = good_dates[-1]\n",
    "url = f\"https://cdn.finra.org/equity/otcmarket/biweekly/shrt{date}.csv\"\n",
    "response = requests.get(url)\n",
    "new_df = pd.read_csv(io.StringIO(response.text), sep='|')\n",
    "df.columns = new_df.columns"
   ]
  },
  {
   "cell_type": "code",
   "execution_count": 8,
   "metadata": {
    "slideshow": {
     "slide_type": "slide"
    }
   },
   "outputs": [
    {
     "data": {
      "text/html": [
       "<div>\n",
       "<style scoped>\n",
       "    .dataframe tbody tr th:only-of-type {\n",
       "        vertical-align: middle;\n",
       "    }\n",
       "\n",
       "    .dataframe tbody tr th {\n",
       "        vertical-align: top;\n",
       "    }\n",
       "\n",
       "    .dataframe thead th {\n",
       "        text-align: right;\n",
       "    }\n",
       "</style>\n",
       "<table border=\"1\" class=\"dataframe\">\n",
       "  <thead>\n",
       "    <tr style=\"text-align: right;\">\n",
       "      <th></th>\n",
       "      <th>accountingYearMonthNumber</th>\n",
       "      <th>symbolCode</th>\n",
       "      <th>issueName</th>\n",
       "      <th>issuerServicesGroupExchangeCode</th>\n",
       "      <th>marketClassCode</th>\n",
       "      <th>currentShortPositionQuantity</th>\n",
       "      <th>previousShortPositionQuantity</th>\n",
       "      <th>stockSplitFlag</th>\n",
       "      <th>averageDailyVolumeQuantity</th>\n",
       "      <th>daysToCoverQuantity</th>\n",
       "      <th>revisionFlag</th>\n",
       "      <th>changePercent</th>\n",
       "      <th>changePreviousNumber</th>\n",
       "      <th>settlementDate</th>\n",
       "    </tr>\n",
       "  </thead>\n",
       "  <tbody>\n",
       "    <tr>\n",
       "      <th>0</th>\n",
       "      <td>20240614</td>\n",
       "      <td>A</td>\n",
       "      <td>Agilent Technologies Inc.</td>\n",
       "      <td>A</td>\n",
       "      <td>NYSE</td>\n",
       "      <td>2874792</td>\n",
       "      <td>4423968</td>\n",
       "      <td>NaN</td>\n",
       "      <td>2422474</td>\n",
       "      <td>1.19</td>\n",
       "      <td>NaN</td>\n",
       "      <td>-35.02</td>\n",
       "      <td>-1549176</td>\n",
       "      <td>2024-06-14</td>\n",
       "    </tr>\n",
       "    <tr>\n",
       "      <th>1</th>\n",
       "      <td>20240614</td>\n",
       "      <td>AA</td>\n",
       "      <td>Alcoa Corporation</td>\n",
       "      <td>A</td>\n",
       "      <td>NYSE</td>\n",
       "      <td>12774970</td>\n",
       "      <td>12496353</td>\n",
       "      <td>NaN</td>\n",
       "      <td>3824253</td>\n",
       "      <td>3.34</td>\n",
       "      <td>NaN</td>\n",
       "      <td>2.23</td>\n",
       "      <td>278617</td>\n",
       "      <td>2024-06-14</td>\n",
       "    </tr>\n",
       "    <tr>\n",
       "      <th>2</th>\n",
       "      <td>20240614</td>\n",
       "      <td>AAA</td>\n",
       "      <td>Alternative Access First Prior</td>\n",
       "      <td>E</td>\n",
       "      <td>ARCA</td>\n",
       "      <td>21440</td>\n",
       "      <td>27895</td>\n",
       "      <td>NaN</td>\n",
       "      <td>9855</td>\n",
       "      <td>2.18</td>\n",
       "      <td>NaN</td>\n",
       "      <td>-23.14</td>\n",
       "      <td>-6455</td>\n",
       "      <td>2024-06-14</td>\n",
       "    </tr>\n",
       "    <tr>\n",
       "      <th>3</th>\n",
       "      <td>20240614</td>\n",
       "      <td>AAALY</td>\n",
       "      <td>Aareal Bank AG Unsponsored Ame</td>\n",
       "      <td>S</td>\n",
       "      <td>OTC</td>\n",
       "      <td>2</td>\n",
       "      <td>1</td>\n",
       "      <td>NaN</td>\n",
       "      <td>0</td>\n",
       "      <td>999.99</td>\n",
       "      <td>NaN</td>\n",
       "      <td>100.00</td>\n",
       "      <td>1</td>\n",
       "      <td>2024-06-14</td>\n",
       "    </tr>\n",
       "    <tr>\n",
       "      <th>4</th>\n",
       "      <td>20240614</td>\n",
       "      <td>AAAU</td>\n",
       "      <td>Goldman Sachs Physical Gold ET</td>\n",
       "      <td>H</td>\n",
       "      <td>BZX</td>\n",
       "      <td>304291</td>\n",
       "      <td>674000</td>\n",
       "      <td>NaN</td>\n",
       "      <td>2212406</td>\n",
       "      <td>1.00</td>\n",
       "      <td>NaN</td>\n",
       "      <td>-54.85</td>\n",
       "      <td>-369709</td>\n",
       "      <td>2024-06-14</td>\n",
       "    </tr>\n",
       "  </tbody>\n",
       "</table>\n",
       "</div>"
      ],
      "text/plain": [
       "   accountingYearMonthNumber symbolCode                       issueName  \\\n",
       "0                   20240614          A       Agilent Technologies Inc.   \n",
       "1                   20240614         AA               Alcoa Corporation   \n",
       "2                   20240614        AAA  Alternative Access First Prior   \n",
       "3                   20240614      AAALY  Aareal Bank AG Unsponsored Ame   \n",
       "4                   20240614       AAAU  Goldman Sachs Physical Gold ET   \n",
       "\n",
       "  issuerServicesGroupExchangeCode marketClassCode  \\\n",
       "0                               A            NYSE   \n",
       "1                               A            NYSE   \n",
       "2                               E            ARCA   \n",
       "3                               S             OTC   \n",
       "4                               H             BZX   \n",
       "\n",
       "   currentShortPositionQuantity  previousShortPositionQuantity stockSplitFlag  \\\n",
       "0                       2874792                        4423968            NaN   \n",
       "1                      12774970                       12496353            NaN   \n",
       "2                         21440                          27895            NaN   \n",
       "3                             2                              1            NaN   \n",
       "4                        304291                         674000            NaN   \n",
       "\n",
       "   averageDailyVolumeQuantity  daysToCoverQuantity revisionFlag  \\\n",
       "0                     2422474                 1.19          NaN   \n",
       "1                     3824253                 3.34          NaN   \n",
       "2                        9855                 2.18          NaN   \n",
       "3                           0               999.99          NaN   \n",
       "4                     2212406                 1.00          NaN   \n",
       "\n",
       "   changePercent  changePreviousNumber settlementDate  \n",
       "0         -35.02              -1549176     2024-06-14  \n",
       "1           2.23                278617     2024-06-14  \n",
       "2         -23.14                 -6455     2024-06-14  \n",
       "3         100.00                     1     2024-06-14  \n",
       "4         -54.85               -369709     2024-06-14  "
      ]
     },
     "execution_count": 8,
     "metadata": {
      "slideshow": {
       "slide_type": "slide"
      }
     },
     "output_type": "execute_result"
    }
   ],
   "source": [
    "df.head()"
   ]
  },
  {
   "cell_type": "markdown",
   "metadata": {
    "slideshow": {
     "slide_type": "slide"
    }
   },
   "source": [
    "### Method B: Find the dates by scraping the page\n",
    "\n",
    "- Use Selenium to work the drop-down menus and get the dates.\n",
    "- First, we have to find the drop-down menus\n"
   ]
  },
  {
   "cell_type": "code",
   "execution_count": 2,
   "metadata": {
    "slideshow": {
     "slide_type": "slide"
    }
   },
   "outputs": [
    {
     "name": "stdout",
     "output_type": "stream",
     "text": [
      "<select data-drupal-selector=\"edit-custom-month-month\" id=\"edit-custom-month-month\" name=\"custom_month[month]\" class=\"form-select form-control\" data-once=\"chosen\" style=\"display:visible; position:absolute; width:0px; height: 0px; clip:rect(0,0,0,0)\" tabindex=\"-1\"><option value=\"any\">- Any -</option><option value=\"01\">January</option><option value=\"02\">February</option><option value=\"03\">March</option><option value=\"04\">April</option><option value=\"05\">May</option><option value=\"06\">June</option><option value=\"07\">July</option><option value=\"08\" selected=\"selected\">August</option><option value=\"09\">September</option><option value=\"10\">October</option><option value=\"11\">November</option><option value=\"12\">December</option></select>\n",
      "<select data-drupal-selector=\"edit-custom-year-year\" id=\"edit-custom-year-year\" name=\"custom_year[year]\" class=\"form-select form-control\" data-once=\"chosen\" style=\"display:visible; position:absolute; width:0px; height: 0px; clip:rect(0,0,0,0)\" tabindex=\"-1\"><option value=\"any\">- Any -</option><option value=\"0\" selected=\"selected\">2024</option><option value=\"1\">2023</option><option value=\"2\">2022</option><option value=\"3\">2021</option><option value=\"4\">2020</option><option value=\"5\">2019</option><option value=\"6\">2018</option><option value=\"7\">2017</option><option value=\"8\">2016</option></select>\n"
     ]
    }
   ],
   "source": [
    "# Find the drop-down menus using selenium \n",
    "\n",
    "from selenium import webdriver\n",
    "from selenium.webdriver.common.by import By\n",
    "from selenium.webdriver.support.ui import WebDriverWait\n",
    "from selenium.webdriver.support import expected_conditions as EC\n",
    "\n",
    "# Set up the WebDriver (e.g., Chrome)\n",
    "driver = webdriver.Chrome()\n",
    "\n",
    "# Navigate to the desired webpage\n",
    "driver.get('https://www.finra.org/finra-data/browse-catalog/equity-short-interest/files')\n",
    "\n",
    "# Wait until the page is loaded and the drop-down menus are present\n",
    "wait = WebDriverWait(driver, 10)\n",
    "drop_downs = wait.until(EC.presence_of_all_elements_located((By.TAG_NAME, 'select')))\n",
    "\n",
    "# Print the drop-down menus\n",
    "for drop_down in drop_downs:\n",
    "    print(drop_down.get_attribute('outerHTML'))\n",
    "\n",
    "# Close the WebDriver\n",
    "driver.quit()"
   ]
  },
  {
   "cell_type": "code",
   "execution_count": null,
   "metadata": {
    "slideshow": {
     "slide_type": "slide"
    }
   },
   "outputs": [],
   "source": [
    "# Try to select month 1 (February?) from the drop-down menu for months and print the csv file links\n",
    "\n",
    "from selenium.webdriver.support.ui import Select\n",
    "\n",
    "# Set up the WebDriver (e.g., Chrome)\n",
    "driver = webdriver.Chrome()\n",
    "\n",
    "# Navigate to the desired webpage\n",
    "driver.get('https://www.finra.org/finra-data/browse-catalog/equity-short-interest/files')\n",
    "\n",
    "# Wait until the drop-down menu is present\n",
    "wait = WebDriverWait(driver, 10)\n",
    "drop_down = wait.until(EC.presence_of_element_located((By.ID, 'edit-custom-month-month')))\n",
    "\n",
    "# Create a Select object\n",
    "select = Select(drop_down)\n",
    "\n",
    "# Select an item by value\n",
    "select.select_by_index(1)\n",
    "\n",
    "# Wait for the page to update after selecting the drop-down item\n",
    "# You can wait for a specific element that appears only after the page update\n",
    "wait.until(EC.presence_of_element_located((By.XPATH, \"//div[@class='view-content']\")))\n",
    "\n",
    "# Locate the links to CSV files on the updated page\n",
    "csv_links = driver.find_elements(By.XPATH, \"//a[contains(@href, '.csv')]\")\n",
    "\n",
    "# Print the links to CSV files\n",
    "for link in csv_links:\n",
    "    print(link.get_attribute('href'))\n",
    "\n",
    "# Close the WebDriver\n",
    "driver.quit()"
   ]
  },
  {
   "cell_type": "markdown",
   "metadata": {
    "slideshow": {
     "slide_type": "slide"
    }
   },
   "source": [
    "### Maybe ask Dejean?"
   ]
  }
 ],
 "metadata": {
  "kernelspec": {
   "display_name": "Python 3",
   "language": "python",
   "name": "python3"
  },
  "language_info": {
   "codemirror_mode": {
    "name": "ipython",
    "version": 3
   },
   "file_extension": ".py",
   "mimetype": "text/x-python",
   "name": "python",
   "nbconvert_exporter": "python",
   "pygments_lexer": "ipython3",
   "version": "3.12.5"
  }
 },
 "nbformat": 4,
 "nbformat_minor": 2
}
