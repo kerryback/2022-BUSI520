{
 "cells": [
  {
   "cell_type": "markdown",
   "metadata": {
    "slideshow": {
     "slide_type": "slide"
    }
   },
   "source": [
    "# Day 11: Dynamic Programming Again\n",
    "\n",
    "### BUSI520 - Python for Business Research\n",
    "### Kerry Back, JGSB, Rice University"
   ]
  },
  {
   "cell_type": "code",
   "execution_count": 1,
   "metadata": {
    "slideshow": {
     "slide_type": "slide"
    }
   },
   "outputs": [],
   "source": [
    "import numpy as np\n",
    "from scipy.optimize import minimize\n",
    "\n",
    "u = np.sqrt\n",
    "delta = 0.9    "
   ]
  },
  {
   "cell_type": "code",
   "execution_count": 15,
   "metadata": {},
   "outputs": [],
   "source": [
    "import torch\n",
    "import torch.nn as nn\n",
    "import torch.optim as optim\n",
    "\n",
    "class Approximator(nn.Module):\n",
    "    def __init__(self):\n",
    "        super(Approximator, self).__init__()\n",
    "\n",
    "        # first hidden layer consists of 64 neurons\n",
    "        self.fc1 = nn.Linear(1, 64)\n",
    "\n",
    "        # second hidden layer consists of 64 neurons\n",
    "        self.fc2 = nn.Linear(64, 64)\n",
    "\n",
    "        # output layer consists of 1 neuron\n",
    "        self.fc3 = nn.Linear(64, 1)\n",
    "\n",
    "    # forward pass through all three layers\n",
    "    def forward(self, x):\n",
    "        x = torch.relu(self.fc1(x))\n",
    "        x = torch.relu(self.fc2(x))\n",
    "        return self.fc3(x)\n",
    "\n",
    "# Define a custom loss function\n",
    "class CustomLoss(nn.Module):\n",
    "    def __init__(self):\n",
    "        super(CustomLoss, self).__init__()\n",
    " \n",
    "    def forward(self, predictions, targets):\n",
    "        return nn.MSELoss()(predictions, targets)\n",
    "\n",
    "# fit neural network \n",
    "\n",
    "model = Approximator()\n",
    "optimizer = optim.Adam(model.parameters(), lr=0.01)\n",
    "custom_loss = CustomLoss()\n",
    "\n",
    "def neural_network(cake_grid, value_arr, num_epochs = 100):\n",
    "    cake_grid = torch.tensor(cake_grid.reshape(-1, 1)).float()\n",
    "    value_arr = torch.tensor(value_arr).float()\n",
    "    for epoch in range(num_epochs):\n",
    "        model.train() \n",
    "        optimizer.zero_grad()\n",
    "        outputs = model(cake_grid)\n",
    "        loss = custom_loss(outputs, value_arr)\n",
    "        loss.backward()\n",
    "        optimizer.step()\n",
    "        print(\"Epoch:\", epoch, \"Loss:\", loss.item())\n",
    "    return lambda x: model(torch.tensor(x.reshape(-1, 1)).float()).detach().numpy()\n"
   ]
  },
  {
   "cell_type": "code",
   "execution_count": 16,
   "metadata": {},
   "outputs": [
    {
     "name": "stderr",
     "output_type": "stream",
     "text": [
      "c:\\Users\\kerry\\AppData\\Local\\Programs\\Python\\Python312\\Lib\\site-packages\\torch\\nn\\modules\\loss.py:538: UserWarning: Using a target size (torch.Size([100])) that is different to the input size (torch.Size([100, 1])). This will likely lead to incorrect results due to broadcasting. Please ensure they have the same size.\n",
      "  return F.mse_loss(input, target, reduction=self.reduction)\n"
     ]
    },
    {
     "name": "stdout",
     "output_type": "stream",
     "text": [
      "Epoch: 0 Loss: 0.32778221368789673\n",
      "Epoch: 1 Loss: 0.09940048307180405\n",
      "Epoch: 2 Loss: 0.0770735815167427\n",
      "Epoch: 3 Loss: 0.12997035682201385\n",
      "Epoch: 4 Loss: 0.10970750451087952\n",
      "Epoch: 5 Loss: 0.07464651763439178\n",
      "Epoch: 6 Loss: 0.062040869146585464\n",
      "Epoch: 7 Loss: 0.06787030398845673\n",
      "Epoch: 8 Loss: 0.0775156244635582\n",
      "Epoch: 9 Loss: 0.08288733661174774\n",
      "Epoch: 10 Loss: 0.08213327080011368\n",
      "Epoch: 11 Loss: 0.07672923058271408\n",
      "Epoch: 12 Loss: 0.06961895525455475\n",
      "Epoch: 13 Loss: 0.06395135819911957\n",
      "Epoch: 14 Loss: 0.061974070966243744\n",
      "Epoch: 15 Loss: 0.06396376341581345\n",
      "Epoch: 16 Loss: 0.06785227358341217\n",
      "Epoch: 17 Loss: 0.07050967961549759\n",
      "Epoch: 18 Loss: 0.07009630650281906\n",
      "Epoch: 19 Loss: 0.06722778081893921\n",
      "Epoch: 20 Loss: 0.06398110836744308\n",
      "Epoch: 21 Loss: 0.06213132292032242\n",
      "Epoch: 22 Loss: 0.062176868319511414\n",
      "Epoch: 23 Loss: 0.06347867846488953\n",
      "Epoch: 24 Loss: 0.06495700776576996\n",
      "Epoch: 25 Loss: 0.06573748588562012\n",
      "Epoch: 26 Loss: 0.06548120826482773\n",
      "Epoch: 27 Loss: 0.06440088897943497\n",
      "Epoch: 28 Loss: 0.06307101249694824\n",
      "Epoch: 29 Loss: 0.06213006749749184\n",
      "Epoch: 30 Loss: 0.061962272971868515\n",
      "Epoch: 31 Loss: 0.06249334663152695\n",
      "Epoch: 32 Loss: 0.06324239820241928\n",
      "Epoch: 33 Loss: 0.0636480376124382\n",
      "Epoch: 34 Loss: 0.06345044076442719\n",
      "Epoch: 35 Loss: 0.06282790750265121\n",
      "Epoch: 36 Loss: 0.06220231205224991\n",
      "Epoch: 37 Loss: 0.061915118247270584\n",
      "Epoch: 38 Loss: 0.062031544744968414\n",
      "Epoch: 39 Loss: 0.062366656959056854\n",
      "Epoch: 40 Loss: 0.06265068054199219\n",
      "Epoch: 41 Loss: 0.0626998171210289\n",
      "Epoch: 42 Loss: 0.0625004842877388\n",
      "Epoch: 43 Loss: 0.06218786537647247\n",
      "Epoch: 44 Loss: 0.06194765120744705\n",
      "Epoch: 45 Loss: 0.06189904734492302\n",
      "Epoch: 46 Loss: 0.06202569603919983\n",
      "Epoch: 47 Loss: 0.06219853460788727\n",
      "Epoch: 48 Loss: 0.062275830656290054\n",
      "Epoch: 49 Loss: 0.062204670161008835\n",
      "Epoch: 50 Loss: 0.06204605847597122\n",
      "Epoch: 51 Loss: 0.061912450939416885\n",
      "Epoch: 52 Loss: 0.06187908351421356\n",
      "Epoch: 53 Loss: 0.061939191073179245\n",
      "Epoch: 54 Loss: 0.062024664133787155\n",
      "Epoch: 55 Loss: 0.06206377595663071\n",
      "Epoch: 56 Loss: 0.06202966347336769\n",
      "Epoch: 57 Loss: 0.06195059046149254\n",
      "Epoch: 58 Loss: 0.06188221275806427\n",
      "Epoch: 59 Loss: 0.06186491623520851\n",
      "Epoch: 60 Loss: 0.06189671531319618\n",
      "Epoch: 61 Loss: 0.0619400255382061\n",
      "Epoch: 62 Loss: 0.0619547963142395\n",
      "Epoch: 63 Loss: 0.06192959100008011\n",
      "Epoch: 64 Loss: 0.06188612058758736\n",
      "Epoch: 65 Loss: 0.06185675784945488\n",
      "Epoch: 66 Loss: 0.061857670545578\n",
      "Epoch: 67 Loss: 0.061879176646471024\n",
      "Epoch: 68 Loss: 0.06189779192209244\n",
      "Epoch: 69 Loss: 0.0618966668844223\n",
      "Epoch: 70 Loss: 0.06187734380364418\n",
      "Epoch: 71 Loss: 0.06185559183359146\n",
      "Epoch: 72 Loss: 0.06184672191739082\n",
      "Epoch: 73 Loss: 0.06185349076986313\n",
      "Epoch: 74 Loss: 0.06186560541391373\n",
      "Epoch: 75 Loss: 0.06187022849917412\n",
      "Epoch: 76 Loss: 0.061863020062446594\n",
      "Epoch: 77 Loss: 0.06185047701001167\n",
      "Epoch: 78 Loss: 0.061842601746320724\n",
      "Epoch: 79 Loss: 0.06184379756450653\n",
      "Epoch: 80 Loss: 0.0618501640856266\n",
      "Epoch: 81 Loss: 0.06185420975089073\n",
      "Epoch: 82 Loss: 0.06185181811451912\n",
      "Epoch: 83 Loss: 0.06184522807598114\n",
      "Epoch: 84 Loss: 0.06183996424078941\n",
      "Epoch: 85 Loss: 0.061839599162340164\n",
      "Epoch: 86 Loss: 0.06184283271431923\n",
      "Epoch: 87 Loss: 0.06184549629688263\n",
      "Epoch: 88 Loss: 0.06184467673301697\n",
      "Epoch: 89 Loss: 0.061841174960136414\n",
      "Epoch: 90 Loss: 0.06183813512325287\n",
      "Epoch: 91 Loss: 0.061837781220674515\n",
      "Epoch: 92 Loss: 0.06183954328298569\n",
      "Epoch: 93 Loss: 0.061841052025556564\n",
      "Epoch: 94 Loss: 0.06184063106775284\n",
      "Epoch: 95 Loss: 0.061838701367378235\n",
      "Epoch: 96 Loss: 0.06183706596493721\n",
      "Epoch: 97 Loss: 0.06183694303035736\n",
      "Epoch: 98 Loss: 0.06183796375989914\n",
      "Epoch: 99 Loss: 0.061838749796152115\n",
      "Epoch: 0 Loss: 0.4203003942966461\n",
      "Epoch: 1 Loss: 0.2839738726615906\n",
      "Epoch: 2 Loss: 0.11960882693529129\n",
      "Epoch: 3 Loss: 0.0623142383992672\n",
      "Epoch: 4 Loss: 0.19069036841392517\n",
      "Epoch: 5 Loss: 0.24766716361045837\n",
      "Epoch: 6 Loss: 0.15391510725021362\n",
      "Epoch: 7 Loss: 0.069634348154068\n",
      "Epoch: 8 Loss: 0.06513963639736176\n",
      "Epoch: 9 Loss: 0.10564053058624268\n",
      "Epoch: 10 Loss: 0.14044097065925598\n",
      "Epoch: 11 Loss: 0.14612363278865814\n",
      "Epoch: 12 Loss: 0.1239888146519661\n",
      "Epoch: 13 Loss: 0.08924192190170288\n",
      "Epoch: 14 Loss: 0.06278227269649506\n",
      "Epoch: 15 Loss: 0.0607151985168457\n",
      "Epoch: 16 Loss: 0.08071489632129669\n",
      "Epoch: 17 Loss: 0.09978809952735901\n",
      "Epoch: 18 Loss: 0.09776636958122253\n",
      "Epoch: 19 Loss: 0.07904549688100815\n",
      "Epoch: 20 Loss: 0.062181103974580765\n",
      "Epoch: 21 Loss: 0.05848433077335358\n",
      "Epoch: 22 Loss: 0.0657147467136383\n",
      "Epoch: 23 Loss: 0.07504003494977951\n",
      "Epoch: 24 Loss: 0.07918208837509155\n",
      "Epoch: 25 Loss: 0.07598831504583359\n",
      "Epoch: 26 Loss: 0.0681079849600792\n",
      "Epoch: 27 Loss: 0.06068328395485878\n",
      "Epoch: 28 Loss: 0.058126118034124374\n",
      "Epoch: 29 Loss: 0.06115271523594856\n",
      "Epoch: 30 Loss: 0.06617658585309982\n",
      "Epoch: 31 Loss: 0.06838890165090561\n",
      "Epoch: 32 Loss: 0.06606030464172363\n",
      "Epoch: 33 Loss: 0.061563897877931595\n",
      "Epoch: 34 Loss: 0.058489348739385605\n",
      "Epoch: 35 Loss: 0.05848003551363945\n",
      "Epoch: 36 Loss: 0.0605727918446064\n",
      "Epoch: 37 Loss: 0.06263013929128647\n",
      "Epoch: 38 Loss: 0.06306944787502289\n",
      "Epoch: 39 Loss: 0.0617227666079998\n",
      "Epoch: 40 Loss: 0.05964887514710426\n",
      "Epoch: 41 Loss: 0.05825628712773323\n",
      "Epoch: 42 Loss: 0.0583016611635685\n",
      "Epoch: 43 Loss: 0.05939766764640808\n",
      "Epoch: 44 Loss: 0.060412682592868805\n",
      "Epoch: 45 Loss: 0.06045748293399811\n",
      "Epoch: 46 Loss: 0.059573400765657425\n",
      "Epoch: 47 Loss: 0.05853356420993805\n",
      "Epoch: 48 Loss: 0.05807837098836899\n",
      "Epoch: 49 Loss: 0.05835361406207085\n",
      "Epoch: 50 Loss: 0.05894271284341812\n",
      "Epoch: 51 Loss: 0.05929834023118019\n",
      "Epoch: 52 Loss: 0.059156499803066254\n",
      "Epoch: 53 Loss: 0.058663468807935715\n",
      "Epoch: 54 Loss: 0.058199211955070496\n",
      "Epoch: 55 Loss: 0.05806608870625496\n",
      "Epoch: 56 Loss: 0.05827360972762108\n",
      "Epoch: 57 Loss: 0.058569639921188354\n",
      "Epoch: 58 Loss: 0.05867584049701691\n",
      "Epoch: 59 Loss: 0.058514825999736786\n",
      "Epoch: 60 Loss: 0.05823799967765808\n",
      "Epoch: 61 Loss: 0.058061327785253525\n",
      "Epoch: 62 Loss: 0.05808160454034805\n",
      "Epoch: 63 Loss: 0.05822591483592987\n",
      "Epoch: 64 Loss: 0.05834267660975456\n",
      "Epoch: 65 Loss: 0.058332134038209915\n",
      "Epoch: 66 Loss: 0.05821146070957184\n",
      "Epoch: 67 Loss: 0.05808065086603165\n",
      "Epoch: 68 Loss: 0.05803155526518822\n",
      "Epoch: 69 Loss: 0.058077435940504074\n",
      "Epoch: 70 Loss: 0.058154478669166565\n",
      "Epoch: 71 Loss: 0.05818549171090126\n",
      "Epoch: 72 Loss: 0.05814487487077713\n",
      "Epoch: 73 Loss: 0.05807063728570938\n",
      "Epoch: 74 Loss: 0.05802157148718834\n",
      "Epoch: 75 Loss: 0.05802550166845322\n",
      "Epoch: 76 Loss: 0.05806281790137291\n",
      "Epoch: 77 Loss: 0.058091338723897934\n",
      "Epoch: 78 Loss: 0.058084290474653244\n",
      "Epoch: 79 Loss: 0.058048736304044724\n",
      "Epoch: 80 Loss: 0.058013830333948135\n",
      "Epoch: 81 Loss: 0.05800336226820946\n",
      "Epoch: 82 Loss: 0.05801720544695854\n",
      "Epoch: 83 Loss: 0.058035410940647125\n",
      "Epoch: 84 Loss: 0.0580381341278553\n",
      "Epoch: 85 Loss: 0.05802223086357117\n",
      "Epoch: 86 Loss: 0.05800089240074158\n",
      "Epoch: 87 Loss: 0.057989612221717834\n",
      "Epoch: 88 Loss: 0.05799273028969765\n",
      "Epoch: 89 Loss: 0.058001868426799774\n",
      "Epoch: 90 Loss: 0.05800527334213257\n",
      "Epoch: 91 Loss: 0.05799829214811325\n",
      "Epoch: 92 Loss: 0.05798587575554848\n",
      "Epoch: 93 Loss: 0.05797678232192993\n",
      "Epoch: 94 Loss: 0.057975444942712784\n",
      "Epoch: 95 Loss: 0.05797896906733513\n",
      "Epoch: 96 Loss: 0.057980865240097046\n",
      "Epoch: 97 Loss: 0.05797731503844261\n",
      "Epoch: 98 Loss: 0.05796998366713524\n",
      "Epoch: 99 Loss: 0.05796363577246666\n",
      "Converged after 2 iterations\n",
      "Error is 0.0\n"
     ]
    }
   ],
   "source": [
    "# bellman is same as before\n",
    "def bellman(V, cake):\n",
    "    if cake == 0:\n",
    "        return 0, 0\n",
    "    else:\n",
    "        rhs = lambda consume: - u(consume) - delta * V(cake - consume)\n",
    "        result = minimize(rhs, 0.5*cake, bounds=[(0, cake)])\n",
    "        return - result.fun, result.x.item\n",
    "\n",
    "def value_iteration(V):\n",
    "\n",
    "    # generate random cake grid (not important in 1 dimension)\n",
    "    cake_grid = np.random.uniform(0, 1, 100)\n",
    "\n",
    "    # same code as before\n",
    "    value_arr = np.empty_like(cake_grid)\n",
    "    for i, c in enumerate(cake_grid):\n",
    "        value, action = bellman(V, c)\n",
    "        value_arr[i] = value\n",
    "\n",
    "    # replace interpolation with neural network\n",
    "    Vnew = neural_network(cake_grid, value_arr)\n",
    "    \n",
    "    return Vnew\n",
    "\n",
    "# fixed_point is same as before\n",
    "def fixed_point(tol=1e-6, max_iter=2000):\n",
    "    cake_grid = np.random.uniform(0, 1, 100)\n",
    "    err = 1\n",
    "    iter = 0\n",
    "    V = lambda c: 0\n",
    "    while (err > tol) & (iter < max_iter):\n",
    "        Vnew = value_iteration(V)\n",
    "        err = ((V(cake_grid) - Vnew(cake_grid))**2).sum()\n",
    "        V = Vnew\n",
    "        iter += 1\n",
    "    return V, err, iter\n",
    "\n",
    "# run is same as before except skipping policy\n",
    "fp = fixed_point()\n",
    "V = fp[0]\n",
    "print(\"Converged after\", fp[2], \"iterations\")\n",
    "print(\"Error is\", fp[1])"
   ]
  },
  {
   "cell_type": "markdown",
   "metadata": {
    "slideshow": {
     "slide_type": "slide"
    }
   },
   "source": [
    "### Compare value functions\n",
    "\n",
    "The true value function is\n",
    "$$V(x) = \\sqrt{\\frac{x}{1-\\delta^2}}$$"
   ]
  },
  {
   "cell_type": "code",
   "execution_count": 19,
   "metadata": {
    "slideshow": {
     "slide_type": "slide"
    }
   },
   "outputs": [
    {
     "data": {
      "image/png": "[encoded data removed]",
      "text/plain": [
       "<Figure size 640x480 with 1 Axes>"
      ]
     },
     "metadata": {},
     "output_type": "display_data"
    }
   ],
   "source": [
    "import matplotlib.pyplot as plt\n",
    "import seaborn as sns\n",
    "sns.set_style(\"whitegrid\")\n",
    "cake_grid = np.random.uniform(0, 1, 100)\n",
    "\n",
    "# numeric solution\n",
    "plt.scatter(cake_grid, V(cake_grid), label=\"numeric\")\n",
    "\n",
    "# analytic solution\n",
    "plt.scatter(cake_grid, [np.sqrt(x/(1-delta**2)) for x in cake_grid], label=\"analytic\")  \n",
    "\n",
    "plt.xlabel(\"Remaining Cake\")\n",
    "plt.ylabel(\"Value Function\")\n",
    "plt.legend()\n",
    "plt.show()"
   ]
  },
  {
   "cell_type": "markdown",
   "metadata": {
    "slideshow": {
     "slide_type": "slide"
    }
   },
   "source": [
    "### Compare policy functions \n",
    "\n",
    "The true optimal policy is \n",
    "\n",
    "$$c^*(x) = (1-\\delta^2)x.$$"
   ]
  },
  {
   "cell_type": "code",
   "execution_count": 8,
   "metadata": {
    "slideshow": {
     "slide_type": "slide"
    }
   },
   "outputs": [
    {
     "data": {
      "image/png": "[encoded data removed]",
      "text/plain": [
       "<Figure size 640x480 with 1 Axes>"
      ]
     },
     "metadata": {},
     "output_type": "display_data"
    }
   ],
   "source": [
    "# numeric solution\n",
    "plt.plot(cake_grid, [policy(c) for c in cake_grid], label=\"numeric\")\n",
    "\n",
    "# analytic solution\n",
    "plt.plot(cake_grid, [(1-delta**2)*x for x in cake_grid], label=\"analytic\")  \n",
    "\n",
    "plt.xlabel(\"Remaining Cake\")\n",
    "plt.ylabel(\"Amount to Eat\")\n",
    "plt.legend()\n",
    "plt.show()"
   ]
  },
  {
   "cell_type": "code",
   "execution_count": null,
   "metadata": {},
   "outputs": [],
   "source": []
  }
 ],
 "metadata": {
  "kernelspec": {
   "display_name": "Python 3.9.12 ('base')",
   "language": "python",
   "name": "python3"
  },
  "language_info": {
   "codemirror_mode": {
    "name": "ipython",
    "version": 3
   },
   "file_extension": ".py",
   "mimetype": "text/x-python",
   "name": "python",
   "nbconvert_exporter": "python",
   "pygments_lexer": "ipython3",
   "version": "3.12.5"
  },
  "orig_nbformat": 4,
  "vscode": {
   "interpreter": {
    "hash": "b5c05ba2117f00041673d0c20a311ccae61983ee346578ba5a53c5d4ee98e5af"
   }
  }
 },
 "nbformat": 4,
 "nbformat_minor": 2
}
