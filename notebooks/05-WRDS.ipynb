{
  "cells": [
    {
      "cell_type": "markdown",
      "metadata": {
        "colab_type": "text",
        "id": "view-in-github"
      },
      "source": [
        "<a href=\"https://colab.research.google.com/github/kerryback/2022-BUSI520/blob/main/wrds.ipynb\" target=\"_parent\"><img src=\"https://colab.research.google.com/assets/colab-badge.svg\" alt=\"Open In Colab\"/></a>"
      ]
    },
    {
      "cell_type": "code",
      "execution_count": 35,
      "metadata": {
        "colab": {
          "base_uri": "https://localhost:8080/"
        },
        "id": "x2jxPDcZA6vM",
        "outputId": "88e602bf-1b01-489c-db3f-df248f9311f3",
        "slideshow": {
          "slide_type": "slide"
        }
      },
      "outputs": [
        {
          "name": "stdout",
          "output_type": "stream",
          "text": [
            "WRDS recommends setting up a .pgpass file.\n",
            "You can create this file yourself at any time\n",
            "with the create_pgpass_file() function.\n",
            "Loading library list...\n",
            "Done\n"
          ]
        }
      ],
      "source": [
        "import numpy as np\n",
        "import pandas as pd\n",
        "import wrds       \n",
        "conn = wrds.Connection() "
      ]
    },
    {
      "cell_type": "markdown",
      "metadata": {
        "id": "Qd9Rv1GRM3MT",
        "slideshow": {
          "slide_type": "slide"
        }
      },
      "source": [
        "### Annual Compustat\n",
        "\n",
        "An example of pulling data from the annual Compustat table.  datadate is the end of the fiscal year.  We impose standard filters.  See https://wrds-web.wharton.upenn.edu/wrds/demo/demoform_compustat.cfm for a full list of Compustat variable definitions. Quarterly data is also available."
      ]
    },
    {
      "cell_type": "code",
      "execution_count": 36,
      "metadata": {
        "id": "PAKo3oYPBJ72",
        "slideshow": {
          "slide_type": "slide"
        }
      },
      "outputs": [],
      "source": [
        "comp = conn.raw_sql(\n",
        "    \"\"\"\n",
        "    select gvkey, datadate, at\n",
        "    from comp.funda\n",
        "    where datadate >= '2000-01-01' and at>0 \n",
        "    and indfmt='INDL' and datafmt='STD' and popsrc='D' and consol='C'\n",
        "    order by gvkey, datadate\n",
        "    \"\"\", \n",
        "    date_cols=['datadate']\n",
        ")\n",
        "\n",
        "# convert string or float to int\n",
        "comp.gvkey = comp.gvkey.astype(int)"
      ]
    },
    {
      "cell_type": "markdown",
      "metadata": {
        "slideshow": {
          "slide_type": "slide"
        }
      },
      "source": [
        "### Days between datadates"
      ]
    },
    {
      "cell_type": "code",
      "execution_count": 37,
      "metadata": {
        "slideshow": {
          "slide_type": "slide"
        }
      },
      "outputs": [],
      "source": [
        "def days_between(dates) :\n",
        "    days = dates.diff()                                          \n",
        "    return days.map(lambda d: d.days)\n",
        "\n",
        "comp[\"days\"] = comp.groupby(\"gvkey\").datadate.apply(days_between)"
      ]
    },
    {
      "cell_type": "markdown",
      "metadata": {
        "slideshow": {
          "slide_type": "slide"
        }
      },
      "source": [
        "### Investment rate\n",
        "\n",
        "Set it to missing if more than x days between datadates"
      ]
    },
    {
      "cell_type": "code",
      "execution_count": 38,
      "metadata": {
        "slideshow": {
          "slide_type": "slide"
        }
      },
      "outputs": [],
      "source": [
        "comp[\"inv\"] = comp.groupby(\"gvkey\")[\"at\"].pct_change()\n",
        "comp[\"inv\"] = np.where((comp.days).notnull() & (comp.days>720), np.nan, comp.inv)"
      ]
    },
    {
      "cell_type": "markdown",
      "metadata": {
        "slideshow": {
          "slide_type": "slide"
        }
      },
      "source": [
        "Example"
      ]
    },
    {
      "cell_type": "code",
      "execution_count": 39,
      "metadata": {
        "slideshow": {
          "slide_type": "slide"
        }
      },
      "outputs": [
        {
          "data": {
            "text/html": [
              "<div>\n",
              "<style scoped>\n",
              "    .dataframe tbody tr th:only-of-type {\n",
              "        vertical-align: middle;\n",
              "    }\n",
              "\n",
              "    .dataframe tbody tr th {\n",
              "        vertical-align: top;\n",
              "    }\n",
              "\n",
              "    .dataframe thead th {\n",
              "        text-align: right;\n",
              "    }\n",
              "</style>\n",
              "<table border=\"1\" class=\"dataframe\">\n",
              "  <thead>\n",
              "    <tr style=\"text-align: right;\">\n",
              "      <th></th>\n",
              "      <th>gvkey</th>\n",
              "      <th>datadate</th>\n",
              "      <th>at</th>\n",
              "      <th>days</th>\n",
              "      <th>inv</th>\n",
              "    </tr>\n",
              "  </thead>\n",
              "  <tbody>\n",
              "    <tr>\n",
              "      <th>38</th>\n",
              "      <td>1019</td>\n",
              "      <td>2000-12-31</td>\n",
              "      <td>28.638</td>\n",
              "      <td>NaN</td>\n",
              "      <td>NaN</td>\n",
              "    </tr>\n",
              "    <tr>\n",
              "      <th>39</th>\n",
              "      <td>1019</td>\n",
              "      <td>2001-12-31</td>\n",
              "      <td>30.836</td>\n",
              "      <td>365.0</td>\n",
              "      <td>0.076751</td>\n",
              "    </tr>\n",
              "    <tr>\n",
              "      <th>40</th>\n",
              "      <td>1019</td>\n",
              "      <td>2007-12-31</td>\n",
              "      <td>34.180</td>\n",
              "      <td>2191.0</td>\n",
              "      <td>NaN</td>\n",
              "    </tr>\n",
              "    <tr>\n",
              "      <th>41</th>\n",
              "      <td>1019</td>\n",
              "      <td>2008-12-31</td>\n",
              "      <td>33.486</td>\n",
              "      <td>366.0</td>\n",
              "      <td>-0.020304</td>\n",
              "    </tr>\n",
              "    <tr>\n",
              "      <th>42</th>\n",
              "      <td>1019</td>\n",
              "      <td>2009-12-31</td>\n",
              "      <td>32.678</td>\n",
              "      <td>365.0</td>\n",
              "      <td>-0.024129</td>\n",
              "    </tr>\n",
              "  </tbody>\n",
              "</table>\n",
              "</div>"
            ],
            "text/plain": [
              "    gvkey   datadate      at    days       inv\n",
              "38   1019 2000-12-31  28.638     NaN       NaN\n",
              "39   1019 2001-12-31  30.836   365.0  0.076751\n",
              "40   1019 2007-12-31  34.180  2191.0       NaN\n",
              "41   1019 2008-12-31  33.486   366.0 -0.020304\n",
              "42   1019 2009-12-31  32.678   365.0 -0.024129"
            ]
          },
          "execution_count": 39,
          "metadata": {},
          "output_type": "execute_result"
        }
      ],
      "source": [
        "comp[comp.gvkey==1019].head()"
      ]
    },
    {
      "cell_type": "markdown",
      "metadata": {
        "id": "OxcXUogjdUmF",
        "slideshow": {
          "slide_type": "slide"
        }
      },
      "source": [
        "### Use Fama-French lagging\n",
        "\n",
        "Shift all annual reports in a calendar year to June 30 of the following year.  "
      ]
    },
    {
      "cell_type": "code",
      "execution_count": 40,
      "metadata": {
        "id": "pdgej_xGdUmG",
        "slideshow": {
          "slide_type": "slide"
        }
      },
      "outputs": [],
      "source": [
        "# define date as June 30 of year following datadate\n",
        "comp['date'] = pd.to_datetime(\n",
        "    comp.datadate.map(\n",
        "        lambda d: str(d.year+1)+'-06-30'\n",
        "    )\n",
        ")\n",
        "    \n",
        "# if two annual reports in one calendar year (due to change of fiscal year), keep last one\n",
        "comp = comp.drop_duplicates(\n",
        "    subset=['gvkey', 'date'], keep='last'\n",
        ") "
      ]
    },
    {
      "cell_type": "markdown",
      "metadata": {
        "id": "DGkgtmardUmG",
        "slideshow": {
          "slide_type": "slide"
        }
      },
      "source": [
        "### Assign permnos if merging with CRSP"
      ]
    },
    {
      "cell_type": "code",
      "execution_count": 41,
      "metadata": {
        "id": "bQ1V7u3hdUmH",
        "slideshow": {
          "slide_type": "slide"
        }
      },
      "outputs": [],
      "source": [
        "link = conn.raw_sql(\n",
        "    \"\"\"\n",
        "    select distinct gvkey, lpermno as permno, linkdt, linkenddt\n",
        "    from crsp.Ccmxpf_linktable\n",
        "    where linktype in ('LU', 'LC')\n",
        "    and LINKPRIM in ('P', 'C')\n",
        "    \"\"\"\n",
        ")\n",
        "\n",
        "# convert strings or floats to ints\n",
        "link['gvkey'] = link.gvkey.astype(int)\n",
        "link['permno'] = link.permno.astype(int)\n",
        "\n",
        "# fill in missing end dates with a future date\n",
        "link['linkenddt'] = pd.to_datetime(\n",
        "    link.linkenddt\n",
        ").fillna(pd.Timestamp('21000101'))\n",
        "\n",
        "# merge with Compustat data and keep rows with Compustat datadate between link date and link end date\n",
        "comp = comp.merge(link, on='gvkey', how='inner')\n",
        "comp = comp[\n",
        "    (comp.datadate>=comp.linkdt) & (comp.datadate<=comp.linkenddt)\n",
        "]\n",
        "\n",
        "comp = comp.drop(columns=['days', 'gvkey', 'datadate', 'linkdt', 'linkenddt'])"
      ]
    },
    {
      "cell_type": "markdown",
      "metadata": {
        "slideshow": {
          "slide_type": "slide"
        }
      },
      "source": [
        "### CRSP\n",
        "\n",
        "Get stock prices and returns from  CRSP (Center for Research in Security Prices).  We use standard filters.  See http://www.crsp.com/files/data_descriptions_guide_0.pdf for a complete set of variable definitions.  CRSP uses PERMCO as a permanent company identifier and PERMNO as a permanent security identifier.  Some companies have multiple classes of common stock, which means multiple common stock PERMNOs can be associated with a single PERMCO.  Both monthly and daily data are available.\n"
      ]
    },
    {
      "cell_type": "code",
      "execution_count": 42,
      "metadata": {
        "slideshow": {
          "slide_type": "slide"
        }
      },
      "outputs": [],
      "source": [
        "crsp = conn.raw_sql(\n",
        "    \"\"\"\n",
        "    select a.permno, a.permco, a.date, a.ret, abs(a.prc)*a.shrout as me, b.exchcd\n",
        "    from crsp.msf a inner join crsp.msenames b\n",
        "    on a.permno=b.permno and a.date between b.namedt and b.nameendt\n",
        "    and b.exchcd in (1,2,3) and b.shrcd in (10,11)\n",
        "    where a.date >= '2000-01-01'\n",
        "    order by a.permno, a.date\n",
        "    \"\"\",\n",
        "date_cols=['date']\n",
        ")\n",
        "\n",
        "# change strings or floats to integers\n",
        "for col in ['permno','permco']:\n",
        "    crsp[col] = crsp[col].astype(int)\n",
        "\n",
        "# define market equity as sum of market equities of all permnos associated with a permco\n",
        "crsp['me'] = crsp.groupby(['date','permco']).me.transform(sum)"
      ]
    },
    {
      "cell_type": "markdown",
      "metadata": {
        "slideshow": {
          "slide_type": "slide"
        }
      },
      "source": [
        "### Define delisting returns\n",
        "\n",
        "This is always done, but there are some different ways to do it.  Here, we follow some of the literature and assign a lower delisting return to Nasdaq stocks than to NYSE/AMEX stocks if the delisting return is missing and delisting was due to poor performance."
      ]
    },
    {
      "cell_type": "code",
      "execution_count": 43,
      "metadata": {
        "slideshow": {
          "slide_type": "slide"
        }
      },
      "outputs": [],
      "source": [
        "mse = conn.raw_sql(\n",
        "    \"\"\"\n",
        "    select permno, dlret, dlstcd\n",
        "    from crsp.mse\n",
        "    where event='DELIST' and dlstcd>100\n",
        "    order by permno\n",
        "    \"\"\"\n",
        ")\n",
        "\n",
        "# change string or float to int\n",
        "mse['permno'] = mse.permno.astype(int)\n",
        "\n",
        "# merge with crsp, keeping all rows of crsp\n",
        "crsp = crsp.merge(mse, how='left', on='permno')\n",
        "del mse\n",
        "\n",
        "# series of True and False, True if it is the last date for a stock\n",
        "LastObs = crsp.permno != crsp.permno.shift(-1)\n",
        "\n",
        "# series of True and False, True if delisted for poor performance\n",
        "DLCode = (crsp.dlstcd==500) | ((crsp.dlstcd >=520)&(crsp.dlstcd<=584))\n",
        "\n",
        "# -35% if no delisting return, delisted for poor performance and NYSE/AMEX\n",
        "crsp['dlret'] = np.where(DLCode & crsp.dlret.isnull() & crsp.exchcd.isin([1,2]), -0.35, crsp.dlret) \n",
        "\n",
        "# -55% if no delisting return, delisted for poor performance and Nasdaq\n",
        "crsp['dlret'] = np.where(DLCode & crsp.dlret.isnull() & (crsp.exchcd==3), -0.55, crsp.dlret)\n",
        "\n",
        "# if delisting return exists and < -1, change to -1\n",
        "crsp['dlret'] = np.where(crsp.dlret.notnull() & crsp.dlret<-1,-1,crsp.dlret)\n",
        "\n",
        "# if last day and return exists, define return by compounding with delisting return (if exists)      \n",
        "crsp['ret'] = np.where(LastObs & crsp.ret.notnull(), (1+crsp.ret)*(1+crsp.dlret.fillna(0))-1, crsp.ret)\n",
        "\n",
        "# if last day and return does not exist, define return as delisting return\n",
        "crsp['ret'] = np.where(LastObs & crsp.ret.isnull(), crsp.dlret, crsp.ret)"
      ]
    },
    {
      "cell_type": "markdown",
      "metadata": {
        "id": "1voGQVn8dUmH",
        "slideshow": {
          "slide_type": "slide"
        }
      },
      "source": [
        "### Merge CRSP with Compustat\n",
        "\n",
        "* Change dates to monthly period format before merging, because Compustat date is the last day of the month, and CRSP date is the last trading day  of the month.\n",
        "* Merge keeping all rows of CRSP data.  There will be NaNs for Compustat data for 11 months each year."
      ]
    },
    {
      "cell_type": "code",
      "execution_count": 44,
      "metadata": {
        "id": "7BNhhfOCdUmH",
        "slideshow": {
          "slide_type": "slide"
        }
      },
      "outputs": [],
      "source": [
        "crsp.date = crsp.date.dt.to_period('M')\n",
        "comp.date = comp.date.dt.to_period('M')\n",
        "\n",
        "df = crsp.merge(comp, on=['permno', 'date'], how='left')"
      ]
    },
    {
      "cell_type": "markdown",
      "metadata": {
        "id": "BRV4gGL2dUmH"
      },
      "source": [
        "### Fill Compustat data into months\n",
        "\n",
        "* Group by permno when filling forward so we don't fill from one stock into another\n",
        "* A limit of 11 months on the forward fill is the right limit if we have shifted to June 30, but it should probably be longer otherwise, because a firm might change its fiscal year and go more than 12 months between annual reports."
      ]
    },
    {
      "cell_type": "code",
      "execution_count": 45,
      "metadata": {
        "id": "bix8HdZcdUmI",
        "slideshow": {
          "slide_type": "slide"
        }
      },
      "outputs": [],
      "source": [
        "df[['at', 'inv']] = df.groupby('permno')[['at', 'inv']].ffill(limit=11)"
      ]
    },
    {
      "cell_type": "markdown",
      "metadata": {
        "id": "LEpqZc-6fRac"
      },
      "source": [
        "### Check result"
      ]
    },
    {
      "cell_type": "code",
      "execution_count": 46,
      "metadata": {
        "colab": {
          "base_uri": "https://localhost:8080/",
          "height": 206
        },
        "id": "4ZKOfJZLfTbz",
        "outputId": "9ae79e4e-e51f-4bea-fcb0-d280f6d0c717"
      },
      "outputs": [
        {
          "data": {
            "text/html": [
              "<div>\n",
              "<style scoped>\n",
              "    .dataframe tbody tr th:only-of-type {\n",
              "        vertical-align: middle;\n",
              "    }\n",
              "\n",
              "    .dataframe tbody tr th {\n",
              "        vertical-align: top;\n",
              "    }\n",
              "\n",
              "    .dataframe thead th {\n",
              "        text-align: right;\n",
              "    }\n",
              "</style>\n",
              "<table border=\"1\" class=\"dataframe\">\n",
              "  <thead>\n",
              "    <tr style=\"text-align: right;\">\n",
              "      <th></th>\n",
              "      <th>permno</th>\n",
              "      <th>permco</th>\n",
              "      <th>date</th>\n",
              "      <th>ret</th>\n",
              "      <th>me</th>\n",
              "      <th>exchcd</th>\n",
              "      <th>dlret</th>\n",
              "      <th>dlstcd</th>\n",
              "      <th>at</th>\n",
              "      <th>days</th>\n",
              "      <th>inv</th>\n",
              "    </tr>\n",
              "  </thead>\n",
              "  <tbody>\n",
              "    <tr>\n",
              "      <th>0</th>\n",
              "      <td>10001</td>\n",
              "      <td>7953</td>\n",
              "      <td>2000-01</td>\n",
              "      <td>-0.044118</td>\n",
              "      <td>19906.25</td>\n",
              "      <td>3.0</td>\n",
              "      <td>0.011583</td>\n",
              "      <td>233.0</td>\n",
              "      <td>NaN</td>\n",
              "      <td>NaN</td>\n",
              "      <td>NaN</td>\n",
              "    </tr>\n",
              "    <tr>\n",
              "      <th>1</th>\n",
              "      <td>10001</td>\n",
              "      <td>7953</td>\n",
              "      <td>2000-02</td>\n",
              "      <td>0.015385</td>\n",
              "      <td>20212.50</td>\n",
              "      <td>3.0</td>\n",
              "      <td>0.011583</td>\n",
              "      <td>233.0</td>\n",
              "      <td>NaN</td>\n",
              "      <td>NaN</td>\n",
              "      <td>NaN</td>\n",
              "    </tr>\n",
              "    <tr>\n",
              "      <th>2</th>\n",
              "      <td>10001</td>\n",
              "      <td>7953</td>\n",
              "      <td>2000-03</td>\n",
              "      <td>-0.015758</td>\n",
              "      <td>19712.00</td>\n",
              "      <td>3.0</td>\n",
              "      <td>0.011583</td>\n",
              "      <td>233.0</td>\n",
              "      <td>NaN</td>\n",
              "      <td>NaN</td>\n",
              "      <td>NaN</td>\n",
              "    </tr>\n",
              "    <tr>\n",
              "      <th>3</th>\n",
              "      <td>10001</td>\n",
              "      <td>7953</td>\n",
              "      <td>2000-04</td>\n",
              "      <td>0.011719</td>\n",
              "      <td>19943.00</td>\n",
              "      <td>3.0</td>\n",
              "      <td>0.011583</td>\n",
              "      <td>233.0</td>\n",
              "      <td>NaN</td>\n",
              "      <td>NaN</td>\n",
              "      <td>NaN</td>\n",
              "    </tr>\n",
              "    <tr>\n",
              "      <th>4</th>\n",
              "      <td>10001</td>\n",
              "      <td>7953</td>\n",
              "      <td>2000-05</td>\n",
              "      <td>-0.023166</td>\n",
              "      <td>19481.00</td>\n",
              "      <td>3.0</td>\n",
              "      <td>0.011583</td>\n",
              "      <td>233.0</td>\n",
              "      <td>NaN</td>\n",
              "      <td>NaN</td>\n",
              "      <td>NaN</td>\n",
              "    </tr>\n",
              "  </tbody>\n",
              "</table>\n",
              "</div>"
            ],
            "text/plain": [
              "   permno  permco     date       ret        me  exchcd     dlret  dlstcd  at  \\\n",
              "0   10001    7953  2000-01 -0.044118  19906.25     3.0  0.011583   233.0 NaN   \n",
              "1   10001    7953  2000-02  0.015385  20212.50     3.0  0.011583   233.0 NaN   \n",
              "2   10001    7953  2000-03 -0.015758  19712.00     3.0  0.011583   233.0 NaN   \n",
              "3   10001    7953  2000-04  0.011719  19943.00     3.0  0.011583   233.0 NaN   \n",
              "4   10001    7953  2000-05 -0.023166  19481.00     3.0  0.011583   233.0 NaN   \n",
              "\n",
              "   days  inv  \n",
              "0   NaN  NaN  \n",
              "1   NaN  NaN  \n",
              "2   NaN  NaN  \n",
              "3   NaN  NaN  \n",
              "4   NaN  NaN  "
            ]
          },
          "execution_count": 46,
          "metadata": {},
          "output_type": "execute_result"
        }
      ],
      "source": [
        "df.head()"
      ]
    },
    {
      "cell_type": "code",
      "execution_count": null,
      "metadata": {
        "slideshow": {
          "slide_type": "slide"
        }
      },
      "outputs": [
        {
          "data": {
            "text/plain": [
              "array([177405.,  28877.,  30950.,  15253.,  61697., 120354., 114747.,\n",
              "       135425.,  25632.])"
            ]
          },
          "execution_count": 29,
          "metadata": {},
          "output_type": "execute_result"
        }
      ],
      "source": [
        "df[df.days>720].gvkey.unique()"
      ]
    },
    {
      "cell_type": "markdown",
      "metadata": {
        "slideshow": {
          "slide_type": "slide"
        }
      },
      "source": [
        "### Coalescing Compustat data\n",
        "\n",
        "Often one fills in a missing Compustat variable with another variable or with some calculation involving other variables.  An example is the calculation of preferred stock by Fama and French when they calculate book equity.  They use pstkrv if it is not missing; if it is missing, they use pstkl; if both of those are missing, they use pstk; if all three of those are missing they set it to zero.  \n",
        "\n",
        "Here is an implementation using bfill.  axis=1 means fill across rows.  With axis=1, bfill fills from the right, going to the left.  It produces an array of the same shape that you started with.  The .iloc[:,0] produces the first (zero-th) column of the array."
      ]
    },
    {
      "cell_type": "code",
      "execution_count": null,
      "metadata": {
        "id": "9zQWwcPvfYcy",
        "slideshow": {
          "slide_type": "slide"
        }
      },
      "outputs": [],
      "source": [
        "comp = conn.raw_sql(\n",
        "    \"\"\"\n",
        "    select gvkey, datadate, pstkrv, pstkl, pstk\n",
        "    from comp.funda \n",
        "    where datadate >= '2000-01-01' \n",
        "    and indfmt='INDL' and datafmt='STD' and popsrc='D' and consol='C'\n",
        "    order by gvkey, datadate\n",
        "    \"\"\", \n",
        "    date_cols=['datadate']\n",
        ")\n",
        "\n",
        "comp['preferred'] = comp[['pstkrv','pstkl','pstk']].bfill(axis=1).iloc[:, 0].fillna(0)"
      ]
    },
    {
      "cell_type": "code",
      "execution_count": null,
      "metadata": {
        "slideshow": {
          "slide_type": "slide"
        }
      },
      "outputs": [
        {
          "data": {
            "text/html": [
              "<div>\n",
              "<style scoped>\n",
              "    .dataframe tbody tr th:only-of-type {\n",
              "        vertical-align: middle;\n",
              "    }\n",
              "\n",
              "    .dataframe tbody tr th {\n",
              "        vertical-align: top;\n",
              "    }\n",
              "\n",
              "    .dataframe thead th {\n",
              "        text-align: right;\n",
              "    }\n",
              "</style>\n",
              "<table border=\"1\" class=\"dataframe\">\n",
              "  <thead>\n",
              "    <tr style=\"text-align: right;\">\n",
              "      <th></th>\n",
              "      <th>gvkey</th>\n",
              "      <th>datadate</th>\n",
              "      <th>pstkrv</th>\n",
              "      <th>pstkl</th>\n",
              "      <th>pstk</th>\n",
              "      <th>preferred</th>\n",
              "    </tr>\n",
              "  </thead>\n",
              "  <tbody>\n",
              "    <tr>\n",
              "      <th>23</th>\n",
              "      <td>001010</td>\n",
              "      <td>2000-12-31</td>\n",
              "      <td>11.225</td>\n",
              "      <td>9.600</td>\n",
              "      <td>9.600</td>\n",
              "      <td>11.225</td>\n",
              "    </tr>\n",
              "    <tr>\n",
              "      <th>24</th>\n",
              "      <td>001010</td>\n",
              "      <td>2001-12-31</td>\n",
              "      <td>48.070</td>\n",
              "      <td>48.070</td>\n",
              "      <td>48.100</td>\n",
              "      <td>48.070</td>\n",
              "    </tr>\n",
              "    <tr>\n",
              "      <th>25</th>\n",
              "      <td>001010</td>\n",
              "      <td>2002-12-31</td>\n",
              "      <td>70.209</td>\n",
              "      <td>70.209</td>\n",
              "      <td>70.200</td>\n",
              "      <td>70.209</td>\n",
              "    </tr>\n",
              "    <tr>\n",
              "      <th>65</th>\n",
              "      <td>001021</td>\n",
              "      <td>2006-06-30</td>\n",
              "      <td>4.744</td>\n",
              "      <td>4.744</td>\n",
              "      <td>4.744</td>\n",
              "      <td>4.744</td>\n",
              "    </tr>\n",
              "    <tr>\n",
              "      <th>77</th>\n",
              "      <td>001037</td>\n",
              "      <td>2000-03-31</td>\n",
              "      <td>2.583</td>\n",
              "      <td>2.583</td>\n",
              "      <td>2.583</td>\n",
              "      <td>2.583</td>\n",
              "    </tr>\n",
              "  </tbody>\n",
              "</table>\n",
              "</div>"
            ],
            "text/plain": [
              "     gvkey   datadate  pstkrv   pstkl    pstk  preferred\n",
              "23  001010 2000-12-31  11.225   9.600   9.600     11.225\n",
              "24  001010 2001-12-31  48.070  48.070  48.100     48.070\n",
              "25  001010 2002-12-31  70.209  70.209  70.200     70.209\n",
              "65  001021 2006-06-30   4.744   4.744   4.744      4.744\n",
              "77  001037 2000-03-31   2.583   2.583   2.583      2.583"
            ]
          },
          "execution_count": 40,
          "metadata": {},
          "output_type": "execute_result"
        }
      ],
      "source": [
        "comp[comp.preferred != 0].head()"
      ]
    },
    {
      "cell_type": "code",
      "execution_count": null,
      "metadata": {
        "slideshow": {
          "slide_type": "slide"
        }
      },
      "outputs": [
        {
          "data": {
            "text/html": [
              "<div>\n",
              "<style scoped>\n",
              "    .dataframe tbody tr th:only-of-type {\n",
              "        vertical-align: middle;\n",
              "    }\n",
              "\n",
              "    .dataframe tbody tr th {\n",
              "        vertical-align: top;\n",
              "    }\n",
              "\n",
              "    .dataframe thead th {\n",
              "        text-align: right;\n",
              "    }\n",
              "</style>\n",
              "<table border=\"1\" class=\"dataframe\">\n",
              "  <thead>\n",
              "    <tr style=\"text-align: right;\">\n",
              "      <th></th>\n",
              "      <th>gvkey</th>\n",
              "      <th>datadate</th>\n",
              "      <th>pstkrv</th>\n",
              "      <th>pstkl</th>\n",
              "      <th>pstk</th>\n",
              "      <th>preferred</th>\n",
              "    </tr>\n",
              "  </thead>\n",
              "  <tbody>\n",
              "    <tr>\n",
              "      <th>1303</th>\n",
              "      <td>001429</td>\n",
              "      <td>2000-08-31</td>\n",
              "      <td>NaN</td>\n",
              "      <td>NaN</td>\n",
              "      <td>38.275</td>\n",
              "      <td>38.275</td>\n",
              "    </tr>\n",
              "    <tr>\n",
              "      <th>1304</th>\n",
              "      <td>001429</td>\n",
              "      <td>2001-08-31</td>\n",
              "      <td>NaN</td>\n",
              "      <td>NaN</td>\n",
              "      <td>38.275</td>\n",
              "      <td>38.275</td>\n",
              "    </tr>\n",
              "    <tr>\n",
              "      <th>2857</th>\n",
              "      <td>001932</td>\n",
              "      <td>2000-12-31</td>\n",
              "      <td>NaN</td>\n",
              "      <td>NaN</td>\n",
              "      <td>44.865</td>\n",
              "      <td>44.865</td>\n",
              "    </tr>\n",
              "    <tr>\n",
              "      <th>2858</th>\n",
              "      <td>001932</td>\n",
              "      <td>2001-12-31</td>\n",
              "      <td>NaN</td>\n",
              "      <td>NaN</td>\n",
              "      <td>43.629</td>\n",
              "      <td>43.629</td>\n",
              "    </tr>\n",
              "    <tr>\n",
              "      <th>2859</th>\n",
              "      <td>001932</td>\n",
              "      <td>2002-12-31</td>\n",
              "      <td>NaN</td>\n",
              "      <td>49.895</td>\n",
              "      <td>49.895</td>\n",
              "      <td>49.895</td>\n",
              "    </tr>\n",
              "  </tbody>\n",
              "</table>\n",
              "</div>"
            ],
            "text/plain": [
              "       gvkey   datadate  pstkrv   pstkl    pstk  preferred\n",
              "1303  001429 2000-08-31     NaN     NaN  38.275     38.275\n",
              "1304  001429 2001-08-31     NaN     NaN  38.275     38.275\n",
              "2857  001932 2000-12-31     NaN     NaN  44.865     44.865\n",
              "2858  001932 2001-12-31     NaN     NaN  43.629     43.629\n",
              "2859  001932 2002-12-31     NaN  49.895  49.895     49.895"
            ]
          },
          "execution_count": 38,
          "metadata": {},
          "output_type": "execute_result"
        }
      ],
      "source": [
        "comp[(comp.pstkrv.isna()) & (comp.preferred != 0)].head()"
      ]
    }
  ],
  "metadata": {
    "colab": {
      "collapsed_sections": [],
      "include_colab_link": true,
      "machine_shape": "hm",
      "name": "WRDS.ipynb",
      "provenance": [],
      "toc_visible": true
    },
    "kernelspec": {
      "display_name": "Python 3.10.3 64-bit",
      "language": "python",
      "name": "python3"
    },
    "language_info": {
      "codemirror_mode": {
        "name": "ipython",
        "version": 3
      },
      "file_extension": ".py",
      "mimetype": "text/x-python",
      "name": "python",
      "nbconvert_exporter": "python",
      "pygments_lexer": "ipython3",
      "version": "3.10.3"
    },
    "vscode": {
      "interpreter": {
        "hash": "a98f34b6005ae2330f135078450db511ef8910ecc790235ef0560aa88aa6ce12"
      }
    }
  },
  "nbformat": 4,
  "nbformat_minor": 0
}
