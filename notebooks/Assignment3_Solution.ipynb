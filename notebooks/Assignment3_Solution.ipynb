{
 "cells": [
  {
   "cell_type": "markdown",
   "metadata": {},
   "source": [
    "Read the datasets announcements.csv and crsp.csv files located in the notebooks repo into dataframes.  Each row of announcements.csv is a (stock, quarter) pair.  Each row of crsp.csv is a (stock, month) pair.  Complete the following.  Upload a zip file containing (i) your code, (ii) a text file or Word doc containing your answers to 1, 2, 9, 10, 11, 12, and 15, and (iii) three .csv files as specified in 8, 11, and 14.\n",
    "\n",
    "1.  How many stock-months (rows) are there in the crsp dataframe?  How many stock-quarters (rows) are there in announcements.csv?"
   ]
  },
  {
   "cell_type": "code",
   "execution_count": 1,
   "metadata": {},
   "outputs": [
    {
     "name": "stdout",
     "output_type": "stream",
     "text": [
      "# stock-months = 104664\n",
      "# stock-quarters = 9146\n"
     ]
    }
   ],
   "source": [
    "import pandas as pd \n",
    "\n",
    "crsp = pd.read_csv(\"crsp_sample.csv\")\n",
    "announcements = pd.read_csv(\"announcements_sample.csv\")\n",
    "print(f\"# stock-months = {len(crsp)}\")\n",
    "print(f\"# stock-quarters = {len(announcements)}\")"
   ]
  },
  {
   "cell_type": "markdown",
   "metadata": {},
   "source": [
    "2.  How many unique permnos are there in the announcements dataframe?  Hint: there is a \"unique\" method.  Use \"len\" also."
   ]
  },
  {
   "cell_type": "code",
   "execution_count": 2,
   "metadata": {},
   "outputs": [
    {
     "data": {
      "text/plain": [
       "2509"
      ]
     },
     "execution_count": 2,
     "metadata": {},
     "output_type": "execute_result"
    }
   ],
   "source": [
    "len(announcements.permno.unique())"
   ]
  },
  {
   "cell_type": "markdown",
   "metadata": {},
   "source": [
    "3.  Create a \"quarter\" column in the announcements dataframe based on the fiscal_period column."
   ]
  },
  {
   "cell_type": "code",
   "execution_count": 10,
   "metadata": {},
   "outputs": [
    {
     "data": {
      "text/html": [
       "<div>\n",
       "<style scoped>\n",
       "    .dataframe tbody tr th:only-of-type {\n",
       "        vertical-align: middle;\n",
       "    }\n",
       "\n",
       "    .dataframe tbody tr th {\n",
       "        vertical-align: top;\n",
       "    }\n",
       "\n",
       "    .dataframe thead th {\n",
       "        text-align: right;\n",
       "    }\n",
       "</style>\n",
       "<table border=\"1\" class=\"dataframe\">\n",
       "  <thead>\n",
       "    <tr style=\"text-align: right;\">\n",
       "      <th></th>\n",
       "      <th>permno</th>\n",
       "      <th>fiscal_period</th>\n",
       "      <th>quarter</th>\n",
       "    </tr>\n",
       "  </thead>\n",
       "  <tbody>\n",
       "    <tr>\n",
       "      <th>0</th>\n",
       "      <td>10026</td>\n",
       "      <td>2020-12-31</td>\n",
       "      <td>2020Q4</td>\n",
       "    </tr>\n",
       "    <tr>\n",
       "      <th>1</th>\n",
       "      <td>10026</td>\n",
       "      <td>2021-03-31</td>\n",
       "      <td>2021Q1</td>\n",
       "    </tr>\n",
       "    <tr>\n",
       "      <th>2</th>\n",
       "      <td>10026</td>\n",
       "      <td>2021-06-30</td>\n",
       "      <td>2021Q2</td>\n",
       "    </tr>\n",
       "    <tr>\n",
       "      <th>3</th>\n",
       "      <td>10026</td>\n",
       "      <td>2021-09-30</td>\n",
       "      <td>2021Q3</td>\n",
       "    </tr>\n",
       "    <tr>\n",
       "      <th>4</th>\n",
       "      <td>10032</td>\n",
       "      <td>2020-12-31</td>\n",
       "      <td>2020Q4</td>\n",
       "    </tr>\n",
       "  </tbody>\n",
       "</table>\n",
       "</div>"
      ],
      "text/plain": [
       "   permno fiscal_period quarter\n",
       "0   10026    2020-12-31  2020Q4\n",
       "1   10026    2021-03-31  2021Q1\n",
       "2   10026    2021-06-30  2021Q2\n",
       "3   10026    2021-09-30  2021Q3\n",
       "4   10032    2020-12-31  2020Q4"
      ]
     },
     "execution_count": 10,
     "metadata": {},
     "output_type": "execute_result"
    }
   ],
   "source": [
    "announcements[\"quarter\"] = pd.to_datetime(\n",
    "    announcements.fiscal_period\n",
    ").dt.to_period(\"Q\")\n",
    "\n",
    "announcements[[\"permno\", \"fiscal_period\", \"quarter\"]].head()"
   ]
  },
  {
   "cell_type": "markdown",
   "metadata": {},
   "source": [
    "4.  Create a \"quarter\" column in the crsp dataframe based on the date column."
   ]
  },
  {
   "cell_type": "code",
   "execution_count": 11,
   "metadata": {},
   "outputs": [
    {
     "data": {
      "text/html": [
       "<div>\n",
       "<style scoped>\n",
       "    .dataframe tbody tr th:only-of-type {\n",
       "        vertical-align: middle;\n",
       "    }\n",
       "\n",
       "    .dataframe tbody tr th {\n",
       "        vertical-align: top;\n",
       "    }\n",
       "\n",
       "    .dataframe thead th {\n",
       "        text-align: right;\n",
       "    }\n",
       "</style>\n",
       "<table border=\"1\" class=\"dataframe\">\n",
       "  <thead>\n",
       "    <tr style=\"text-align: right;\">\n",
       "      <th></th>\n",
       "      <th>permno</th>\n",
       "      <th>date</th>\n",
       "      <th>quarter</th>\n",
       "    </tr>\n",
       "  </thead>\n",
       "  <tbody>\n",
       "    <tr>\n",
       "      <th>0</th>\n",
       "      <td>10026</td>\n",
       "      <td>2021-01-29</td>\n",
       "      <td>2021Q1</td>\n",
       "    </tr>\n",
       "    <tr>\n",
       "      <th>1</th>\n",
       "      <td>10026</td>\n",
       "      <td>2021-02-26</td>\n",
       "      <td>2021Q1</td>\n",
       "    </tr>\n",
       "    <tr>\n",
       "      <th>2</th>\n",
       "      <td>10026</td>\n",
       "      <td>2021-03-31</td>\n",
       "      <td>2021Q1</td>\n",
       "    </tr>\n",
       "    <tr>\n",
       "      <th>3</th>\n",
       "      <td>10026</td>\n",
       "      <td>2021-04-30</td>\n",
       "      <td>2021Q2</td>\n",
       "    </tr>\n",
       "    <tr>\n",
       "      <th>4</th>\n",
       "      <td>10026</td>\n",
       "      <td>2021-05-28</td>\n",
       "      <td>2021Q2</td>\n",
       "    </tr>\n",
       "  </tbody>\n",
       "</table>\n",
       "</div>"
      ],
      "text/plain": [
       "   permno        date quarter\n",
       "0   10026  2021-01-29  2021Q1\n",
       "1   10026  2021-02-26  2021Q1\n",
       "2   10026  2021-03-31  2021Q1\n",
       "3   10026  2021-04-30  2021Q2\n",
       "4   10026  2021-05-28  2021Q2"
      ]
     },
     "execution_count": 11,
     "metadata": {},
     "output_type": "execute_result"
    }
   ],
   "source": [
    "crsp[\"quarter\"] = pd.to_datetime(\n",
    "    crsp.date\n",
    ").dt.to_period(\"Q\")\n",
    "\n",
    "crsp[[\"permno\", \"date\", \"quarter\"]].head()"
   ]
  },
  {
   "cell_type": "markdown",
   "metadata": {},
   "source": [
    "5.  Extract the last day of each quarter for each permno in the crsp dataframe.  Hint: use groupby and .last()."
   ]
  },
  {
   "cell_type": "code",
   "execution_count": 14,
   "metadata": {},
   "outputs": [
    {
     "data": {
      "text/plain": [
       "permno  quarter\n",
       "10026   2021Q1     2021-03-31\n",
       "        2021Q2     2021-06-30\n",
       "        2021Q3     2021-09-30\n",
       "        2021Q4     2021-12-31\n",
       "10028   2021Q1     2021-03-31\n",
       "Name: date, dtype: object"
      ]
     },
     "execution_count": 14,
     "metadata": {},
     "output_type": "execute_result"
    }
   ],
   "source": [
    "crsp_new = crsp.groupby([\"permno\", \"quarter\"]).last()\n",
    "crsp_new[\"date\"].head()"
   ]
  }
 ],
 "metadata": {
  "kernelspec": {
   "display_name": "Python 3",
   "language": "python",
   "name": "python3"
  },
  "language_info": {
   "codemirror_mode": {
    "name": "ipython",
    "version": 3
   },
   "file_extension": ".py",
   "mimetype": "text/x-python",
   "name": "python",
   "nbconvert_exporter": "python",
   "pygments_lexer": "ipython3",
   "version": "3.12.5"
  }
 },
 "nbformat": 4,
 "nbformat_minor": 2
}
