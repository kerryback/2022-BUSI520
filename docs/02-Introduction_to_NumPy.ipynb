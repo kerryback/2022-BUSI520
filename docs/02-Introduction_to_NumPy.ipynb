{
  "cells": [
    {
      "cell_type": "markdown",
      "source": [
        "# Introduction to NumPy\n",
        "## A Comprehensive Guide for Data Science Students"
      ],
      "metadata": {
        "noteable": {
          "cell_type": "markdown"
        }
      },
      "id": "a8977ab7-3661-4e9f-bd1f-2c3ba0889b84"
    },
    {
      "cell_type": "markdown",
      "source": [
        "# Introduction to NumPy\n",
        "\n",
        "## What is NumPy?\n",
        "\n",
        "NumPy, short for Numerical Python, is a foundational package for numerical computations in Python. It provides support for large multi-dimensional arrays and matrices, along with a collection of mathematical functions to operate on these arrays."
      ],
      "metadata": {
        "noteable": {
          "cell_type": "markdown"
        }
      },
      "id": "1704866e-d59b-4699-be15-6938b9309c7a"
    },
    {
      "cell_type": "markdown",
      "source": [
        "## Why NumPy?\n",
        "\n",
        "- **Performance**: NumPy operations are implemented in C, making them much faster than standard Python.\n",
        "- **Memory Efficiency**: NumPy arrays are more compact and allow faster access in reading/writing items.\n",
        "- **Convenience**: Offers a lot of mathematical functions and operations out of the box.\n",
        "- **Interoperability**: Can integrate with a vast amount of other libraries and tools in the Python ecosystem."
      ],
      "metadata": {
        "noteable": {
          "cell_type": "markdown"
        }
      },
      "id": "8fcda172-a4db-4e38-8824-0d11eb6dc0f9"
    },
    {
      "cell_type": "markdown",
      "source": [
        "## Installing NumPy\n",
        "\n",
        "To install NumPy, you can use pip:\n",
        "```\n",
        "pip install numpy\n",
        "```\n",
        "Once installed, you can import it in your Python script or Jupyter notebook as follows:\n",
        "```python\n",
        "import numpy as np\n",
        "```"
      ],
      "metadata": {
        "noteable": {
          "cell_type": "markdown"
        }
      },
      "id": "7cc92903-a4ed-4f44-862e-98ddbfb93609"
    },
    {
      "cell_type": "code",
      "source": [
        "import numpy as np"
      ],
      "outputs": [],
      "execution_count": null,
      "metadata": {
        "noteable": {
          "cell_type": "code"
        }
      },
      "id": "7a937e9a-3ed6-4936-95ef-792862389613"
    },
    {
      "cell_type": "markdown",
      "source": [
        "## Basics of NumPy Arrays\n",
        "\n",
        "At the core of NumPy is the `ndarray` object, which encapsulates n-dimensional arrays of homogeneous data types. Let's explore some basic operations and properties of NumPy arrays."
      ],
      "metadata": {
        "noteable": {
          "cell_type": "markdown"
        }
      },
      "id": "ad7f58e6-deac-4c21-88af-75d4d89c177f"
    },
    {
      "cell_type": "code",
      "source": [
        "# Creating a 1D array\n",
        "arr_1d = np.array([1, 2, 3, 4, 5])\n",
        "arr_1d"
      ],
      "outputs": [],
      "execution_count": null,
      "metadata": {
        "noteable": {
          "cell_type": "code"
        }
      },
      "id": "f4bfe6bf-7b8b-4a17-882d-bccf053cd9af"
    },
    {
      "cell_type": "code",
      "source": [
        "# Creating a 2D array\n",
        "arr_2d = np.array([[1, 2, 3], [4, 5, 6], [7, 8, 9]])\n",
        "arr_2d"
      ],
      "outputs": [],
      "execution_count": null,
      "metadata": {
        "noteable": {
          "cell_type": "code"
        }
      },
      "id": "324a6fed-863d-4d29-a822-544195f49987"
    },
    {
      "cell_type": "markdown",
      "source": [
        "### Array Attributes\n",
        "\n",
        "NumPy arrays have several attributes that give information about the array's size, shape, and data type:"
      ],
      "metadata": {
        "noteable": {
          "cell_type": "markdown"
        }
      },
      "id": "a4045ceb-fd7f-4915-99bb-9eeaf451d5d7"
    },
    {
      "cell_type": "code",
      "source": [
        "# Attributes of the 1D array\n",
        "print('Shape:', arr_1d.shape)\n",
        "print('Size:', arr_1d.size)\n",
        "print('Number of dimensions:', arr_1d.ndim)\n",
        "print('Data type:', arr_1d.dtype)"
      ],
      "outputs": [],
      "execution_count": null,
      "metadata": {
        "noteable": {
          "cell_type": "code"
        }
      },
      "id": "257b03a9-301b-46fb-b350-c9182c0ed665"
    },
    {
      "cell_type": "code",
      "source": [
        "# Attributes of the 2D array\n",
        "print('Shape:', arr_2d.shape)\n",
        "print('Size:', arr_2d.size)\n",
        "print('Number of dimensions:', arr_2d.ndim)\n",
        "print('Data type:', arr_2d.dtype)"
      ],
      "outputs": [],
      "execution_count": null,
      "metadata": {
        "noteable": {
          "cell_type": "code"
        }
      },
      "id": "7a8d2cb8-87d0-4c5b-ac8d-78c87a068999"
    },
    {
      "cell_type": "markdown",
      "source": [
        "### Array Indexing and Slicing\n",
        "\n",
        "Just like Python lists, NumPy arrays can be indexed and sliced. This allows for efficient access to and modification of the array's contents."
      ],
      "metadata": {
        "noteable": {
          "cell_type": "markdown"
        }
      },
      "id": "46f873e0-b80d-47c5-ad23-1123e2e3835e"
    },
    {
      "cell_type": "code",
      "source": [
        "# Indexing a 1D array\n",
        "print('First element:', arr_1d[0])\n",
        "print('Second element:', arr_1d[1])\n",
        "print('Last element:', arr_1d[-1])"
      ],
      "outputs": [],
      "execution_count": null,
      "metadata": {
        "noteable": {
          "cell_type": "code"
        }
      },
      "id": "162e6868-edc2-45e9-bd17-8f9297e0a9eb"
    },
    {
      "cell_type": "code",
      "source": [
        "# Slicing a 1D array\n",
        "print('First three elements:', arr_1d[:3])\n",
        "print('Elements from index 2 to 4:', arr_1d[2:5])\n",
        "print('Every second element:', arr_1d[::2])"
      ],
      "outputs": [],
      "execution_count": null,
      "metadata": {
        "noteable": {
          "cell_type": "code"
        }
      },
      "id": "0b27b0e5-4d5f-4331-8704-5fabef3651a2"
    },
    {
      "cell_type": "code",
      "source": [
        "# Indexing a 2D array\n",
        "print('Element at (0,0):', arr_2d[0, 0])\n",
        "print('Element at (1,2):', arr_2d[1, 2])\n",
        "print('Second row:', arr_2d[1])"
      ],
      "outputs": [],
      "execution_count": null,
      "metadata": {
        "noteable": {
          "cell_type": "code"
        }
      },
      "id": "4fa535c2-8744-484b-8a31-d3bfa34e9ba9"
    },
    {
      "cell_type": "code",
      "source": [
        "# Slicing a 2D array\n",
        "print('First two rows and first two columns:\\n', arr_2d[:2, :2])\n",
        "print('All rows, every other column:\\n', arr_2d[:, ::2])"
      ],
      "outputs": [],
      "execution_count": null,
      "metadata": {
        "noteable": {
          "cell_type": "code"
        }
      },
      "id": "e5d473ee-08be-4a74-8261-6192de86d0ac"
    },
    {
      "cell_type": "markdown",
      "source": [
        "### Array Operations\n",
        "\n",
        "NumPy arrays support a variety of operations, both unary (operations with one operand) and binary (operations with two operands). These operations are performed element-wise, which means they are applied to each element of the array separately."
      ],
      "metadata": {
        "noteable": {
          "cell_type": "markdown"
        }
      },
      "id": "0a0c2538-63f2-49f2-b724-2b6f5cb5fd10"
    },
    {
      "cell_type": "code",
      "source": [
        "# Unary operations\n",
        "print('Original array:\\n', arr_1d)\n",
        "print('Array + 5:\\n', arr_1d + 5)\n",
        "print('Array squared:\\n', arr_1d**2)"
      ],
      "outputs": [],
      "execution_count": null,
      "metadata": {
        "noteable": {
          "cell_type": "code"
        }
      },
      "id": "6b2181da-6918-4362-9b9f-56065d10ff84"
    },
    {
      "cell_type": "code",
      "source": [
        "# Binary operations\n",
        "arr1 = np.array([1, 2, 3])\n",
        "arr2 = np.array([4, 5, 6])\n",
        "print('arr1:', arr1)\n",
        "print('arr2:', arr2)\n",
        "print('arr1 + arr2:', arr1 + arr2)\n",
        "print('arr1 * arr2:', arr1 * arr2)"
      ],
      "outputs": [],
      "execution_count": null,
      "metadata": {
        "noteable": {
          "cell_type": "code"
        }
      },
      "id": "6575d72b-82c8-43a0-9570-832781e86946"
    },
    {
      "cell_type": "markdown",
      "source": [
        "### Mathematical Functions\n",
        "\n",
        "NumPy provides a comprehensive set of mathematical functions that can be applied element-wise to arrays. These include trigonometric, logarithmic, exponential, and statistical functions, among others."
      ],
      "metadata": {
        "noteable": {
          "cell_type": "markdown"
        }
      },
      "id": "339db08b-5148-4335-b50d-aff245428f7a"
    },
    {
      "cell_type": "code",
      "source": [
        "# Some mathematical functions\n",
        "print('Sin values:', np.sin(arr_1d))\n",
        "print('Natural logarithm:', np.log(arr_1d))\n",
        "print('Exponential:', np.exp(arr_1d))"
      ],
      "outputs": [],
      "execution_count": null,
      "metadata": {
        "noteable": {
          "cell_type": "code"
        }
      },
      "id": "674fd366-a6b8-4d70-90bb-4c6f56ad2f31"
    },
    {
      "cell_type": "markdown",
      "source": [
        "### Aggregation Functions\n",
        "\n",
        "NumPy provides functions to compute aggregated values like sum, mean, median, etc. These can be applied to the entire array or along a specified axis in case of multi-dimensional arrays."
      ],
      "metadata": {
        "noteable": {
          "cell_type": "markdown"
        }
      },
      "id": "7acaa510-a0f1-4001-aac2-19f9fbcd76f3"
    },
    {
      "cell_type": "code",
      "source": [
        "# Aggregation functions on 1D array\n",
        "print('Sum:', np.sum(arr_1d))\n",
        "print('Mean:', np.mean(arr_1d))\n",
        "print('Standard Deviation:', np.std(arr_1d))"
      ],
      "outputs": [],
      "execution_count": null,
      "metadata": {
        "noteable": {
          "cell_type": "code"
        }
      },
      "id": "b4000f8b-5371-43d1-9722-2f2b06a00634"
    },
    {
      "cell_type": "code",
      "source": [
        "# Aggregation functions on 2D array\n",
        "print('Total Sum:', np.sum(arr_2d))\n",
        "print('Sum along columns:', np.sum(arr_2d, axis=0))\n",
        "print('Sum along rows:', np.sum(arr_2d, axis=1))"
      ],
      "outputs": [],
      "execution_count": null,
      "metadata": {
        "noteable": {
          "cell_type": "code"
        }
      },
      "id": "1b4af957-0df7-41c3-8545-536d887abf53"
    },
    {
      "cell_type": "markdown",
      "source": [
        "### Broadcasting\n",
        "\n",
        "Broadcasting is a powerful feature in NumPy that allows for operations between arrays of different shapes. It does this by 'stretching' the smaller array to match the shape of the larger array, without actually copying any data."
      ],
      "metadata": {
        "noteable": {
          "cell_type": "markdown"
        }
      },
      "id": "0c534db4-19a1-4464-b972-cfeb7ad78f24"
    },
    {
      "cell_type": "code",
      "source": [
        "# Broadcasting in action\n",
        "arr = np.array([[1, 2, 3], [4, 5, 6], [7, 8, 9]])\n",
        "print('Original array:\\n', arr)\n",
        "\n",
        "# Adding a scalar to a 2D array\n",
        "print('\\nArray after adding 5:\\n', arr + 5)\n",
        "\n",
        "# Adding a 1D array to a 2D array\n",
        "vec = np.array([1, 0, -1])\n",
        "print('\\nArray after adding [1, 0, -1]:\\n', arr + vec)"
      ],
      "outputs": [],
      "execution_count": null,
      "metadata": {
        "noteable": {
          "cell_type": "code"
        }
      },
      "id": "6ef1dde0-e8b0-41c4-832d-8f42af40c48a"
    },
    {
      "cell_type": "markdown",
      "source": [
        "### Advanced Indexing\n",
        "\n",
        "Apart from basic indexing and slicing, NumPy offers more advanced indexing techniques. This includes integer array indexing and boolean indexing."
      ],
      "metadata": {
        "noteable": {
          "cell_type": "markdown"
        }
      },
      "id": "d3b80a26-ba7a-4cdf-a14a-35898fda59bf"
    },
    {
      "cell_type": "code",
      "source": [
        "# Integer array indexing\n",
        "print('Original array:\\n', arr_1d)\n",
        "indices = np.array([1, 3, 4])\n",
        "print('Elements at indices 1, 3, and 4:', arr_1d[indices])"
      ],
      "outputs": [],
      "execution_count": null,
      "metadata": {
        "noteable": {
          "cell_type": "code"
        }
      },
      "id": "3f8a0b25-6500-473e-befc-48bfaab53764"
    },
    {
      "cell_type": "code",
      "source": [
        "# Boolean indexing\n",
        "print('Original array:\\n', arr_1d)\n",
        "mask = arr_1d > 3\n",
        "print('Mask of elements greater than 3:', mask)\n",
        "print('Elements greater than 3:', arr_1d[mask])"
      ],
      "outputs": [],
      "execution_count": null,
      "metadata": {
        "noteable": {
          "cell_type": "code"
        }
      },
      "id": "f145103b-90c3-4623-b3cc-942c02d2dd0e"
    },
    {
      "cell_type": "markdown",
      "source": [
        "### Reshaping and Transposing\n",
        "\n",
        "NumPy provides functionalities to change the shape of arrays without changing their data. This is particularly useful when you need to prepare data for certain libraries or operations that expect data in a particular shape."
      ],
      "metadata": {
        "noteable": {
          "cell_type": "markdown"
        }
      },
      "id": "07eb3d86-307b-4385-9860-69070f37b543"
    },
    {
      "cell_type": "code",
      "source": [
        "# Reshaping an array\n",
        "print('Original 2D array:\\n', arr_2d)\n",
        "reshaped = arr_2d.reshape(1, 9)\n",
        "print('\\nReshaped to 1x9 array:\\n', reshaped)"
      ],
      "outputs": [],
      "execution_count": null,
      "metadata": {
        "noteable": {
          "cell_type": "code"
        }
      },
      "id": "3b82ffd8-7427-4f76-8995-2a5d1a57260e"
    },
    {
      "cell_type": "code",
      "source": [
        "# Transposing an array\n",
        "print('Original 2D array:\\n', arr_2d)\n",
        "transposed = arr_2d.T\n",
        "print('\\nTransposed array:\\n', transposed)"
      ],
      "outputs": [],
      "execution_count": null,
      "metadata": {
        "noteable": {
          "cell_type": "code"
        }
      },
      "id": "09bd46bd-492d-4c80-a3da-8ebecc81ca97"
    },
    {
      "cell_type": "markdown",
      "source": [
        "### Conclusion\n",
        "\n",
        "This was a brief introduction to NumPy, one of the most fundamental packages for numerical computations in Python. We've covered basic array operations, mathematical functions, indexing techniques, and reshaping methods. There's a lot more to explore in NumPy, and practicing with real-world data will solidify your understanding. Happy computing!"
      ],
      "metadata": {
        "noteable": {
          "cell_type": "markdown"
        }
      },
      "id": "6f589155-fe07-44b3-84b5-6889b7b03f2a"
    },
    {
      "cell_type": "code",
      "source": [
        "# Aggregation functions on 1D array\n",
        "print('Sum:', np.sum(arr_1d))\n",
        "print('Mean:', np.mean(arr_1d))\n",
        "print('Median:', np.median(arr_1d))\n",
        "print('Standard Deviation:', np.std(arr_1d))"
      ],
      "outputs": [],
      "execution_count": null,
      "metadata": {
        "noteable": {
          "cell_type": "code"
        }
      },
      "id": "b1ebe66c-35fd-4efd-9694-cf6948f6b0b1"
    },
    {
      "cell_type": "code",
      "source": [
        "# Aggregation functions on 2D array\n",
        "print('Sum of all elements:', np.sum(arr_2d))\n",
        "print('Mean of all elements:', np.mean(arr_2d))\n",
        "print('Sum along columns:', np.sum(arr_2d, axis=0))\n",
        "print('Mean along rows:', np.mean(arr_2d, axis=1))"
      ],
      "outputs": [],
      "execution_count": null,
      "metadata": {
        "noteable": {
          "cell_type": "code"
        }
      },
      "id": "01a15ba9-0176-4038-b528-f3a7043b245a"
    },
    {
      "cell_type": "markdown",
      "source": [
        "### Broadcasting\n",
        "\n",
        "Broadcasting is a powerful feature in NumPy that allows you to perform operations on arrays of different shapes. It does this by automatically expanding the dimensions of the smaller array to match the larger array, without making copies of the data."
      ],
      "metadata": {
        "noteable": {
          "cell_type": "markdown"
        }
      },
      "id": "9cb6cbb1-9fb8-4395-a5c0-d2bedf5b5466"
    },
    {
      "cell_type": "code",
      "source": [
        "# Demonstrating broadcasting\n",
        "arr3 = np.array([[1, 2, 3], [4, 5, 6], [7, 8, 9]])\n",
        "arr4 = np.array([1, 0, 1])\n",
        "\n",
        "# Broadcasting arr4 onto arr3\n",
        "result = arr3 + arr4\n",
        "result"
      ],
      "outputs": [],
      "execution_count": null,
      "metadata": {
        "noteable": {
          "cell_type": "code"
        }
      },
      "id": "ff8afe70-5120-488a-9fa7-62853818cef3"
    },
    {
      "cell_type": "markdown",
      "source": [
        "### Advanced Indexing\n",
        "\n",
        "NumPy provides more advanced indexing mechanisms than regular Python lists. This includes integer array indexing and boolean indexing."
      ],
      "metadata": {
        "noteable": {
          "cell_type": "markdown"
        }
      },
      "id": "fdfaec7a-2133-4c1b-9dfa-8d16d7947883"
    },
    {
      "cell_type": "code",
      "source": [
        "# Integer array indexing\n",
        "indices = np.array([0, 2])\n",
        "print('Selecting elements at 0th and 2nd index:', arr_1d[indices])"
      ],
      "outputs": [],
      "execution_count": null,
      "metadata": {
        "noteable": {
          "cell_type": "code"
        }
      },
      "id": "eca2ceb7-40df-4cc8-8258-e1b681680d0e"
    },
    {
      "cell_type": "code",
      "source": [
        "# Boolean indexing\n",
        "mask = arr_1d > 3\n",
        "print('Elements greater than 3:', arr_1d[mask])"
      ],
      "outputs": [],
      "execution_count": null,
      "metadata": {
        "noteable": {
          "cell_type": "code"
        }
      },
      "id": "55e9c49c-0d90-4eb7-aced-a57e26dfb520"
    },
    {
      "cell_type": "markdown",
      "source": [
        "### Reshaping and Transposing\n",
        "\n",
        "NumPy provides functionalities to change the shape of arrays without changing their data. This is particularly useful when you need to prepare data for certain types of operations or visualizations."
      ],
      "metadata": {
        "noteable": {
          "cell_type": "markdown"
        }
      },
      "id": "cab7a4e8-862f-452f-a308-f7ec859411c8"
    },
    {
      "cell_type": "code",
      "source": [
        "# Reshaping an array\n",
        "reshaped_arr = arr_1d.reshape(5, 1)\n",
        "reshaped_arr"
      ],
      "outputs": [],
      "execution_count": null,
      "metadata": {
        "noteable": {
          "cell_type": "code"
        }
      },
      "id": "ff5ff67c-a219-4e19-a700-5ca47fcf2724"
    },
    {
      "cell_type": "code",
      "source": [
        "# Transposing an array\n",
        "transposed_arr = arr_2d.T\n",
        "transposed_arr"
      ],
      "outputs": [],
      "execution_count": null,
      "metadata": {
        "noteable": {
          "cell_type": "code"
        }
      },
      "id": "6dbeac28-288b-40c4-bff8-f63938519778"
    },
    {
      "cell_type": "markdown",
      "source": [
        "### Conclusion\n",
        "\n",
        "This introduction provides a glimpse into the capabilities of NumPy. The library offers a wide range of functionalities for numerical computing, making it an essential tool for data scientists, researchers, and engineers working with Python. Practice and exploration are key to mastering NumPy and leveraging its full potential in your projects."
      ],
      "metadata": {
        "noteable": {
          "cell_type": "markdown"
        }
      },
      "id": "5911cdc4-f132-421e-8a66-57de7175bad6"
    },
    {
      "cell_type": "markdown",
      "source": [
        "### Applying User-Defined Functions to Arrays\n",
        "\n",
        "Often, you might want to apply a custom function to each element of a NumPy array. NumPy provides the `np.vectorize()` method to achieve this. This method transforms a function that accepts and produces scalars into a function that operates on arrays.\n",
        "\n",
        "Let's explore how to use `np.vectorize()` with both standard functions (defined using `def`) and lambda functions."
      ],
      "metadata": {
        "noteable": {
          "cell_type": "markdown"
        }
      },
      "id": "d2b6d91c-e142-4d82-bf7b-1de8ca2540c6"
    },
    {
      "cell_type": "code",
      "source": [
        "# Using a standard function defined with 'def'\n",
        "def square_and_add_five(x):\n",
        "    return x**2 + 5\n",
        "\n",
        "vectorized_function = np.vectorize(square_and_add_five)\n",
        "\n",
        "result_def = vectorized_function(arr_1d)\n",
        "result_def"
      ],
      "outputs": [],
      "execution_count": null,
      "metadata": {
        "noteable": {
          "cell_type": "code"
        }
      },
      "id": "fdaa22c6-c24a-4cc2-afc4-45467fd4b974"
    },
    {
      "cell_type": "code",
      "source": [
        "# Using a lambda function\n",
        "lambda_function = lambda x: x**2 - 3\n",
        "\n",
        "vectorized_lambda = np.vectorize(lambda_function)\n",
        "\n",
        "result_lambda = vectorized_lambda(arr_1d)\n",
        "result_lambda"
      ],
      "outputs": [],
      "execution_count": null,
      "metadata": {
        "noteable": {
          "cell_type": "code"
        }
      },
      "id": "428ebf79-7790-474e-8ab9-d61136703817"
    },
    {
      "cell_type": "markdown",
      "source": [
        "### Understanding Array Shapes: (n, 1) vs. (n,)\n",
        "\n",
        "In NumPy, the shape of an array is represented as a tuple indicating the size of each dimension. The shapes `(n, 1)` and `(n,)` might seem similar, but they represent different structures:\n",
        "\n",
        "- `(n,)`: Represents a one-dimensional array with `n` elements.\n",
        "- `(n, 1)`: Represents a two-dimensional array with `n` rows and 1 column.\n",
        "\n",
        "Let's explore these shapes in more detail and see how to convert between them."
      ],
      "metadata": {
        "noteable": {
          "cell_type": "markdown"
        }
      },
      "id": "c10733f2-471b-49d3-bd5a-d09302ca120d"
    },
    {
      "cell_type": "code",
      "source": [
        "# Creating an array with shape (n,)\n",
        "one_d_array = np.array([1, 2, 3, 4, 5])\n",
        "print('1D array:', one_d_array)\n",
        "print('Shape:', one_d_array.shape)\n",
        "\n",
        "# Reshaping to (n, 1)\n",
        "two_d_array = one_d_array.reshape(-1, 1)\n",
        "print('\\n2D array:\\n', two_d_array)\n",
        "print('Shape:', two_d_array.shape)"
      ],
      "outputs": [],
      "execution_count": null,
      "metadata": {
        "noteable": {
          "cell_type": "code"
        }
      },
      "id": "cfee3b5a-a13a-43c5-a4dc-c4d5dc51a218"
    },
    {
      "cell_type": "code",
      "source": [
        "# Converting back to shape (n,)\n",
        "converted_one_d_array = two_d_array.reshape(-1)\n",
        "print('Converted 1D array:', converted_one_d_array)\n",
        "print('Shape:', converted_one_d_array.shape)"
      ],
      "outputs": [],
      "execution_count": null,
      "metadata": {
        "noteable": {
          "cell_type": "code"
        }
      },
      "id": "8359b51a-078f-4d5a-926d-035874dcc681"
    },
    {
      "cell_type": "markdown",
      "source": [
        "### The `flatten` Method\n",
        "\n",
        "Another way to convert a multi-dimensional array into a one-dimensional array is by using the `flatten` method. This method returns a copy of the original array, flattened to one dimension."
      ],
      "metadata": {
        "noteable": {
          "cell_type": "markdown"
        }
      },
      "id": "7c191837-5ffb-4e0c-87e4-0b404629472d"
    },
    {
      "cell_type": "code",
      "source": [
        "# Using the flatten method\n",
        "flattened_array = two_d_array.flatten()\n",
        "print('Flattened array:', flattened_array)\n",
        "print('Shape:', flattened_array.shape)"
      ],
      "outputs": [],
      "execution_count": null,
      "metadata": {
        "noteable": {
          "cell_type": "code"
        }
      },
      "id": "caac2703-e0e2-475c-ac63-f9196bbe8351"
    },
    {
      "cell_type": "markdown",
      "source": [
        "### The `ravel` Method\n",
        "\n",
        "The `ravel` method is another way to flatten multi-dimensional arrays into one dimension. It functions similarly to the `flatten` method but with a key difference:\n",
        "\n",
        "- `flatten` always returns a copy of the data.\n",
        "- `ravel` returns a flattened view of the original array whenever possible. This means that if no copy is required, the original data is used, making `ravel` more memory efficient. However, if a copy is necessary (for example, due to non-contiguous memory layout), then `ravel` will return a copy just like `flatten`.\n",
        "\n",
        "Because of this behavior, modifications to the array returned by `ravel` might affect the original array, whereas modifications to the array returned by `flatten` will never affect the original array."
      ],
      "metadata": {
        "noteable": {
          "cell_type": "markdown"
        }
      },
      "id": "ef2bde08-0537-4f5a-bfe3-e987de5c290a"
    },
    {
      "cell_type": "code",
      "source": [
        "# Using the ravel method\n",
        "raveled_array = two_d_array.ravel()\n",
        "print('Raveled array:', raveled_array)\n",
        "print('Shape:', raveled_array.shape)"
      ],
      "outputs": [],
      "execution_count": null,
      "metadata": {
        "noteable": {
          "cell_type": "code"
        }
      },
      "id": "bd7c3ad3-e827-48df-bc12-4df3745c395a"
    },
    {
      "cell_type": "markdown",
      "source": [
        "### Inner Products and Matrix Multiplication\n",
        "\n",
        "Matrix operations are fundamental in linear algebra and have extensive applications in data science, especially in areas like machine learning.\n",
        "\n",
        "#### Inner Product (Dot Product)\n",
        "The inner product, also known as the dot product, between two vectors is a single number obtained by multiplying corresponding entries and then summing those products. For two vectors `a` and `b`, the dot product is given by:\n",
        "\n",
        "a . b = a1 b1 + a2 b2 + ... + an bn\n",
        "\n",
        "#### Matrix Multiplication\n",
        "Matrix multiplication, on the other hand, is a way to combine two matrices to produce a new matrix. It's defined such that the number in the i-th row and j-th column of the resulting matrix is the dot product of the i-th row of the first matrix and the j-th column of the second matrix.\n",
        "\n",
        "In Python, with NumPy, the `@` operator is used as a convenient way to perform matrix multiplication. It's more readable and concise than using the `np.dot()` function."
      ],
      "metadata": {
        "noteable": {
          "cell_type": "markdown"
        }
      },
      "id": "c3fc76f5-539e-45fe-9904-5e81bf88b0f1"
    },
    {
      "cell_type": "code",
      "source": [
        "# Demonstrating the inner product (dot product)\n",
        "vector_a = np.array([1, 2, 3])\n",
        "vector_b = np.array([4, 5, 6])\n",
        "\n",
        "dot_product = vector_a @ vector_b\n",
        "dot_product"
      ],
      "outputs": [],
      "execution_count": null,
      "metadata": {
        "noteable": {
          "cell_type": "code"
        }
      },
      "id": "623e94e7-3215-4911-95c1-67ab7c72f99e"
    },
    {
      "cell_type": "code",
      "source": [
        "# Demonstrating matrix multiplication using @\n",
        "matrix_A = np.array([[1, 2], [3, 4]])\n",
        "matrix_B = np.array([[2, 0], [1, 3]])\n",
        "\n",
        "result_matrix = matrix_A @ matrix_B\n",
        "result_matrix"
      ],
      "outputs": [],
      "execution_count": null,
      "metadata": {
        "noteable": {
          "cell_type": "code"
        }
      },
      "id": "d787bee2-8597-45f4-b973-687cca962a91"
    },
    {
      "cell_type": "markdown",
      "source": [
        "### Aggregation Functions Along Axes\n",
        "\n",
        "In multi-dimensional arrays (like matrices), you often need to apply aggregation functions not just to the entire array but along a specific axis (like rows or columns) or multiple axes. The `axis` parameter in NumPy's aggregation functions allows you to specify which axis or axes the function should operate over.\n",
        "\n",
        "- `axis=None` (default): The function aggregates over all the elements of the array.\n",
        "- `axis=0`: The function aggregates over each column (i.e., along the rows).\n",
        "- `axis=1`: The function aggregates over each row (i.e., along the columns).\n",
        "\n",
        "For arrays with more than two dimensions, you can use a tuple to specify multiple axes.\n",
        "\n",
        "Let's explore this with examples."
      ],
      "metadata": {
        "noteable": {
          "cell_type": "markdown"
        }
      },
      "id": "06102a21-abb5-42ee-8597-857c0c86bc8b"
    },
    {
      "cell_type": "code",
      "source": [
        "# Creating a 3x3 matrix for demonstration\n",
        "matrix = np.array([[1, 2, 3], [4, 5, 6], [7, 8, 9]])\n",
        "matrix"
      ],
      "outputs": [],
      "execution_count": null,
      "metadata": {
        "noteable": {
          "cell_type": "code"
        }
      },
      "id": "9335d7dc-8f51-4930-8418-8d49e8b706c5"
    },
    {
      "cell_type": "code",
      "source": [
        "# Sum over the entire matrix (default behavior)\n",
        "total_sum = np.sum(matrix)\n",
        "total_sum"
      ],
      "outputs": [],
      "execution_count": null,
      "metadata": {
        "noteable": {
          "cell_type": "code"
        }
      },
      "id": "9f251974-33c8-48a6-8594-ffd84d917e5e"
    },
    {
      "cell_type": "code",
      "source": [
        "# Sum along axis=0 (sum over each column)\n",
        "column_sum = np.sum(matrix, axis=0)\n",
        "column_sum"
      ],
      "outputs": [],
      "execution_count": null,
      "metadata": {
        "noteable": {
          "cell_type": "code"
        }
      },
      "id": "84b1c6c1-5005-437a-8645-70fae9607d00"
    },
    {
      "cell_type": "code",
      "source": [
        "# Sum along axis=1 (sum over each row)\n",
        "row_sum = np.sum(matrix, axis=1)\n",
        "row_sum"
      ],
      "outputs": [],
      "execution_count": null,
      "metadata": {
        "noteable": {
          "cell_type": "code"
        }
      },
      "id": "fa481029-c7bf-4fcc-ad92-51df4261b91a"
    },
    {
      "cell_type": "markdown",
      "source": [
        "### The `np.random` Module\n",
        "\n",
        "The `np.random` module in NumPy provides a suite of functions to generate random numbers for various distributions. It's a crucial tool for simulations, statistical sampling, and many other tasks in data science and scientific computing. Here are some of the important elements of the `np.random` module:\n",
        "\n",
        "1. **Random Number Generation**:\n",
        "   - `rand()`: Generates random numbers between 0 and 1 in a given shape.\n",
        "   - `randn()`: Generates random numbers from a standard normal distribution (mean 0 and variance 1).\n",
        "   - `randint()`: Generates random integers between specified low and high values.\n",
        "\n",
        "2. **Random Sampling**:\n",
        "   - `choice()`: Generates a random sample from a given 1-D array.\n",
        "   - `shuffle()`: Modifies a sequence in-place by shuffling its contents.\n",
        "   - `permutation()`: Returns a shuffled version of a sequence or returns a permuted range.\n",
        "\n",
        "3. **Distributions**:\n",
        "   - `binomial()`: Draws samples from a binomial distribution.\n",
        "   - `normal()`: Draws samples from a normal (Gaussian) distribution.\n",
        "   - `poisson()`: Draws samples from a Poisson distribution.\n",
        "   - ... and many more for other distributions.\n",
        "\n",
        "4. **Random Seed**:\n",
        "   - `seed()`: Sets the random seed, which allows for reproducibility of random numbers generated.\n",
        "\n",
        "Let's explore some of these functions with examples."
      ],
      "metadata": {
        "noteable": {
          "cell_type": "markdown"
        }
      },
      "id": "98cf04bd-4c8b-458a-98f0-11d13751adc2"
    },
    {
      "cell_type": "code",
      "source": [
        "# Random Number Generation\n",
        "\n",
        "# Generating random numbers between 0 and 1\n",
        "random_numbers = np.random.rand(5)\n",
        "print('Random numbers between 0 and 1:', random_numbers)\n",
        "\n",
        "# Generating random numbers from a standard normal distribution\n",
        "normal_numbers = np.random.randn(5)\n",
        "print('\\nRandom numbers from a standard normal distribution:', normal_numbers)\n",
        "\n",
        "# Generating random integers between 1 and 10\n",
        "random_integers = np.random.randint(1, 10, size=5)\n",
        "print('\\nRandom integers between 1 and 10:', random_integers)"
      ],
      "outputs": [],
      "execution_count": null,
      "metadata": {
        "noteable": {
          "cell_type": "code"
        }
      },
      "id": "199407ac-d45e-4d3b-b969-af3ef34130cd"
    },
    {
      "cell_type": "code",
      "source": [
        "# Random Sampling\n",
        "\n",
        "# Generating a random sample from a given 1-D array\n",
        "sample_array = np.array([10, 20, 30, 40, 50])\n",
        "random_choice = np.random.choice(sample_array, size=3)\n",
        "print('Random sample from given array:', random_choice)\n",
        "\n",
        "# Shuffling a sequence in-place\n",
        "sequence_to_shuffle = np.array([1, 2, 3, 4, 5])\n",
        "np.random.shuffle(sequence_to_shuffle)\n",
        "print('\\nShuffled sequence:', sequence_to_shuffle)\n",
        "\n",
        "# Getting a permuted range\n",
        "permuted_range = np.random.permutation(5)\n",
        "print('\\nPermuted range:', permuted_range)"
      ],
      "outputs": [],
      "execution_count": null,
      "metadata": {
        "noteable": {
          "cell_type": "code"
        }
      },
      "id": "be1e95d0-eeab-4858-8beb-102c5afdec7c"
    },
    {
      "cell_type": "code",
      "source": [
        "# Distributions\n",
        "\n",
        "# Drawing samples from a binomial distribution\n",
        "binomial_samples = np.random.binomial(n=10, p=0.5, size=5)\n",
        "print('Samples from a binomial distribution:', binomial_samples)\n",
        "\n",
        "# Drawing samples from a normal distribution with mean 0 and standard deviation 1\n",
        "normal_samples = np.random.normal(loc=0, scale=1, size=5)\n",
        "print('\\nSamples from a normal distribution:', normal_samples)\n",
        "\n",
        "# Drawing samples from a Poisson distribution with lambda=3\n",
        "poisson_samples = np.random.poisson(lam=3, size=5)\n",
        "print('\\nSamples from a Poisson distribution:', poisson_samples)"
      ],
      "outputs": [],
      "execution_count": null,
      "metadata": {
        "noteable": {
          "cell_type": "code"
        }
      },
      "id": "60a79462-d4cd-4527-a397-f9ac4f297694"
    },
    {
      "cell_type": "markdown",
      "source": [
        "### The `np.linalg` Module\n",
        "\n",
        "The `np.linalg` module in NumPy provides a collection of linear algebra functions. Linear algebra is a foundational field in mathematics and has vast applications in data science, engineering, physics, and more. Here are some of the important elements of the `np.linalg` module:\n",
        "\n",
        "1. **Matrix and Vector Products**:\n",
        "   - `dot()`: Computes the dot product of two arrays.\n",
        "   - `matmul()`: Performs matrix multiplication.\n",
        "   - `inner()`: Computes the inner product of two arrays.\n",
        "   - `outer()`: Computes the outer product of two arrays.\n",
        "\n",
        "2. **Decompositions**:\n",
        "   - `cholesky()`: Computes the Cholesky decomposition.\n",
        "   - `qr()`: Computes the QR decomposition.\n",
        "   - `svd()`: Computes the singular value decomposition.\n",
        "\n",
        "3. **Matrix Eigenvalues**:\n",
        "   - `eig()`: Computes the eigenvalues and right eigenvectors of a square array.\n",
        "   - `eigh()`: Computes the eigenvalues and eigenvectors of a Hermitian or symmetric matrix.\n",
        "   - `eigvals()`: Computes the eigenvalues of a square array.\n",
        "\n",
        "4. **Norms and Other Numbers**:\n",
        "   - `norm()`: Computes the norm of a matrix or vector.\n",
        "   - `det()`: Computes the determinant of an array.\n",
        "   - `matrix_rank()`: Computes the numerical rank of a matrix.\n",
        "\n",
        "5. **Solving Equations and Inverting Matrices**:\n",
        "   - `solve()`: Solves a linear matrix equation.\n",
        "   - `inv()`: Computes the multiplicative inverse of a matrix.\n",
        "\n",
        "6. **Tensor Operations**:\n",
        "   - `tensorsolve()`: Solves a tensor equation denoted by Einstein summation.\n",
        "   - `tensorinv()`: Computes the inverse of a tensor.\n",
        "\n",
        "Let's explore some of these functions with examples."
      ],
      "metadata": {
        "noteable": {
          "cell_type": "markdown"
        }
      },
      "id": "ad15dc11-614f-4b7b-b061-11217847da1b"
    },
    {
      "cell_type": "code",
      "source": [
        "# Matrix and Vector Products\n",
        "\n",
        "# Creating two matrices for demonstration\n",
        "A = np.array([[1, 2], [3, 4]])\n",
        "B = np.array([[2, 0], [1, 3]])\n",
        "\n",
        "# Matrix multiplication using matmul()\n",
        "matrix_product = np.matmul(A, B)\n",
        "print('Matrix product using matmul():\\n', matrix_product)\n",
        "\n",
        "# Dot product of two vectors\n",
        "v1 = np.array([1, 2, 3])\n",
        "v2 = np.array([4, 5, 6])\n",
        "dot_product = np.dot(v1, v2)\n",
        "print('\\nDot product of v1 and v2:', dot_product)"
      ],
      "outputs": [],
      "execution_count": null,
      "metadata": {
        "noteable": {
          "cell_type": "code"
        }
      },
      "id": "ac4c305f-7846-40ad-bbff-1a53fcede786"
    },
    {
      "cell_type": "code",
      "source": [
        "# Decompositions\n",
        "\n",
        "# Singular Value Decomposition (SVD) of matrix A\n",
        "U, S, VT = np.linalg.svd(A)\n",
        "print('U from SVD:\\n', U)\n",
        "print('\\nS (Diagonal matrix) from SVD:', S)\n",
        "print('\\nVT from SVD:\\n', VT)"
      ],
      "outputs": [],
      "execution_count": null,
      "metadata": {
        "noteable": {
          "cell_type": "code"
        }
      },
      "id": "da9902b0-c6a5-44a2-bd5b-2d7e23ac5091"
    },
    {
      "cell_type": "code",
      "source": [
        "# Matrix Eigenvalues\n",
        "\n",
        "# Eigenvalues and eigenvectors of matrix A\n",
        "eigenvalues, eigenvectors = np.linalg.eig(A)\n",
        "print('Eigenvalues of matrix A:', eigenvalues)\n",
        "print('\\nEigenvectors of matrix A:\\n', eigenvectors)"
      ],
      "outputs": [],
      "execution_count": null,
      "metadata": {
        "noteable": {
          "cell_type": "code"
        }
      },
      "id": "682fe9da-60e0-4acb-92d6-fc9587c93754"
    },
    {
      "cell_type": "code",
      "source": [
        "# Norms and Other Numbers\n",
        "\n",
        "# Norm of vector v1\n",
        "vector_norm = np.linalg.norm(v1)\n",
        "print('Norm of vector v1:', vector_norm)\n",
        "\n",
        "# Determinant of matrix A\n",
        "matrix_determinant = np.linalg.det(A)\n",
        "print('\\nDeterminant of matrix A:', matrix_determinant)\n",
        "\n",
        "# Rank of matrix A\n",
        "matrix_rank = np.linalg.matrix_rank(A)\n",
        "print('\\nRank of matrix A:', matrix_rank)"
      ],
      "outputs": [],
      "execution_count": null,
      "metadata": {
        "noteable": {
          "cell_type": "code"
        }
      },
      "id": "4b92ce08-b63f-446c-9cb2-761e39af76a7"
    },
    {
      "cell_type": "code",
      "source": [
        "# Solving Equations and Inverting Matrices\n",
        "\n",
        "# Solving a linear matrix equation Ax = b\n",
        "b = np.array([5, 11])\n",
        "x = np.linalg.solve(A, b)\n",
        "print('Solution x for Ax = b:', x)\n",
        "\n",
        "# Inverse of matrix A\n",
        "inverse_A = np.linalg.inv(A)\n",
        "print('\\nInverse of matrix A:\\n', inverse_A)"
      ],
      "outputs": [],
      "execution_count": null,
      "metadata": {
        "noteable": {
          "cell_type": "code"
        }
      },
      "id": "a261ce0c-6ae4-4810-80b3-8588e7626676"
    },
    {
      "cell_type": "markdown",
      "source": [
        "### Utility Functions for Creating Arrays\n",
        "\n",
        "NumPy provides several utility functions to create specific types of arrays with ease. Here are explanations for the functions you mentioned:\n",
        "\n",
        "1. **`np.ones`**:\n",
        "   - This function creates an array filled with ones.\n",
        "   - The desired shape of the array is provided as an argument.\n",
        "   - Example: `np.ones((2, 3))` creates a 2x3 matrix filled with ones.\n",
        "\n",
        "2. **`np.zeros`**:\n",
        "   - This function creates an array filled with zeros.\n",
        "   - The desired shape of the array is provided as an argument.\n",
        "   - Example: `np.zeros((3, 3))` creates a 3x3 matrix filled with zeros.\n",
        "\n",
        "3. **`np.diag`**:\n",
        "   - This function has two main uses:\n",
        "     - When provided with a 1-D array, it returns a 2-D array with the entries of the 1-D array as its diagonal and zeros elsewhere.\n",
        "     - When provided with a 2-D array, it extracts the diagonal elements and returns them as a 1-D array.\n",
        "   - Example: `np.diag([1, 2, 3])` creates a 3x3 diagonal matrix with the diagonal [1, 2, 3].\n",
        "\n",
        "4. **`np.identity`**:\n",
        "   - This function creates a square identity matrix of a specified size.\n",
        "   - An identity matrix is a square matrix with ones on its main diagonal and zeros elsewhere.\n",
        "   - Example: `np.identity(3)` creates a 3x3 identity matrix.\n",
        "\n",
        "Let's demonstrate each of these functions with examples."
      ],
      "metadata": {
        "noteable": {
          "cell_type": "markdown"
        }
      },
      "id": "b6a11ba2-9fe0-4b83-b052-78208d4478f2"
    },
    {
      "cell_type": "code",
      "source": [
        "# Demonstrating np.ones\n",
        "ones_array = np.ones((2, 3))\n",
        "print('Array filled with ones:\\n', ones_array)\n",
        "\n",
        "# Demonstrating np.zeros\n",
        "zeros_array = np.zeros((3, 3))\n",
        "print('\\nArray filled with zeros:\\n', zeros_array)\n",
        "\n",
        "# Demonstrating np.diag\n",
        "diagonal_matrix = np.diag([1, 2, 3])\n",
        "print('\\nDiagonal matrix:\\n', diagonal_matrix)\n",
        "extracted_diagonal = np.diag(diagonal_matrix)\n",
        "print('\\nExtracted diagonal from matrix:', extracted_diagonal)\n",
        "\n",
        "# Demonstrating np.identity\n",
        "identity_matrix = np.identity(3)\n",
        "print('\\nIdentity matrix:\\n', identity_matrix)"
      ],
      "outputs": [],
      "execution_count": null,
      "metadata": {
        "noteable": {
          "cell_type": "code"
        }
      },
      "id": "ec34407a-51dc-4d6a-ba04-dbca28c48648"
    },
    {
      "cell_type": "markdown",
      "source": [
        "### `np.concatenate`\n",
        "\n",
        "The `np.concatenate` function is used to join two or more arrays along an existing axis. It's a versatile function that allows for the combination of arrays in various ways.\n",
        "\n",
        "**Parameters**:\n",
        "- `a1, a2, ...` : Arrays to be concatenated. They must have the same shape, except in the dimension corresponding to the specified axis.\n",
        "- `axis` : The axis along which the arrays will be joined. Default is 0.\n",
        "- `out` : If provided, the destination to place the result. The shape must be correct, matching that of what `concatenate` would have returned if no `out` argument were specified.\n",
        "\n",
        "**Usage**:\n",
        "```python\n",
        "np.concatenate((a1, a2, ...), axis=0, out=None)\n",
        "```\n",
        "\n",
        "Let's look at some examples to understand how `np.concatenate` works."
      ],
      "metadata": {
        "noteable": {
          "cell_type": "markdown"
        }
      },
      "id": "4c92d4bc-a10a-4711-bce4-88e17ad87fc7"
    },
    {
      "cell_type": "code",
      "source": [
        "# Creating two 1-D arrays for demonstration\n",
        "array1 = np.array([1, 2, 3])\n",
        "array2 = np.array([4, 5, 6])\n",
        "\n",
        "# Concatenating along axis 0 (default)\n",
        "concatenated_1d = np.concatenate((array1, array2))\n",
        "print('Concatenated 1-D array:', concatenated_1d)\n",
        "\n",
        "# Creating two 2-D arrays for demonstration\n",
        "matrix1 = np.array([[1, 2], [3, 4]])\n",
        "matrix2 = np.array([[5, 6], [7, 8]])\n",
        "\n",
        "# Concatenating along axis 0 (rows)\n",
        "concatenated_rows = np.concatenate((matrix1, matrix2), axis=0)\n",
        "print('\\nConcatenated along rows:\\n', concatenated_rows)\n",
        "\n",
        "# Concatenating along axis 1 (columns)\n",
        "concatenated_columns = np.concatenate((matrix1, matrix2), axis=1)\n",
        "print('\\nConcatenated along columns:\\n', concatenated_columns)"
      ],
      "outputs": [],
      "execution_count": null,
      "metadata": {
        "noteable": {
          "cell_type": "code"
        }
      },
      "id": "35b63151-48de-4023-bff2-c7372c49a281"
    },
    {
      "cell_type": "markdown",
      "source": [
        "### `np.arange`\n",
        "\n",
        "The `np.arange` function is used to generate sequences of numbers within a specified range. It's similar to Python's built-in `range` function but returns an array.\n",
        "\n",
        "**Syntax**:\n",
        "```python\n",
        "np.arange([start, ]stop, [step, ]dtype=None)\n",
        "```\n",
        "\n",
        "**Parameters**:\n",
        "- `start` : Start of the interval (inclusive). Default is 0.\n",
        "- `stop` : End of the interval (exclusive).\n",
        "- `step` : Spacing between values. Default is 1.\n",
        "- `dtype` : Data type of the output array. If not specified, the data type is inferred from the input values.\n",
        "\n",
        "The function returns evenly spaced values within a given interval. The values are generated based on the `start`, `stop`, and `step` values provided.\n",
        "\n",
        "Let's look at some examples to understand how `np.arange` works."
      ],
      "metadata": {
        "noteable": {
          "cell_type": "markdown"
        }
      },
      "id": "deb14b8c-07e0-47ed-af31-680788bf59f9"
    },
    {
      "cell_type": "code",
      "source": [
        "# Demonstrating np.arange\n",
        "\n",
        "# Generating numbers from 0 to 4\n",
        "sequence1 = np.arange(5)\n",
        "print('Numbers from 0 to 4:', sequence1)\n",
        "\n",
        "# Generating numbers from 2 to 8 with a step of 2\n",
        "sequence2 = np.arange(2, 9, 2)\n",
        "print('\\nNumbers from 2 to 8 with a step of 2:', sequence2)\n",
        "\n",
        "# Generating numbers from 1 to 5 with a float step\n",
        "sequence3 = np.arange(1, 5.5, 0.5)\n",
        "print('\\nNumbers from 1 to 5 with a float step:', sequence3)"
      ],
      "outputs": [],
      "execution_count": null,
      "metadata": {
        "noteable": {
          "cell_type": "code"
        }
      },
      "id": "5c31bff8-34d7-402f-8398-270175f18414"
    }
  ],
  "metadata": {
    "noteable-chatgpt": {
      "create_notebook": {
        "openai_conversation_id": "ef4e0ae1-8c55-59d8-94a8-099b294d1093",
        "openai_ephemeral_user_id": "90d3f139-457e-5284-bd43-3886fb06a259",
        "openai_subdivision1_iso_code": "US-TX"
      }
    },
    "kernel_info": {
      "name": "python3"
    },
    "noteable": {
      "last_transaction_id": "ff05a7c4-06f3-4f70-beb6-336c170eb5ee",
      "last_delta_id": "8211c14d-f9bd-436c-9791-a84c2b70f342"
    },
    "kernelspec": {
      "display_name": "Python 3.9",
      "language": "python",
      "name": "python3"
    },
    "selected_hardware_size": "small",
    "nteract": {
      "version": "noteable@2.9.0"
    }
  },
  "nbformat": 4,
  "nbformat_minor": 5
}