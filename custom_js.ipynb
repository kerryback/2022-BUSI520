{
 "cells": [
  {
   "cell_type": "code",
   "execution_count": 9,
   "metadata": {},
   "outputs": [
    {
     "name": "stdout",
     "output_type": "stream",
     "text": [
      "[]\n"
     ]
    }
   ],
   "source": [
    "fn = \"docs\\\\02-Introduction_to_NumPy.ipynb\"\n",
    "with open(fn, \"r\") as f:\n",
    "    print(f.readlines())"
   ]
  },
  {
   "cell_type": "code",
   "execution_count": 15,
   "metadata": {},
   "outputs": [
    {
     "name": "stdout",
     "output_type": "stream",
     "text": [
      "searching for custom.js in  C:\\Users\\kerry\\.jupyter\\custom\\custom.js\n",
      "// leave at least 2 line with only a star on it below, or doc generation fails\n",
      "/**\n",
      " *\n",
      " *\n",
      "define(\n",
      "    ['base/js/namespace',\n",
      "     'base/js/events'\n",
      "    ],\n",
      "    function(Jupyter, events) {\n",
      "        // mark individual cell\n",
      "        function set_slide(cell, bool) {\n",
      "            let metadata = cell.metadata;\n",
      "            if (metadata.slideshow === undefined){\n",
      "                metadata.slideshow = {};\n",
      "            }\n",
      "\t    metadata.slideshow.slide_type = bool ? 'slide' : undefined;\n",
      "        }\n",
      "        // mark all cells as Slide\n",
      "        function mark_all_cells_as_slide() {\n",
      "            Jupyter.notebook.get_cells().forEach(function(cell) {\n",
      "                set_slide(cell, true);\n",
      "            });\n",
      "            // need to update the slideshow toolbar to reflect changes\n",
      "            Jupyter.CellToolbar.rebuild_all();\n",
      "        }\n",
      "        // actually bind to a keyboard shortcut\n",
      "        Jupyter.keyboard_manager.command_shortcuts.add_shortcut(\n",
      "            'shift-z', // or alt-z or meta-z or similar\n",
      "            { help : 'set the Slide tag on all cells',\n",
      "              handler: mark_all_cells_as_slide,\n",
      "            })\n",
      "})\n",
      " * Placeholder for custom user javascript\n",
      " * mainly to be overridden in profile/static/custom/custom.js\n",
      " * This will always be an empty file in IPython\n",
      " *\n",
      " * User could add any javascript in the `profile/static/custom/custom.js` file.\n",
      " * It will be executed by the ipython notebook at load time.\n",
      " *\n",
      " * Same thing with `profile/static/custom/custom.css` to inject custom css into the notebook.\n",
      " *\n",
      " *\n",
      " * The object available at load time depend on the version of IPython in use.\n",
      " * there is no guaranties of API stability.\n",
      " *\n",
      " * The example below explain the principle, and might not be valid.\n",
      " *\n",
      " * Instances are created after the loading of this file and might need to be accessed using events:\n",
      " *     define([\n",
      " *        'base/js/namespace',\n",
      " *        'base/js/events'\n",
      " *     ], function(IPython, events) {\n",
      " *         events.on(\"app_initialized.NotebookApp\", function () {\n",
      " *             IPython.keyboard_manager....\n",
      " *         });\n",
      " *     });\n",
      " *\n",
      " * __Example 1:__\n",
      " *\n",
      " * Create a custom button in toolbar that execute `%qtconsole` in kernel\n",
      " * and hence open a qtconsole attached to the same kernel as the current notebook\n",
      " *\n",
      " *    define([\n",
      " *        'base/js/namespace',\n",
      " *        'base/js/events'\n",
      " *    ], function(IPython, events) {\n",
      " *        events.on('app_initialized.NotebookApp', function(){\n",
      " *            IPython.toolbar.add_buttons_group([\n",
      " *                {\n",
      " *                    'label'   : 'run qtconsole',\n",
      " *                    'icon'    : 'icon-terminal', // select your icon from http://fortawesome.github.io/Font-Awesome/icons\n",
      " *                    'callback': function () {\n",
      " *                        IPython.notebook.kernel.execute('%qtconsole')\n",
      " *                    }\n",
      " *                }\n",
      " *                // add more button here if needed.\n",
      " *                ]);\n",
      " *        });\n",
      " *    });\n",
      " *\n",
      " * __Example 2:__\n",
      " *\n",
      " * At the completion of the dashboard loading, load an unofficial javascript extension\n",
      " * that is installed in profile/static/custom/\n",
      " *\n",
      " *    define([\n",
      " *        'base/js/events'\n",
      " *    ], function(events) {\n",
      " *        events.on('app_initialized.DashboardApp', function(){\n",
      " *            require(['custom/unofficial_extension.js'])\n",
      " *        });\n",
      " *    });\n",
      " *\n",
      " * __Example 3:__\n",
      " *\n",
      " *  Use `jQuery.getScript(url [, success(script, textStatus, jqXHR)] );`\n",
      " *  to load custom script into the notebook.\n",
      " *\n",
      " *    // to load the metadata ui extension example.\n",
      " *    $.getScript('/static/notebook/js/celltoolbarpresets/example.js');\n",
      " *    // or\n",
      " *    // to load the metadata ui extension to control slideshow mode / reveal js for nbconvert\n",
      " *    $.getScript('/static/notebook/js/celltoolbarpresets/slideshow.js');\n",
      " *\n",
      " *\n",
      " * @module IPython\n",
      " * @namespace IPython\n",
      " * @class customjs\n",
      " * @static\n",
      " */\n",
      "\n"
     ]
    }
   ],
   "source": [
    "from jupyter_core.paths import jupyter_config_dir\n",
    "jupyter_dir = jupyter_config_dir()\n",
    "import os.path\n",
    "custom_js_path = os.path.join(jupyter_dir, 'custom', 'custom.js')\n",
    "print(\"searching for custom.js in \", custom_js_path)\n",
    "#  my custom js\n",
    "if os.path.isfile(custom_js_path):\n",
    "    with open(custom_js_path) as f:\n",
    "        print(f.read())\n",
    "else:\n",
    "    print(\"You don't have a custom.js file\")"
   ]
  },
  {
   "cell_type": "code",
   "execution_count": 14,
   "metadata": {},
   "outputs": [
    {
     "name": "stdout",
     "output_type": "stream",
     "text": [
      "a\n",
      "b\n"
     ]
    }
   ],
   "source": [
    "d = {1: 'a', 2: 'b'}\n",
    "for x in d.values():\n",
    "    print(x)"
   ]
  }
 ],
 "metadata": {
  "kernelspec": {
   "display_name": "Python 3",
   "language": "python",
   "name": "python3"
  },
  "language_info": {
   "codemirror_mode": {
    "name": "ipython",
    "version": 3
   },
   "file_extension": ".py",
   "mimetype": "text/x-python",
   "name": "python",
   "nbconvert_exporter": "python",
   "pygments_lexer": "ipython3",
   "version": "3.10.8"
  },
  "orig_nbformat": 4
 },
 "nbformat": 4,
 "nbformat_minor": 2
}
