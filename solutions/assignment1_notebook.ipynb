{
 "cells": [
  {
   "cell_type": "code",
   "execution_count": null,
   "metadata": {},
   "outputs": [],
   "source": []
  },
  {
   "cell_type": "markdown",
   "metadata": {},
   "source": [
    "1. Create a function that takes the lengths of two sides of a right triangle as inputs and returns the length of the hypotenuse."
   ]
  },
  {
   "cell_type": "code",
   "execution_count": 12,
   "metadata": {},
   "outputs": [
    {
     "data": {
      "text/plain": [
       "3.605551275463989"
      ]
     },
     "execution_count": 12,
     "metadata": {},
     "output_type": "execute_result"
    }
   ],
   "source": [
    "from math import sqrt\n",
    "def pythagoras(side1, side2):\n",
    "    return sqrt(side1**2 + side2**2)\n",
    "\n",
    "# example\n",
    "pythagoras(2, 3)"
   ]
  },
  {
   "cell_type": "markdown",
   "metadata": {},
   "source": [
    "2.  \n",
    "    a. Create a list of names.  Using list enumeration, print the names in the form\n",
    "\n",
    "        1. Adam\n",
    "        2. Bob\n",
    "        3. ...\n",
    "    b.  Create a function that takes a list of strings as an input and prints the list as in part (a).\n",
    "    \n",
    "    c. Create a function that takes a list of strings as its input and returns a dictionary with integers 1, 2, ... as keys and the strings as values."
   ]
  },
  {
   "cell_type": "code",
   "execution_count": 13,
   "metadata": {},
   "outputs": [
    {
     "ename": "NameError",
     "evalue": "name 'np' is not defined",
     "output_type": "error",
     "traceback": [
      "\u001b[1;31m---------------------------------------------------------------------------\u001b[0m",
      "\u001b[1;31mNameError\u001b[0m                                 Traceback (most recent call last)",
      "Cell \u001b[1;32mIn[13], line 2\u001b[0m\n\u001b[0;32m      1\u001b[0m \u001b[39m# Aggregation functions on 2D array\u001b[39;00m\n\u001b[1;32m----> 2\u001b[0m \u001b[39mprint\u001b[39m(\u001b[39m'\u001b[39m\u001b[39mSum of all elements:\u001b[39m\u001b[39m'\u001b[39m, np\u001b[39m.\u001b[39msum(arr_2d))\n\u001b[0;32m      3\u001b[0m \u001b[39mprint\u001b[39m(\u001b[39m'\u001b[39m\u001b[39mMean of all elements:\u001b[39m\u001b[39m'\u001b[39m, np\u001b[39m.\u001b[39mmean(arr_2d))\n\u001b[0;32m      4\u001b[0m \u001b[39mprint\u001b[39m(\u001b[39m'\u001b[39m\u001b[39mSum along columns:\u001b[39m\u001b[39m'\u001b[39m, np\u001b[39m.\u001b[39msum(arr_2d, axis\u001b[39m=\u001b[39m\u001b[39m0\u001b[39m))\n",
      "\u001b[1;31mNameError\u001b[0m: name 'np' is not defined"
     ]
    }
   ],
   "source": [
    "# Aggregation functions on 2D array\n",
    "print('Sum of all elements:', np.sum(arr_2d))\n",
    "print('Mean of all elements:', np.mean(arr_2d))\n",
    "print('Sum along columns:', np.sum(arr_2d, axis=0))\n",
    "print('Mean along rows:', np.mean(arr_2d, axis=1))"
   ]
  },
  {
   "cell_type": "code",
   "execution_count": null,
   "metadata": {},
   "outputs": [
    {
     "name": "stdout",
     "output_type": "stream",
     "text": [
      "Sum of all elements: 45\n",
      "Mean of all elements: 5.0\n",
      "Sum along columns: [12 15 18]\n",
      "Mean along rows: [2. 5. 8.]\n"
     ]
    }
   ],
   "source": [
    "# Aggregation functions on 2D array\n",
    "print('Sum of all elements:', np.sum(arr_2d))\n",
    "print('Mean of all elements:', np.mean(arr_2d))\n",
    "print('Sum along columns:', np.sum(arr_2d, axis=0))\n",
    "print('Mean along rows:', np.mean(arr_2d, axis=1))"
   ]
  },
  {
   "cell_type": "code",
   "execution_count": null,
   "metadata": {},
   "outputs": [],
   "source": [
    "# (a)\n",
    "\n",
    "lst = ['Bob', 'Sue', 'Mary']\n",
    "for i, name in enumerate(lst):\n",
    "    print(f'{i+1}. {name}')"
   ]
  },
  {
   "cell_type": "code",
   "execution_count": null,
   "metadata": {},
   "outputs": [
    {
     "name": "stdout",
     "output_type": "stream",
     "text": [
      "1. Bob\n",
      "2. Sue\n",
      "3. Mary\n"
     ]
    }
   ],
   "source": [
    "# (b)\n",
    "\n",
    "def print_list(lst):\n",
    "    for i, x in enumerate(lst):\n",
    "        print(f'{i+1}. {x}')\n",
    "\n",
    "# example\n",
    "\n",
    "lst = ['Bob', 'Sue', 'Mary']\n",
    "print_list(lst)"
   ]
  },
  {
   "cell_type": "code",
   "execution_count": null,
   "metadata": {},
   "outputs": [
    {
     "data": {
      "text/plain": [
       "{1: 'Bob', 2: 'Sue', 3: 'Mary'}"
      ]
     },
     "execution_count": 7,
     "metadata": {},
     "output_type": "execute_result"
    }
   ],
   "source": [
    "# (c)\n",
    "\n",
    "def create_dict(lst):\n",
    "    d = {}\n",
    "    for i, x in enumerate(lst):\n",
    "        d[i+1] = x\n",
    "    return d\n",
    "\n",
    "# example\n",
    "\n",
    "lst = ['Bob', 'Sue', 'Mary']\n",
    "create_dict(lst)"
   ]
  },
  {
   "cell_type": "markdown",
   "metadata": {},
   "source": [
    "3. Create a list of numbers from 1 to 10.\n",
    "    \n",
    "    a. Write a loop to print only even numbers from the list.\n",
    "    \n",
    "    b. Write another loop to calculate and print the factorial of each number in the list."
   ]
  },
  {
   "cell_type": "code",
   "execution_count": null,
   "metadata": {},
   "outputs": [
    {
     "name": "stdout",
     "output_type": "stream",
     "text": [
      "2\n",
      "4\n",
      "6\n",
      "8\n",
      "10\n"
     ]
    }
   ],
   "source": [
    "# (a)\n",
    "\n",
    "lst = [i+1 for i in range(10)]\n",
    "\n",
    "for i in lst:\n",
    "    if i % 2 == 0:\n",
    "        print(i)"
   ]
  },
  {
   "cell_type": "code",
   "execution_count": null,
   "metadata": {},
   "outputs": [
    {
     "name": "stdout",
     "output_type": "stream",
     "text": [
      "1\n",
      "2\n",
      "6\n",
      "24\n",
      "120\n",
      "720\n",
      "5040\n",
      "40320\n",
      "362880\n",
      "3628800\n"
     ]
    }
   ],
   "source": [
    "# (b)\n",
    "\n",
    "for i in range(1, 11):\n",
    "    prod = 1\n",
    "    for j in range(1, i+1):\n",
    "        prod *= j\n",
    "    print(prod)\n"
   ]
  },
  {
   "cell_type": "markdown",
   "metadata": {},
   "source": [
    "4.  Write a loop to halve a given number until the result is less than 1.0e-6."
   ]
  },
  {
   "cell_type": "code",
   "execution_count": null,
   "metadata": {},
   "outputs": [
    {
     "data": {
      "text/plain": [
       "5.960464477539062e-07"
      ]
     },
     "execution_count": 10,
     "metadata": {},
     "output_type": "execute_result"
    }
   ],
   "source": [
    "num = 10\n",
    "\n",
    "while num > 1.0e-6:\n",
    "    num /= 2\n",
    "\n",
    "num"
   ]
  },
  {
   "cell_type": "markdown",
   "metadata": {},
   "source": [
    "5. Create a function is_palindrome to check if a string is a palindrome (reads the same forwards as backwards -- e.g., 'radar' is a palindrome).  The function should return True if the input is a palindrome and False otherwise."
   ]
  },
  {
   "cell_type": "code",
   "execution_count": null,
   "metadata": {},
   "outputs": [
    {
     "name": "stdout",
     "output_type": "stream",
     "text": [
      "True\n",
      "False\n"
     ]
    }
   ],
   "source": [
    "def is_palindrome(string):\n",
    "    return string == string[-1::-1]\n",
    "\n",
    "# examples\n",
    "\n",
    "print(is_palindrome('radar'))\n",
    "print(is_palindrome('sonar'))"
   ]
  },
  {
   "cell_type": "markdown",
   "metadata": {},
   "source": [
    "6. Write a script (.py file) that prompts the user to input\n",
    "\n",
    "    a. title\n",
    "\n",
    "    b. author\n",
    "\n",
    "    c. journal\n",
    "\n",
    "    d. volume\n",
    "\n",
    "    e. pages\n",
    "\n",
    "    f. year\n",
    "\n",
    "    g. keyword\n",
    "    \n",
    "    h. pathname of a .bib file\n",
    "\n",
    "    The function should then append a bibtex entry to the end of the .bib file formatted as follows, where the items within braces are the user's inputs.\n",
    "\n",
    "    ```{verbatim}\n",
    "    @article{keyword,\n",
    "    title={title},\n",
    "    author={author names},\n",
    "    journal={journal name},\n",
    "    volume={volume number},\n",
    "    pages={pages},\n",
    "    year={year},\n",
    "    }\n",
    "```"
   ]
  },
  {
   "cell_type": "code",
   "execution_count": 18,
   "metadata": {},
   "outputs": [],
   "source": [
    "def bibitem():\n",
    "    title = input('Title: ')\n",
    "    author = input('Author: ')\n",
    "    journal = input('Journal: ')\n",
    "    volume = input('Volume: ')\n",
    "    pages = input('Pages: ')\n",
    "    year = input('Year: ')\n",
    "    keyword = input('Keyword: ')\n",
    "    filename = input('Path/Filename: ')\n",
    "    string = (\n",
    "        '@article{' + keyword + ',\\n' +\n",
    "        'title={' + title + '},\\n' +\n",
    "        'author={' + author + '},\\n' +\n",
    "        'journal={' + journal + '},\\n' +\n",
    "        'volume={' + volume + '},\\n' + \n",
    "        'pages={' + pages + '},\\n' +\n",
    "        'year={' + year + '},\\n}\\n'\n",
    "    )\n",
    "    with open(filename+'.bib', 'a+') as f:\n",
    "        f.write(string)"
   ]
  },
  {
   "cell_type": "code",
   "execution_count": 19,
   "metadata": {},
   "outputs": [],
   "source": [
    "bibitem()"
   ]
  }
 ],
 "metadata": {
  "kernelspec": {
   "display_name": "Python 3",
   "language": "python",
   "name": "python3"
  },
  "language_info": {
   "codemirror_mode": {
    "name": "ipython",
    "version": 3
   },
   "file_extension": ".py",
   "mimetype": "text/x-python",
   "name": "python",
   "nbconvert_exporter": "python",
   "pygments_lexer": "ipython3",
   "version": "3.11.1"
  },
  "orig_nbformat": 4
 },
 "nbformat": 4,
 "nbformat_minor": 2
}
